{
  "nbformat": 4,
  "nbformat_minor": 0,
  "metadata": {
    "kernelspec": {
      "display_name": "Python 3",
      "language": "python",
      "name": "python3"
    },
    "language_info": {
      "codemirror_mode": {
        "name": "ipython",
        "version": 3
      },
      "file_extension": ".py",
      "mimetype": "text/x-python",
      "name": "python",
      "nbconvert_exporter": "python",
      "pygments_lexer": "ipython3",
      "version": "3.7.6"
    },
    "colab": {
      "name": "Исследование надёжности заёмщиков",
      "provenance": [],
      "include_colab_link": true
    }
  },
  "cells": [
    {
      "cell_type": "markdown",
      "metadata": {
        "id": "view-in-github",
        "colab_type": "text"
      },
      "source": [
        "<a href=\"https://colab.research.google.com/github/Osinskaya/projects/blob/main/%D0%98%D1%81%D1%81%D0%BB%D0%B5%D0%B4%D0%BE%D0%B2%D0%B0%D0%BD%D0%B8%D0%B5_%D0%BD%D0%B0%D0%B4%D1%91%D0%B6%D0%BD%D0%BE%D1%81%D1%82%D0%B8_%D0%B7%D0%B0%D1%91%D0%BC%D1%89%D0%B8%D0%BA%D0%BE%D0%B2.ipynb\" target=\"_parent\"><img src=\"https://colab.research.google.com/assets/colab-badge.svg\" alt=\"Open In Colab\"/></a>"
      ]
    },
    {
      "cell_type": "markdown",
      "metadata": {
        "id": "gU8Gxqd9jS_U"
      },
      "source": [
        "# Исследование надёжности заёмщиков"
      ]
    },
    {
      "cell_type": "markdown",
      "metadata": {
        "id": "3C9AsFBQjS_X"
      },
      "source": [
        "Заказчик — кредитный отдел банка. Нужно разобраться, влияет ли семейное положение и количество детей клиента на факт погашения кредита в срок. Входные данные от банка — статистика о платёжеспособности клиентов.\n",
        "\n",
        "\n",
        "Результаты исследования будут учтены при построении модели кредитного скоринга — специальной системы, которая оценивает способность потенциального заёмщика вернуть кредит банку."
      ]
    },
    {
      "cell_type": "code",
      "metadata": {
        "id": "RaoeE9AUjS_Z"
      },
      "source": [
        "import pandas as pd\n",
        "from pymystem3 import Mystem\n",
        "m = Mystem()\n"
      ],
      "execution_count": null,
      "outputs": []
    },
    {
      "cell_type": "code",
      "metadata": {
        "id": "VRPMLB4wjS_p"
      },
      "source": [
        "data = pd.read_csv('/datasets/data.csv')"
      ],
      "execution_count": null,
      "outputs": []
    },
    {
      "cell_type": "code",
      "metadata": {
        "scrolled": true,
        "id": "m0Et664OjS_2",
        "outputId": "fd528699-f5bd-44e1-91cd-92ab1324314b"
      },
      "source": [
        "data.head(15)"
      ],
      "execution_count": null,
      "outputs": [
        {
          "output_type": "execute_result",
          "data": {
            "text/html": [
              "<div>\n",
              "<style scoped>\n",
              "    .dataframe tbody tr th:only-of-type {\n",
              "        vertical-align: middle;\n",
              "    }\n",
              "\n",
              "    .dataframe tbody tr th {\n",
              "        vertical-align: top;\n",
              "    }\n",
              "\n",
              "    .dataframe thead th {\n",
              "        text-align: right;\n",
              "    }\n",
              "</style>\n",
              "<table border=\"1\" class=\"dataframe\">\n",
              "  <thead>\n",
              "    <tr style=\"text-align: right;\">\n",
              "      <th></th>\n",
              "      <th>children</th>\n",
              "      <th>days_employed</th>\n",
              "      <th>dob_years</th>\n",
              "      <th>education</th>\n",
              "      <th>education_id</th>\n",
              "      <th>family_status</th>\n",
              "      <th>family_status_id</th>\n",
              "      <th>gender</th>\n",
              "      <th>income_type</th>\n",
              "      <th>debt</th>\n",
              "      <th>total_income</th>\n",
              "      <th>purpose</th>\n",
              "    </tr>\n",
              "  </thead>\n",
              "  <tbody>\n",
              "    <tr>\n",
              "      <td>0</td>\n",
              "      <td>1</td>\n",
              "      <td>-8437.673028</td>\n",
              "      <td>42</td>\n",
              "      <td>высшее</td>\n",
              "      <td>0</td>\n",
              "      <td>женат / замужем</td>\n",
              "      <td>0</td>\n",
              "      <td>F</td>\n",
              "      <td>сотрудник</td>\n",
              "      <td>0</td>\n",
              "      <td>253875.639453</td>\n",
              "      <td>покупка жилья</td>\n",
              "    </tr>\n",
              "    <tr>\n",
              "      <td>1</td>\n",
              "      <td>1</td>\n",
              "      <td>-4024.803754</td>\n",
              "      <td>36</td>\n",
              "      <td>среднее</td>\n",
              "      <td>1</td>\n",
              "      <td>женат / замужем</td>\n",
              "      <td>0</td>\n",
              "      <td>F</td>\n",
              "      <td>сотрудник</td>\n",
              "      <td>0</td>\n",
              "      <td>112080.014102</td>\n",
              "      <td>приобретение автомобиля</td>\n",
              "    </tr>\n",
              "    <tr>\n",
              "      <td>2</td>\n",
              "      <td>0</td>\n",
              "      <td>-5623.422610</td>\n",
              "      <td>33</td>\n",
              "      <td>Среднее</td>\n",
              "      <td>1</td>\n",
              "      <td>женат / замужем</td>\n",
              "      <td>0</td>\n",
              "      <td>M</td>\n",
              "      <td>сотрудник</td>\n",
              "      <td>0</td>\n",
              "      <td>145885.952297</td>\n",
              "      <td>покупка жилья</td>\n",
              "    </tr>\n",
              "    <tr>\n",
              "      <td>3</td>\n",
              "      <td>3</td>\n",
              "      <td>-4124.747207</td>\n",
              "      <td>32</td>\n",
              "      <td>среднее</td>\n",
              "      <td>1</td>\n",
              "      <td>женат / замужем</td>\n",
              "      <td>0</td>\n",
              "      <td>M</td>\n",
              "      <td>сотрудник</td>\n",
              "      <td>0</td>\n",
              "      <td>267628.550329</td>\n",
              "      <td>дополнительное образование</td>\n",
              "    </tr>\n",
              "    <tr>\n",
              "      <td>4</td>\n",
              "      <td>0</td>\n",
              "      <td>340266.072047</td>\n",
              "      <td>53</td>\n",
              "      <td>среднее</td>\n",
              "      <td>1</td>\n",
              "      <td>гражданский брак</td>\n",
              "      <td>1</td>\n",
              "      <td>F</td>\n",
              "      <td>пенсионер</td>\n",
              "      <td>0</td>\n",
              "      <td>158616.077870</td>\n",
              "      <td>сыграть свадьбу</td>\n",
              "    </tr>\n",
              "    <tr>\n",
              "      <td>5</td>\n",
              "      <td>0</td>\n",
              "      <td>-926.185831</td>\n",
              "      <td>27</td>\n",
              "      <td>высшее</td>\n",
              "      <td>0</td>\n",
              "      <td>гражданский брак</td>\n",
              "      <td>1</td>\n",
              "      <td>M</td>\n",
              "      <td>компаньон</td>\n",
              "      <td>0</td>\n",
              "      <td>255763.565419</td>\n",
              "      <td>покупка жилья</td>\n",
              "    </tr>\n",
              "    <tr>\n",
              "      <td>6</td>\n",
              "      <td>0</td>\n",
              "      <td>-2879.202052</td>\n",
              "      <td>43</td>\n",
              "      <td>высшее</td>\n",
              "      <td>0</td>\n",
              "      <td>женат / замужем</td>\n",
              "      <td>0</td>\n",
              "      <td>F</td>\n",
              "      <td>компаньон</td>\n",
              "      <td>0</td>\n",
              "      <td>240525.971920</td>\n",
              "      <td>операции с жильем</td>\n",
              "    </tr>\n",
              "    <tr>\n",
              "      <td>7</td>\n",
              "      <td>0</td>\n",
              "      <td>-152.779569</td>\n",
              "      <td>50</td>\n",
              "      <td>СРЕДНЕЕ</td>\n",
              "      <td>1</td>\n",
              "      <td>женат / замужем</td>\n",
              "      <td>0</td>\n",
              "      <td>M</td>\n",
              "      <td>сотрудник</td>\n",
              "      <td>0</td>\n",
              "      <td>135823.934197</td>\n",
              "      <td>образование</td>\n",
              "    </tr>\n",
              "    <tr>\n",
              "      <td>8</td>\n",
              "      <td>2</td>\n",
              "      <td>-6929.865299</td>\n",
              "      <td>35</td>\n",
              "      <td>ВЫСШЕЕ</td>\n",
              "      <td>0</td>\n",
              "      <td>гражданский брак</td>\n",
              "      <td>1</td>\n",
              "      <td>F</td>\n",
              "      <td>сотрудник</td>\n",
              "      <td>0</td>\n",
              "      <td>95856.832424</td>\n",
              "      <td>на проведение свадьбы</td>\n",
              "    </tr>\n",
              "    <tr>\n",
              "      <td>9</td>\n",
              "      <td>0</td>\n",
              "      <td>-2188.756445</td>\n",
              "      <td>41</td>\n",
              "      <td>среднее</td>\n",
              "      <td>1</td>\n",
              "      <td>женат / замужем</td>\n",
              "      <td>0</td>\n",
              "      <td>M</td>\n",
              "      <td>сотрудник</td>\n",
              "      <td>0</td>\n",
              "      <td>144425.938277</td>\n",
              "      <td>покупка жилья для семьи</td>\n",
              "    </tr>\n",
              "    <tr>\n",
              "      <td>10</td>\n",
              "      <td>2</td>\n",
              "      <td>-4171.483647</td>\n",
              "      <td>36</td>\n",
              "      <td>высшее</td>\n",
              "      <td>0</td>\n",
              "      <td>женат / замужем</td>\n",
              "      <td>0</td>\n",
              "      <td>M</td>\n",
              "      <td>компаньон</td>\n",
              "      <td>0</td>\n",
              "      <td>113943.491460</td>\n",
              "      <td>покупка недвижимости</td>\n",
              "    </tr>\n",
              "    <tr>\n",
              "      <td>11</td>\n",
              "      <td>0</td>\n",
              "      <td>-792.701887</td>\n",
              "      <td>40</td>\n",
              "      <td>среднее</td>\n",
              "      <td>1</td>\n",
              "      <td>женат / замужем</td>\n",
              "      <td>0</td>\n",
              "      <td>F</td>\n",
              "      <td>сотрудник</td>\n",
              "      <td>0</td>\n",
              "      <td>77069.234271</td>\n",
              "      <td>покупка коммерческой недвижимости</td>\n",
              "    </tr>\n",
              "    <tr>\n",
              "      <td>12</td>\n",
              "      <td>0</td>\n",
              "      <td>NaN</td>\n",
              "      <td>65</td>\n",
              "      <td>среднее</td>\n",
              "      <td>1</td>\n",
              "      <td>гражданский брак</td>\n",
              "      <td>1</td>\n",
              "      <td>M</td>\n",
              "      <td>пенсионер</td>\n",
              "      <td>0</td>\n",
              "      <td>NaN</td>\n",
              "      <td>сыграть свадьбу</td>\n",
              "    </tr>\n",
              "    <tr>\n",
              "      <td>13</td>\n",
              "      <td>0</td>\n",
              "      <td>-1846.641941</td>\n",
              "      <td>54</td>\n",
              "      <td>неоконченное высшее</td>\n",
              "      <td>2</td>\n",
              "      <td>женат / замужем</td>\n",
              "      <td>0</td>\n",
              "      <td>F</td>\n",
              "      <td>сотрудник</td>\n",
              "      <td>0</td>\n",
              "      <td>130458.228857</td>\n",
              "      <td>приобретение автомобиля</td>\n",
              "    </tr>\n",
              "    <tr>\n",
              "      <td>14</td>\n",
              "      <td>0</td>\n",
              "      <td>-1844.956182</td>\n",
              "      <td>56</td>\n",
              "      <td>высшее</td>\n",
              "      <td>0</td>\n",
              "      <td>гражданский брак</td>\n",
              "      <td>1</td>\n",
              "      <td>F</td>\n",
              "      <td>компаньон</td>\n",
              "      <td>1</td>\n",
              "      <td>165127.911772</td>\n",
              "      <td>покупка жилой недвижимости</td>\n",
              "    </tr>\n",
              "  </tbody>\n",
              "</table>\n",
              "</div>"
            ],
            "text/plain": [
              "    children  days_employed  dob_years            education  education_id  \\\n",
              "0          1   -8437.673028         42               высшее             0   \n",
              "1          1   -4024.803754         36              среднее             1   \n",
              "2          0   -5623.422610         33              Среднее             1   \n",
              "3          3   -4124.747207         32              среднее             1   \n",
              "4          0  340266.072047         53              среднее             1   \n",
              "5          0    -926.185831         27               высшее             0   \n",
              "6          0   -2879.202052         43               высшее             0   \n",
              "7          0    -152.779569         50              СРЕДНЕЕ             1   \n",
              "8          2   -6929.865299         35               ВЫСШЕЕ             0   \n",
              "9          0   -2188.756445         41              среднее             1   \n",
              "10         2   -4171.483647         36               высшее             0   \n",
              "11         0    -792.701887         40              среднее             1   \n",
              "12         0            NaN         65              среднее             1   \n",
              "13         0   -1846.641941         54  неоконченное высшее             2   \n",
              "14         0   -1844.956182         56               высшее             0   \n",
              "\n",
              "       family_status  family_status_id gender income_type  debt  \\\n",
              "0    женат / замужем                 0      F   сотрудник     0   \n",
              "1    женат / замужем                 0      F   сотрудник     0   \n",
              "2    женат / замужем                 0      M   сотрудник     0   \n",
              "3    женат / замужем                 0      M   сотрудник     0   \n",
              "4   гражданский брак                 1      F   пенсионер     0   \n",
              "5   гражданский брак                 1      M   компаньон     0   \n",
              "6    женат / замужем                 0      F   компаньон     0   \n",
              "7    женат / замужем                 0      M   сотрудник     0   \n",
              "8   гражданский брак                 1      F   сотрудник     0   \n",
              "9    женат / замужем                 0      M   сотрудник     0   \n",
              "10   женат / замужем                 0      M   компаньон     0   \n",
              "11   женат / замужем                 0      F   сотрудник     0   \n",
              "12  гражданский брак                 1      M   пенсионер     0   \n",
              "13   женат / замужем                 0      F   сотрудник     0   \n",
              "14  гражданский брак                 1      F   компаньон     1   \n",
              "\n",
              "     total_income                            purpose  \n",
              "0   253875.639453                      покупка жилья  \n",
              "1   112080.014102            приобретение автомобиля  \n",
              "2   145885.952297                      покупка жилья  \n",
              "3   267628.550329         дополнительное образование  \n",
              "4   158616.077870                    сыграть свадьбу  \n",
              "5   255763.565419                      покупка жилья  \n",
              "6   240525.971920                  операции с жильем  \n",
              "7   135823.934197                        образование  \n",
              "8    95856.832424              на проведение свадьбы  \n",
              "9   144425.938277            покупка жилья для семьи  \n",
              "10  113943.491460               покупка недвижимости  \n",
              "11   77069.234271  покупка коммерческой недвижимости  \n",
              "12            NaN                    сыграть свадьбу  \n",
              "13  130458.228857            приобретение автомобиля  \n",
              "14  165127.911772         покупка жилой недвижимости  "
            ]
          },
          "metadata": {
            "tags": []
          },
          "execution_count": 3
        }
      ]
    },
    {
      "cell_type": "code",
      "metadata": {
        "id": "wTnU6cYIjTAD",
        "outputId": "e069d63a-32ac-409a-be35-707d407c1df3"
      },
      "source": [
        "data.info()"
      ],
      "execution_count": null,
      "outputs": [
        {
          "output_type": "stream",
          "text": [
            "<class 'pandas.core.frame.DataFrame'>\n",
            "RangeIndex: 21525 entries, 0 to 21524\n",
            "Data columns (total 12 columns):\n",
            "children            21525 non-null int64\n",
            "days_employed       19351 non-null float64\n",
            "dob_years           21525 non-null int64\n",
            "education           21525 non-null object\n",
            "education_id        21525 non-null int64\n",
            "family_status       21525 non-null object\n",
            "family_status_id    21525 non-null int64\n",
            "gender              21525 non-null object\n",
            "income_type         21525 non-null object\n",
            "debt                21525 non-null int64\n",
            "total_income        19351 non-null float64\n",
            "purpose             21525 non-null object\n",
            "dtypes: float64(2), int64(5), object(5)\n",
            "memory usage: 2.0+ MB\n"
          ],
          "name": "stdout"
        }
      ]
    },
    {
      "cell_type": "markdown",
      "metadata": {
        "id": "1kbVfqIyjTAM"
      },
      "source": [
        "**Проверим связаны ли между собой пропуски:**"
      ]
    },
    {
      "cell_type": "code",
      "metadata": {
        "scrolled": false,
        "id": "YxLLWCAOjTAN",
        "outputId": "30c98f37-4812-4aef-c2c9-ac1fa6f1afec"
      },
      "source": [
        "data[data['days_employed'].isna()]"
      ],
      "execution_count": null,
      "outputs": [
        {
          "output_type": "execute_result",
          "data": {
            "text/html": [
              "<div>\n",
              "<style scoped>\n",
              "    .dataframe tbody tr th:only-of-type {\n",
              "        vertical-align: middle;\n",
              "    }\n",
              "\n",
              "    .dataframe tbody tr th {\n",
              "        vertical-align: top;\n",
              "    }\n",
              "\n",
              "    .dataframe thead th {\n",
              "        text-align: right;\n",
              "    }\n",
              "</style>\n",
              "<table border=\"1\" class=\"dataframe\">\n",
              "  <thead>\n",
              "    <tr style=\"text-align: right;\">\n",
              "      <th></th>\n",
              "      <th>children</th>\n",
              "      <th>days_employed</th>\n",
              "      <th>dob_years</th>\n",
              "      <th>education</th>\n",
              "      <th>education_id</th>\n",
              "      <th>family_status</th>\n",
              "      <th>family_status_id</th>\n",
              "      <th>gender</th>\n",
              "      <th>income_type</th>\n",
              "      <th>debt</th>\n",
              "      <th>total_income</th>\n",
              "      <th>purpose</th>\n",
              "    </tr>\n",
              "  </thead>\n",
              "  <tbody>\n",
              "    <tr>\n",
              "      <td>12</td>\n",
              "      <td>0</td>\n",
              "      <td>NaN</td>\n",
              "      <td>65</td>\n",
              "      <td>среднее</td>\n",
              "      <td>1</td>\n",
              "      <td>гражданский брак</td>\n",
              "      <td>1</td>\n",
              "      <td>M</td>\n",
              "      <td>пенсионер</td>\n",
              "      <td>0</td>\n",
              "      <td>NaN</td>\n",
              "      <td>сыграть свадьбу</td>\n",
              "    </tr>\n",
              "    <tr>\n",
              "      <td>26</td>\n",
              "      <td>0</td>\n",
              "      <td>NaN</td>\n",
              "      <td>41</td>\n",
              "      <td>среднее</td>\n",
              "      <td>1</td>\n",
              "      <td>женат / замужем</td>\n",
              "      <td>0</td>\n",
              "      <td>M</td>\n",
              "      <td>госслужащий</td>\n",
              "      <td>0</td>\n",
              "      <td>NaN</td>\n",
              "      <td>образование</td>\n",
              "    </tr>\n",
              "    <tr>\n",
              "      <td>29</td>\n",
              "      <td>0</td>\n",
              "      <td>NaN</td>\n",
              "      <td>63</td>\n",
              "      <td>среднее</td>\n",
              "      <td>1</td>\n",
              "      <td>Не женат / не замужем</td>\n",
              "      <td>4</td>\n",
              "      <td>F</td>\n",
              "      <td>пенсионер</td>\n",
              "      <td>0</td>\n",
              "      <td>NaN</td>\n",
              "      <td>строительство жилой недвижимости</td>\n",
              "    </tr>\n",
              "    <tr>\n",
              "      <td>41</td>\n",
              "      <td>0</td>\n",
              "      <td>NaN</td>\n",
              "      <td>50</td>\n",
              "      <td>среднее</td>\n",
              "      <td>1</td>\n",
              "      <td>женат / замужем</td>\n",
              "      <td>0</td>\n",
              "      <td>F</td>\n",
              "      <td>госслужащий</td>\n",
              "      <td>0</td>\n",
              "      <td>NaN</td>\n",
              "      <td>сделка с подержанным автомобилем</td>\n",
              "    </tr>\n",
              "    <tr>\n",
              "      <td>55</td>\n",
              "      <td>0</td>\n",
              "      <td>NaN</td>\n",
              "      <td>54</td>\n",
              "      <td>среднее</td>\n",
              "      <td>1</td>\n",
              "      <td>гражданский брак</td>\n",
              "      <td>1</td>\n",
              "      <td>F</td>\n",
              "      <td>пенсионер</td>\n",
              "      <td>1</td>\n",
              "      <td>NaN</td>\n",
              "      <td>сыграть свадьбу</td>\n",
              "    </tr>\n",
              "    <tr>\n",
              "      <td>...</td>\n",
              "      <td>...</td>\n",
              "      <td>...</td>\n",
              "      <td>...</td>\n",
              "      <td>...</td>\n",
              "      <td>...</td>\n",
              "      <td>...</td>\n",
              "      <td>...</td>\n",
              "      <td>...</td>\n",
              "      <td>...</td>\n",
              "      <td>...</td>\n",
              "      <td>...</td>\n",
              "      <td>...</td>\n",
              "    </tr>\n",
              "    <tr>\n",
              "      <td>21489</td>\n",
              "      <td>2</td>\n",
              "      <td>NaN</td>\n",
              "      <td>47</td>\n",
              "      <td>Среднее</td>\n",
              "      <td>1</td>\n",
              "      <td>женат / замужем</td>\n",
              "      <td>0</td>\n",
              "      <td>M</td>\n",
              "      <td>компаньон</td>\n",
              "      <td>0</td>\n",
              "      <td>NaN</td>\n",
              "      <td>сделка с автомобилем</td>\n",
              "    </tr>\n",
              "    <tr>\n",
              "      <td>21495</td>\n",
              "      <td>1</td>\n",
              "      <td>NaN</td>\n",
              "      <td>50</td>\n",
              "      <td>среднее</td>\n",
              "      <td>1</td>\n",
              "      <td>гражданский брак</td>\n",
              "      <td>1</td>\n",
              "      <td>F</td>\n",
              "      <td>сотрудник</td>\n",
              "      <td>0</td>\n",
              "      <td>NaN</td>\n",
              "      <td>свадьба</td>\n",
              "    </tr>\n",
              "    <tr>\n",
              "      <td>21497</td>\n",
              "      <td>0</td>\n",
              "      <td>NaN</td>\n",
              "      <td>48</td>\n",
              "      <td>ВЫСШЕЕ</td>\n",
              "      <td>0</td>\n",
              "      <td>женат / замужем</td>\n",
              "      <td>0</td>\n",
              "      <td>F</td>\n",
              "      <td>компаньон</td>\n",
              "      <td>0</td>\n",
              "      <td>NaN</td>\n",
              "      <td>строительство недвижимости</td>\n",
              "    </tr>\n",
              "    <tr>\n",
              "      <td>21502</td>\n",
              "      <td>1</td>\n",
              "      <td>NaN</td>\n",
              "      <td>42</td>\n",
              "      <td>среднее</td>\n",
              "      <td>1</td>\n",
              "      <td>женат / замужем</td>\n",
              "      <td>0</td>\n",
              "      <td>F</td>\n",
              "      <td>сотрудник</td>\n",
              "      <td>0</td>\n",
              "      <td>NaN</td>\n",
              "      <td>строительство жилой недвижимости</td>\n",
              "    </tr>\n",
              "    <tr>\n",
              "      <td>21510</td>\n",
              "      <td>2</td>\n",
              "      <td>NaN</td>\n",
              "      <td>28</td>\n",
              "      <td>среднее</td>\n",
              "      <td>1</td>\n",
              "      <td>женат / замужем</td>\n",
              "      <td>0</td>\n",
              "      <td>F</td>\n",
              "      <td>сотрудник</td>\n",
              "      <td>0</td>\n",
              "      <td>NaN</td>\n",
              "      <td>приобретение автомобиля</td>\n",
              "    </tr>\n",
              "  </tbody>\n",
              "</table>\n",
              "<p>2174 rows × 12 columns</p>\n",
              "</div>"
            ],
            "text/plain": [
              "       children  days_employed  dob_years education  education_id  \\\n",
              "12            0            NaN         65   среднее             1   \n",
              "26            0            NaN         41   среднее             1   \n",
              "29            0            NaN         63   среднее             1   \n",
              "41            0            NaN         50   среднее             1   \n",
              "55            0            NaN         54   среднее             1   \n",
              "...         ...            ...        ...       ...           ...   \n",
              "21489         2            NaN         47   Среднее             1   \n",
              "21495         1            NaN         50   среднее             1   \n",
              "21497         0            NaN         48    ВЫСШЕЕ             0   \n",
              "21502         1            NaN         42   среднее             1   \n",
              "21510         2            NaN         28   среднее             1   \n",
              "\n",
              "               family_status  family_status_id gender  income_type  debt  \\\n",
              "12          гражданский брак                 1      M    пенсионер     0   \n",
              "26           женат / замужем                 0      M  госслужащий     0   \n",
              "29     Не женат / не замужем                 4      F    пенсионер     0   \n",
              "41           женат / замужем                 0      F  госслужащий     0   \n",
              "55          гражданский брак                 1      F    пенсионер     1   \n",
              "...                      ...               ...    ...          ...   ...   \n",
              "21489        женат / замужем                 0      M    компаньон     0   \n",
              "21495       гражданский брак                 1      F    сотрудник     0   \n",
              "21497        женат / замужем                 0      F    компаньон     0   \n",
              "21502        женат / замужем                 0      F    сотрудник     0   \n",
              "21510        женат / замужем                 0      F    сотрудник     0   \n",
              "\n",
              "       total_income                           purpose  \n",
              "12              NaN                   сыграть свадьбу  \n",
              "26              NaN                       образование  \n",
              "29              NaN  строительство жилой недвижимости  \n",
              "41              NaN  сделка с подержанным автомобилем  \n",
              "55              NaN                   сыграть свадьбу  \n",
              "...             ...                               ...  \n",
              "21489           NaN              сделка с автомобилем  \n",
              "21495           NaN                           свадьба  \n",
              "21497           NaN        строительство недвижимости  \n",
              "21502           NaN  строительство жилой недвижимости  \n",
              "21510           NaN           приобретение автомобиля  \n",
              "\n",
              "[2174 rows x 12 columns]"
            ]
          },
          "metadata": {
            "tags": []
          },
          "execution_count": 5
        }
      ]
    },
    {
      "cell_type": "code",
      "metadata": {
        "id": "Owt50kLmjTAV",
        "outputId": "37816f61-bde7-4cb9-e588-4a75a19d9a9c"
      },
      "source": [
        "data.describe()"
      ],
      "execution_count": null,
      "outputs": [
        {
          "output_type": "execute_result",
          "data": {
            "text/html": [
              "<div>\n",
              "<style scoped>\n",
              "    .dataframe tbody tr th:only-of-type {\n",
              "        vertical-align: middle;\n",
              "    }\n",
              "\n",
              "    .dataframe tbody tr th {\n",
              "        vertical-align: top;\n",
              "    }\n",
              "\n",
              "    .dataframe thead th {\n",
              "        text-align: right;\n",
              "    }\n",
              "</style>\n",
              "<table border=\"1\" class=\"dataframe\">\n",
              "  <thead>\n",
              "    <tr style=\"text-align: right;\">\n",
              "      <th></th>\n",
              "      <th>children</th>\n",
              "      <th>days_employed</th>\n",
              "      <th>dob_years</th>\n",
              "      <th>education_id</th>\n",
              "      <th>family_status_id</th>\n",
              "      <th>debt</th>\n",
              "      <th>total_income</th>\n",
              "    </tr>\n",
              "  </thead>\n",
              "  <tbody>\n",
              "    <tr>\n",
              "      <td>count</td>\n",
              "      <td>21525.000000</td>\n",
              "      <td>19351.000000</td>\n",
              "      <td>21525.000000</td>\n",
              "      <td>21525.000000</td>\n",
              "      <td>21525.000000</td>\n",
              "      <td>21525.000000</td>\n",
              "      <td>1.935100e+04</td>\n",
              "    </tr>\n",
              "    <tr>\n",
              "      <td>mean</td>\n",
              "      <td>0.538908</td>\n",
              "      <td>63046.497661</td>\n",
              "      <td>43.293380</td>\n",
              "      <td>0.817236</td>\n",
              "      <td>0.972544</td>\n",
              "      <td>0.080883</td>\n",
              "      <td>1.674223e+05</td>\n",
              "    </tr>\n",
              "    <tr>\n",
              "      <td>std</td>\n",
              "      <td>1.381587</td>\n",
              "      <td>140827.311974</td>\n",
              "      <td>12.574584</td>\n",
              "      <td>0.548138</td>\n",
              "      <td>1.420324</td>\n",
              "      <td>0.272661</td>\n",
              "      <td>1.029716e+05</td>\n",
              "    </tr>\n",
              "    <tr>\n",
              "      <td>min</td>\n",
              "      <td>-1.000000</td>\n",
              "      <td>-18388.949901</td>\n",
              "      <td>0.000000</td>\n",
              "      <td>0.000000</td>\n",
              "      <td>0.000000</td>\n",
              "      <td>0.000000</td>\n",
              "      <td>2.066726e+04</td>\n",
              "    </tr>\n",
              "    <tr>\n",
              "      <td>25%</td>\n",
              "      <td>0.000000</td>\n",
              "      <td>-2747.423625</td>\n",
              "      <td>33.000000</td>\n",
              "      <td>1.000000</td>\n",
              "      <td>0.000000</td>\n",
              "      <td>0.000000</td>\n",
              "      <td>1.030532e+05</td>\n",
              "    </tr>\n",
              "    <tr>\n",
              "      <td>50%</td>\n",
              "      <td>0.000000</td>\n",
              "      <td>-1203.369529</td>\n",
              "      <td>42.000000</td>\n",
              "      <td>1.000000</td>\n",
              "      <td>0.000000</td>\n",
              "      <td>0.000000</td>\n",
              "      <td>1.450179e+05</td>\n",
              "    </tr>\n",
              "    <tr>\n",
              "      <td>75%</td>\n",
              "      <td>1.000000</td>\n",
              "      <td>-291.095954</td>\n",
              "      <td>53.000000</td>\n",
              "      <td>1.000000</td>\n",
              "      <td>1.000000</td>\n",
              "      <td>0.000000</td>\n",
              "      <td>2.034351e+05</td>\n",
              "    </tr>\n",
              "    <tr>\n",
              "      <td>max</td>\n",
              "      <td>20.000000</td>\n",
              "      <td>401755.400475</td>\n",
              "      <td>75.000000</td>\n",
              "      <td>4.000000</td>\n",
              "      <td>4.000000</td>\n",
              "      <td>1.000000</td>\n",
              "      <td>2.265604e+06</td>\n",
              "    </tr>\n",
              "  </tbody>\n",
              "</table>\n",
              "</div>"
            ],
            "text/plain": [
              "           children  days_employed     dob_years  education_id  \\\n",
              "count  21525.000000   19351.000000  21525.000000  21525.000000   \n",
              "mean       0.538908   63046.497661     43.293380      0.817236   \n",
              "std        1.381587  140827.311974     12.574584      0.548138   \n",
              "min       -1.000000  -18388.949901      0.000000      0.000000   \n",
              "25%        0.000000   -2747.423625     33.000000      1.000000   \n",
              "50%        0.000000   -1203.369529     42.000000      1.000000   \n",
              "75%        1.000000    -291.095954     53.000000      1.000000   \n",
              "max       20.000000  401755.400475     75.000000      4.000000   \n",
              "\n",
              "       family_status_id          debt  total_income  \n",
              "count      21525.000000  21525.000000  1.935100e+04  \n",
              "mean           0.972544      0.080883  1.674223e+05  \n",
              "std            1.420324      0.272661  1.029716e+05  \n",
              "min            0.000000      0.000000  2.066726e+04  \n",
              "25%            0.000000      0.000000  1.030532e+05  \n",
              "50%            0.000000      0.000000  1.450179e+05  \n",
              "75%            1.000000      0.000000  2.034351e+05  \n",
              "max            4.000000      1.000000  2.265604e+06  "
            ]
          },
          "metadata": {
            "tags": []
          },
          "execution_count": 6
        }
      ]
    },
    {
      "cell_type": "code",
      "metadata": {
        "id": "rac_Lk69jTAe",
        "outputId": "fb465e22-1ea5-440f-9d6e-3b69cb07284c"
      },
      "source": [
        "data['days_employed'].max() / 365"
      ],
      "execution_count": null,
      "outputs": [
        {
          "output_type": "execute_result",
          "data": {
            "text/plain": [
              "1100.6997273296713"
            ]
          },
          "metadata": {
            "tags": []
          },
          "execution_count": 7
        }
      ]
    },
    {
      "cell_type": "markdown",
      "metadata": {
        "id": "6VlLImoBjTAo"
      },
      "source": [
        "### Замечания по данным:"
      ]
    },
    {
      "cell_type": "markdown",
      "metadata": {
        "id": "-OgXad5_jTAq"
      },
      "source": [
        "1. Большое количество отрицательных значения в столбце 'days_employed';\n",
        "\n",
        "\n",
        "2. Разный регистр в столбце 'education';\n",
        "\n",
        "\n",
        "3. Пропуски в столбцах 'days_employed' и 'total_income';\n",
        "\n",
        "\n",
        "4. Максимально значение столбца 'days_employed' 401755 = 1100 лет;\n",
        "\n",
        "\n",
        "5. Значения -1 и 20 в столбце 'children';\n",
        "\n",
        "\n",
        "6. Минимальный возраст 0 лет."
      ]
    },
    {
      "cell_type": "markdown",
      "metadata": {
        "id": "IvNwTGKRjTAu"
      },
      "source": [
        "**Посчитаем количество строк со значениями -1 и 20 в стоблце 'children':**"
      ]
    },
    {
      "cell_type": "code",
      "metadata": {
        "id": "inIOuuWgjTAv",
        "outputId": "14abc444-b276-4440-c4bb-8c5414ef4195"
      },
      "source": [
        "data[data['children'] == -1]['children'].count()"
      ],
      "execution_count": null,
      "outputs": [
        {
          "output_type": "execute_result",
          "data": {
            "text/plain": [
              "47"
            ]
          },
          "metadata": {
            "tags": []
          },
          "execution_count": 8
        }
      ]
    },
    {
      "cell_type": "code",
      "metadata": {
        "id": "i0eGWu6ZjTA3",
        "outputId": "23de4c07-8adf-4782-9eaf-6ce7dd955e08"
      },
      "source": [
        "data[data['children'] == 20]['children'].count()"
      ],
      "execution_count": null,
      "outputs": [
        {
          "output_type": "execute_result",
          "data": {
            "text/plain": [
              "76"
            ]
          },
          "metadata": {
            "tags": []
          },
          "execution_count": 9
        }
      ]
    },
    {
      "cell_type": "markdown",
      "metadata": {
        "id": "BMXQfSPvjTA-"
      },
      "source": [
        "**Посчитаем количество людей с 0 возрастом:**"
      ]
    },
    {
      "cell_type": "code",
      "metadata": {
        "scrolled": true,
        "id": "2m7ZtKxejTBA",
        "outputId": "996ac2f6-cd57-4243-eaf7-b6d8e7150954"
      },
      "source": [
        "data[data['dob_years'] == 0]['dob_years'].count()"
      ],
      "execution_count": null,
      "outputs": [
        {
          "output_type": "execute_result",
          "data": {
            "text/plain": [
              "101"
            ]
          },
          "metadata": {
            "tags": []
          },
          "execution_count": 10
        }
      ]
    },
    {
      "cell_type": "markdown",
      "metadata": {
        "id": "837VBY_ojTBS"
      },
      "source": [
        "*101 значение где возраст равен 0*"
      ]
    },
    {
      "cell_type": "markdown",
      "metadata": {
        "id": "4F53UyGkjTBU"
      },
      "source": [
        "### Вывод"
      ]
    },
    {
      "cell_type": "markdown",
      "metadata": {
        "id": "O4dh1v4ZjTBV"
      },
      "source": [
        "* В данных присутвуют пропуски в столбцах 'days_employed' и 'total_income'. Причем пропусков одинакове количество *(возможно связано с тем, что человек не имеющий опыта работы и следовательно не имеющий ежемесячной запрлаты пропускал эти поля)*; \n",
        "\n",
        "\n",
        "* Необходимо привести все данные в столбце 'education' к одному регистру;\n",
        "\n",
        "\n",
        "* Непонятно почему в столбце 'days_employed' стоят отрицательные значения;\n",
        "\n",
        "\n",
        "* В столбце 'days_employed' найден артефакт со стажем работы 1100 лет *(скорее всего это опечатка при вводе данных)*;\n",
        "\n",
        "\n",
        "* В столбце 'children' найдено 47 значений = '-1' и 76 значений = '20' *(-1 похоже на опечатку при вводе данных, а 20(???))*;\n",
        "\n",
        "\n",
        "* В столбце 'dob_years' найдено 101 значение = '0' *(возможно 0 стоят вместо пропусков)*."
      ]
    },
    {
      "cell_type": "markdown",
      "metadata": {
        "id": "Akw7E0qkjTBZ"
      },
      "source": [
        "### Шаг 2. Предобработка данных"
      ]
    },
    {
      "cell_type": "markdown",
      "metadata": {
        "id": "ddpLRbpWjTBb"
      },
      "source": [
        "### Обработка пропусков"
      ]
    },
    {
      "cell_type": "markdown",
      "metadata": {
        "id": "hWry1rG7jTBc"
      },
      "source": [
        "***Обработка пропусков в столбце 'total_income'.***"
      ]
    },
    {
      "cell_type": "code",
      "metadata": {
        "scrolled": true,
        "id": "Rb_3Ez4MjTBe",
        "outputId": "4cf9c29f-f826-4ab2-dbd2-8ca95272213a"
      },
      "source": [
        "#Для начала посмотрим у заемщиков с каким типом занятости есть пропуски в ежемесячной зарплате.\n",
        "\n",
        "data.loc[data['total_income'].isna(), 'income_type'].value_counts() \n"
      ],
      "execution_count": null,
      "outputs": [
        {
          "output_type": "execute_result",
          "data": {
            "text/plain": [
              "сотрудник          1105\n",
              "компаньон           508\n",
              "пенсионер           413\n",
              "госслужащий         147\n",
              "предприниматель       1\n",
              "Name: income_type, dtype: int64"
            ]
          },
          "metadata": {
            "tags": []
          },
          "execution_count": 11
        }
      ]
    },
    {
      "cell_type": "code",
      "metadata": {
        "id": "J6C9-JmujTBm",
        "outputId": "e8e39775-ac7c-4dc2-e656-98a40b6404a8"
      },
      "source": [
        "#Создадим таблицу в которой сохраним тип занятости\n",
        "#и медианное значение ежемесячной зарплаты для определнного типа занятости.\n",
        "\n",
        "median_total_income = data.groupby('income_type')['total_income'].median()\n",
        "median_total_income\n"
      ],
      "execution_count": null,
      "outputs": [
        {
          "output_type": "execute_result",
          "data": {
            "text/plain": [
              "income_type\n",
              "безработный        131339.751676\n",
              "в декрете           53829.130729\n",
              "госслужащий        150447.935283\n",
              "компаньон          172357.950966\n",
              "пенсионер          118514.486412\n",
              "предприниматель    499163.144947\n",
              "сотрудник          142594.396847\n",
              "студент             98201.625314\n",
              "Name: total_income, dtype: float64"
            ]
          },
          "metadata": {
            "tags": []
          },
          "execution_count": 12
        }
      ]
    },
    {
      "cell_type": "code",
      "metadata": {
        "id": "FM35nAZLjTBv"
      },
      "source": [
        "#Заполним пропуски медианными значениями \n",
        "#в соответсвии с типом занятости.\n",
        "\n",
        "data.loc[(data['total_income'].isna())&(data['income_type'] == 'сотрудник'), 'total_income'] = median_total_income[6]\n",
        "data.loc[(data['total_income'].isna())&(data['income_type'] == 'компаньон'), 'total_income'] = median_total_income[3]\n",
        "data.loc[(data['total_income'].isna())&(data['income_type'] == 'пенсионер'), 'total_income'] = median_total_income[4]\n",
        "data.loc[(data['total_income'].isna())&(data['income_type'] == 'госслужащий'), 'total_income'] = median_total_income[2]\n",
        "data.loc[(data['total_income'].isna())&(data['income_type'] == 'предприниматель'), 'total_income'] = median_total_income[5]\n"
      ],
      "execution_count": null,
      "outputs": []
    },
    {
      "cell_type": "code",
      "metadata": {
        "id": "OIzvjeLJjTB6",
        "outputId": "d90e9229-f66f-4bc4-d273-ed08df3a04c9"
      },
      "source": [
        "#Проверим сколько осталось пропусков в столбце 'total_income'.\n",
        "\n",
        "data['total_income'].isna().sum()"
      ],
      "execution_count": null,
      "outputs": [
        {
          "output_type": "execute_result",
          "data": {
            "text/plain": [
              "0"
            ]
          },
          "metadata": {
            "tags": []
          },
          "execution_count": 14
        }
      ]
    },
    {
      "cell_type": "markdown",
      "metadata": {
        "id": "rPjbnuuPjTCG"
      },
      "source": [
        "***Обработка нулевых значения в столбце 'dob_years':***"
      ]
    },
    {
      "cell_type": "code",
      "metadata": {
        "scrolled": true,
        "id": "nkrzuzzEjTCI",
        "outputId": "780abd5f-8a64-4012-a5d6-aa58ea97ce01"
      },
      "source": [
        "#Создадим таблицу в которой сохраним медианное значение возраста\n",
        "#для каждого типа занятости.\n",
        "\n",
        "median_dob_years = data.groupby('income_type')['dob_years'].median()\n",
        "median_dob_years"
      ],
      "execution_count": null,
      "outputs": [
        {
          "output_type": "execute_result",
          "data": {
            "text/plain": [
              "income_type\n",
              "безработный        38.0\n",
              "в декрете          39.0\n",
              "госслужащий        40.0\n",
              "компаньон          39.0\n",
              "пенсионер          60.0\n",
              "предприниматель    42.5\n",
              "сотрудник          39.0\n",
              "студент            22.0\n",
              "Name: dob_years, dtype: float64"
            ]
          },
          "metadata": {
            "tags": []
          },
          "execution_count": 15
        }
      ]
    },
    {
      "cell_type": "code",
      "metadata": {
        "id": "GqtosDPNjTCT",
        "outputId": "3acab4ac-8305-4c2a-ae73-44f8e8422ed6"
      },
      "source": [
        "#Выведем типы занятости в которых присутсвуют заемщики с нулевым возрастом.\n",
        "\n",
        "data.loc[data['dob_years'] == 0, 'income_type'].value_counts()"
      ],
      "execution_count": null,
      "outputs": [
        {
          "output_type": "execute_result",
          "data": {
            "text/plain": [
              "сотрудник      55\n",
              "пенсионер      20\n",
              "компаньон      20\n",
              "госслужащий     6\n",
              "Name: income_type, dtype: int64"
            ]
          },
          "metadata": {
            "tags": []
          },
          "execution_count": 16
        }
      ]
    },
    {
      "cell_type": "code",
      "metadata": {
        "id": "0PhqTxM-jTCh"
      },
      "source": [
        "#Вместо нулевых значений в столбце 'dob_years' подставим\n",
        "#медианное значение возраста для определенного типа занятости.\n",
        "\n",
        "data.loc[(data['dob_years'] == 0)&(data['income_type'] == 'сотрудник'), 'dob_years'] = median_dob_years[6]\n",
        "data.loc[(data['dob_years'] == 0)&(data['income_type'] == 'компаньон'), 'dob_years'] = median_dob_years[3]\n",
        "data.loc[(data['dob_years'] == 0)&(data['income_type'] == 'пенсионер'), 'dob_years'] = median_dob_years[4]\n",
        "data.loc[(data['dob_years'] == 0)&(data['income_type'] == 'госслужащий'), 'dob_years'] = median_dob_years[2]\n",
        "\n"
      ],
      "execution_count": null,
      "outputs": []
    },
    {
      "cell_type": "code",
      "metadata": {
        "scrolled": true,
        "id": "g2EwN7gnjTCr",
        "outputId": "235c1a27-6ee6-42cd-85f7-19dd77546a67"
      },
      "source": [
        "#Проверим на нулевой возраст.\n",
        "\n",
        "data.loc[data['dob_years'] == 0, 'income_type'].count()"
      ],
      "execution_count": null,
      "outputs": [
        {
          "output_type": "execute_result",
          "data": {
            "text/plain": [
              "0"
            ]
          },
          "metadata": {
            "tags": []
          },
          "execution_count": 18
        }
      ]
    },
    {
      "cell_type": "code",
      "metadata": {
        "id": "XcvRmtLqjTC0",
        "outputId": "b69dbda1-45cd-492a-e089-36d916d98a1a"
      },
      "source": [
        "data.head()"
      ],
      "execution_count": null,
      "outputs": [
        {
          "output_type": "execute_result",
          "data": {
            "text/html": [
              "<div>\n",
              "<style scoped>\n",
              "    .dataframe tbody tr th:only-of-type {\n",
              "        vertical-align: middle;\n",
              "    }\n",
              "\n",
              "    .dataframe tbody tr th {\n",
              "        vertical-align: top;\n",
              "    }\n",
              "\n",
              "    .dataframe thead th {\n",
              "        text-align: right;\n",
              "    }\n",
              "</style>\n",
              "<table border=\"1\" class=\"dataframe\">\n",
              "  <thead>\n",
              "    <tr style=\"text-align: right;\">\n",
              "      <th></th>\n",
              "      <th>children</th>\n",
              "      <th>days_employed</th>\n",
              "      <th>dob_years</th>\n",
              "      <th>education</th>\n",
              "      <th>education_id</th>\n",
              "      <th>family_status</th>\n",
              "      <th>family_status_id</th>\n",
              "      <th>gender</th>\n",
              "      <th>income_type</th>\n",
              "      <th>debt</th>\n",
              "      <th>total_income</th>\n",
              "      <th>purpose</th>\n",
              "    </tr>\n",
              "  </thead>\n",
              "  <tbody>\n",
              "    <tr>\n",
              "      <td>0</td>\n",
              "      <td>1</td>\n",
              "      <td>-8437.673028</td>\n",
              "      <td>42.0</td>\n",
              "      <td>высшее</td>\n",
              "      <td>0</td>\n",
              "      <td>женат / замужем</td>\n",
              "      <td>0</td>\n",
              "      <td>F</td>\n",
              "      <td>сотрудник</td>\n",
              "      <td>0</td>\n",
              "      <td>253875.639453</td>\n",
              "      <td>покупка жилья</td>\n",
              "    </tr>\n",
              "    <tr>\n",
              "      <td>1</td>\n",
              "      <td>1</td>\n",
              "      <td>-4024.803754</td>\n",
              "      <td>36.0</td>\n",
              "      <td>среднее</td>\n",
              "      <td>1</td>\n",
              "      <td>женат / замужем</td>\n",
              "      <td>0</td>\n",
              "      <td>F</td>\n",
              "      <td>сотрудник</td>\n",
              "      <td>0</td>\n",
              "      <td>112080.014102</td>\n",
              "      <td>приобретение автомобиля</td>\n",
              "    </tr>\n",
              "    <tr>\n",
              "      <td>2</td>\n",
              "      <td>0</td>\n",
              "      <td>-5623.422610</td>\n",
              "      <td>33.0</td>\n",
              "      <td>Среднее</td>\n",
              "      <td>1</td>\n",
              "      <td>женат / замужем</td>\n",
              "      <td>0</td>\n",
              "      <td>M</td>\n",
              "      <td>сотрудник</td>\n",
              "      <td>0</td>\n",
              "      <td>145885.952297</td>\n",
              "      <td>покупка жилья</td>\n",
              "    </tr>\n",
              "    <tr>\n",
              "      <td>3</td>\n",
              "      <td>3</td>\n",
              "      <td>-4124.747207</td>\n",
              "      <td>32.0</td>\n",
              "      <td>среднее</td>\n",
              "      <td>1</td>\n",
              "      <td>женат / замужем</td>\n",
              "      <td>0</td>\n",
              "      <td>M</td>\n",
              "      <td>сотрудник</td>\n",
              "      <td>0</td>\n",
              "      <td>267628.550329</td>\n",
              "      <td>дополнительное образование</td>\n",
              "    </tr>\n",
              "    <tr>\n",
              "      <td>4</td>\n",
              "      <td>0</td>\n",
              "      <td>340266.072047</td>\n",
              "      <td>53.0</td>\n",
              "      <td>среднее</td>\n",
              "      <td>1</td>\n",
              "      <td>гражданский брак</td>\n",
              "      <td>1</td>\n",
              "      <td>F</td>\n",
              "      <td>пенсионер</td>\n",
              "      <td>0</td>\n",
              "      <td>158616.077870</td>\n",
              "      <td>сыграть свадьбу</td>\n",
              "    </tr>\n",
              "  </tbody>\n",
              "</table>\n",
              "</div>"
            ],
            "text/plain": [
              "   children  days_employed  dob_years education  education_id  \\\n",
              "0         1   -8437.673028       42.0    высшее             0   \n",
              "1         1   -4024.803754       36.0   среднее             1   \n",
              "2         0   -5623.422610       33.0   Среднее             1   \n",
              "3         3   -4124.747207       32.0   среднее             1   \n",
              "4         0  340266.072047       53.0   среднее             1   \n",
              "\n",
              "      family_status  family_status_id gender income_type  debt   total_income  \\\n",
              "0   женат / замужем                 0      F   сотрудник     0  253875.639453   \n",
              "1   женат / замужем                 0      F   сотрудник     0  112080.014102   \n",
              "2   женат / замужем                 0      M   сотрудник     0  145885.952297   \n",
              "3   женат / замужем                 0      M   сотрудник     0  267628.550329   \n",
              "4  гражданский брак                 1      F   пенсионер     0  158616.077870   \n",
              "\n",
              "                      purpose  \n",
              "0               покупка жилья  \n",
              "1     приобретение автомобиля  \n",
              "2               покупка жилья  \n",
              "3  дополнительное образование  \n",
              "4             сыграть свадьбу  "
            ]
          },
          "metadata": {
            "tags": []
          },
          "execution_count": 19
        }
      ]
    },
    {
      "cell_type": "markdown",
      "metadata": {
        "id": "AdjtUk6BjTDA"
      },
      "source": [
        "***Обработка пропусков в столбце 'days_employed':***"
      ]
    },
    {
      "cell_type": "code",
      "metadata": {
        "id": "Psys6zM0jTDB"
      },
      "source": [
        "#Избавимся от отрицательных значений, взяв все значения по модулую.\n",
        "\n",
        "data['days_employed'] = data['days_employed'].abs()"
      ],
      "execution_count": null,
      "outputs": []
    },
    {
      "cell_type": "code",
      "metadata": {
        "scrolled": true,
        "id": "dD94f7IbjTDI",
        "outputId": "bc2cb3d8-10f8-4053-f9c4-d538a85d8edf"
      },
      "source": [
        "#Посмотрим общие сведения по возрасту заемщиков.\n",
        "\n",
        "data['dob_years'].describe()"
      ],
      "execution_count": null,
      "outputs": [
        {
          "output_type": "execute_result",
          "data": {
            "text/plain": [
              "count    21525.000000\n",
              "mean        43.496167\n",
              "std         12.231538\n",
              "min         19.000000\n",
              "25%         34.000000\n",
              "50%         43.000000\n",
              "75%         53.000000\n",
              "max         75.000000\n",
              "Name: dob_years, dtype: float64"
            ]
          },
          "metadata": {
            "tags": []
          },
          "execution_count": 21
        }
      ]
    },
    {
      "cell_type": "code",
      "metadata": {
        "scrolled": true,
        "id": "MUuFgT3BjTDW",
        "outputId": "e366f225-52b1-421c-bf5c-c05c37f13fb5"
      },
      "source": [
        "#Выделим четыре группы: молодые(от 18 до 28), зрелые(от 29 до 43), взрослые(от 44 до 54), пожилые(55+).\n",
        "#Для этого напишем функцию, которая на вход принимает возраст заемщика и возвращает его возрастную группу.\n",
        "\n",
        "def age_group(dob_years):\n",
        "    if dob_years <= 28:\n",
        "        return 'молодой'\n",
        "    elif dob_years <= 43:\n",
        "        return 'зрелый'\n",
        "    elif dob_years <= 54:\n",
        "        return 'взрослый'\n",
        "    else:\n",
        "        return 'пожилой'\n",
        "    \n",
        "data['age_group'] = data['dob_years'].apply(age_group)\n",
        "data.head(20)"
      ],
      "execution_count": null,
      "outputs": [
        {
          "output_type": "execute_result",
          "data": {
            "text/html": [
              "<div>\n",
              "<style scoped>\n",
              "    .dataframe tbody tr th:only-of-type {\n",
              "        vertical-align: middle;\n",
              "    }\n",
              "\n",
              "    .dataframe tbody tr th {\n",
              "        vertical-align: top;\n",
              "    }\n",
              "\n",
              "    .dataframe thead th {\n",
              "        text-align: right;\n",
              "    }\n",
              "</style>\n",
              "<table border=\"1\" class=\"dataframe\">\n",
              "  <thead>\n",
              "    <tr style=\"text-align: right;\">\n",
              "      <th></th>\n",
              "      <th>children</th>\n",
              "      <th>days_employed</th>\n",
              "      <th>dob_years</th>\n",
              "      <th>education</th>\n",
              "      <th>education_id</th>\n",
              "      <th>family_status</th>\n",
              "      <th>family_status_id</th>\n",
              "      <th>gender</th>\n",
              "      <th>income_type</th>\n",
              "      <th>debt</th>\n",
              "      <th>total_income</th>\n",
              "      <th>purpose</th>\n",
              "      <th>age_group</th>\n",
              "    </tr>\n",
              "  </thead>\n",
              "  <tbody>\n",
              "    <tr>\n",
              "      <td>0</td>\n",
              "      <td>1</td>\n",
              "      <td>8437.673028</td>\n",
              "      <td>42.0</td>\n",
              "      <td>высшее</td>\n",
              "      <td>0</td>\n",
              "      <td>женат / замужем</td>\n",
              "      <td>0</td>\n",
              "      <td>F</td>\n",
              "      <td>сотрудник</td>\n",
              "      <td>0</td>\n",
              "      <td>253875.639453</td>\n",
              "      <td>покупка жилья</td>\n",
              "      <td>зрелый</td>\n",
              "    </tr>\n",
              "    <tr>\n",
              "      <td>1</td>\n",
              "      <td>1</td>\n",
              "      <td>4024.803754</td>\n",
              "      <td>36.0</td>\n",
              "      <td>среднее</td>\n",
              "      <td>1</td>\n",
              "      <td>женат / замужем</td>\n",
              "      <td>0</td>\n",
              "      <td>F</td>\n",
              "      <td>сотрудник</td>\n",
              "      <td>0</td>\n",
              "      <td>112080.014102</td>\n",
              "      <td>приобретение автомобиля</td>\n",
              "      <td>зрелый</td>\n",
              "    </tr>\n",
              "    <tr>\n",
              "      <td>2</td>\n",
              "      <td>0</td>\n",
              "      <td>5623.422610</td>\n",
              "      <td>33.0</td>\n",
              "      <td>Среднее</td>\n",
              "      <td>1</td>\n",
              "      <td>женат / замужем</td>\n",
              "      <td>0</td>\n",
              "      <td>M</td>\n",
              "      <td>сотрудник</td>\n",
              "      <td>0</td>\n",
              "      <td>145885.952297</td>\n",
              "      <td>покупка жилья</td>\n",
              "      <td>зрелый</td>\n",
              "    </tr>\n",
              "    <tr>\n",
              "      <td>3</td>\n",
              "      <td>3</td>\n",
              "      <td>4124.747207</td>\n",
              "      <td>32.0</td>\n",
              "      <td>среднее</td>\n",
              "      <td>1</td>\n",
              "      <td>женат / замужем</td>\n",
              "      <td>0</td>\n",
              "      <td>M</td>\n",
              "      <td>сотрудник</td>\n",
              "      <td>0</td>\n",
              "      <td>267628.550329</td>\n",
              "      <td>дополнительное образование</td>\n",
              "      <td>зрелый</td>\n",
              "    </tr>\n",
              "    <tr>\n",
              "      <td>4</td>\n",
              "      <td>0</td>\n",
              "      <td>340266.072047</td>\n",
              "      <td>53.0</td>\n",
              "      <td>среднее</td>\n",
              "      <td>1</td>\n",
              "      <td>гражданский брак</td>\n",
              "      <td>1</td>\n",
              "      <td>F</td>\n",
              "      <td>пенсионер</td>\n",
              "      <td>0</td>\n",
              "      <td>158616.077870</td>\n",
              "      <td>сыграть свадьбу</td>\n",
              "      <td>взрослый</td>\n",
              "    </tr>\n",
              "    <tr>\n",
              "      <td>5</td>\n",
              "      <td>0</td>\n",
              "      <td>926.185831</td>\n",
              "      <td>27.0</td>\n",
              "      <td>высшее</td>\n",
              "      <td>0</td>\n",
              "      <td>гражданский брак</td>\n",
              "      <td>1</td>\n",
              "      <td>M</td>\n",
              "      <td>компаньон</td>\n",
              "      <td>0</td>\n",
              "      <td>255763.565419</td>\n",
              "      <td>покупка жилья</td>\n",
              "      <td>молодой</td>\n",
              "    </tr>\n",
              "    <tr>\n",
              "      <td>6</td>\n",
              "      <td>0</td>\n",
              "      <td>2879.202052</td>\n",
              "      <td>43.0</td>\n",
              "      <td>высшее</td>\n",
              "      <td>0</td>\n",
              "      <td>женат / замужем</td>\n",
              "      <td>0</td>\n",
              "      <td>F</td>\n",
              "      <td>компаньон</td>\n",
              "      <td>0</td>\n",
              "      <td>240525.971920</td>\n",
              "      <td>операции с жильем</td>\n",
              "      <td>зрелый</td>\n",
              "    </tr>\n",
              "    <tr>\n",
              "      <td>7</td>\n",
              "      <td>0</td>\n",
              "      <td>152.779569</td>\n",
              "      <td>50.0</td>\n",
              "      <td>СРЕДНЕЕ</td>\n",
              "      <td>1</td>\n",
              "      <td>женат / замужем</td>\n",
              "      <td>0</td>\n",
              "      <td>M</td>\n",
              "      <td>сотрудник</td>\n",
              "      <td>0</td>\n",
              "      <td>135823.934197</td>\n",
              "      <td>образование</td>\n",
              "      <td>взрослый</td>\n",
              "    </tr>\n",
              "    <tr>\n",
              "      <td>8</td>\n",
              "      <td>2</td>\n",
              "      <td>6929.865299</td>\n",
              "      <td>35.0</td>\n",
              "      <td>ВЫСШЕЕ</td>\n",
              "      <td>0</td>\n",
              "      <td>гражданский брак</td>\n",
              "      <td>1</td>\n",
              "      <td>F</td>\n",
              "      <td>сотрудник</td>\n",
              "      <td>0</td>\n",
              "      <td>95856.832424</td>\n",
              "      <td>на проведение свадьбы</td>\n",
              "      <td>зрелый</td>\n",
              "    </tr>\n",
              "    <tr>\n",
              "      <td>9</td>\n",
              "      <td>0</td>\n",
              "      <td>2188.756445</td>\n",
              "      <td>41.0</td>\n",
              "      <td>среднее</td>\n",
              "      <td>1</td>\n",
              "      <td>женат / замужем</td>\n",
              "      <td>0</td>\n",
              "      <td>M</td>\n",
              "      <td>сотрудник</td>\n",
              "      <td>0</td>\n",
              "      <td>144425.938277</td>\n",
              "      <td>покупка жилья для семьи</td>\n",
              "      <td>зрелый</td>\n",
              "    </tr>\n",
              "    <tr>\n",
              "      <td>10</td>\n",
              "      <td>2</td>\n",
              "      <td>4171.483647</td>\n",
              "      <td>36.0</td>\n",
              "      <td>высшее</td>\n",
              "      <td>0</td>\n",
              "      <td>женат / замужем</td>\n",
              "      <td>0</td>\n",
              "      <td>M</td>\n",
              "      <td>компаньон</td>\n",
              "      <td>0</td>\n",
              "      <td>113943.491460</td>\n",
              "      <td>покупка недвижимости</td>\n",
              "      <td>зрелый</td>\n",
              "    </tr>\n",
              "    <tr>\n",
              "      <td>11</td>\n",
              "      <td>0</td>\n",
              "      <td>792.701887</td>\n",
              "      <td>40.0</td>\n",
              "      <td>среднее</td>\n",
              "      <td>1</td>\n",
              "      <td>женат / замужем</td>\n",
              "      <td>0</td>\n",
              "      <td>F</td>\n",
              "      <td>сотрудник</td>\n",
              "      <td>0</td>\n",
              "      <td>77069.234271</td>\n",
              "      <td>покупка коммерческой недвижимости</td>\n",
              "      <td>зрелый</td>\n",
              "    </tr>\n",
              "    <tr>\n",
              "      <td>12</td>\n",
              "      <td>0</td>\n",
              "      <td>NaN</td>\n",
              "      <td>65.0</td>\n",
              "      <td>среднее</td>\n",
              "      <td>1</td>\n",
              "      <td>гражданский брак</td>\n",
              "      <td>1</td>\n",
              "      <td>M</td>\n",
              "      <td>пенсионер</td>\n",
              "      <td>0</td>\n",
              "      <td>118514.486412</td>\n",
              "      <td>сыграть свадьбу</td>\n",
              "      <td>пожилой</td>\n",
              "    </tr>\n",
              "    <tr>\n",
              "      <td>13</td>\n",
              "      <td>0</td>\n",
              "      <td>1846.641941</td>\n",
              "      <td>54.0</td>\n",
              "      <td>неоконченное высшее</td>\n",
              "      <td>2</td>\n",
              "      <td>женат / замужем</td>\n",
              "      <td>0</td>\n",
              "      <td>F</td>\n",
              "      <td>сотрудник</td>\n",
              "      <td>0</td>\n",
              "      <td>130458.228857</td>\n",
              "      <td>приобретение автомобиля</td>\n",
              "      <td>взрослый</td>\n",
              "    </tr>\n",
              "    <tr>\n",
              "      <td>14</td>\n",
              "      <td>0</td>\n",
              "      <td>1844.956182</td>\n",
              "      <td>56.0</td>\n",
              "      <td>высшее</td>\n",
              "      <td>0</td>\n",
              "      <td>гражданский брак</td>\n",
              "      <td>1</td>\n",
              "      <td>F</td>\n",
              "      <td>компаньон</td>\n",
              "      <td>1</td>\n",
              "      <td>165127.911772</td>\n",
              "      <td>покупка жилой недвижимости</td>\n",
              "      <td>пожилой</td>\n",
              "    </tr>\n",
              "    <tr>\n",
              "      <td>15</td>\n",
              "      <td>1</td>\n",
              "      <td>972.364419</td>\n",
              "      <td>26.0</td>\n",
              "      <td>среднее</td>\n",
              "      <td>1</td>\n",
              "      <td>женат / замужем</td>\n",
              "      <td>0</td>\n",
              "      <td>F</td>\n",
              "      <td>сотрудник</td>\n",
              "      <td>0</td>\n",
              "      <td>116820.904450</td>\n",
              "      <td>строительство собственной недвижимости</td>\n",
              "      <td>молодой</td>\n",
              "    </tr>\n",
              "    <tr>\n",
              "      <td>16</td>\n",
              "      <td>0</td>\n",
              "      <td>1719.934226</td>\n",
              "      <td>35.0</td>\n",
              "      <td>среднее</td>\n",
              "      <td>1</td>\n",
              "      <td>женат / замужем</td>\n",
              "      <td>0</td>\n",
              "      <td>F</td>\n",
              "      <td>сотрудник</td>\n",
              "      <td>0</td>\n",
              "      <td>289202.704229</td>\n",
              "      <td>недвижимость</td>\n",
              "      <td>зрелый</td>\n",
              "    </tr>\n",
              "    <tr>\n",
              "      <td>17</td>\n",
              "      <td>0</td>\n",
              "      <td>2369.999720</td>\n",
              "      <td>33.0</td>\n",
              "      <td>высшее</td>\n",
              "      <td>0</td>\n",
              "      <td>гражданский брак</td>\n",
              "      <td>1</td>\n",
              "      <td>M</td>\n",
              "      <td>сотрудник</td>\n",
              "      <td>0</td>\n",
              "      <td>90410.586745</td>\n",
              "      <td>строительство недвижимости</td>\n",
              "      <td>зрелый</td>\n",
              "    </tr>\n",
              "    <tr>\n",
              "      <td>18</td>\n",
              "      <td>0</td>\n",
              "      <td>400281.136913</td>\n",
              "      <td>53.0</td>\n",
              "      <td>среднее</td>\n",
              "      <td>1</td>\n",
              "      <td>вдовец / вдова</td>\n",
              "      <td>2</td>\n",
              "      <td>F</td>\n",
              "      <td>пенсионер</td>\n",
              "      <td>0</td>\n",
              "      <td>56823.777243</td>\n",
              "      <td>на покупку подержанного автомобиля</td>\n",
              "      <td>взрослый</td>\n",
              "    </tr>\n",
              "    <tr>\n",
              "      <td>19</td>\n",
              "      <td>0</td>\n",
              "      <td>10038.818549</td>\n",
              "      <td>48.0</td>\n",
              "      <td>СРЕДНЕЕ</td>\n",
              "      <td>1</td>\n",
              "      <td>в разводе</td>\n",
              "      <td>3</td>\n",
              "      <td>F</td>\n",
              "      <td>сотрудник</td>\n",
              "      <td>0</td>\n",
              "      <td>242831.107982</td>\n",
              "      <td>на покупку своего автомобиля</td>\n",
              "      <td>взрослый</td>\n",
              "    </tr>\n",
              "  </tbody>\n",
              "</table>\n",
              "</div>"
            ],
            "text/plain": [
              "    children  days_employed  dob_years            education  education_id  \\\n",
              "0          1    8437.673028       42.0               высшее             0   \n",
              "1          1    4024.803754       36.0              среднее             1   \n",
              "2          0    5623.422610       33.0              Среднее             1   \n",
              "3          3    4124.747207       32.0              среднее             1   \n",
              "4          0  340266.072047       53.0              среднее             1   \n",
              "5          0     926.185831       27.0               высшее             0   \n",
              "6          0    2879.202052       43.0               высшее             0   \n",
              "7          0     152.779569       50.0              СРЕДНЕЕ             1   \n",
              "8          2    6929.865299       35.0               ВЫСШЕЕ             0   \n",
              "9          0    2188.756445       41.0              среднее             1   \n",
              "10         2    4171.483647       36.0               высшее             0   \n",
              "11         0     792.701887       40.0              среднее             1   \n",
              "12         0            NaN       65.0              среднее             1   \n",
              "13         0    1846.641941       54.0  неоконченное высшее             2   \n",
              "14         0    1844.956182       56.0               высшее             0   \n",
              "15         1     972.364419       26.0              среднее             1   \n",
              "16         0    1719.934226       35.0              среднее             1   \n",
              "17         0    2369.999720       33.0               высшее             0   \n",
              "18         0  400281.136913       53.0              среднее             1   \n",
              "19         0   10038.818549       48.0              СРЕДНЕЕ             1   \n",
              "\n",
              "       family_status  family_status_id gender income_type  debt  \\\n",
              "0    женат / замужем                 0      F   сотрудник     0   \n",
              "1    женат / замужем                 0      F   сотрудник     0   \n",
              "2    женат / замужем                 0      M   сотрудник     0   \n",
              "3    женат / замужем                 0      M   сотрудник     0   \n",
              "4   гражданский брак                 1      F   пенсионер     0   \n",
              "5   гражданский брак                 1      M   компаньон     0   \n",
              "6    женат / замужем                 0      F   компаньон     0   \n",
              "7    женат / замужем                 0      M   сотрудник     0   \n",
              "8   гражданский брак                 1      F   сотрудник     0   \n",
              "9    женат / замужем                 0      M   сотрудник     0   \n",
              "10   женат / замужем                 0      M   компаньон     0   \n",
              "11   женат / замужем                 0      F   сотрудник     0   \n",
              "12  гражданский брак                 1      M   пенсионер     0   \n",
              "13   женат / замужем                 0      F   сотрудник     0   \n",
              "14  гражданский брак                 1      F   компаньон     1   \n",
              "15   женат / замужем                 0      F   сотрудник     0   \n",
              "16   женат / замужем                 0      F   сотрудник     0   \n",
              "17  гражданский брак                 1      M   сотрудник     0   \n",
              "18    вдовец / вдова                 2      F   пенсионер     0   \n",
              "19         в разводе                 3      F   сотрудник     0   \n",
              "\n",
              "     total_income                                 purpose age_group  \n",
              "0   253875.639453                           покупка жилья    зрелый  \n",
              "1   112080.014102                 приобретение автомобиля    зрелый  \n",
              "2   145885.952297                           покупка жилья    зрелый  \n",
              "3   267628.550329              дополнительное образование    зрелый  \n",
              "4   158616.077870                         сыграть свадьбу  взрослый  \n",
              "5   255763.565419                           покупка жилья   молодой  \n",
              "6   240525.971920                       операции с жильем    зрелый  \n",
              "7   135823.934197                             образование  взрослый  \n",
              "8    95856.832424                   на проведение свадьбы    зрелый  \n",
              "9   144425.938277                 покупка жилья для семьи    зрелый  \n",
              "10  113943.491460                    покупка недвижимости    зрелый  \n",
              "11   77069.234271       покупка коммерческой недвижимости    зрелый  \n",
              "12  118514.486412                         сыграть свадьбу   пожилой  \n",
              "13  130458.228857                 приобретение автомобиля  взрослый  \n",
              "14  165127.911772              покупка жилой недвижимости   пожилой  \n",
              "15  116820.904450  строительство собственной недвижимости   молодой  \n",
              "16  289202.704229                            недвижимость    зрелый  \n",
              "17   90410.586745              строительство недвижимости    зрелый  \n",
              "18   56823.777243      на покупку подержанного автомобиля  взрослый  \n",
              "19  242831.107982            на покупку своего автомобиля  взрослый  "
            ]
          },
          "metadata": {
            "tags": []
          },
          "execution_count": 22
        }
      ]
    },
    {
      "cell_type": "code",
      "metadata": {
        "id": "GCIcexq6jTDg",
        "outputId": "21cc0dc5-1d90-4bb9-eb51-9b3d0dd177c8"
      },
      "source": [
        "#Создадим таблицу с медианным значением трудового стажа для каждой возрастной группы.\n",
        "\n",
        "median_days_employed = data.groupby('age_group')['days_employed'].median()\n",
        "median_days_employed"
      ],
      "execution_count": null,
      "outputs": [
        {
          "output_type": "execute_result",
          "data": {
            "text/plain": [
              "age_group\n",
              "взрослый      2567.889652\n",
              "зрелый        1648.414805\n",
              "молодой        941.880042\n",
              "пожилой     345954.616737\n",
              "Name: days_employed, dtype: float64"
            ]
          },
          "metadata": {
            "tags": []
          },
          "execution_count": 23
        }
      ]
    },
    {
      "cell_type": "code",
      "metadata": {
        "id": "GakAKS_MjTDo"
      },
      "source": [
        "#Заполним пропуски в столбце 'days_employed' медианным значением для каждой возрастной группы соотвествено.\n",
        "\n",
        "data.loc[(data['days_employed'].isna())&(data['age_group'] == 'взрослый'), 'days_employed'] = median_days_employed[0]\n",
        "data.loc[(data['days_employed'].isna())&(data['age_group'] == 'зрелый'), 'days_employed'] = median_days_employed[1]\n",
        "data.loc[(data['days_employed'].isna())&(data['age_group'] == 'молодой'), 'days_employed'] = median_days_employed[2]\n",
        "data.loc[(data['days_employed'].isna())&(data['age_group'] == 'пожилой'), 'days_employed'] = median_days_employed[3]"
      ],
      "execution_count": null,
      "outputs": []
    },
    {
      "cell_type": "code",
      "metadata": {
        "id": "Roiv3v8jjTDx",
        "outputId": "54f7700b-161b-4deb-ac4c-a57317429b6c"
      },
      "source": [
        "#Проверим сколько пропусков осталось в столбце 'days_employed'.\n",
        "\n",
        "data['days_employed'].isna().sum()"
      ],
      "execution_count": null,
      "outputs": [
        {
          "output_type": "execute_result",
          "data": {
            "text/plain": [
              "0"
            ]
          },
          "metadata": {
            "tags": []
          },
          "execution_count": 25
        }
      ]
    },
    {
      "cell_type": "markdown",
      "metadata": {
        "id": "vCWGjhTZjTD_"
      },
      "source": [
        "### Вывод"
      ]
    },
    {
      "cell_type": "code",
      "metadata": {
        "id": "2qAOSy9PjTEA",
        "outputId": "f366455e-092d-4cbf-8ae5-966c4e1f100e"
      },
      "source": [
        "data.info()"
      ],
      "execution_count": null,
      "outputs": [
        {
          "output_type": "stream",
          "text": [
            "<class 'pandas.core.frame.DataFrame'>\n",
            "RangeIndex: 21525 entries, 0 to 21524\n",
            "Data columns (total 13 columns):\n",
            "children            21525 non-null int64\n",
            "days_employed       21525 non-null float64\n",
            "dob_years           21525 non-null float64\n",
            "education           21525 non-null object\n",
            "education_id        21525 non-null int64\n",
            "family_status       21525 non-null object\n",
            "family_status_id    21525 non-null int64\n",
            "gender              21525 non-null object\n",
            "income_type         21525 non-null object\n",
            "debt                21525 non-null int64\n",
            "total_income        21525 non-null float64\n",
            "purpose             21525 non-null object\n",
            "age_group           21525 non-null object\n",
            "dtypes: float64(3), int64(4), object(6)\n",
            "memory usage: 2.1+ MB\n"
          ],
          "name": "stdout"
        }
      ]
    },
    {
      "cell_type": "markdown",
      "metadata": {
        "id": "1rlnBjL2jTEH"
      },
      "source": [
        "Как мы можем увидеть, все пропуски заполнены.\n",
        "* Для заполнения пропусков в столбце 'total_income'  нашли медианное значение з/п для каждого типа занятости и подставили его в пропуски.\n",
        "\n",
        "\n",
        "* Для избавления от нулевого возраста заменили его на медианное значение возраста для каждого типа занятости.\n",
        "\n",
        "\n",
        "* Для заполнения пропусков в столбце 'days_employed'  разделили всех заемщиков на 3 возрастные группы и заполнили пропуски медианным значением стажа работы для каждой возрастной группы."
      ]
    },
    {
      "cell_type": "markdown",
      "metadata": {
        "id": "aXFP_WkFjTEM"
      },
      "source": [
        "### Замена типа данных"
      ]
    },
    {
      "cell_type": "code",
      "metadata": {
        "id": "YFtkn9NbjTEO"
      },
      "source": [
        "#Переведем дни рабочего стажа в года и приведем их к целочисленному типу данных.\n",
        "\n",
        "data['days_employed'] = data['days_employed'] / 365\n",
        "data['days_employed'] = data['days_employed'].astype('int')"
      ],
      "execution_count": null,
      "outputs": []
    },
    {
      "cell_type": "code",
      "metadata": {
        "id": "7qETXUPajTEV"
      },
      "source": [
        "#Переведем ежемесячную зарплату из вещественного в целочисленный тип данных.\n",
        "\n",
        "data['total_income'] = data['total_income'].astype('int')"
      ],
      "execution_count": null,
      "outputs": []
    },
    {
      "cell_type": "code",
      "metadata": {
        "id": "c5qgGmC8jTEc"
      },
      "source": [
        "#Переведем возраст заемщиков из вещественного в целочисленный тип данных.\n",
        "\n",
        "\n",
        "data['dob_years'] = data['dob_years'].astype('int')"
      ],
      "execution_count": null,
      "outputs": []
    },
    {
      "cell_type": "markdown",
      "metadata": {
        "id": "HtQWJSo5jTEl"
      },
      "source": [
        "### Вывод"
      ]
    },
    {
      "cell_type": "markdown",
      "metadata": {
        "id": "hrBVuqc1jTEm"
      },
      "source": [
        "Нам ни к чему вещественный тип данных в столбцах 'days_employed', 'total_income' и 'dob_years', поэтому для удобства восприятия приведем их к целочисленному типу используя метод .astype(), мы можем его использоват так как ранее избавились от всех NaN."
      ]
    },
    {
      "cell_type": "markdown",
      "metadata": {
        "id": "aGv7c5UcjTEq"
      },
      "source": [
        "### Обработка дубликатов"
      ]
    },
    {
      "cell_type": "code",
      "metadata": {
        "id": "66MrXhPcjTEs",
        "outputId": "48d45bcc-fc82-4cf5-ea80-e4dce8e411e5"
      },
      "source": [
        "#Проверим данные на дубликаты.\n",
        "\n",
        "data.duplicated().sum()"
      ],
      "execution_count": null,
      "outputs": [
        {
          "output_type": "execute_result",
          "data": {
            "text/plain": [
              "54"
            ]
          },
          "metadata": {
            "tags": []
          },
          "execution_count": 30
        }
      ]
    },
    {
      "cell_type": "code",
      "metadata": {
        "id": "PE6yRWC9jTEz",
        "outputId": "8236ffe4-c2f7-4149-cf95-f5f5ae00d9c4"
      },
      "source": [
        "#Ранее в столбце 'education' были замечено написание образование в разном регистре,\n",
        "#приведем все к одному регистру, чтобы точно найти все дубликаты.\n",
        "\n",
        "data['education'] = data['education'].str.lower()\n",
        "data.head()"
      ],
      "execution_count": null,
      "outputs": [
        {
          "output_type": "execute_result",
          "data": {
            "text/html": [
              "<div>\n",
              "<style scoped>\n",
              "    .dataframe tbody tr th:only-of-type {\n",
              "        vertical-align: middle;\n",
              "    }\n",
              "\n",
              "    .dataframe tbody tr th {\n",
              "        vertical-align: top;\n",
              "    }\n",
              "\n",
              "    .dataframe thead th {\n",
              "        text-align: right;\n",
              "    }\n",
              "</style>\n",
              "<table border=\"1\" class=\"dataframe\">\n",
              "  <thead>\n",
              "    <tr style=\"text-align: right;\">\n",
              "      <th></th>\n",
              "      <th>children</th>\n",
              "      <th>days_employed</th>\n",
              "      <th>dob_years</th>\n",
              "      <th>education</th>\n",
              "      <th>education_id</th>\n",
              "      <th>family_status</th>\n",
              "      <th>family_status_id</th>\n",
              "      <th>gender</th>\n",
              "      <th>income_type</th>\n",
              "      <th>debt</th>\n",
              "      <th>total_income</th>\n",
              "      <th>purpose</th>\n",
              "      <th>age_group</th>\n",
              "    </tr>\n",
              "  </thead>\n",
              "  <tbody>\n",
              "    <tr>\n",
              "      <td>0</td>\n",
              "      <td>1</td>\n",
              "      <td>23</td>\n",
              "      <td>42</td>\n",
              "      <td>высшее</td>\n",
              "      <td>0</td>\n",
              "      <td>женат / замужем</td>\n",
              "      <td>0</td>\n",
              "      <td>F</td>\n",
              "      <td>сотрудник</td>\n",
              "      <td>0</td>\n",
              "      <td>253875</td>\n",
              "      <td>покупка жилья</td>\n",
              "      <td>зрелый</td>\n",
              "    </tr>\n",
              "    <tr>\n",
              "      <td>1</td>\n",
              "      <td>1</td>\n",
              "      <td>11</td>\n",
              "      <td>36</td>\n",
              "      <td>среднее</td>\n",
              "      <td>1</td>\n",
              "      <td>женат / замужем</td>\n",
              "      <td>0</td>\n",
              "      <td>F</td>\n",
              "      <td>сотрудник</td>\n",
              "      <td>0</td>\n",
              "      <td>112080</td>\n",
              "      <td>приобретение автомобиля</td>\n",
              "      <td>зрелый</td>\n",
              "    </tr>\n",
              "    <tr>\n",
              "      <td>2</td>\n",
              "      <td>0</td>\n",
              "      <td>15</td>\n",
              "      <td>33</td>\n",
              "      <td>среднее</td>\n",
              "      <td>1</td>\n",
              "      <td>женат / замужем</td>\n",
              "      <td>0</td>\n",
              "      <td>M</td>\n",
              "      <td>сотрудник</td>\n",
              "      <td>0</td>\n",
              "      <td>145885</td>\n",
              "      <td>покупка жилья</td>\n",
              "      <td>зрелый</td>\n",
              "    </tr>\n",
              "    <tr>\n",
              "      <td>3</td>\n",
              "      <td>3</td>\n",
              "      <td>11</td>\n",
              "      <td>32</td>\n",
              "      <td>среднее</td>\n",
              "      <td>1</td>\n",
              "      <td>женат / замужем</td>\n",
              "      <td>0</td>\n",
              "      <td>M</td>\n",
              "      <td>сотрудник</td>\n",
              "      <td>0</td>\n",
              "      <td>267628</td>\n",
              "      <td>дополнительное образование</td>\n",
              "      <td>зрелый</td>\n",
              "    </tr>\n",
              "    <tr>\n",
              "      <td>4</td>\n",
              "      <td>0</td>\n",
              "      <td>932</td>\n",
              "      <td>53</td>\n",
              "      <td>среднее</td>\n",
              "      <td>1</td>\n",
              "      <td>гражданский брак</td>\n",
              "      <td>1</td>\n",
              "      <td>F</td>\n",
              "      <td>пенсионер</td>\n",
              "      <td>0</td>\n",
              "      <td>158616</td>\n",
              "      <td>сыграть свадьбу</td>\n",
              "      <td>взрослый</td>\n",
              "    </tr>\n",
              "  </tbody>\n",
              "</table>\n",
              "</div>"
            ],
            "text/plain": [
              "   children  days_employed  dob_years education  education_id  \\\n",
              "0         1             23         42    высшее             0   \n",
              "1         1             11         36   среднее             1   \n",
              "2         0             15         33   среднее             1   \n",
              "3         3             11         32   среднее             1   \n",
              "4         0            932         53   среднее             1   \n",
              "\n",
              "      family_status  family_status_id gender income_type  debt  total_income  \\\n",
              "0   женат / замужем                 0      F   сотрудник     0        253875   \n",
              "1   женат / замужем                 0      F   сотрудник     0        112080   \n",
              "2   женат / замужем                 0      M   сотрудник     0        145885   \n",
              "3   женат / замужем                 0      M   сотрудник     0        267628   \n",
              "4  гражданский брак                 1      F   пенсионер     0        158616   \n",
              "\n",
              "                      purpose age_group  \n",
              "0               покупка жилья    зрелый  \n",
              "1     приобретение автомобиля    зрелый  \n",
              "2               покупка жилья    зрелый  \n",
              "3  дополнительное образование    зрелый  \n",
              "4             сыграть свадьбу  взрослый  "
            ]
          },
          "metadata": {
            "tags": []
          },
          "execution_count": 31
        }
      ]
    },
    {
      "cell_type": "code",
      "metadata": {
        "id": "FX1j0UJbjTE5",
        "outputId": "f907f0e8-9c27-433f-9803-6fa150da766f"
      },
      "source": [
        "data['days_employed'].describe()"
      ],
      "execution_count": null,
      "outputs": [
        {
          "output_type": "execute_result",
          "data": {
            "text/plain": [
              "count    21525.000000\n",
              "mean       187.294402\n",
              "std        383.123365\n",
              "min          0.000000\n",
              "25%          2.000000\n",
              "50%          5.000000\n",
              "75%         15.000000\n",
              "max       1100.000000\n",
              "Name: days_employed, dtype: float64"
            ]
          },
          "metadata": {
            "tags": []
          },
          "execution_count": 32
        }
      ]
    },
    {
      "cell_type": "code",
      "metadata": {
        "scrolled": true,
        "id": "aomJDulOjTE_",
        "outputId": "beada541-d45a-4e6d-dc7a-a4616748fef5"
      },
      "source": [
        "#Проверим данные на дубликаты после приведения столбца 'education' к одному регистру.\n",
        "data.duplicated().sum()"
      ],
      "execution_count": null,
      "outputs": [
        {
          "output_type": "execute_result",
          "data": {
            "text/plain": [
              "71"
            ]
          },
          "metadata": {
            "tags": []
          },
          "execution_count": 33
        }
      ]
    },
    {
      "cell_type": "code",
      "metadata": {
        "id": "g-_NJwW1jTFF",
        "outputId": "04f96c9e-0932-4065-ae45-2940b97493b2"
      },
      "source": [
        "#Удалим дубликаты.\n",
        "\n",
        "data = data.drop_duplicates().reset_index(drop = True)\n",
        "\n",
        "#Проверим на наличие дубликатов после удаления.\n",
        "\n",
        "data.duplicated().sum()"
      ],
      "execution_count": null,
      "outputs": [
        {
          "output_type": "execute_result",
          "data": {
            "text/plain": [
              "0"
            ]
          },
          "metadata": {
            "tags": []
          },
          "execution_count": 34
        }
      ]
    },
    {
      "cell_type": "markdown",
      "metadata": {
        "id": "4spmLitxjTFN"
      },
      "source": [
        "### Вывод"
      ]
    },
    {
      "cell_type": "markdown",
      "metadata": {
        "id": "f1TwDKQ2jTFO"
      },
      "source": [
        "Из-за разного регистра в столбце 'education' методом .duplicated() находились не все дубликаты. После приведения столбца в нормальный вид, можно удалять все дубликаты методом .drop_duplicates()."
      ]
    },
    {
      "cell_type": "markdown",
      "metadata": {
        "id": "dm3cAZP8jTFR"
      },
      "source": [
        "### Лемматизация"
      ]
    },
    {
      "cell_type": "code",
      "metadata": {
        "id": "CuJUSsIyjTFS",
        "outputId": "223717b8-1d2e-4e00-ea05-f4781bc6768a"
      },
      "source": [
        "#Посмотрим все варианты целей кредита.\n",
        "\n",
        "data['purpose'].value_counts()\n"
      ],
      "execution_count": null,
      "outputs": [
        {
          "output_type": "execute_result",
          "data": {
            "text/plain": [
              "свадьба                                   791\n",
              "на проведение свадьбы                     768\n",
              "сыграть свадьбу                           765\n",
              "операции с недвижимостью                  675\n",
              "покупка коммерческой недвижимости         661\n",
              "операции с жильем                         652\n",
              "покупка жилья для сдачи                   651\n",
              "операции с коммерческой недвижимостью     650\n",
              "жилье                                     646\n",
              "покупка жилья                             646\n",
              "покупка жилья для семьи                   638\n",
              "строительство собственной недвижимости    635\n",
              "недвижимость                              633\n",
              "операции со своей недвижимостью           627\n",
              "строительство жилой недвижимости          624\n",
              "покупка недвижимости                      621\n",
              "покупка своего жилья                      620\n",
              "строительство недвижимости                619\n",
              "ремонт жилью                              607\n",
              "покупка жилой недвижимости                606\n",
              "на покупку своего автомобиля              505\n",
              "заняться высшим образованием              496\n",
              "автомобиль                                494\n",
              "сделка с подержанным автомобилем          486\n",
              "свой автомобиль                           478\n",
              "на покупку подержанного автомобиля        478\n",
              "автомобили                                478\n",
              "на покупку автомобиля                     471\n",
              "приобретение автомобиля                   461\n",
              "дополнительное образование                460\n",
              "сделка с автомобилем                      455\n",
              "высшее образование                        452\n",
              "образование                               447\n",
              "получение дополнительного образования     446\n",
              "получение образования                     442\n",
              "профильное образование                    436\n",
              "получение высшего образования             426\n",
              "заняться образованием                     408\n",
              "Name: purpose, dtype: int64"
            ]
          },
          "metadata": {
            "tags": []
          },
          "execution_count": 35
        }
      ]
    },
    {
      "cell_type": "markdown",
      "metadata": {
        "id": "66GLLsmYjTFf"
      },
      "source": [
        "*Многие варианты подразумевают одно и тоже, но записаны по-разному.*"
      ]
    },
    {
      "cell_type": "code",
      "metadata": {
        "id": "aOhQ7wOEjTFh",
        "outputId": "6960a7bb-59c1-40e3-e4d4-0251abf3026d"
      },
      "source": [
        "#Выделим основные категории целей кредита.\n",
        "\n",
        "categories = ['свадьба','жилье','автомобиль','образование','недвижимость']\n",
        "\n",
        "#Напишем функцию, которая будет принимать на вход цель кредита, а возвращать котегорию кредита.\n",
        "\n",
        "def lemmatize(text):\n",
        "    lemmas = m.lemmatize(text)\n",
        "    for word in categories:\n",
        "        if word in lemmas:\n",
        "            lemma = word\n",
        "    return lemma\n",
        "\n",
        "data['purpose_categories'] = data['purpose'].apply(lemmatize)        \n",
        "data.head()\n",
        "        "
      ],
      "execution_count": null,
      "outputs": [
        {
          "output_type": "execute_result",
          "data": {
            "text/html": [
              "<div>\n",
              "<style scoped>\n",
              "    .dataframe tbody tr th:only-of-type {\n",
              "        vertical-align: middle;\n",
              "    }\n",
              "\n",
              "    .dataframe tbody tr th {\n",
              "        vertical-align: top;\n",
              "    }\n",
              "\n",
              "    .dataframe thead th {\n",
              "        text-align: right;\n",
              "    }\n",
              "</style>\n",
              "<table border=\"1\" class=\"dataframe\">\n",
              "  <thead>\n",
              "    <tr style=\"text-align: right;\">\n",
              "      <th></th>\n",
              "      <th>children</th>\n",
              "      <th>days_employed</th>\n",
              "      <th>dob_years</th>\n",
              "      <th>education</th>\n",
              "      <th>education_id</th>\n",
              "      <th>family_status</th>\n",
              "      <th>family_status_id</th>\n",
              "      <th>gender</th>\n",
              "      <th>income_type</th>\n",
              "      <th>debt</th>\n",
              "      <th>total_income</th>\n",
              "      <th>purpose</th>\n",
              "      <th>age_group</th>\n",
              "      <th>purpose_categories</th>\n",
              "    </tr>\n",
              "  </thead>\n",
              "  <tbody>\n",
              "    <tr>\n",
              "      <td>0</td>\n",
              "      <td>1</td>\n",
              "      <td>23</td>\n",
              "      <td>42</td>\n",
              "      <td>высшее</td>\n",
              "      <td>0</td>\n",
              "      <td>женат / замужем</td>\n",
              "      <td>0</td>\n",
              "      <td>F</td>\n",
              "      <td>сотрудник</td>\n",
              "      <td>0</td>\n",
              "      <td>253875</td>\n",
              "      <td>покупка жилья</td>\n",
              "      <td>зрелый</td>\n",
              "      <td>жилье</td>\n",
              "    </tr>\n",
              "    <tr>\n",
              "      <td>1</td>\n",
              "      <td>1</td>\n",
              "      <td>11</td>\n",
              "      <td>36</td>\n",
              "      <td>среднее</td>\n",
              "      <td>1</td>\n",
              "      <td>женат / замужем</td>\n",
              "      <td>0</td>\n",
              "      <td>F</td>\n",
              "      <td>сотрудник</td>\n",
              "      <td>0</td>\n",
              "      <td>112080</td>\n",
              "      <td>приобретение автомобиля</td>\n",
              "      <td>зрелый</td>\n",
              "      <td>автомобиль</td>\n",
              "    </tr>\n",
              "    <tr>\n",
              "      <td>2</td>\n",
              "      <td>0</td>\n",
              "      <td>15</td>\n",
              "      <td>33</td>\n",
              "      <td>среднее</td>\n",
              "      <td>1</td>\n",
              "      <td>женат / замужем</td>\n",
              "      <td>0</td>\n",
              "      <td>M</td>\n",
              "      <td>сотрудник</td>\n",
              "      <td>0</td>\n",
              "      <td>145885</td>\n",
              "      <td>покупка жилья</td>\n",
              "      <td>зрелый</td>\n",
              "      <td>жилье</td>\n",
              "    </tr>\n",
              "    <tr>\n",
              "      <td>3</td>\n",
              "      <td>3</td>\n",
              "      <td>11</td>\n",
              "      <td>32</td>\n",
              "      <td>среднее</td>\n",
              "      <td>1</td>\n",
              "      <td>женат / замужем</td>\n",
              "      <td>0</td>\n",
              "      <td>M</td>\n",
              "      <td>сотрудник</td>\n",
              "      <td>0</td>\n",
              "      <td>267628</td>\n",
              "      <td>дополнительное образование</td>\n",
              "      <td>зрелый</td>\n",
              "      <td>образование</td>\n",
              "    </tr>\n",
              "    <tr>\n",
              "      <td>4</td>\n",
              "      <td>0</td>\n",
              "      <td>932</td>\n",
              "      <td>53</td>\n",
              "      <td>среднее</td>\n",
              "      <td>1</td>\n",
              "      <td>гражданский брак</td>\n",
              "      <td>1</td>\n",
              "      <td>F</td>\n",
              "      <td>пенсионер</td>\n",
              "      <td>0</td>\n",
              "      <td>158616</td>\n",
              "      <td>сыграть свадьбу</td>\n",
              "      <td>взрослый</td>\n",
              "      <td>свадьба</td>\n",
              "    </tr>\n",
              "  </tbody>\n",
              "</table>\n",
              "</div>"
            ],
            "text/plain": [
              "   children  days_employed  dob_years education  education_id  \\\n",
              "0         1             23         42    высшее             0   \n",
              "1         1             11         36   среднее             1   \n",
              "2         0             15         33   среднее             1   \n",
              "3         3             11         32   среднее             1   \n",
              "4         0            932         53   среднее             1   \n",
              "\n",
              "      family_status  family_status_id gender income_type  debt  total_income  \\\n",
              "0   женат / замужем                 0      F   сотрудник     0        253875   \n",
              "1   женат / замужем                 0      F   сотрудник     0        112080   \n",
              "2   женат / замужем                 0      M   сотрудник     0        145885   \n",
              "3   женат / замужем                 0      M   сотрудник     0        267628   \n",
              "4  гражданский брак                 1      F   пенсионер     0        158616   \n",
              "\n",
              "                      purpose age_group purpose_categories  \n",
              "0               покупка жилья    зрелый              жилье  \n",
              "1     приобретение автомобиля    зрелый         автомобиль  \n",
              "2               покупка жилья    зрелый              жилье  \n",
              "3  дополнительное образование    зрелый        образование  \n",
              "4             сыграть свадьбу  взрослый            свадьба  "
            ]
          },
          "metadata": {
            "tags": []
          },
          "execution_count": 36
        }
      ]
    },
    {
      "cell_type": "code",
      "metadata": {
        "id": "KBwwW81ZjTFu",
        "outputId": "15f33f2e-c1ec-4902-d03d-f41509061336"
      },
      "source": [
        "#Посмотрим для каких целей чаще всего берут кредит.\n",
        "\n",
        "data['purpose_categories'].value_counts()"
      ],
      "execution_count": null,
      "outputs": [
        {
          "output_type": "execute_result",
          "data": {
            "text/plain": [
              "недвижимость    6351\n",
              "жилье           4460\n",
              "автомобиль      4306\n",
              "образование     4013\n",
              "свадьба         2324\n",
              "Name: purpose_categories, dtype: int64"
            ]
          },
          "metadata": {
            "tags": []
          },
          "execution_count": 37
        }
      ]
    },
    {
      "cell_type": "code",
      "metadata": {
        "id": "hpBerVQAjTF5"
      },
      "source": [
        "#Объединим категории 'недвижимость' и 'жилье'.\n",
        "\n",
        "data.loc[data['purpose_categories'] == 'жилье', 'purpose_categories'] = 'недвижимость'"
      ],
      "execution_count": null,
      "outputs": []
    },
    {
      "cell_type": "code",
      "metadata": {
        "id": "k9BhZGp5jTGB",
        "outputId": "987efdea-34ac-4409-de2c-ca4e8b2d97c7"
      },
      "source": [
        "data['purpose_categories'].value_counts()"
      ],
      "execution_count": null,
      "outputs": [
        {
          "output_type": "execute_result",
          "data": {
            "text/plain": [
              "недвижимость    10811\n",
              "автомобиль       4306\n",
              "образование      4013\n",
              "свадьба          2324\n",
              "Name: purpose_categories, dtype: int64"
            ]
          },
          "metadata": {
            "tags": []
          },
          "execution_count": 39
        }
      ]
    },
    {
      "cell_type": "markdown",
      "metadata": {
        "id": "WFMtKqnCjTGQ"
      },
      "source": [
        "### Вывод"
      ]
    },
    {
      "cell_type": "code",
      "metadata": {
        "id": "ROKPhpsnjTGR",
        "outputId": "68417b58-2c04-4708-bff0-40310ce14000"
      },
      "source": [
        "data['purpose_categories'].value_counts(normalize = True)"
      ],
      "execution_count": null,
      "outputs": [
        {
          "output_type": "execute_result",
          "data": {
            "text/plain": [
              "недвижимость    0.503915\n",
              "автомобиль      0.200708\n",
              "образование     0.187051\n",
              "свадьба         0.108325\n",
              "Name: purpose_categories, dtype: float64"
            ]
          },
          "metadata": {
            "tags": []
          },
          "execution_count": 40
        }
      ]
    },
    {
      "cell_type": "markdown",
      "metadata": {
        "id": "UsMgs-fSjTGX"
      },
      "source": [
        "Для упрощения дальнейшего анализа данных мы выделили основные ключевые слова во всех вариантах написания целей и на их основании создали словарь категорий: свадьба, жилье, автомобиль, образование, недвижимость. С помощью функции лематизации создали столбец, где вместо свободного написания цели кредита записана определнная категория.\n",
        "После такого преобразования данные легко категоризировать и анализировать для каких целей чаще всего берут кредиты, в нашем случае самой популярной целью взятия кредита (50%) является - недвижимость."
      ]
    },
    {
      "cell_type": "markdown",
      "metadata": {
        "id": "qCzFb-L1jTGZ"
      },
      "source": [
        "### Категоризация данных"
      ]
    },
    {
      "cell_type": "markdown",
      "metadata": {
        "id": "R-j6XWdJjTGa"
      },
      "source": [
        "**Ранее мы уже категоризировали возраст заемщиков и цели кредита.**"
      ]
    },
    {
      "cell_type": "code",
      "metadata": {
        "id": "S5hA_FcNjTGd",
        "outputId": "0f5a1fb7-e878-4a97-c86a-e10598bb5395"
      },
      "source": [
        "data['age_group'].value_counts(normalize = True).round(2)"
      ],
      "execution_count": null,
      "outputs": [
        {
          "output_type": "execute_result",
          "data": {
            "text/plain": [
              "зрелый      0.40\n",
              "взрослый    0.25\n",
              "пожилой     0.22\n",
              "молодой     0.12\n",
              "Name: age_group, dtype: float64"
            ]
          },
          "metadata": {
            "tags": []
          },
          "execution_count": 41
        }
      ]
    },
    {
      "cell_type": "code",
      "metadata": {
        "id": "qg8LWbuMjTGk",
        "outputId": "eac5d414-dddb-4132-c504-19907ff00c3b"
      },
      "source": [
        "data['purpose_categories'].value_counts(normalize = True).round(2)"
      ],
      "execution_count": null,
      "outputs": [
        {
          "output_type": "execute_result",
          "data": {
            "text/plain": [
              "недвижимость    0.50\n",
              "автомобиль      0.20\n",
              "образование     0.19\n",
              "свадьба         0.11\n",
              "Name: purpose_categories, dtype: float64"
            ]
          },
          "metadata": {
            "tags": []
          },
          "execution_count": 42
        }
      ]
    },
    {
      "cell_type": "markdown",
      "metadata": {
        "id": "_-LeuU9pjTGs"
      },
      "source": [
        "**Категоризируем заемщиков по количеству детей:**"
      ]
    },
    {
      "cell_type": "code",
      "metadata": {
        "id": "M3P11bE6jTGv"
      },
      "source": [
        "#Заменим значение -1 на 1\n",
        "\n",
        "data.loc[data['children'] == -1 , 'children'] = 1"
      ],
      "execution_count": null,
      "outputs": []
    },
    {
      "cell_type": "code",
      "metadata": {
        "id": "JZ0VGyjSjTG1"
      },
      "source": [
        "#Заменим значение 20 на 2\n",
        "\n",
        "data.loc[data['children'] == 20, 'children'] = 2"
      ],
      "execution_count": null,
      "outputs": []
    },
    {
      "cell_type": "code",
      "metadata": {
        "scrolled": true,
        "id": "FPhvOSvJjTG8",
        "outputId": "c4113ccf-d220-4e7d-a1a3-3432c948cc7f"
      },
      "source": [
        "#Присвоим заемщикам у которых нет детей группу 0.\n",
        "#Заемщикам у которых есть дети группу 1.\n",
        "\n",
        "\n",
        "def children_group(children):\n",
        "    if children > 0:\n",
        "        return 'с детьми'\n",
        "    else:\n",
        "        return 'без детей'\n",
        "\n",
        "data['children_group'] = data['children'].apply(children_group)\n",
        "data.head()"
      ],
      "execution_count": null,
      "outputs": [
        {
          "output_type": "execute_result",
          "data": {
            "text/html": [
              "<div>\n",
              "<style scoped>\n",
              "    .dataframe tbody tr th:only-of-type {\n",
              "        vertical-align: middle;\n",
              "    }\n",
              "\n",
              "    .dataframe tbody tr th {\n",
              "        vertical-align: top;\n",
              "    }\n",
              "\n",
              "    .dataframe thead th {\n",
              "        text-align: right;\n",
              "    }\n",
              "</style>\n",
              "<table border=\"1\" class=\"dataframe\">\n",
              "  <thead>\n",
              "    <tr style=\"text-align: right;\">\n",
              "      <th></th>\n",
              "      <th>children</th>\n",
              "      <th>days_employed</th>\n",
              "      <th>dob_years</th>\n",
              "      <th>education</th>\n",
              "      <th>education_id</th>\n",
              "      <th>family_status</th>\n",
              "      <th>family_status_id</th>\n",
              "      <th>gender</th>\n",
              "      <th>income_type</th>\n",
              "      <th>debt</th>\n",
              "      <th>total_income</th>\n",
              "      <th>purpose</th>\n",
              "      <th>age_group</th>\n",
              "      <th>purpose_categories</th>\n",
              "      <th>children_group</th>\n",
              "    </tr>\n",
              "  </thead>\n",
              "  <tbody>\n",
              "    <tr>\n",
              "      <td>0</td>\n",
              "      <td>1</td>\n",
              "      <td>23</td>\n",
              "      <td>42</td>\n",
              "      <td>высшее</td>\n",
              "      <td>0</td>\n",
              "      <td>женат / замужем</td>\n",
              "      <td>0</td>\n",
              "      <td>F</td>\n",
              "      <td>сотрудник</td>\n",
              "      <td>0</td>\n",
              "      <td>253875</td>\n",
              "      <td>покупка жилья</td>\n",
              "      <td>зрелый</td>\n",
              "      <td>недвижимость</td>\n",
              "      <td>с детьми</td>\n",
              "    </tr>\n",
              "    <tr>\n",
              "      <td>1</td>\n",
              "      <td>1</td>\n",
              "      <td>11</td>\n",
              "      <td>36</td>\n",
              "      <td>среднее</td>\n",
              "      <td>1</td>\n",
              "      <td>женат / замужем</td>\n",
              "      <td>0</td>\n",
              "      <td>F</td>\n",
              "      <td>сотрудник</td>\n",
              "      <td>0</td>\n",
              "      <td>112080</td>\n",
              "      <td>приобретение автомобиля</td>\n",
              "      <td>зрелый</td>\n",
              "      <td>автомобиль</td>\n",
              "      <td>с детьми</td>\n",
              "    </tr>\n",
              "    <tr>\n",
              "      <td>2</td>\n",
              "      <td>0</td>\n",
              "      <td>15</td>\n",
              "      <td>33</td>\n",
              "      <td>среднее</td>\n",
              "      <td>1</td>\n",
              "      <td>женат / замужем</td>\n",
              "      <td>0</td>\n",
              "      <td>M</td>\n",
              "      <td>сотрудник</td>\n",
              "      <td>0</td>\n",
              "      <td>145885</td>\n",
              "      <td>покупка жилья</td>\n",
              "      <td>зрелый</td>\n",
              "      <td>недвижимость</td>\n",
              "      <td>без детей</td>\n",
              "    </tr>\n",
              "    <tr>\n",
              "      <td>3</td>\n",
              "      <td>3</td>\n",
              "      <td>11</td>\n",
              "      <td>32</td>\n",
              "      <td>среднее</td>\n",
              "      <td>1</td>\n",
              "      <td>женат / замужем</td>\n",
              "      <td>0</td>\n",
              "      <td>M</td>\n",
              "      <td>сотрудник</td>\n",
              "      <td>0</td>\n",
              "      <td>267628</td>\n",
              "      <td>дополнительное образование</td>\n",
              "      <td>зрелый</td>\n",
              "      <td>образование</td>\n",
              "      <td>с детьми</td>\n",
              "    </tr>\n",
              "    <tr>\n",
              "      <td>4</td>\n",
              "      <td>0</td>\n",
              "      <td>932</td>\n",
              "      <td>53</td>\n",
              "      <td>среднее</td>\n",
              "      <td>1</td>\n",
              "      <td>гражданский брак</td>\n",
              "      <td>1</td>\n",
              "      <td>F</td>\n",
              "      <td>пенсионер</td>\n",
              "      <td>0</td>\n",
              "      <td>158616</td>\n",
              "      <td>сыграть свадьбу</td>\n",
              "      <td>взрослый</td>\n",
              "      <td>свадьба</td>\n",
              "      <td>без детей</td>\n",
              "    </tr>\n",
              "  </tbody>\n",
              "</table>\n",
              "</div>"
            ],
            "text/plain": [
              "   children  days_employed  dob_years education  education_id  \\\n",
              "0         1             23         42    высшее             0   \n",
              "1         1             11         36   среднее             1   \n",
              "2         0             15         33   среднее             1   \n",
              "3         3             11         32   среднее             1   \n",
              "4         0            932         53   среднее             1   \n",
              "\n",
              "      family_status  family_status_id gender income_type  debt  total_income  \\\n",
              "0   женат / замужем                 0      F   сотрудник     0        253875   \n",
              "1   женат / замужем                 0      F   сотрудник     0        112080   \n",
              "2   женат / замужем                 0      M   сотрудник     0        145885   \n",
              "3   женат / замужем                 0      M   сотрудник     0        267628   \n",
              "4  гражданский брак                 1      F   пенсионер     0        158616   \n",
              "\n",
              "                      purpose age_group purpose_categories children_group  \n",
              "0               покупка жилья    зрелый       недвижимость       с детьми  \n",
              "1     приобретение автомобиля    зрелый         автомобиль       с детьми  \n",
              "2               покупка жилья    зрелый       недвижимость      без детей  \n",
              "3  дополнительное образование    зрелый        образование       с детьми  \n",
              "4             сыграть свадьбу  взрослый            свадьба      без детей  "
            ]
          },
          "metadata": {
            "tags": []
          },
          "execution_count": 45
        }
      ]
    },
    {
      "cell_type": "code",
      "metadata": {
        "id": "JZjDidMrjTHH",
        "outputId": "ba600b84-7f5f-43b7-ce65-54ae9a1c1829"
      },
      "source": [
        "data['children_group'].value_counts(normalize = True).round(2)"
      ],
      "execution_count": null,
      "outputs": [
        {
          "output_type": "execute_result",
          "data": {
            "text/plain": [
              "без детей    0.66\n",
              "с детьми     0.34\n",
              "Name: children_group, dtype: float64"
            ]
          },
          "metadata": {
            "tags": []
          },
          "execution_count": 46
        }
      ]
    },
    {
      "cell_type": "markdown",
      "metadata": {
        "id": "Bzi7AcHJjTHc"
      },
      "source": [
        "**Осталось категоризировать доход.**"
      ]
    },
    {
      "cell_type": "code",
      "metadata": {
        "id": "Fr2tqmEsjTHi",
        "outputId": "5272a226-99f1-4e2a-c1d3-088b70a25d75"
      },
      "source": [
        "statistics = data['total_income'].describe()\n",
        "statistics[3:9]"
      ],
      "execution_count": null,
      "outputs": [
        {
          "output_type": "execute_result",
          "data": {
            "text/plain": [
              "min      20667.00\n",
              "25%     107623.00\n",
              "50%     142594.00\n",
              "75%     195820.25\n",
              "max    2265604.00\n",
              "Name: total_income, dtype: float64"
            ]
          },
          "metadata": {
            "tags": []
          },
          "execution_count": 47
        }
      ]
    },
    {
      "cell_type": "code",
      "metadata": {
        "id": "C0dGsEXIjTHs",
        "outputId": "f6eea323-ebae-4323-b84e-872f7ccd48a3"
      },
      "source": [
        "low_income = data['total_income'].quantile(0.25)\n",
        "low_income"
      ],
      "execution_count": null,
      "outputs": [
        {
          "output_type": "execute_result",
          "data": {
            "text/plain": [
              "107623.0"
            ]
          },
          "metadata": {
            "tags": []
          },
          "execution_count": 48
        }
      ]
    },
    {
      "cell_type": "code",
      "metadata": {
        "id": "tbHP0PMmjTH1",
        "outputId": "405e33f9-9477-4ada-bb4d-4a23b2b415ca"
      },
      "source": [
        "average_income = data['total_income'].quantile(0.5)\n",
        "average_income"
      ],
      "execution_count": null,
      "outputs": [
        {
          "output_type": "execute_result",
          "data": {
            "text/plain": [
              "142594.0"
            ]
          },
          "metadata": {
            "tags": []
          },
          "execution_count": 49
        }
      ]
    },
    {
      "cell_type": "code",
      "metadata": {
        "id": "B9N7MABNjTH_",
        "outputId": "3797ed4c-48be-4a86-bd02-61468186aa1d"
      },
      "source": [
        "hight_income = data['total_income'].quantile(0.75)     \n",
        "hight_income"
      ],
      "execution_count": null,
      "outputs": [
        {
          "output_type": "execute_result",
          "data": {
            "text/plain": [
              "195820.25"
            ]
          },
          "metadata": {
            "tags": []
          },
          "execution_count": 50
        }
      ]
    },
    {
      "cell_type": "code",
      "metadata": {
        "id": "F0Y3i4LMjTIG",
        "outputId": "22d63f46-2851-4847-ebd8-46ac25d6f880"
      },
      "source": [
        "def group_icome(income):\n",
        "    if income < low_income:\n",
        "        return 'низкий доход'\n",
        "    elif (income >=  low_income) and (income < average_income):\n",
        "        return 'средний доход'\n",
        "    elif (income >= average_income) and (income < hight_income):\n",
        "        return 'доход выше среднего'\n",
        "    else:\n",
        "        return 'высокий доход'\n",
        "    \n",
        "data['income_group'] = data['total_income'].apply(group_icome)        \n",
        "data.head()"
      ],
      "execution_count": null,
      "outputs": [
        {
          "output_type": "execute_result",
          "data": {
            "text/html": [
              "<div>\n",
              "<style scoped>\n",
              "    .dataframe tbody tr th:only-of-type {\n",
              "        vertical-align: middle;\n",
              "    }\n",
              "\n",
              "    .dataframe tbody tr th {\n",
              "        vertical-align: top;\n",
              "    }\n",
              "\n",
              "    .dataframe thead th {\n",
              "        text-align: right;\n",
              "    }\n",
              "</style>\n",
              "<table border=\"1\" class=\"dataframe\">\n",
              "  <thead>\n",
              "    <tr style=\"text-align: right;\">\n",
              "      <th></th>\n",
              "      <th>children</th>\n",
              "      <th>days_employed</th>\n",
              "      <th>dob_years</th>\n",
              "      <th>education</th>\n",
              "      <th>education_id</th>\n",
              "      <th>family_status</th>\n",
              "      <th>family_status_id</th>\n",
              "      <th>gender</th>\n",
              "      <th>income_type</th>\n",
              "      <th>debt</th>\n",
              "      <th>total_income</th>\n",
              "      <th>purpose</th>\n",
              "      <th>age_group</th>\n",
              "      <th>purpose_categories</th>\n",
              "      <th>children_group</th>\n",
              "      <th>income_group</th>\n",
              "    </tr>\n",
              "  </thead>\n",
              "  <tbody>\n",
              "    <tr>\n",
              "      <td>0</td>\n",
              "      <td>1</td>\n",
              "      <td>23</td>\n",
              "      <td>42</td>\n",
              "      <td>высшее</td>\n",
              "      <td>0</td>\n",
              "      <td>женат / замужем</td>\n",
              "      <td>0</td>\n",
              "      <td>F</td>\n",
              "      <td>сотрудник</td>\n",
              "      <td>0</td>\n",
              "      <td>253875</td>\n",
              "      <td>покупка жилья</td>\n",
              "      <td>зрелый</td>\n",
              "      <td>недвижимость</td>\n",
              "      <td>с детьми</td>\n",
              "      <td>высокий доход</td>\n",
              "    </tr>\n",
              "    <tr>\n",
              "      <td>1</td>\n",
              "      <td>1</td>\n",
              "      <td>11</td>\n",
              "      <td>36</td>\n",
              "      <td>среднее</td>\n",
              "      <td>1</td>\n",
              "      <td>женат / замужем</td>\n",
              "      <td>0</td>\n",
              "      <td>F</td>\n",
              "      <td>сотрудник</td>\n",
              "      <td>0</td>\n",
              "      <td>112080</td>\n",
              "      <td>приобретение автомобиля</td>\n",
              "      <td>зрелый</td>\n",
              "      <td>автомобиль</td>\n",
              "      <td>с детьми</td>\n",
              "      <td>средний доход</td>\n",
              "    </tr>\n",
              "    <tr>\n",
              "      <td>2</td>\n",
              "      <td>0</td>\n",
              "      <td>15</td>\n",
              "      <td>33</td>\n",
              "      <td>среднее</td>\n",
              "      <td>1</td>\n",
              "      <td>женат / замужем</td>\n",
              "      <td>0</td>\n",
              "      <td>M</td>\n",
              "      <td>сотрудник</td>\n",
              "      <td>0</td>\n",
              "      <td>145885</td>\n",
              "      <td>покупка жилья</td>\n",
              "      <td>зрелый</td>\n",
              "      <td>недвижимость</td>\n",
              "      <td>без детей</td>\n",
              "      <td>доход выше среднего</td>\n",
              "    </tr>\n",
              "    <tr>\n",
              "      <td>3</td>\n",
              "      <td>3</td>\n",
              "      <td>11</td>\n",
              "      <td>32</td>\n",
              "      <td>среднее</td>\n",
              "      <td>1</td>\n",
              "      <td>женат / замужем</td>\n",
              "      <td>0</td>\n",
              "      <td>M</td>\n",
              "      <td>сотрудник</td>\n",
              "      <td>0</td>\n",
              "      <td>267628</td>\n",
              "      <td>дополнительное образование</td>\n",
              "      <td>зрелый</td>\n",
              "      <td>образование</td>\n",
              "      <td>с детьми</td>\n",
              "      <td>высокий доход</td>\n",
              "    </tr>\n",
              "    <tr>\n",
              "      <td>4</td>\n",
              "      <td>0</td>\n",
              "      <td>932</td>\n",
              "      <td>53</td>\n",
              "      <td>среднее</td>\n",
              "      <td>1</td>\n",
              "      <td>гражданский брак</td>\n",
              "      <td>1</td>\n",
              "      <td>F</td>\n",
              "      <td>пенсионер</td>\n",
              "      <td>0</td>\n",
              "      <td>158616</td>\n",
              "      <td>сыграть свадьбу</td>\n",
              "      <td>взрослый</td>\n",
              "      <td>свадьба</td>\n",
              "      <td>без детей</td>\n",
              "      <td>доход выше среднего</td>\n",
              "    </tr>\n",
              "  </tbody>\n",
              "</table>\n",
              "</div>"
            ],
            "text/plain": [
              "   children  days_employed  dob_years education  education_id  \\\n",
              "0         1             23         42    высшее             0   \n",
              "1         1             11         36   среднее             1   \n",
              "2         0             15         33   среднее             1   \n",
              "3         3             11         32   среднее             1   \n",
              "4         0            932         53   среднее             1   \n",
              "\n",
              "      family_status  family_status_id gender income_type  debt  total_income  \\\n",
              "0   женат / замужем                 0      F   сотрудник     0        253875   \n",
              "1   женат / замужем                 0      F   сотрудник     0        112080   \n",
              "2   женат / замужем                 0      M   сотрудник     0        145885   \n",
              "3   женат / замужем                 0      M   сотрудник     0        267628   \n",
              "4  гражданский брак                 1      F   пенсионер     0        158616   \n",
              "\n",
              "                      purpose age_group purpose_categories children_group  \\\n",
              "0               покупка жилья    зрелый       недвижимость       с детьми   \n",
              "1     приобретение автомобиля    зрелый         автомобиль       с детьми   \n",
              "2               покупка жилья    зрелый       недвижимость      без детей   \n",
              "3  дополнительное образование    зрелый        образование       с детьми   \n",
              "4             сыграть свадьбу  взрослый            свадьба      без детей   \n",
              "\n",
              "          income_group  \n",
              "0        высокий доход  \n",
              "1        средний доход  \n",
              "2  доход выше среднего  \n",
              "3        высокий доход  \n",
              "4  доход выше среднего  "
            ]
          },
          "metadata": {
            "tags": []
          },
          "execution_count": 51
        }
      ]
    },
    {
      "cell_type": "code",
      "metadata": {
        "scrolled": true,
        "id": "PwTh0MnSjTIP",
        "outputId": "95c662f6-1338-499c-a75f-e06d2ec3a245"
      },
      "source": [
        "data['income_group'].value_counts(normalize = True).round(2)"
      ],
      "execution_count": null,
      "outputs": [
        {
          "output_type": "execute_result",
          "data": {
            "text/plain": [
              "доход выше среднего    0.29\n",
              "низкий доход           0.25\n",
              "высокий доход          0.25\n",
              "средний доход          0.21\n",
              "Name: income_group, dtype: float64"
            ]
          },
          "metadata": {
            "tags": []
          },
          "execution_count": 52
        }
      ]
    },
    {
      "cell_type": "markdown",
      "metadata": {
        "id": "xkUZ-MyAjTIW"
      },
      "source": [
        "### Вывод"
      ]
    },
    {
      "cell_type": "markdown",
      "metadata": {
        "id": "KK81ZN_wjTIX"
      },
      "source": [
        "* Категоризация возраста заемщиков происходила делением на четыре основные группы: ***молодые(от 18 до 28), зрелые(от 29 до 43), взрослые(от 44 до 54), пожилые(55+)***, при помощи функции age_group, которая была описана при обработке пропусков в столбце 'days_employed'.\n",
        "*Доля взрослых составила 50%, доля молодых и пожилых по 25%.*  \n",
        "\n",
        "\n",
        "* При категоризация целей кредита были изучены все варианты их написания и выделены 5 основных категорий: ***свадьба***, ***жилье***, ***автомобиль***, ***образование***, ***недвижимость***. При помощи фукции lemmatize, которая выделяет леммы в свободном варианте написания цели и присваивает ей определнную категорию, всем вариантам написания целей была присвоена категория цели займа. После чего, для удобства, категория \"жилье\" переименова в категорию \"недвижимость\", так как они по сути являются одинаковыми.\n",
        "*Доля кредитов на недвижимость составила 50%, на автомобиль 20%, на образование и свадьбу 19% и 11% соотвествено.*  \n",
        "\n",
        "\n",
        "* При категоризации заемщиков по количеству детей выделили две группы: ***0 - без детей***, ***1 - есть дети***.\n",
        "*Доля заемщиков без детей составила 66%, c детьми 34%*  \n",
        "\n",
        "\n",
        "* При категоризации дохода с помощью квантилей были выделены 4 основные группы: ***низкий доход*** < 107623, ***средний доход*** от 107623  до 142594, ***доход выше среднего***  от 142594 до 195820.25 и ***высокий доход*** > 195820.25. \n",
        "*Доля дохода выше среднего составила 29%, нижзкий и высокий доход 25%, доля среднего дохода составила 21%.*"
      ]
    },
    {
      "cell_type": "markdown",
      "metadata": {
        "id": "W1WuibaHjTIZ"
      },
      "source": [
        "### Шаг 3. Ответьте на вопросы"
      ]
    },
    {
      "cell_type": "markdown",
      "metadata": {
        "id": "YXLsiE8LjTIb"
      },
      "source": [
        "- Есть ли зависимость между наличием детей и возвратом кредита в срок?"
      ]
    },
    {
      "cell_type": "code",
      "metadata": {
        "scrolled": true,
        "id": "nijtDMJEjTIc",
        "outputId": "3d25dc5c-9d7d-4562-80cb-c742ce8eaa5b"
      },
      "source": [
        "#Сформируем сводную таблицу с наличием детей и задолженностью по кредиту.\n",
        "\n",
        "data_pivot = data.pivot_table(index = ['children_group'], values = 'debt', aggfunc= ['count','sum','mean'] ).round(3)\n",
        "data_pivot"
      ],
      "execution_count": null,
      "outputs": [
        {
          "output_type": "execute_result",
          "data": {
            "text/html": [
              "<div>\n",
              "<style scoped>\n",
              "    .dataframe tbody tr th:only-of-type {\n",
              "        vertical-align: middle;\n",
              "    }\n",
              "\n",
              "    .dataframe tbody tr th {\n",
              "        vertical-align: top;\n",
              "    }\n",
              "\n",
              "    .dataframe thead tr th {\n",
              "        text-align: left;\n",
              "    }\n",
              "\n",
              "    .dataframe thead tr:last-of-type th {\n",
              "        text-align: right;\n",
              "    }\n",
              "</style>\n",
              "<table border=\"1\" class=\"dataframe\">\n",
              "  <thead>\n",
              "    <tr>\n",
              "      <th></th>\n",
              "      <th>count</th>\n",
              "      <th>sum</th>\n",
              "      <th>mean</th>\n",
              "    </tr>\n",
              "    <tr>\n",
              "      <th></th>\n",
              "      <th>debt</th>\n",
              "      <th>debt</th>\n",
              "      <th>debt</th>\n",
              "    </tr>\n",
              "    <tr>\n",
              "      <th>children_group</th>\n",
              "      <th></th>\n",
              "      <th></th>\n",
              "      <th></th>\n",
              "    </tr>\n",
              "  </thead>\n",
              "  <tbody>\n",
              "    <tr>\n",
              "      <td>без детей</td>\n",
              "      <td>14091</td>\n",
              "      <td>1063</td>\n",
              "      <td>0.075</td>\n",
              "    </tr>\n",
              "    <tr>\n",
              "      <td>с детьми</td>\n",
              "      <td>7363</td>\n",
              "      <td>678</td>\n",
              "      <td>0.092</td>\n",
              "    </tr>\n",
              "  </tbody>\n",
              "</table>\n",
              "</div>"
            ],
            "text/plain": [
              "                count   sum   mean\n",
              "                 debt  debt   debt\n",
              "children_group                    \n",
              "без детей       14091  1063  0.075\n",
              "с детьми         7363   678  0.092"
            ]
          },
          "metadata": {
            "tags": []
          },
          "execution_count": 53
        }
      ]
    },
    {
      "cell_type": "markdown",
      "metadata": {
        "id": "O0rcgQlhjTIh"
      },
      "source": [
        "### Вывод"
      ]
    },
    {
      "cell_type": "markdown",
      "metadata": {
        "id": "xkDDbzs8jTIi"
      },
      "source": [
        "Заемщики без детей в два раза чаще берут кредиты, при этом  заемщики с детьми выплачивают кредит вовремя на 1,7% реже заемщиков без детей. "
      ]
    },
    {
      "cell_type": "markdown",
      "metadata": {
        "id": "sKbhQagqjTIk"
      },
      "source": [
        "Возможно это связано с тем, что когда перед заемщиком стоит выбор между выплатой кредита и обеспечением необходимыми благами своего ребенка, он выбирает ребенка, тем самым просрачивая выплаты по кредиту."
      ]
    },
    {
      "cell_type": "markdown",
      "metadata": {
        "id": "n0KM9Fn4jTIo"
      },
      "source": [
        "- Есть ли зависимость между семейным положением и возвратом кредита в срок?"
      ]
    },
    {
      "cell_type": "code",
      "metadata": {
        "id": "p-uQw9HLjTIp",
        "outputId": "caaba01e-6385-4782-87fe-f8dc89f6b292"
      },
      "source": [
        "#Сформируем сводную таблицу с семейным положением и задолженностью по кредиту.\n",
        "\n",
        "data_pivot = data.pivot_table(index = ['family_status'], columns = 'debt', values = 'gender', aggfunc = 'count')\n",
        "data_pivot"
      ],
      "execution_count": null,
      "outputs": [
        {
          "output_type": "execute_result",
          "data": {
            "text/html": [
              "<div>\n",
              "<style scoped>\n",
              "    .dataframe tbody tr th:only-of-type {\n",
              "        vertical-align: middle;\n",
              "    }\n",
              "\n",
              "    .dataframe tbody tr th {\n",
              "        vertical-align: top;\n",
              "    }\n",
              "\n",
              "    .dataframe thead th {\n",
              "        text-align: right;\n",
              "    }\n",
              "</style>\n",
              "<table border=\"1\" class=\"dataframe\">\n",
              "  <thead>\n",
              "    <tr style=\"text-align: right;\">\n",
              "      <th>debt</th>\n",
              "      <th>0</th>\n",
              "      <th>1</th>\n",
              "    </tr>\n",
              "    <tr>\n",
              "      <th>family_status</th>\n",
              "      <th></th>\n",
              "      <th></th>\n",
              "    </tr>\n",
              "  </thead>\n",
              "  <tbody>\n",
              "    <tr>\n",
              "      <td>Не женат / не замужем</td>\n",
              "      <td>2536</td>\n",
              "      <td>274</td>\n",
              "    </tr>\n",
              "    <tr>\n",
              "      <td>в разводе</td>\n",
              "      <td>1110</td>\n",
              "      <td>85</td>\n",
              "    </tr>\n",
              "    <tr>\n",
              "      <td>вдовец / вдова</td>\n",
              "      <td>896</td>\n",
              "      <td>63</td>\n",
              "    </tr>\n",
              "    <tr>\n",
              "      <td>гражданский брак</td>\n",
              "      <td>3763</td>\n",
              "      <td>388</td>\n",
              "    </tr>\n",
              "    <tr>\n",
              "      <td>женат / замужем</td>\n",
              "      <td>11408</td>\n",
              "      <td>931</td>\n",
              "    </tr>\n",
              "  </tbody>\n",
              "</table>\n",
              "</div>"
            ],
            "text/plain": [
              "debt                       0    1\n",
              "family_status                    \n",
              "Не женат / не замужем   2536  274\n",
              "в разводе               1110   85\n",
              "вдовец / вдова           896   63\n",
              "гражданский брак        3763  388\n",
              "женат / замужем        11408  931"
            ]
          },
          "metadata": {
            "tags": []
          },
          "execution_count": 54
        }
      ]
    },
    {
      "cell_type": "code",
      "metadata": {
        "id": "uY13YDqUjTIv",
        "outputId": "f0a1d4b1-5a37-46fe-bf69-a7240a44ce48"
      },
      "source": [
        "#Посчитаем вероятность задолженности для каждого вида семейного положения.\n",
        "\n",
        "data_pivot['ratio'] = data_pivot[1] / (data_pivot[0] + data_pivot[1])\n",
        "data_pivot.sort_values('ratio', ascending = False)"
      ],
      "execution_count": null,
      "outputs": [
        {
          "output_type": "execute_result",
          "data": {
            "text/html": [
              "<div>\n",
              "<style scoped>\n",
              "    .dataframe tbody tr th:only-of-type {\n",
              "        vertical-align: middle;\n",
              "    }\n",
              "\n",
              "    .dataframe tbody tr th {\n",
              "        vertical-align: top;\n",
              "    }\n",
              "\n",
              "    .dataframe thead th {\n",
              "        text-align: right;\n",
              "    }\n",
              "</style>\n",
              "<table border=\"1\" class=\"dataframe\">\n",
              "  <thead>\n",
              "    <tr style=\"text-align: right;\">\n",
              "      <th>debt</th>\n",
              "      <th>0</th>\n",
              "      <th>1</th>\n",
              "      <th>ratio</th>\n",
              "    </tr>\n",
              "    <tr>\n",
              "      <th>family_status</th>\n",
              "      <th></th>\n",
              "      <th></th>\n",
              "      <th></th>\n",
              "    </tr>\n",
              "  </thead>\n",
              "  <tbody>\n",
              "    <tr>\n",
              "      <td>Не женат / не замужем</td>\n",
              "      <td>2536</td>\n",
              "      <td>274</td>\n",
              "      <td>0.097509</td>\n",
              "    </tr>\n",
              "    <tr>\n",
              "      <td>гражданский брак</td>\n",
              "      <td>3763</td>\n",
              "      <td>388</td>\n",
              "      <td>0.093471</td>\n",
              "    </tr>\n",
              "    <tr>\n",
              "      <td>женат / замужем</td>\n",
              "      <td>11408</td>\n",
              "      <td>931</td>\n",
              "      <td>0.075452</td>\n",
              "    </tr>\n",
              "    <tr>\n",
              "      <td>в разводе</td>\n",
              "      <td>1110</td>\n",
              "      <td>85</td>\n",
              "      <td>0.071130</td>\n",
              "    </tr>\n",
              "    <tr>\n",
              "      <td>вдовец / вдова</td>\n",
              "      <td>896</td>\n",
              "      <td>63</td>\n",
              "      <td>0.065693</td>\n",
              "    </tr>\n",
              "  </tbody>\n",
              "</table>\n",
              "</div>"
            ],
            "text/plain": [
              "debt                       0    1     ratio\n",
              "family_status                              \n",
              "Не женат / не замужем   2536  274  0.097509\n",
              "гражданский брак        3763  388  0.093471\n",
              "женат / замужем        11408  931  0.075452\n",
              "в разводе               1110   85  0.071130\n",
              "вдовец / вдова           896   63  0.065693"
            ]
          },
          "metadata": {
            "tags": []
          },
          "execution_count": 55
        }
      ]
    },
    {
      "cell_type": "markdown",
      "metadata": {
        "id": "c68OeiWLjTI2"
      },
      "source": [
        "### Вывод"
      ]
    },
    {
      "cell_type": "markdown",
      "metadata": {
        "id": "YJKMD0GgjTI3"
      },
      "source": [
        "Заемщики не состоящие в официально офорленных отношениях реже выплачивают кредит вовремя."
      ]
    },
    {
      "cell_type": "markdown",
      "metadata": {
        "id": "geZMViFYjTI5"
      },
      "source": [
        "Возможно это связано с тем, что находясь в браке ответсвенность за кредит чувсвуют оба супруга и выплачивают его вместе, тем самым повышая шанс своевременных выплат. Как оказалось, люди в браке более надежные заемщики для банка."
      ]
    },
    {
      "cell_type": "markdown",
      "metadata": {
        "id": "z3FOdASxjTI7"
      },
      "source": [
        "- Есть ли зависимость между уровнем дохода и возвратом кредита в срок?"
      ]
    },
    {
      "cell_type": "code",
      "metadata": {
        "id": "1Fwu0sCSjTI8",
        "outputId": "9bb08592-5184-4888-afe5-3b8cc7c92560"
      },
      "source": [
        "#Сформируем сводную таблицу с уровнем дохода и задолженностью по кредиту.\n",
        "\n",
        "data_pivot = data.pivot_table(index = ['income_group'], columns = 'debt', values = 'gender', aggfunc = 'count')\n",
        "data_pivot"
      ],
      "execution_count": null,
      "outputs": [
        {
          "output_type": "execute_result",
          "data": {
            "text/html": [
              "<div>\n",
              "<style scoped>\n",
              "    .dataframe tbody tr th:only-of-type {\n",
              "        vertical-align: middle;\n",
              "    }\n",
              "\n",
              "    .dataframe tbody tr th {\n",
              "        vertical-align: top;\n",
              "    }\n",
              "\n",
              "    .dataframe thead th {\n",
              "        text-align: right;\n",
              "    }\n",
              "</style>\n",
              "<table border=\"1\" class=\"dataframe\">\n",
              "  <thead>\n",
              "    <tr style=\"text-align: right;\">\n",
              "      <th>debt</th>\n",
              "      <th>0</th>\n",
              "      <th>1</th>\n",
              "    </tr>\n",
              "    <tr>\n",
              "      <th>income_group</th>\n",
              "      <th></th>\n",
              "      <th></th>\n",
              "    </tr>\n",
              "  </thead>\n",
              "  <tbody>\n",
              "    <tr>\n",
              "      <td>высокий доход</td>\n",
              "      <td>4981</td>\n",
              "      <td>383</td>\n",
              "    </tr>\n",
              "    <tr>\n",
              "      <td>доход выше среднего</td>\n",
              "      <td>5771</td>\n",
              "      <td>546</td>\n",
              "    </tr>\n",
              "    <tr>\n",
              "      <td>низкий доход</td>\n",
              "      <td>4937</td>\n",
              "      <td>427</td>\n",
              "    </tr>\n",
              "    <tr>\n",
              "      <td>средний доход</td>\n",
              "      <td>4024</td>\n",
              "      <td>385</td>\n",
              "    </tr>\n",
              "  </tbody>\n",
              "</table>\n",
              "</div>"
            ],
            "text/plain": [
              "debt                    0    1\n",
              "income_group                  \n",
              "высокий доход        4981  383\n",
              "доход выше среднего  5771  546\n",
              "низкий доход         4937  427\n",
              "средний доход        4024  385"
            ]
          },
          "metadata": {
            "tags": []
          },
          "execution_count": 56
        }
      ]
    },
    {
      "cell_type": "code",
      "metadata": {
        "id": "vpal9BG9jTJA",
        "outputId": "d0611f64-5b84-4526-bf0a-52ddc798079d"
      },
      "source": [
        "#Посчитаем вероятность задолженности для каждого вида семейного положения.\n",
        "\n",
        "data_pivot['ratio'] = data_pivot[1] / (data_pivot[0] + data_pivot[1])\n",
        "data_pivot.sort_values('ratio', ascending = False)"
      ],
      "execution_count": null,
      "outputs": [
        {
          "output_type": "execute_result",
          "data": {
            "text/html": [
              "<div>\n",
              "<style scoped>\n",
              "    .dataframe tbody tr th:only-of-type {\n",
              "        vertical-align: middle;\n",
              "    }\n",
              "\n",
              "    .dataframe tbody tr th {\n",
              "        vertical-align: top;\n",
              "    }\n",
              "\n",
              "    .dataframe thead th {\n",
              "        text-align: right;\n",
              "    }\n",
              "</style>\n",
              "<table border=\"1\" class=\"dataframe\">\n",
              "  <thead>\n",
              "    <tr style=\"text-align: right;\">\n",
              "      <th>debt</th>\n",
              "      <th>0</th>\n",
              "      <th>1</th>\n",
              "      <th>ratio</th>\n",
              "    </tr>\n",
              "    <tr>\n",
              "      <th>income_group</th>\n",
              "      <th></th>\n",
              "      <th></th>\n",
              "      <th></th>\n",
              "    </tr>\n",
              "  </thead>\n",
              "  <tbody>\n",
              "    <tr>\n",
              "      <td>средний доход</td>\n",
              "      <td>4024</td>\n",
              "      <td>385</td>\n",
              "      <td>0.087321</td>\n",
              "    </tr>\n",
              "    <tr>\n",
              "      <td>доход выше среднего</td>\n",
              "      <td>5771</td>\n",
              "      <td>546</td>\n",
              "      <td>0.086433</td>\n",
              "    </tr>\n",
              "    <tr>\n",
              "      <td>низкий доход</td>\n",
              "      <td>4937</td>\n",
              "      <td>427</td>\n",
              "      <td>0.079605</td>\n",
              "    </tr>\n",
              "    <tr>\n",
              "      <td>высокий доход</td>\n",
              "      <td>4981</td>\n",
              "      <td>383</td>\n",
              "      <td>0.071402</td>\n",
              "    </tr>\n",
              "  </tbody>\n",
              "</table>\n",
              "</div>"
            ],
            "text/plain": [
              "debt                    0    1     ratio\n",
              "income_group                            \n",
              "средний доход        4024  385  0.087321\n",
              "доход выше среднего  5771  546  0.086433\n",
              "низкий доход         4937  427  0.079605\n",
              "высокий доход        4981  383  0.071402"
            ]
          },
          "metadata": {
            "tags": []
          },
          "execution_count": 57
        }
      ]
    },
    {
      "cell_type": "markdown",
      "metadata": {
        "id": "m3XUC5ifjTJE"
      },
      "source": [
        "### Вывод"
      ]
    },
    {
      "cell_type": "markdown",
      "metadata": {
        "id": "oE_j8xPEjTJF"
      },
      "source": [
        "Неудивительно, что заемщики с высоким уровнем дохода (больше 195.820 тыс.руб.) чаще всего вовремя выплачивают кредит, вероятность того, что они просрочат выплаты состалвяет 7,1%.  \n",
        "Что странно заемщики с низким уровнем дохода (менее 107.623 тыс. руб.) просрочат выплаты в 7,9% случаев. Это меньше, чем заемщики со средним и выше среднего доходом (от 142.594 до 195.820 тыс.руб.). Они просрочат выплаты с вероятностью 8,6% и 8,7% соответсвенно.  "
      ]
    },
    {
      "cell_type": "markdown",
      "metadata": {
        "id": "-Z47RkeEjTJG"
      },
      "source": [
        "Возможно более высокая вероятность своевременной выплаты кредита у людей с низким доходом связана с тем, что у них лучше развито умение рапоряжаться деньгами. А у людей со средним и выше среднего доходом потребности больше, а умение правильно распоряжаться деньгами и планировать свои траты меньше."
      ]
    },
    {
      "cell_type": "markdown",
      "metadata": {
        "id": "XH3K6A7gjTJJ"
      },
      "source": [
        "- Как разные цели кредита влияют на его возврат в срок?"
      ]
    },
    {
      "cell_type": "code",
      "metadata": {
        "scrolled": true,
        "id": "5jVv87aCjTJK",
        "outputId": "c678eedf-deda-4dc7-fdfa-423621d1811e"
      },
      "source": [
        "#Сформируем сводную таблицу с целью кредита и задолженностью по кредиту.\n",
        "\n",
        "data_pivot = data.pivot_table(index = ['purpose_categories'], columns = 'debt', values = 'gender', aggfunc = 'count')\n",
        "data_pivot"
      ],
      "execution_count": null,
      "outputs": [
        {
          "output_type": "execute_result",
          "data": {
            "text/html": [
              "<div>\n",
              "<style scoped>\n",
              "    .dataframe tbody tr th:only-of-type {\n",
              "        vertical-align: middle;\n",
              "    }\n",
              "\n",
              "    .dataframe tbody tr th {\n",
              "        vertical-align: top;\n",
              "    }\n",
              "\n",
              "    .dataframe thead th {\n",
              "        text-align: right;\n",
              "    }\n",
              "</style>\n",
              "<table border=\"1\" class=\"dataframe\">\n",
              "  <thead>\n",
              "    <tr style=\"text-align: right;\">\n",
              "      <th>debt</th>\n",
              "      <th>0</th>\n",
              "      <th>1</th>\n",
              "    </tr>\n",
              "    <tr>\n",
              "      <th>purpose_categories</th>\n",
              "      <th></th>\n",
              "      <th></th>\n",
              "    </tr>\n",
              "  </thead>\n",
              "  <tbody>\n",
              "    <tr>\n",
              "      <td>автомобиль</td>\n",
              "      <td>3903</td>\n",
              "      <td>403</td>\n",
              "    </tr>\n",
              "    <tr>\n",
              "      <td>недвижимость</td>\n",
              "      <td>10029</td>\n",
              "      <td>782</td>\n",
              "    </tr>\n",
              "    <tr>\n",
              "      <td>образование</td>\n",
              "      <td>3643</td>\n",
              "      <td>370</td>\n",
              "    </tr>\n",
              "    <tr>\n",
              "      <td>свадьба</td>\n",
              "      <td>2138</td>\n",
              "      <td>186</td>\n",
              "    </tr>\n",
              "  </tbody>\n",
              "</table>\n",
              "</div>"
            ],
            "text/plain": [
              "debt                    0    1\n",
              "purpose_categories            \n",
              "автомобиль           3903  403\n",
              "недвижимость        10029  782\n",
              "образование          3643  370\n",
              "свадьба              2138  186"
            ]
          },
          "metadata": {
            "tags": []
          },
          "execution_count": 58
        }
      ]
    },
    {
      "cell_type": "code",
      "metadata": {
        "id": "tMUnFfTijTJO",
        "outputId": "51989cca-45d7-41be-ad6e-3b2590fc8284"
      },
      "source": [
        "#Посчитаем вероятность задолженности для каждого вида семейного положения.\n",
        "\n",
        "data_pivot['ratio'] = data_pivot[1] / (data_pivot[0] + data_pivot[1])\n",
        "data_pivot.sort_values('ratio', ascending = False)"
      ],
      "execution_count": null,
      "outputs": [
        {
          "output_type": "execute_result",
          "data": {
            "text/html": [
              "<div>\n",
              "<style scoped>\n",
              "    .dataframe tbody tr th:only-of-type {\n",
              "        vertical-align: middle;\n",
              "    }\n",
              "\n",
              "    .dataframe tbody tr th {\n",
              "        vertical-align: top;\n",
              "    }\n",
              "\n",
              "    .dataframe thead th {\n",
              "        text-align: right;\n",
              "    }\n",
              "</style>\n",
              "<table border=\"1\" class=\"dataframe\">\n",
              "  <thead>\n",
              "    <tr style=\"text-align: right;\">\n",
              "      <th>debt</th>\n",
              "      <th>0</th>\n",
              "      <th>1</th>\n",
              "      <th>ratio</th>\n",
              "    </tr>\n",
              "    <tr>\n",
              "      <th>purpose_categories</th>\n",
              "      <th></th>\n",
              "      <th></th>\n",
              "      <th></th>\n",
              "    </tr>\n",
              "  </thead>\n",
              "  <tbody>\n",
              "    <tr>\n",
              "      <td>автомобиль</td>\n",
              "      <td>3903</td>\n",
              "      <td>403</td>\n",
              "      <td>0.093590</td>\n",
              "    </tr>\n",
              "    <tr>\n",
              "      <td>образование</td>\n",
              "      <td>3643</td>\n",
              "      <td>370</td>\n",
              "      <td>0.092200</td>\n",
              "    </tr>\n",
              "    <tr>\n",
              "      <td>свадьба</td>\n",
              "      <td>2138</td>\n",
              "      <td>186</td>\n",
              "      <td>0.080034</td>\n",
              "    </tr>\n",
              "    <tr>\n",
              "      <td>недвижимость</td>\n",
              "      <td>10029</td>\n",
              "      <td>782</td>\n",
              "      <td>0.072334</td>\n",
              "    </tr>\n",
              "  </tbody>\n",
              "</table>\n",
              "</div>"
            ],
            "text/plain": [
              "debt                    0    1     ratio\n",
              "purpose_categories                      \n",
              "автомобиль           3903  403  0.093590\n",
              "образование          3643  370  0.092200\n",
              "свадьба              2138  186  0.080034\n",
              "недвижимость        10029  782  0.072334"
            ]
          },
          "metadata": {
            "tags": []
          },
          "execution_count": 59
        }
      ]
    },
    {
      "cell_type": "markdown",
      "metadata": {
        "id": "HUPN2Tu8jTJT"
      },
      "source": [
        "### Вывод"
      ]
    },
    {
      "cell_type": "markdown",
      "metadata": {
        "id": "fdKvOmXgjTJX"
      },
      "source": [
        "Заемщики берущие кредит на покупку автомобиля реже всего вовремя его выплачивают. А кредит взятый на недвижимость выплачивается лучше всего."
      ]
    },
    {
      "cell_type": "markdown",
      "metadata": {
        "id": "sVgTWOWUjTJY"
      },
      "source": [
        "Возможно это связано с тем, что покупа недвижимости является серьезнее, чем покупа автомобиля, поэтому к выплатам по такому кредиту подходят ответсвеннее. "
      ]
    },
    {
      "cell_type": "markdown",
      "metadata": {
        "id": "PHV18-BTjTJg"
      },
      "source": [
        "### Шаг 4. Общий вывод"
      ]
    },
    {
      "cell_type": "markdown",
      "metadata": {
        "id": "1RkexnCXjTJh"
      },
      "source": [
        "После исследования можно прийти к выводу, что наличие детей, семейное положение, уровень дохода и цель кредита влияют на его своевременное погашение следующи образом:\n",
        "\n",
        "* вероятност задолженности по кредиту **при наличии детей** = 7,5%;\n",
        "* вероятност задолженности по кредиту **без детей** = 9,2%;  \n",
        "\n",
        "\n",
        "* вероятност задолженности по кредиту с семейным положением **не женат / не замужем** = 9,7%;\n",
        "* вероятност задолженности по кредиту с семейным положением **гражданский брак** = 9,3%\n",
        "* вероятност задолженности по кредиту с семейным положением **женат / замужем** = 7,5%;\n",
        "* вероятност задолженности по кредиту с семейным положением **в разводе** =  7,1%;\n",
        "* вероятност задолженности по кредиту с семейным положением **вдовец / вдова** = 6,6%;\n",
        "\n",
        "\n",
        "* вероятност задолженности по кредиту со **средним уровнем дохода** = 8,7%;\n",
        "* вероятност задолженности по кредиту с **доходом выше среднего** = 8,6;\n",
        "* вероятност задолженности по кредиту с **низким уровнем доходом** = 8%;\n",
        "* вероятност задолженности по кредиту с **высоким уровнем дохода** = 7,1%;\n",
        "\n",
        "\n",
        "* вероятност задолженности по кредиту на **автомобиль** = 9,4%;\n",
        "* вероятност задолженности по кредиту на **образование** = 9,2%;\n",
        "* вероятност задолженности по кредиту на **свадьбу** = 8%;\n",
        "* вероятност задолженности по кредиту на **недвижимость** = 7,2%.\n",
        "\n"
      ]
    },
    {
      "cell_type": "markdown",
      "metadata": {
        "id": "llrrn8eyjTJi"
      },
      "source": [
        "Исходя из этого, можно сказать,что самым ответственным заемщиком является следующий человек: *состоящий или ранее состоявщий в официальном браке, без детей, с доходом свыше 195.820 тыс.руб, берущий кредит на недвижимость*  \n",
        "\n",
        "А самым безответсвенным заемщиком является следующий человек: *не стостящий в официальном браке, с детьми, со средним доход, берущий кредит на автомобиль или образование.*"
      ]
    }
  ]
}