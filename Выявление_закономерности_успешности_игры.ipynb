{
  "nbformat": 4,
  "nbformat_minor": 0,
  "metadata": {
    "kernelspec": {
      "display_name": "Python 3",
      "language": "python",
      "name": "python3"
    },
    "language_info": {
      "codemirror_mode": {
        "name": "ipython",
        "version": 3
      },
      "file_extension": ".py",
      "mimetype": "text/x-python",
      "name": "python",
      "nbconvert_exporter": "python",
      "pygments_lexer": "ipython3",
      "version": "3.7.6"
    },
    "colab": {
      "name": "Выявление закономерности успешности игры",
      "provenance": []
    }
  },
  "cells": [
    {
      "cell_type": "markdown",
      "metadata": {
        "id": "TJlo-wADq1ef"
      },
      "source": [
        "# СБОРНЫЙ ПРОЕКТ"
      ]
    },
    {
      "cell_type": "markdown",
      "metadata": {
        "id": "Wdp3sfanq1eu"
      },
      "source": [
        "## Описание проекта\n",
        "Вы работаете в интернет-магазине «Стримчик», который продаёт по всему миру компьютерные игры. Из открытых источников доступны исторические данные о продажах игр, оценки пользователей и экспертов, жанры и платформы (например, Xbox или PlayStation). Вам нужно выявить определяющие успешность игры закономерности. Это позволит сделать ставку на потенциально популярный продукт и спланировать рекламные кампании."
      ]
    },
    {
      "cell_type": "markdown",
      "metadata": {
        "id": "UxfYys4-q1e3"
      },
      "source": [
        "## Описание данных\n",
        "* **Name** — название игры\n",
        "* **Platform** — платформа\n",
        "* **Year_of_Release** — год выпуска\n",
        "* **Genre** — жанр игры\n",
        "* **NA_sales** — продажи в Северной Америке (миллионы проданных копий)\n",
        "* **EU_sales** — продажи в Европе (миллионы проданных копий)\n",
        "* **JP_sales** — продажи в Японии (миллионы проданных копий)\n",
        "* **Other_sales** — продажи в других странах (миллионы проданных копий)\n",
        "* **Critic_Score** — оценка критиков (максимум 100)\n",
        "* **User_Score** — оценка пользователей (максимум 10)\n",
        "* **Rating** — рейтинг от организации ESRB (англ. Entertainment Software Rating Board). Эта ассоциация определяет рейтинг компьютерных игр и присваивает им подходящую возрастную категорию."
      ]
    },
    {
      "cell_type": "markdown",
      "metadata": {
        "id": "LNP13bHQq1fG"
      },
      "source": [
        "# Первый взгляд на данные"
      ]
    },
    {
      "cell_type": "code",
      "metadata": {
        "id": "0dbx3vMkq1fJ"
      },
      "source": [
        "import pandas as pd\n",
        "import numpy as np\n",
        "import matplotlib.pyplot as plt\n",
        "import seaborn as sns\n",
        "from scipy import stats as st"
      ],
      "execution_count": null,
      "outputs": []
    },
    {
      "cell_type": "code",
      "metadata": {
        "id": "4kAaCVbnq1fc"
      },
      "source": [
        "data = pd.read_csv('/datasets/games.csv')"
      ],
      "execution_count": null,
      "outputs": []
    },
    {
      "cell_type": "code",
      "metadata": {
        "id": "BhXyNBosq1fq",
        "outputId": "050a53aa-cf02-476a-8a37-ebf4a3af5896"
      },
      "source": [
        "data"
      ],
      "execution_count": null,
      "outputs": [
        {
          "output_type": "execute_result",
          "data": {
            "text/html": [
              "<div>\n",
              "<style scoped>\n",
              "    .dataframe tbody tr th:only-of-type {\n",
              "        vertical-align: middle;\n",
              "    }\n",
              "\n",
              "    .dataframe tbody tr th {\n",
              "        vertical-align: top;\n",
              "    }\n",
              "\n",
              "    .dataframe thead th {\n",
              "        text-align: right;\n",
              "    }\n",
              "</style>\n",
              "<table border=\"1\" class=\"dataframe\">\n",
              "  <thead>\n",
              "    <tr style=\"text-align: right;\">\n",
              "      <th></th>\n",
              "      <th>Name</th>\n",
              "      <th>Platform</th>\n",
              "      <th>Year_of_Release</th>\n",
              "      <th>Genre</th>\n",
              "      <th>NA_sales</th>\n",
              "      <th>EU_sales</th>\n",
              "      <th>JP_sales</th>\n",
              "      <th>Other_sales</th>\n",
              "      <th>Critic_Score</th>\n",
              "      <th>User_Score</th>\n",
              "      <th>Rating</th>\n",
              "    </tr>\n",
              "  </thead>\n",
              "  <tbody>\n",
              "    <tr>\n",
              "      <td>0</td>\n",
              "      <td>Wii Sports</td>\n",
              "      <td>Wii</td>\n",
              "      <td>2006.0</td>\n",
              "      <td>Sports</td>\n",
              "      <td>41.36</td>\n",
              "      <td>28.96</td>\n",
              "      <td>3.77</td>\n",
              "      <td>8.45</td>\n",
              "      <td>76.0</td>\n",
              "      <td>8</td>\n",
              "      <td>E</td>\n",
              "    </tr>\n",
              "    <tr>\n",
              "      <td>1</td>\n",
              "      <td>Super Mario Bros.</td>\n",
              "      <td>NES</td>\n",
              "      <td>1985.0</td>\n",
              "      <td>Platform</td>\n",
              "      <td>29.08</td>\n",
              "      <td>3.58</td>\n",
              "      <td>6.81</td>\n",
              "      <td>0.77</td>\n",
              "      <td>NaN</td>\n",
              "      <td>NaN</td>\n",
              "      <td>NaN</td>\n",
              "    </tr>\n",
              "    <tr>\n",
              "      <td>2</td>\n",
              "      <td>Mario Kart Wii</td>\n",
              "      <td>Wii</td>\n",
              "      <td>2008.0</td>\n",
              "      <td>Racing</td>\n",
              "      <td>15.68</td>\n",
              "      <td>12.76</td>\n",
              "      <td>3.79</td>\n",
              "      <td>3.29</td>\n",
              "      <td>82.0</td>\n",
              "      <td>8.3</td>\n",
              "      <td>E</td>\n",
              "    </tr>\n",
              "    <tr>\n",
              "      <td>3</td>\n",
              "      <td>Wii Sports Resort</td>\n",
              "      <td>Wii</td>\n",
              "      <td>2009.0</td>\n",
              "      <td>Sports</td>\n",
              "      <td>15.61</td>\n",
              "      <td>10.93</td>\n",
              "      <td>3.28</td>\n",
              "      <td>2.95</td>\n",
              "      <td>80.0</td>\n",
              "      <td>8</td>\n",
              "      <td>E</td>\n",
              "    </tr>\n",
              "    <tr>\n",
              "      <td>4</td>\n",
              "      <td>Pokemon Red/Pokemon Blue</td>\n",
              "      <td>GB</td>\n",
              "      <td>1996.0</td>\n",
              "      <td>Role-Playing</td>\n",
              "      <td>11.27</td>\n",
              "      <td>8.89</td>\n",
              "      <td>10.22</td>\n",
              "      <td>1.00</td>\n",
              "      <td>NaN</td>\n",
              "      <td>NaN</td>\n",
              "      <td>NaN</td>\n",
              "    </tr>\n",
              "    <tr>\n",
              "      <td>...</td>\n",
              "      <td>...</td>\n",
              "      <td>...</td>\n",
              "      <td>...</td>\n",
              "      <td>...</td>\n",
              "      <td>...</td>\n",
              "      <td>...</td>\n",
              "      <td>...</td>\n",
              "      <td>...</td>\n",
              "      <td>...</td>\n",
              "      <td>...</td>\n",
              "      <td>...</td>\n",
              "    </tr>\n",
              "    <tr>\n",
              "      <td>16710</td>\n",
              "      <td>Samurai Warriors: Sanada Maru</td>\n",
              "      <td>PS3</td>\n",
              "      <td>2016.0</td>\n",
              "      <td>Action</td>\n",
              "      <td>0.00</td>\n",
              "      <td>0.00</td>\n",
              "      <td>0.01</td>\n",
              "      <td>0.00</td>\n",
              "      <td>NaN</td>\n",
              "      <td>NaN</td>\n",
              "      <td>NaN</td>\n",
              "    </tr>\n",
              "    <tr>\n",
              "      <td>16711</td>\n",
              "      <td>LMA Manager 2007</td>\n",
              "      <td>X360</td>\n",
              "      <td>2006.0</td>\n",
              "      <td>Sports</td>\n",
              "      <td>0.00</td>\n",
              "      <td>0.01</td>\n",
              "      <td>0.00</td>\n",
              "      <td>0.00</td>\n",
              "      <td>NaN</td>\n",
              "      <td>NaN</td>\n",
              "      <td>NaN</td>\n",
              "    </tr>\n",
              "    <tr>\n",
              "      <td>16712</td>\n",
              "      <td>Haitaka no Psychedelica</td>\n",
              "      <td>PSV</td>\n",
              "      <td>2016.0</td>\n",
              "      <td>Adventure</td>\n",
              "      <td>0.00</td>\n",
              "      <td>0.00</td>\n",
              "      <td>0.01</td>\n",
              "      <td>0.00</td>\n",
              "      <td>NaN</td>\n",
              "      <td>NaN</td>\n",
              "      <td>NaN</td>\n",
              "    </tr>\n",
              "    <tr>\n",
              "      <td>16713</td>\n",
              "      <td>Spirits &amp; Spells</td>\n",
              "      <td>GBA</td>\n",
              "      <td>2003.0</td>\n",
              "      <td>Platform</td>\n",
              "      <td>0.01</td>\n",
              "      <td>0.00</td>\n",
              "      <td>0.00</td>\n",
              "      <td>0.00</td>\n",
              "      <td>NaN</td>\n",
              "      <td>NaN</td>\n",
              "      <td>NaN</td>\n",
              "    </tr>\n",
              "    <tr>\n",
              "      <td>16714</td>\n",
              "      <td>Winning Post 8 2016</td>\n",
              "      <td>PSV</td>\n",
              "      <td>2016.0</td>\n",
              "      <td>Simulation</td>\n",
              "      <td>0.00</td>\n",
              "      <td>0.00</td>\n",
              "      <td>0.01</td>\n",
              "      <td>0.00</td>\n",
              "      <td>NaN</td>\n",
              "      <td>NaN</td>\n",
              "      <td>NaN</td>\n",
              "    </tr>\n",
              "  </tbody>\n",
              "</table>\n",
              "<p>16715 rows × 11 columns</p>\n",
              "</div>"
            ],
            "text/plain": [
              "                                Name Platform  Year_of_Release         Genre  \\\n",
              "0                         Wii Sports      Wii           2006.0        Sports   \n",
              "1                  Super Mario Bros.      NES           1985.0      Platform   \n",
              "2                     Mario Kart Wii      Wii           2008.0        Racing   \n",
              "3                  Wii Sports Resort      Wii           2009.0        Sports   \n",
              "4           Pokemon Red/Pokemon Blue       GB           1996.0  Role-Playing   \n",
              "...                              ...      ...              ...           ...   \n",
              "16710  Samurai Warriors: Sanada Maru      PS3           2016.0        Action   \n",
              "16711               LMA Manager 2007     X360           2006.0        Sports   \n",
              "16712        Haitaka no Psychedelica      PSV           2016.0     Adventure   \n",
              "16713               Spirits & Spells      GBA           2003.0      Platform   \n",
              "16714            Winning Post 8 2016      PSV           2016.0    Simulation   \n",
              "\n",
              "       NA_sales  EU_sales  JP_sales  Other_sales  Critic_Score User_Score  \\\n",
              "0         41.36     28.96      3.77         8.45          76.0          8   \n",
              "1         29.08      3.58      6.81         0.77           NaN        NaN   \n",
              "2         15.68     12.76      3.79         3.29          82.0        8.3   \n",
              "3         15.61     10.93      3.28         2.95          80.0          8   \n",
              "4         11.27      8.89     10.22         1.00           NaN        NaN   \n",
              "...         ...       ...       ...          ...           ...        ...   \n",
              "16710      0.00      0.00      0.01         0.00           NaN        NaN   \n",
              "16711      0.00      0.01      0.00         0.00           NaN        NaN   \n",
              "16712      0.00      0.00      0.01         0.00           NaN        NaN   \n",
              "16713      0.01      0.00      0.00         0.00           NaN        NaN   \n",
              "16714      0.00      0.00      0.01         0.00           NaN        NaN   \n",
              "\n",
              "      Rating  \n",
              "0          E  \n",
              "1        NaN  \n",
              "2          E  \n",
              "3          E  \n",
              "4        NaN  \n",
              "...      ...  \n",
              "16710    NaN  \n",
              "16711    NaN  \n",
              "16712    NaN  \n",
              "16713    NaN  \n",
              "16714    NaN  \n",
              "\n",
              "[16715 rows x 11 columns]"
            ]
          },
          "metadata": {
            "tags": []
          },
          "execution_count": 3
        }
      ]
    },
    {
      "cell_type": "code",
      "metadata": {
        "id": "Z2EifhXRq1gm",
        "outputId": "1d578995-4deb-4338-bef4-dfe9c483f660"
      },
      "source": [
        "data.info()"
      ],
      "execution_count": null,
      "outputs": [
        {
          "output_type": "stream",
          "text": [
            "<class 'pandas.core.frame.DataFrame'>\n",
            "RangeIndex: 16715 entries, 0 to 16714\n",
            "Data columns (total 11 columns):\n",
            "Name               16713 non-null object\n",
            "Platform           16715 non-null object\n",
            "Year_of_Release    16446 non-null float64\n",
            "Genre              16713 non-null object\n",
            "NA_sales           16715 non-null float64\n",
            "EU_sales           16715 non-null float64\n",
            "JP_sales           16715 non-null float64\n",
            "Other_sales        16715 non-null float64\n",
            "Critic_Score       8137 non-null float64\n",
            "User_Score         10014 non-null object\n",
            "Rating             9949 non-null object\n",
            "dtypes: float64(6), object(5)\n",
            "memory usage: 1.4+ MB\n"
          ],
          "name": "stdout"
        }
      ]
    },
    {
      "cell_type": "markdown",
      "metadata": {
        "id": "Qp0IWTHjq1hE"
      },
      "source": [
        "* Изменить тип данных столбца 'User_score'"
      ]
    },
    {
      "cell_type": "code",
      "metadata": {
        "scrolled": false,
        "id": "FUSiazPKq1hJ",
        "outputId": "ef88cfeb-e161-4338-ceb0-afdcb00c9c78"
      },
      "source": [
        "data.isna().sum()"
      ],
      "execution_count": null,
      "outputs": [
        {
          "output_type": "execute_result",
          "data": {
            "text/plain": [
              "Name                  2\n",
              "Platform              0\n",
              "Year_of_Release     269\n",
              "Genre                 2\n",
              "NA_sales              0\n",
              "EU_sales              0\n",
              "JP_sales              0\n",
              "Other_sales           0\n",
              "Critic_Score       8578\n",
              "User_Score         6701\n",
              "Rating             6766\n",
              "dtype: int64"
            ]
          },
          "metadata": {
            "tags": []
          },
          "execution_count": 5
        }
      ]
    },
    {
      "cell_type": "code",
      "metadata": {
        "scrolled": true,
        "id": "gAPwB6k_q1iU",
        "outputId": "724faf30-134b-4403-bfb8-ceb1f143bc9e"
      },
      "source": [
        "data.loc[data['Critic_Score'].isna()].head(10)"
      ],
      "execution_count": null,
      "outputs": [
        {
          "output_type": "execute_result",
          "data": {
            "text/html": [
              "<div>\n",
              "<style scoped>\n",
              "    .dataframe tbody tr th:only-of-type {\n",
              "        vertical-align: middle;\n",
              "    }\n",
              "\n",
              "    .dataframe tbody tr th {\n",
              "        vertical-align: top;\n",
              "    }\n",
              "\n",
              "    .dataframe thead th {\n",
              "        text-align: right;\n",
              "    }\n",
              "</style>\n",
              "<table border=\"1\" class=\"dataframe\">\n",
              "  <thead>\n",
              "    <tr style=\"text-align: right;\">\n",
              "      <th></th>\n",
              "      <th>Name</th>\n",
              "      <th>Platform</th>\n",
              "      <th>Year_of_Release</th>\n",
              "      <th>Genre</th>\n",
              "      <th>NA_sales</th>\n",
              "      <th>EU_sales</th>\n",
              "      <th>JP_sales</th>\n",
              "      <th>Other_sales</th>\n",
              "      <th>Critic_Score</th>\n",
              "      <th>User_Score</th>\n",
              "      <th>Rating</th>\n",
              "    </tr>\n",
              "  </thead>\n",
              "  <tbody>\n",
              "    <tr>\n",
              "      <td>1</td>\n",
              "      <td>Super Mario Bros.</td>\n",
              "      <td>NES</td>\n",
              "      <td>1985.0</td>\n",
              "      <td>Platform</td>\n",
              "      <td>29.08</td>\n",
              "      <td>3.58</td>\n",
              "      <td>6.81</td>\n",
              "      <td>0.77</td>\n",
              "      <td>NaN</td>\n",
              "      <td>NaN</td>\n",
              "      <td>NaN</td>\n",
              "    </tr>\n",
              "    <tr>\n",
              "      <td>4</td>\n",
              "      <td>Pokemon Red/Pokemon Blue</td>\n",
              "      <td>GB</td>\n",
              "      <td>1996.0</td>\n",
              "      <td>Role-Playing</td>\n",
              "      <td>11.27</td>\n",
              "      <td>8.89</td>\n",
              "      <td>10.22</td>\n",
              "      <td>1.00</td>\n",
              "      <td>NaN</td>\n",
              "      <td>NaN</td>\n",
              "      <td>NaN</td>\n",
              "    </tr>\n",
              "    <tr>\n",
              "      <td>5</td>\n",
              "      <td>Tetris</td>\n",
              "      <td>GB</td>\n",
              "      <td>1989.0</td>\n",
              "      <td>Puzzle</td>\n",
              "      <td>23.20</td>\n",
              "      <td>2.26</td>\n",
              "      <td>4.22</td>\n",
              "      <td>0.58</td>\n",
              "      <td>NaN</td>\n",
              "      <td>NaN</td>\n",
              "      <td>NaN</td>\n",
              "    </tr>\n",
              "    <tr>\n",
              "      <td>9</td>\n",
              "      <td>Duck Hunt</td>\n",
              "      <td>NES</td>\n",
              "      <td>1984.0</td>\n",
              "      <td>Shooter</td>\n",
              "      <td>26.93</td>\n",
              "      <td>0.63</td>\n",
              "      <td>0.28</td>\n",
              "      <td>0.47</td>\n",
              "      <td>NaN</td>\n",
              "      <td>NaN</td>\n",
              "      <td>NaN</td>\n",
              "    </tr>\n",
              "    <tr>\n",
              "      <td>10</td>\n",
              "      <td>Nintendogs</td>\n",
              "      <td>DS</td>\n",
              "      <td>2005.0</td>\n",
              "      <td>Simulation</td>\n",
              "      <td>9.05</td>\n",
              "      <td>10.95</td>\n",
              "      <td>1.93</td>\n",
              "      <td>2.74</td>\n",
              "      <td>NaN</td>\n",
              "      <td>NaN</td>\n",
              "      <td>NaN</td>\n",
              "    </tr>\n",
              "    <tr>\n",
              "      <td>12</td>\n",
              "      <td>Pokemon Gold/Pokemon Silver</td>\n",
              "      <td>GB</td>\n",
              "      <td>1999.0</td>\n",
              "      <td>Role-Playing</td>\n",
              "      <td>9.00</td>\n",
              "      <td>6.18</td>\n",
              "      <td>7.20</td>\n",
              "      <td>0.71</td>\n",
              "      <td>NaN</td>\n",
              "      <td>NaN</td>\n",
              "      <td>NaN</td>\n",
              "    </tr>\n",
              "    <tr>\n",
              "      <td>18</td>\n",
              "      <td>Super Mario World</td>\n",
              "      <td>SNES</td>\n",
              "      <td>1990.0</td>\n",
              "      <td>Platform</td>\n",
              "      <td>12.78</td>\n",
              "      <td>3.75</td>\n",
              "      <td>3.54</td>\n",
              "      <td>0.55</td>\n",
              "      <td>NaN</td>\n",
              "      <td>NaN</td>\n",
              "      <td>NaN</td>\n",
              "    </tr>\n",
              "    <tr>\n",
              "      <td>20</td>\n",
              "      <td>Pokemon Diamond/Pokemon Pearl</td>\n",
              "      <td>DS</td>\n",
              "      <td>2006.0</td>\n",
              "      <td>Role-Playing</td>\n",
              "      <td>6.38</td>\n",
              "      <td>4.46</td>\n",
              "      <td>6.04</td>\n",
              "      <td>1.36</td>\n",
              "      <td>NaN</td>\n",
              "      <td>NaN</td>\n",
              "      <td>NaN</td>\n",
              "    </tr>\n",
              "    <tr>\n",
              "      <td>21</td>\n",
              "      <td>Super Mario Land</td>\n",
              "      <td>GB</td>\n",
              "      <td>1989.0</td>\n",
              "      <td>Platform</td>\n",
              "      <td>10.83</td>\n",
              "      <td>2.71</td>\n",
              "      <td>4.18</td>\n",
              "      <td>0.42</td>\n",
              "      <td>NaN</td>\n",
              "      <td>NaN</td>\n",
              "      <td>NaN</td>\n",
              "    </tr>\n",
              "    <tr>\n",
              "      <td>22</td>\n",
              "      <td>Super Mario Bros. 3</td>\n",
              "      <td>NES</td>\n",
              "      <td>1988.0</td>\n",
              "      <td>Platform</td>\n",
              "      <td>9.54</td>\n",
              "      <td>3.44</td>\n",
              "      <td>3.84</td>\n",
              "      <td>0.46</td>\n",
              "      <td>NaN</td>\n",
              "      <td>NaN</td>\n",
              "      <td>NaN</td>\n",
              "    </tr>\n",
              "  </tbody>\n",
              "</table>\n",
              "</div>"
            ],
            "text/plain": [
              "                             Name Platform  Year_of_Release         Genre  \\\n",
              "1               Super Mario Bros.      NES           1985.0      Platform   \n",
              "4        Pokemon Red/Pokemon Blue       GB           1996.0  Role-Playing   \n",
              "5                          Tetris       GB           1989.0        Puzzle   \n",
              "9                       Duck Hunt      NES           1984.0       Shooter   \n",
              "10                     Nintendogs       DS           2005.0    Simulation   \n",
              "12    Pokemon Gold/Pokemon Silver       GB           1999.0  Role-Playing   \n",
              "18              Super Mario World     SNES           1990.0      Platform   \n",
              "20  Pokemon Diamond/Pokemon Pearl       DS           2006.0  Role-Playing   \n",
              "21               Super Mario Land       GB           1989.0      Platform   \n",
              "22            Super Mario Bros. 3      NES           1988.0      Platform   \n",
              "\n",
              "    NA_sales  EU_sales  JP_sales  Other_sales  Critic_Score User_Score Rating  \n",
              "1      29.08      3.58      6.81         0.77           NaN        NaN    NaN  \n",
              "4      11.27      8.89     10.22         1.00           NaN        NaN    NaN  \n",
              "5      23.20      2.26      4.22         0.58           NaN        NaN    NaN  \n",
              "9      26.93      0.63      0.28         0.47           NaN        NaN    NaN  \n",
              "10      9.05     10.95      1.93         2.74           NaN        NaN    NaN  \n",
              "12      9.00      6.18      7.20         0.71           NaN        NaN    NaN  \n",
              "18     12.78      3.75      3.54         0.55           NaN        NaN    NaN  \n",
              "20      6.38      4.46      6.04         1.36           NaN        NaN    NaN  \n",
              "21     10.83      2.71      4.18         0.42           NaN        NaN    NaN  \n",
              "22      9.54      3.44      3.84         0.46           NaN        NaN    NaN  "
            ]
          },
          "metadata": {
            "tags": []
          },
          "execution_count": 6
        }
      ]
    },
    {
      "cell_type": "code",
      "metadata": {
        "id": "IGGIY0jSq1i7",
        "outputId": "baafef72-64f2-4b08-f3f3-021f638f6d30"
      },
      "source": [
        "data.loc[data['Genre'].isna()]"
      ],
      "execution_count": null,
      "outputs": [
        {
          "output_type": "execute_result",
          "data": {
            "text/html": [
              "<div>\n",
              "<style scoped>\n",
              "    .dataframe tbody tr th:only-of-type {\n",
              "        vertical-align: middle;\n",
              "    }\n",
              "\n",
              "    .dataframe tbody tr th {\n",
              "        vertical-align: top;\n",
              "    }\n",
              "\n",
              "    .dataframe thead th {\n",
              "        text-align: right;\n",
              "    }\n",
              "</style>\n",
              "<table border=\"1\" class=\"dataframe\">\n",
              "  <thead>\n",
              "    <tr style=\"text-align: right;\">\n",
              "      <th></th>\n",
              "      <th>Name</th>\n",
              "      <th>Platform</th>\n",
              "      <th>Year_of_Release</th>\n",
              "      <th>Genre</th>\n",
              "      <th>NA_sales</th>\n",
              "      <th>EU_sales</th>\n",
              "      <th>JP_sales</th>\n",
              "      <th>Other_sales</th>\n",
              "      <th>Critic_Score</th>\n",
              "      <th>User_Score</th>\n",
              "      <th>Rating</th>\n",
              "    </tr>\n",
              "  </thead>\n",
              "  <tbody>\n",
              "    <tr>\n",
              "      <td>659</td>\n",
              "      <td>NaN</td>\n",
              "      <td>GEN</td>\n",
              "      <td>1993.0</td>\n",
              "      <td>NaN</td>\n",
              "      <td>1.78</td>\n",
              "      <td>0.53</td>\n",
              "      <td>0.00</td>\n",
              "      <td>0.08</td>\n",
              "      <td>NaN</td>\n",
              "      <td>NaN</td>\n",
              "      <td>NaN</td>\n",
              "    </tr>\n",
              "    <tr>\n",
              "      <td>14244</td>\n",
              "      <td>NaN</td>\n",
              "      <td>GEN</td>\n",
              "      <td>1993.0</td>\n",
              "      <td>NaN</td>\n",
              "      <td>0.00</td>\n",
              "      <td>0.00</td>\n",
              "      <td>0.03</td>\n",
              "      <td>0.00</td>\n",
              "      <td>NaN</td>\n",
              "      <td>NaN</td>\n",
              "      <td>NaN</td>\n",
              "    </tr>\n",
              "  </tbody>\n",
              "</table>\n",
              "</div>"
            ],
            "text/plain": [
              "      Name Platform  Year_of_Release Genre  NA_sales  EU_sales  JP_sales  \\\n",
              "659    NaN      GEN           1993.0   NaN      1.78      0.53      0.00   \n",
              "14244  NaN      GEN           1993.0   NaN      0.00      0.00      0.03   \n",
              "\n",
              "       Other_sales  Critic_Score User_Score Rating  \n",
              "659           0.08           NaN        NaN    NaN  \n",
              "14244         0.00           NaN        NaN    NaN  "
            ]
          },
          "metadata": {
            "tags": []
          },
          "execution_count": 7
        }
      ]
    },
    {
      "cell_type": "markdown",
      "metadata": {
        "id": "z1T2Xt7Cq1jX"
      },
      "source": [
        "## Замечания по данным:"
      ]
    },
    {
      "cell_type": "markdown",
      "metadata": {
        "id": "EycaK3DTq1jb"
      },
      "source": [
        "* Необходимо привести названия столбцов к нижнему регистру\n",
        "* Изменить тип данных столбца 'User_score' на float\n",
        "* Обработать пропуски в столбцах 'Name', 'Year_of_Release', 'Genre', 'Critic_Score', 'User_Score', 'Rating' (<font color= darkblue> Пропуски в двух столбцах с оценками и в столбце 'Rating' могут быть связаны с тем, что либо игра была выпущена давно и оценки не сохранились в электронном виде, либо были непопулярны и получили мало оценок. Пропуски в столбцах 'Name' и 'Genre' связаны между собой. Пропуски в столбце 'Year_of_Release' могут быть связаны с отсутсвием по какой-то причине данных о выходе игры, либо с ошибкой при записи данных. ) </font>\n"
      ]
    },
    {
      "cell_type": "markdown",
      "metadata": {
        "id": "DFmPeAdmq1jl"
      },
      "source": [
        "# Предобработка данных"
      ]
    },
    {
      "cell_type": "markdown",
      "metadata": {
        "id": "i2pn30Lvq1jq"
      },
      "source": [
        "Сначала для удобства приведем названия столбцов к нижнему регистру."
      ]
    },
    {
      "cell_type": "code",
      "metadata": {
        "scrolled": true,
        "id": "AkEGv1Oeq1jv",
        "outputId": "803bb026-9be4-468d-ae2b-65384d7660b7"
      },
      "source": [
        "data.columns = map(str.lower, data.columns)\n",
        "data"
      ],
      "execution_count": null,
      "outputs": [
        {
          "output_type": "execute_result",
          "data": {
            "text/html": [
              "<div>\n",
              "<style scoped>\n",
              "    .dataframe tbody tr th:only-of-type {\n",
              "        vertical-align: middle;\n",
              "    }\n",
              "\n",
              "    .dataframe tbody tr th {\n",
              "        vertical-align: top;\n",
              "    }\n",
              "\n",
              "    .dataframe thead th {\n",
              "        text-align: right;\n",
              "    }\n",
              "</style>\n",
              "<table border=\"1\" class=\"dataframe\">\n",
              "  <thead>\n",
              "    <tr style=\"text-align: right;\">\n",
              "      <th></th>\n",
              "      <th>name</th>\n",
              "      <th>platform</th>\n",
              "      <th>year_of_release</th>\n",
              "      <th>genre</th>\n",
              "      <th>na_sales</th>\n",
              "      <th>eu_sales</th>\n",
              "      <th>jp_sales</th>\n",
              "      <th>other_sales</th>\n",
              "      <th>critic_score</th>\n",
              "      <th>user_score</th>\n",
              "      <th>rating</th>\n",
              "    </tr>\n",
              "  </thead>\n",
              "  <tbody>\n",
              "    <tr>\n",
              "      <td>0</td>\n",
              "      <td>Wii Sports</td>\n",
              "      <td>Wii</td>\n",
              "      <td>2006.0</td>\n",
              "      <td>Sports</td>\n",
              "      <td>41.36</td>\n",
              "      <td>28.96</td>\n",
              "      <td>3.77</td>\n",
              "      <td>8.45</td>\n",
              "      <td>76.0</td>\n",
              "      <td>8</td>\n",
              "      <td>E</td>\n",
              "    </tr>\n",
              "    <tr>\n",
              "      <td>1</td>\n",
              "      <td>Super Mario Bros.</td>\n",
              "      <td>NES</td>\n",
              "      <td>1985.0</td>\n",
              "      <td>Platform</td>\n",
              "      <td>29.08</td>\n",
              "      <td>3.58</td>\n",
              "      <td>6.81</td>\n",
              "      <td>0.77</td>\n",
              "      <td>NaN</td>\n",
              "      <td>NaN</td>\n",
              "      <td>NaN</td>\n",
              "    </tr>\n",
              "    <tr>\n",
              "      <td>2</td>\n",
              "      <td>Mario Kart Wii</td>\n",
              "      <td>Wii</td>\n",
              "      <td>2008.0</td>\n",
              "      <td>Racing</td>\n",
              "      <td>15.68</td>\n",
              "      <td>12.76</td>\n",
              "      <td>3.79</td>\n",
              "      <td>3.29</td>\n",
              "      <td>82.0</td>\n",
              "      <td>8.3</td>\n",
              "      <td>E</td>\n",
              "    </tr>\n",
              "    <tr>\n",
              "      <td>3</td>\n",
              "      <td>Wii Sports Resort</td>\n",
              "      <td>Wii</td>\n",
              "      <td>2009.0</td>\n",
              "      <td>Sports</td>\n",
              "      <td>15.61</td>\n",
              "      <td>10.93</td>\n",
              "      <td>3.28</td>\n",
              "      <td>2.95</td>\n",
              "      <td>80.0</td>\n",
              "      <td>8</td>\n",
              "      <td>E</td>\n",
              "    </tr>\n",
              "    <tr>\n",
              "      <td>4</td>\n",
              "      <td>Pokemon Red/Pokemon Blue</td>\n",
              "      <td>GB</td>\n",
              "      <td>1996.0</td>\n",
              "      <td>Role-Playing</td>\n",
              "      <td>11.27</td>\n",
              "      <td>8.89</td>\n",
              "      <td>10.22</td>\n",
              "      <td>1.00</td>\n",
              "      <td>NaN</td>\n",
              "      <td>NaN</td>\n",
              "      <td>NaN</td>\n",
              "    </tr>\n",
              "    <tr>\n",
              "      <td>...</td>\n",
              "      <td>...</td>\n",
              "      <td>...</td>\n",
              "      <td>...</td>\n",
              "      <td>...</td>\n",
              "      <td>...</td>\n",
              "      <td>...</td>\n",
              "      <td>...</td>\n",
              "      <td>...</td>\n",
              "      <td>...</td>\n",
              "      <td>...</td>\n",
              "      <td>...</td>\n",
              "    </tr>\n",
              "    <tr>\n",
              "      <td>16710</td>\n",
              "      <td>Samurai Warriors: Sanada Maru</td>\n",
              "      <td>PS3</td>\n",
              "      <td>2016.0</td>\n",
              "      <td>Action</td>\n",
              "      <td>0.00</td>\n",
              "      <td>0.00</td>\n",
              "      <td>0.01</td>\n",
              "      <td>0.00</td>\n",
              "      <td>NaN</td>\n",
              "      <td>NaN</td>\n",
              "      <td>NaN</td>\n",
              "    </tr>\n",
              "    <tr>\n",
              "      <td>16711</td>\n",
              "      <td>LMA Manager 2007</td>\n",
              "      <td>X360</td>\n",
              "      <td>2006.0</td>\n",
              "      <td>Sports</td>\n",
              "      <td>0.00</td>\n",
              "      <td>0.01</td>\n",
              "      <td>0.00</td>\n",
              "      <td>0.00</td>\n",
              "      <td>NaN</td>\n",
              "      <td>NaN</td>\n",
              "      <td>NaN</td>\n",
              "    </tr>\n",
              "    <tr>\n",
              "      <td>16712</td>\n",
              "      <td>Haitaka no Psychedelica</td>\n",
              "      <td>PSV</td>\n",
              "      <td>2016.0</td>\n",
              "      <td>Adventure</td>\n",
              "      <td>0.00</td>\n",
              "      <td>0.00</td>\n",
              "      <td>0.01</td>\n",
              "      <td>0.00</td>\n",
              "      <td>NaN</td>\n",
              "      <td>NaN</td>\n",
              "      <td>NaN</td>\n",
              "    </tr>\n",
              "    <tr>\n",
              "      <td>16713</td>\n",
              "      <td>Spirits &amp; Spells</td>\n",
              "      <td>GBA</td>\n",
              "      <td>2003.0</td>\n",
              "      <td>Platform</td>\n",
              "      <td>0.01</td>\n",
              "      <td>0.00</td>\n",
              "      <td>0.00</td>\n",
              "      <td>0.00</td>\n",
              "      <td>NaN</td>\n",
              "      <td>NaN</td>\n",
              "      <td>NaN</td>\n",
              "    </tr>\n",
              "    <tr>\n",
              "      <td>16714</td>\n",
              "      <td>Winning Post 8 2016</td>\n",
              "      <td>PSV</td>\n",
              "      <td>2016.0</td>\n",
              "      <td>Simulation</td>\n",
              "      <td>0.00</td>\n",
              "      <td>0.00</td>\n",
              "      <td>0.01</td>\n",
              "      <td>0.00</td>\n",
              "      <td>NaN</td>\n",
              "      <td>NaN</td>\n",
              "      <td>NaN</td>\n",
              "    </tr>\n",
              "  </tbody>\n",
              "</table>\n",
              "<p>16715 rows × 11 columns</p>\n",
              "</div>"
            ],
            "text/plain": [
              "                                name platform  year_of_release         genre  \\\n",
              "0                         Wii Sports      Wii           2006.0        Sports   \n",
              "1                  Super Mario Bros.      NES           1985.0      Platform   \n",
              "2                     Mario Kart Wii      Wii           2008.0        Racing   \n",
              "3                  Wii Sports Resort      Wii           2009.0        Sports   \n",
              "4           Pokemon Red/Pokemon Blue       GB           1996.0  Role-Playing   \n",
              "...                              ...      ...              ...           ...   \n",
              "16710  Samurai Warriors: Sanada Maru      PS3           2016.0        Action   \n",
              "16711               LMA Manager 2007     X360           2006.0        Sports   \n",
              "16712        Haitaka no Psychedelica      PSV           2016.0     Adventure   \n",
              "16713               Spirits & Spells      GBA           2003.0      Platform   \n",
              "16714            Winning Post 8 2016      PSV           2016.0    Simulation   \n",
              "\n",
              "       na_sales  eu_sales  jp_sales  other_sales  critic_score user_score  \\\n",
              "0         41.36     28.96      3.77         8.45          76.0          8   \n",
              "1         29.08      3.58      6.81         0.77           NaN        NaN   \n",
              "2         15.68     12.76      3.79         3.29          82.0        8.3   \n",
              "3         15.61     10.93      3.28         2.95          80.0          8   \n",
              "4         11.27      8.89     10.22         1.00           NaN        NaN   \n",
              "...         ...       ...       ...          ...           ...        ...   \n",
              "16710      0.00      0.00      0.01         0.00           NaN        NaN   \n",
              "16711      0.00      0.01      0.00         0.00           NaN        NaN   \n",
              "16712      0.00      0.00      0.01         0.00           NaN        NaN   \n",
              "16713      0.01      0.00      0.00         0.00           NaN        NaN   \n",
              "16714      0.00      0.00      0.01         0.00           NaN        NaN   \n",
              "\n",
              "      rating  \n",
              "0          E  \n",
              "1        NaN  \n",
              "2          E  \n",
              "3          E  \n",
              "4        NaN  \n",
              "...      ...  \n",
              "16710    NaN  \n",
              "16711    NaN  \n",
              "16712    NaN  \n",
              "16713    NaN  \n",
              "16714    NaN  \n",
              "\n",
              "[16715 rows x 11 columns]"
            ]
          },
          "metadata": {
            "tags": []
          },
          "execution_count": 8
        }
      ]
    },
    {
      "cell_type": "markdown",
      "metadata": {
        "id": "mlA7Ozh8q1kR"
      },
      "source": [
        "Значение 'tbd' в столбце с рейтингом означает, что оценок недостаточно для расчета средней оценки. Эта запись ничего нам не дает, так что мы можем заменить ее на NaN."
      ]
    },
    {
      "cell_type": "code",
      "metadata": {
        "scrolled": true,
        "id": "aYgMBtrpq1kW",
        "outputId": "56b316f5-202f-4375-b918-44570b9df0aa"
      },
      "source": [
        "data.query('user_score == \"tbd\"')"
      ],
      "execution_count": null,
      "outputs": [
        {
          "output_type": "execute_result",
          "data": {
            "text/html": [
              "<div>\n",
              "<style scoped>\n",
              "    .dataframe tbody tr th:only-of-type {\n",
              "        vertical-align: middle;\n",
              "    }\n",
              "\n",
              "    .dataframe tbody tr th {\n",
              "        vertical-align: top;\n",
              "    }\n",
              "\n",
              "    .dataframe thead th {\n",
              "        text-align: right;\n",
              "    }\n",
              "</style>\n",
              "<table border=\"1\" class=\"dataframe\">\n",
              "  <thead>\n",
              "    <tr style=\"text-align: right;\">\n",
              "      <th></th>\n",
              "      <th>name</th>\n",
              "      <th>platform</th>\n",
              "      <th>year_of_release</th>\n",
              "      <th>genre</th>\n",
              "      <th>na_sales</th>\n",
              "      <th>eu_sales</th>\n",
              "      <th>jp_sales</th>\n",
              "      <th>other_sales</th>\n",
              "      <th>critic_score</th>\n",
              "      <th>user_score</th>\n",
              "      <th>rating</th>\n",
              "    </tr>\n",
              "  </thead>\n",
              "  <tbody>\n",
              "    <tr>\n",
              "      <td>119</td>\n",
              "      <td>Zumba Fitness</td>\n",
              "      <td>Wii</td>\n",
              "      <td>2010.0</td>\n",
              "      <td>Sports</td>\n",
              "      <td>3.45</td>\n",
              "      <td>2.59</td>\n",
              "      <td>0.0</td>\n",
              "      <td>0.66</td>\n",
              "      <td>NaN</td>\n",
              "      <td>tbd</td>\n",
              "      <td>E</td>\n",
              "    </tr>\n",
              "    <tr>\n",
              "      <td>301</td>\n",
              "      <td>Namco Museum: 50th Anniversary</td>\n",
              "      <td>PS2</td>\n",
              "      <td>2005.0</td>\n",
              "      <td>Misc</td>\n",
              "      <td>2.08</td>\n",
              "      <td>1.35</td>\n",
              "      <td>0.0</td>\n",
              "      <td>0.54</td>\n",
              "      <td>61.0</td>\n",
              "      <td>tbd</td>\n",
              "      <td>E10+</td>\n",
              "    </tr>\n",
              "    <tr>\n",
              "      <td>520</td>\n",
              "      <td>Zumba Fitness 2</td>\n",
              "      <td>Wii</td>\n",
              "      <td>2011.0</td>\n",
              "      <td>Sports</td>\n",
              "      <td>1.51</td>\n",
              "      <td>1.03</td>\n",
              "      <td>0.0</td>\n",
              "      <td>0.27</td>\n",
              "      <td>NaN</td>\n",
              "      <td>tbd</td>\n",
              "      <td>T</td>\n",
              "    </tr>\n",
              "    <tr>\n",
              "      <td>645</td>\n",
              "      <td>uDraw Studio</td>\n",
              "      <td>Wii</td>\n",
              "      <td>2010.0</td>\n",
              "      <td>Misc</td>\n",
              "      <td>1.65</td>\n",
              "      <td>0.57</td>\n",
              "      <td>0.0</td>\n",
              "      <td>0.20</td>\n",
              "      <td>71.0</td>\n",
              "      <td>tbd</td>\n",
              "      <td>E</td>\n",
              "    </tr>\n",
              "    <tr>\n",
              "      <td>657</td>\n",
              "      <td>Frogger's Adventures: Temple of the Frog</td>\n",
              "      <td>GBA</td>\n",
              "      <td>NaN</td>\n",
              "      <td>Adventure</td>\n",
              "      <td>2.15</td>\n",
              "      <td>0.18</td>\n",
              "      <td>0.0</td>\n",
              "      <td>0.07</td>\n",
              "      <td>73.0</td>\n",
              "      <td>tbd</td>\n",
              "      <td>E</td>\n",
              "    </tr>\n",
              "    <tr>\n",
              "      <td>...</td>\n",
              "      <td>...</td>\n",
              "      <td>...</td>\n",
              "      <td>...</td>\n",
              "      <td>...</td>\n",
              "      <td>...</td>\n",
              "      <td>...</td>\n",
              "      <td>...</td>\n",
              "      <td>...</td>\n",
              "      <td>...</td>\n",
              "      <td>...</td>\n",
              "      <td>...</td>\n",
              "    </tr>\n",
              "    <tr>\n",
              "      <td>16695</td>\n",
              "      <td>Planet Monsters</td>\n",
              "      <td>GBA</td>\n",
              "      <td>2001.0</td>\n",
              "      <td>Action</td>\n",
              "      <td>0.01</td>\n",
              "      <td>0.00</td>\n",
              "      <td>0.0</td>\n",
              "      <td>0.00</td>\n",
              "      <td>67.0</td>\n",
              "      <td>tbd</td>\n",
              "      <td>E</td>\n",
              "    </tr>\n",
              "    <tr>\n",
              "      <td>16697</td>\n",
              "      <td>Bust-A-Move 3000</td>\n",
              "      <td>GC</td>\n",
              "      <td>2003.0</td>\n",
              "      <td>Puzzle</td>\n",
              "      <td>0.01</td>\n",
              "      <td>0.00</td>\n",
              "      <td>0.0</td>\n",
              "      <td>0.00</td>\n",
              "      <td>53.0</td>\n",
              "      <td>tbd</td>\n",
              "      <td>E</td>\n",
              "    </tr>\n",
              "    <tr>\n",
              "      <td>16698</td>\n",
              "      <td>Mega Brain Boost</td>\n",
              "      <td>DS</td>\n",
              "      <td>2008.0</td>\n",
              "      <td>Puzzle</td>\n",
              "      <td>0.01</td>\n",
              "      <td>0.00</td>\n",
              "      <td>0.0</td>\n",
              "      <td>0.00</td>\n",
              "      <td>48.0</td>\n",
              "      <td>tbd</td>\n",
              "      <td>E</td>\n",
              "    </tr>\n",
              "    <tr>\n",
              "      <td>16704</td>\n",
              "      <td>Plushees</td>\n",
              "      <td>DS</td>\n",
              "      <td>2008.0</td>\n",
              "      <td>Simulation</td>\n",
              "      <td>0.01</td>\n",
              "      <td>0.00</td>\n",
              "      <td>0.0</td>\n",
              "      <td>0.00</td>\n",
              "      <td>NaN</td>\n",
              "      <td>tbd</td>\n",
              "      <td>E</td>\n",
              "    </tr>\n",
              "    <tr>\n",
              "      <td>16706</td>\n",
              "      <td>Men in Black II: Alien Escape</td>\n",
              "      <td>GC</td>\n",
              "      <td>2003.0</td>\n",
              "      <td>Shooter</td>\n",
              "      <td>0.01</td>\n",
              "      <td>0.00</td>\n",
              "      <td>0.0</td>\n",
              "      <td>0.00</td>\n",
              "      <td>NaN</td>\n",
              "      <td>tbd</td>\n",
              "      <td>T</td>\n",
              "    </tr>\n",
              "  </tbody>\n",
              "</table>\n",
              "<p>2424 rows × 11 columns</p>\n",
              "</div>"
            ],
            "text/plain": [
              "                                           name platform  year_of_release  \\\n",
              "119                               Zumba Fitness      Wii           2010.0   \n",
              "301              Namco Museum: 50th Anniversary      PS2           2005.0   \n",
              "520                             Zumba Fitness 2      Wii           2011.0   \n",
              "645                                uDraw Studio      Wii           2010.0   \n",
              "657    Frogger's Adventures: Temple of the Frog      GBA              NaN   \n",
              "...                                         ...      ...              ...   \n",
              "16695                           Planet Monsters      GBA           2001.0   \n",
              "16697                          Bust-A-Move 3000       GC           2003.0   \n",
              "16698                          Mega Brain Boost       DS           2008.0   \n",
              "16704                                  Plushees       DS           2008.0   \n",
              "16706             Men in Black II: Alien Escape       GC           2003.0   \n",
              "\n",
              "            genre  na_sales  eu_sales  jp_sales  other_sales  critic_score  \\\n",
              "119        Sports      3.45      2.59       0.0         0.66           NaN   \n",
              "301          Misc      2.08      1.35       0.0         0.54          61.0   \n",
              "520        Sports      1.51      1.03       0.0         0.27           NaN   \n",
              "645          Misc      1.65      0.57       0.0         0.20          71.0   \n",
              "657     Adventure      2.15      0.18       0.0         0.07          73.0   \n",
              "...           ...       ...       ...       ...          ...           ...   \n",
              "16695      Action      0.01      0.00       0.0         0.00          67.0   \n",
              "16697      Puzzle      0.01      0.00       0.0         0.00          53.0   \n",
              "16698      Puzzle      0.01      0.00       0.0         0.00          48.0   \n",
              "16704  Simulation      0.01      0.00       0.0         0.00           NaN   \n",
              "16706     Shooter      0.01      0.00       0.0         0.00           NaN   \n",
              "\n",
              "      user_score rating  \n",
              "119          tbd      E  \n",
              "301          tbd   E10+  \n",
              "520          tbd      T  \n",
              "645          tbd      E  \n",
              "657          tbd      E  \n",
              "...          ...    ...  \n",
              "16695        tbd      E  \n",
              "16697        tbd      E  \n",
              "16698        tbd      E  \n",
              "16704        tbd      E  \n",
              "16706        tbd      T  \n",
              "\n",
              "[2424 rows x 11 columns]"
            ]
          },
          "metadata": {
            "tags": []
          },
          "execution_count": 9
        }
      ]
    },
    {
      "cell_type": "markdown",
      "metadata": {
        "id": "Fw9zBK1Mq1lE"
      },
      "source": [
        "---\n",
        "Изменим тип данных столбца 'User_score' на float."
      ]
    },
    {
      "cell_type": "code",
      "metadata": {
        "id": "c51RQoO4q1lG"
      },
      "source": [
        "data['user_score'] = pd.to_numeric(data['user_score'], errors='coerce')"
      ],
      "execution_count": null,
      "outputs": []
    },
    {
      "cell_type": "code",
      "metadata": {
        "id": "_fJX_qQYq1lW",
        "outputId": "f7d6abec-8fa8-4169-ddb3-c1d3099a17f3"
      },
      "source": [
        "data.info()"
      ],
      "execution_count": null,
      "outputs": [
        {
          "output_type": "stream",
          "text": [
            "<class 'pandas.core.frame.DataFrame'>\n",
            "RangeIndex: 16715 entries, 0 to 16714\n",
            "Data columns (total 11 columns):\n",
            "name               16713 non-null object\n",
            "platform           16715 non-null object\n",
            "year_of_release    16446 non-null float64\n",
            "genre              16713 non-null object\n",
            "na_sales           16715 non-null float64\n",
            "eu_sales           16715 non-null float64\n",
            "jp_sales           16715 non-null float64\n",
            "other_sales        16715 non-null float64\n",
            "critic_score       8137 non-null float64\n",
            "user_score         7590 non-null float64\n",
            "rating             9949 non-null object\n",
            "dtypes: float64(7), object(4)\n",
            "memory usage: 1.4+ MB\n"
          ],
          "name": "stdout"
        }
      ]
    },
    {
      "cell_type": "markdown",
      "metadata": {
        "id": "YReI_7Hxq1lh"
      },
      "source": [
        "---\n",
        "### Обработка пропусков"
      ]
    },
    {
      "cell_type": "markdown",
      "metadata": {
        "id": "6rYe1BNZq1lk"
      },
      "source": [
        "Удалим 2 строки с пропусками в столбце 'name', так как эти игры имеют пропуски почти во всех столбцах и не помогут нам при анализе."
      ]
    },
    {
      "cell_type": "code",
      "metadata": {
        "id": "O4aubG7bq1lm"
      },
      "source": [
        "data = data.drop(index=[659,14244]).reset_index(drop=True)"
      ],
      "execution_count": null,
      "outputs": []
    },
    {
      "cell_type": "code",
      "metadata": {
        "id": "1JuaG9PZq1l5",
        "outputId": "f555a8cd-3608-448f-98ff-c51de7397862"
      },
      "source": [
        "data['name'].isna().sum()"
      ],
      "execution_count": null,
      "outputs": [
        {
          "output_type": "execute_result",
          "data": {
            "text/plain": [
              "0"
            ]
          },
          "metadata": {
            "tags": []
          },
          "execution_count": 13
        }
      ]
    },
    {
      "cell_type": "markdown",
      "metadata": {
        "id": "eP8Szu-7q1mO"
      },
      "source": [
        "Удалим строки, которые имеют пропуски в столбцах year_of_release, critic_score, user_score, rating одновременно, так как в них так же пропущенно слишком много нужной для анализа информации."
      ]
    },
    {
      "cell_type": "markdown",
      "metadata": {
        "id": "OMg_qs1tq1mR"
      },
      "source": [
        "<div class=\"alert alert-info\" style=\"border:solid blue 2px; padding: 20px\"> Проверим данные и убедимся, что мы можем их удалить </div>"
      ]
    },
    {
      "cell_type": "code",
      "metadata": {
        "scrolled": true,
        "id": "IsxVvR5pq1mY",
        "outputId": "33747c2f-738e-493b-d3c7-57b3f6a8f11d"
      },
      "source": [
        "nan_data = (data[(data['year_of_release'].isna() == True)\n",
        "                 &(data['critic_score'].isna() == True)\n",
        "                 &(data['user_score'].isna() == True)\n",
        "                 &(data['rating'].isna() == True)])\n",
        "nan_data\n"
      ],
      "execution_count": null,
      "outputs": [
        {
          "output_type": "execute_result",
          "data": {
            "text/html": [
              "<div>\n",
              "<style scoped>\n",
              "    .dataframe tbody tr th:only-of-type {\n",
              "        vertical-align: middle;\n",
              "    }\n",
              "\n",
              "    .dataframe tbody tr th {\n",
              "        vertical-align: top;\n",
              "    }\n",
              "\n",
              "    .dataframe thead th {\n",
              "        text-align: right;\n",
              "    }\n",
              "</style>\n",
              "<table border=\"1\" class=\"dataframe\">\n",
              "  <thead>\n",
              "    <tr style=\"text-align: right;\">\n",
              "      <th></th>\n",
              "      <th>name</th>\n",
              "      <th>platform</th>\n",
              "      <th>year_of_release</th>\n",
              "      <th>genre</th>\n",
              "      <th>na_sales</th>\n",
              "      <th>eu_sales</th>\n",
              "      <th>jp_sales</th>\n",
              "      <th>other_sales</th>\n",
              "      <th>critic_score</th>\n",
              "      <th>user_score</th>\n",
              "      <th>rating</th>\n",
              "    </tr>\n",
              "  </thead>\n",
              "  <tbody>\n",
              "    <tr>\n",
              "      <td>475</td>\n",
              "      <td>wwe Smackdown vs. Raw 2006</td>\n",
              "      <td>PS2</td>\n",
              "      <td>NaN</td>\n",
              "      <td>Fighting</td>\n",
              "      <td>1.57</td>\n",
              "      <td>1.02</td>\n",
              "      <td>0.00</td>\n",
              "      <td>0.41</td>\n",
              "      <td>NaN</td>\n",
              "      <td>NaN</td>\n",
              "      <td>NaN</td>\n",
              "    </tr>\n",
              "    <tr>\n",
              "      <td>609</td>\n",
              "      <td>Space Invaders</td>\n",
              "      <td>2600</td>\n",
              "      <td>NaN</td>\n",
              "      <td>Shooter</td>\n",
              "      <td>2.36</td>\n",
              "      <td>0.14</td>\n",
              "      <td>0.00</td>\n",
              "      <td>0.03</td>\n",
              "      <td>NaN</td>\n",
              "      <td>NaN</td>\n",
              "      <td>NaN</td>\n",
              "    </tr>\n",
              "    <tr>\n",
              "      <td>1300</td>\n",
              "      <td>Triple Play 99</td>\n",
              "      <td>PS</td>\n",
              "      <td>NaN</td>\n",
              "      <td>Sports</td>\n",
              "      <td>0.81</td>\n",
              "      <td>0.55</td>\n",
              "      <td>0.00</td>\n",
              "      <td>0.10</td>\n",
              "      <td>NaN</td>\n",
              "      <td>NaN</td>\n",
              "      <td>NaN</td>\n",
              "    </tr>\n",
              "    <tr>\n",
              "      <td>1505</td>\n",
              "      <td>Adventure</td>\n",
              "      <td>2600</td>\n",
              "      <td>NaN</td>\n",
              "      <td>Adventure</td>\n",
              "      <td>1.21</td>\n",
              "      <td>0.08</td>\n",
              "      <td>0.00</td>\n",
              "      <td>0.01</td>\n",
              "      <td>NaN</td>\n",
              "      <td>NaN</td>\n",
              "      <td>NaN</td>\n",
              "    </tr>\n",
              "    <tr>\n",
              "      <td>1584</td>\n",
              "      <td>Combat</td>\n",
              "      <td>2600</td>\n",
              "      <td>NaN</td>\n",
              "      <td>Action</td>\n",
              "      <td>1.17</td>\n",
              "      <td>0.07</td>\n",
              "      <td>0.00</td>\n",
              "      <td>0.01</td>\n",
              "      <td>NaN</td>\n",
              "      <td>NaN</td>\n",
              "      <td>NaN</td>\n",
              "    </tr>\n",
              "    <tr>\n",
              "      <td>...</td>\n",
              "      <td>...</td>\n",
              "      <td>...</td>\n",
              "      <td>...</td>\n",
              "      <td>...</td>\n",
              "      <td>...</td>\n",
              "      <td>...</td>\n",
              "      <td>...</td>\n",
              "      <td>...</td>\n",
              "      <td>...</td>\n",
              "      <td>...</td>\n",
              "      <td>...</td>\n",
              "    </tr>\n",
              "    <tr>\n",
              "      <td>16057</td>\n",
              "      <td>Dance! It's Your Stage</td>\n",
              "      <td>Wii</td>\n",
              "      <td>NaN</td>\n",
              "      <td>Misc</td>\n",
              "      <td>0.00</td>\n",
              "      <td>0.01</td>\n",
              "      <td>0.00</td>\n",
              "      <td>0.00</td>\n",
              "      <td>NaN</td>\n",
              "      <td>NaN</td>\n",
              "      <td>NaN</td>\n",
              "    </tr>\n",
              "    <tr>\n",
              "      <td>16077</td>\n",
              "      <td>Football Manager 2007</td>\n",
              "      <td>X360</td>\n",
              "      <td>NaN</td>\n",
              "      <td>Sports</td>\n",
              "      <td>0.00</td>\n",
              "      <td>0.01</td>\n",
              "      <td>0.00</td>\n",
              "      <td>0.00</td>\n",
              "      <td>NaN</td>\n",
              "      <td>NaN</td>\n",
              "      <td>NaN</td>\n",
              "    </tr>\n",
              "    <tr>\n",
              "      <td>16291</td>\n",
              "      <td>AKB1/48: Idol to Guam de Koishitara...</td>\n",
              "      <td>X360</td>\n",
              "      <td>NaN</td>\n",
              "      <td>Misc</td>\n",
              "      <td>0.00</td>\n",
              "      <td>0.00</td>\n",
              "      <td>0.01</td>\n",
              "      <td>0.00</td>\n",
              "      <td>NaN</td>\n",
              "      <td>NaN</td>\n",
              "      <td>NaN</td>\n",
              "    </tr>\n",
              "    <tr>\n",
              "      <td>16346</td>\n",
              "      <td>Agarest Senki: Re-appearance</td>\n",
              "      <td>PS3</td>\n",
              "      <td>NaN</td>\n",
              "      <td>Role-Playing</td>\n",
              "      <td>0.00</td>\n",
              "      <td>0.00</td>\n",
              "      <td>0.01</td>\n",
              "      <td>0.00</td>\n",
              "      <td>NaN</td>\n",
              "      <td>NaN</td>\n",
              "      <td>NaN</td>\n",
              "    </tr>\n",
              "    <tr>\n",
              "      <td>16456</td>\n",
              "      <td>Hakuouki: Shinsengumi Kitan</td>\n",
              "      <td>PS3</td>\n",
              "      <td>NaN</td>\n",
              "      <td>Adventure</td>\n",
              "      <td>0.01</td>\n",
              "      <td>0.00</td>\n",
              "      <td>0.00</td>\n",
              "      <td>0.00</td>\n",
              "      <td>NaN</td>\n",
              "      <td>NaN</td>\n",
              "      <td>NaN</td>\n",
              "    </tr>\n",
              "  </tbody>\n",
              "</table>\n",
              "<p>85 rows × 11 columns</p>\n",
              "</div>"
            ],
            "text/plain": [
              "                                         name platform  year_of_release  \\\n",
              "475                wwe Smackdown vs. Raw 2006      PS2              NaN   \n",
              "609                            Space Invaders     2600              NaN   \n",
              "1300                           Triple Play 99       PS              NaN   \n",
              "1505                                Adventure     2600              NaN   \n",
              "1584                                   Combat     2600              NaN   \n",
              "...                                       ...      ...              ...   \n",
              "16057                  Dance! It's Your Stage      Wii              NaN   \n",
              "16077                   Football Manager 2007     X360              NaN   \n",
              "16291  AKB1/48: Idol to Guam de Koishitara...     X360              NaN   \n",
              "16346            Agarest Senki: Re-appearance      PS3              NaN   \n",
              "16456             Hakuouki: Shinsengumi Kitan      PS3              NaN   \n",
              "\n",
              "              genre  na_sales  eu_sales  jp_sales  other_sales  critic_score  \\\n",
              "475        Fighting      1.57      1.02      0.00         0.41           NaN   \n",
              "609         Shooter      2.36      0.14      0.00         0.03           NaN   \n",
              "1300         Sports      0.81      0.55      0.00         0.10           NaN   \n",
              "1505      Adventure      1.21      0.08      0.00         0.01           NaN   \n",
              "1584         Action      1.17      0.07      0.00         0.01           NaN   \n",
              "...             ...       ...       ...       ...          ...           ...   \n",
              "16057          Misc      0.00      0.01      0.00         0.00           NaN   \n",
              "16077        Sports      0.00      0.01      0.00         0.00           NaN   \n",
              "16291          Misc      0.00      0.00      0.01         0.00           NaN   \n",
              "16346  Role-Playing      0.00      0.00      0.01         0.00           NaN   \n",
              "16456     Adventure      0.01      0.00      0.00         0.00           NaN   \n",
              "\n",
              "       user_score rating  \n",
              "475           NaN    NaN  \n",
              "609           NaN    NaN  \n",
              "1300          NaN    NaN  \n",
              "1505          NaN    NaN  \n",
              "1584          NaN    NaN  \n",
              "...           ...    ...  \n",
              "16057         NaN    NaN  \n",
              "16077         NaN    NaN  \n",
              "16291         NaN    NaN  \n",
              "16346         NaN    NaN  \n",
              "16456         NaN    NaN  \n",
              "\n",
              "[85 rows x 11 columns]"
            ]
          },
          "metadata": {
            "tags": []
          },
          "execution_count": 14
        }
      ]
    },
    {
      "cell_type": "code",
      "metadata": {
        "id": "ibYOm5h8q1ms",
        "outputId": "38359096-a32a-445f-cdab-e795987cec1c"
      },
      "source": [
        "nan_data.describe()"
      ],
      "execution_count": null,
      "outputs": [
        {
          "output_type": "execute_result",
          "data": {
            "text/html": [
              "<div>\n",
              "<style scoped>\n",
              "    .dataframe tbody tr th:only-of-type {\n",
              "        vertical-align: middle;\n",
              "    }\n",
              "\n",
              "    .dataframe tbody tr th {\n",
              "        vertical-align: top;\n",
              "    }\n",
              "\n",
              "    .dataframe thead th {\n",
              "        text-align: right;\n",
              "    }\n",
              "</style>\n",
              "<table border=\"1\" class=\"dataframe\">\n",
              "  <thead>\n",
              "    <tr style=\"text-align: right;\">\n",
              "      <th></th>\n",
              "      <th>year_of_release</th>\n",
              "      <th>na_sales</th>\n",
              "      <th>eu_sales</th>\n",
              "      <th>jp_sales</th>\n",
              "      <th>other_sales</th>\n",
              "      <th>critic_score</th>\n",
              "      <th>user_score</th>\n",
              "    </tr>\n",
              "  </thead>\n",
              "  <tbody>\n",
              "    <tr>\n",
              "      <td>count</td>\n",
              "      <td>0.0</td>\n",
              "      <td>85.000000</td>\n",
              "      <td>85.000000</td>\n",
              "      <td>85.000000</td>\n",
              "      <td>85.000000</td>\n",
              "      <td>0.0</td>\n",
              "      <td>0.0</td>\n",
              "    </tr>\n",
              "    <tr>\n",
              "      <td>mean</td>\n",
              "      <td>NaN</td>\n",
              "      <td>0.174588</td>\n",
              "      <td>0.040471</td>\n",
              "      <td>0.060941</td>\n",
              "      <td>0.012706</td>\n",
              "      <td>NaN</td>\n",
              "      <td>NaN</td>\n",
              "    </tr>\n",
              "    <tr>\n",
              "      <td>std</td>\n",
              "      <td>NaN</td>\n",
              "      <td>0.377733</td>\n",
              "      <td>0.133737</td>\n",
              "      <td>0.131281</td>\n",
              "      <td>0.049266</td>\n",
              "      <td>NaN</td>\n",
              "      <td>NaN</td>\n",
              "    </tr>\n",
              "    <tr>\n",
              "      <td>min</td>\n",
              "      <td>NaN</td>\n",
              "      <td>0.000000</td>\n",
              "      <td>0.000000</td>\n",
              "      <td>0.000000</td>\n",
              "      <td>0.000000</td>\n",
              "      <td>NaN</td>\n",
              "      <td>NaN</td>\n",
              "    </tr>\n",
              "    <tr>\n",
              "      <td>25%</td>\n",
              "      <td>NaN</td>\n",
              "      <td>0.000000</td>\n",
              "      <td>0.000000</td>\n",
              "      <td>0.000000</td>\n",
              "      <td>0.000000</td>\n",
              "      <td>NaN</td>\n",
              "      <td>NaN</td>\n",
              "    </tr>\n",
              "    <tr>\n",
              "      <td>50%</td>\n",
              "      <td>NaN</td>\n",
              "      <td>0.010000</td>\n",
              "      <td>0.000000</td>\n",
              "      <td>0.000000</td>\n",
              "      <td>0.000000</td>\n",
              "      <td>NaN</td>\n",
              "      <td>NaN</td>\n",
              "    </tr>\n",
              "    <tr>\n",
              "      <td>75%</td>\n",
              "      <td>NaN</td>\n",
              "      <td>0.160000</td>\n",
              "      <td>0.020000</td>\n",
              "      <td>0.060000</td>\n",
              "      <td>0.010000</td>\n",
              "      <td>NaN</td>\n",
              "      <td>NaN</td>\n",
              "    </tr>\n",
              "    <tr>\n",
              "      <td>max</td>\n",
              "      <td>NaN</td>\n",
              "      <td>2.360000</td>\n",
              "      <td>1.020000</td>\n",
              "      <td>0.770000</td>\n",
              "      <td>0.410000</td>\n",
              "      <td>NaN</td>\n",
              "      <td>NaN</td>\n",
              "    </tr>\n",
              "  </tbody>\n",
              "</table>\n",
              "</div>"
            ],
            "text/plain": [
              "       year_of_release   na_sales   eu_sales   jp_sales  other_sales  \\\n",
              "count              0.0  85.000000  85.000000  85.000000    85.000000   \n",
              "mean               NaN   0.174588   0.040471   0.060941     0.012706   \n",
              "std                NaN   0.377733   0.133737   0.131281     0.049266   \n",
              "min                NaN   0.000000   0.000000   0.000000     0.000000   \n",
              "25%                NaN   0.000000   0.000000   0.000000     0.000000   \n",
              "50%                NaN   0.010000   0.000000   0.000000     0.000000   \n",
              "75%                NaN   0.160000   0.020000   0.060000     0.010000   \n",
              "max                NaN   2.360000   1.020000   0.770000     0.410000   \n",
              "\n",
              "       critic_score  user_score  \n",
              "count           0.0         0.0  \n",
              "mean            NaN         NaN  \n",
              "std             NaN         NaN  \n",
              "min             NaN         NaN  \n",
              "25%             NaN         NaN  \n",
              "50%             NaN         NaN  \n",
              "75%             NaN         NaN  \n",
              "max             NaN         NaN  "
            ]
          },
          "metadata": {
            "tags": []
          },
          "execution_count": 15
        }
      ]
    },
    {
      "cell_type": "markdown",
      "metadata": {
        "id": "m6V_ai7hq1m7"
      },
      "source": [
        "<div class=\"alert alert-info\" style=\"border:solid blue 2px; padding: 20px\"> В этих данных нет каких-то выдающихся значений </div>"
      ]
    },
    {
      "cell_type": "code",
      "metadata": {
        "id": "kdnUFKp4q1m-"
      },
      "source": [
        "nan_data = (data[(data['year_of_release'].isna() == True)\n",
        "                 &(data['critic_score'].isna() == True)\n",
        "                 &(data['user_score'].isna() == True)\n",
        "                 &(data['rating'].isna() == True)].index.values.tolist())"
      ],
      "execution_count": null,
      "outputs": []
    },
    {
      "cell_type": "code",
      "metadata": {
        "id": "ANeh8hN9q1nJ",
        "outputId": "a1acdfcb-9323-41a0-a583-b565aabb63b3"
      },
      "source": [
        "len(nan_data)"
      ],
      "execution_count": null,
      "outputs": [
        {
          "output_type": "execute_result",
          "data": {
            "text/plain": [
              "85"
            ]
          },
          "metadata": {
            "tags": []
          },
          "execution_count": 17
        }
      ]
    },
    {
      "cell_type": "markdown",
      "metadata": {
        "id": "2Ieg3Zwhq1nT"
      },
      "source": [
        "Таких строк немного, так что можем их удалить."
      ]
    },
    {
      "cell_type": "code",
      "metadata": {
        "id": "Av2kGOw4q1nV"
      },
      "source": [
        "data = data.drop(index=nan_data).reset_index(drop=True)"
      ],
      "execution_count": null,
      "outputs": []
    },
    {
      "cell_type": "markdown",
      "metadata": {
        "id": "R6aQlTmhq1nh"
      },
      "source": [
        "### Добавим суммарные продажи"
      ]
    },
    {
      "cell_type": "code",
      "metadata": {
        "id": "NtTB761pq1nj"
      },
      "source": [
        "data['total_sales'] = data['na_sales'] + data['eu_sales'] + data['jp_sales'] + data['other_sales']"
      ],
      "execution_count": null,
      "outputs": []
    },
    {
      "cell_type": "code",
      "metadata": {
        "scrolled": true,
        "id": "veu26nJhq1nu",
        "outputId": "23b50b83-86f9-4d6f-d48c-5fc1ea3192ca"
      },
      "source": [
        "data.head()"
      ],
      "execution_count": null,
      "outputs": [
        {
          "output_type": "execute_result",
          "data": {
            "text/html": [
              "<div>\n",
              "<style scoped>\n",
              "    .dataframe tbody tr th:only-of-type {\n",
              "        vertical-align: middle;\n",
              "    }\n",
              "\n",
              "    .dataframe tbody tr th {\n",
              "        vertical-align: top;\n",
              "    }\n",
              "\n",
              "    .dataframe thead th {\n",
              "        text-align: right;\n",
              "    }\n",
              "</style>\n",
              "<table border=\"1\" class=\"dataframe\">\n",
              "  <thead>\n",
              "    <tr style=\"text-align: right;\">\n",
              "      <th></th>\n",
              "      <th>name</th>\n",
              "      <th>platform</th>\n",
              "      <th>year_of_release</th>\n",
              "      <th>genre</th>\n",
              "      <th>na_sales</th>\n",
              "      <th>eu_sales</th>\n",
              "      <th>jp_sales</th>\n",
              "      <th>other_sales</th>\n",
              "      <th>critic_score</th>\n",
              "      <th>user_score</th>\n",
              "      <th>rating</th>\n",
              "      <th>total_sales</th>\n",
              "    </tr>\n",
              "  </thead>\n",
              "  <tbody>\n",
              "    <tr>\n",
              "      <td>0</td>\n",
              "      <td>Wii Sports</td>\n",
              "      <td>Wii</td>\n",
              "      <td>2006.0</td>\n",
              "      <td>Sports</td>\n",
              "      <td>41.36</td>\n",
              "      <td>28.96</td>\n",
              "      <td>3.77</td>\n",
              "      <td>8.45</td>\n",
              "      <td>76.0</td>\n",
              "      <td>8.0</td>\n",
              "      <td>E</td>\n",
              "      <td>82.54</td>\n",
              "    </tr>\n",
              "    <tr>\n",
              "      <td>1</td>\n",
              "      <td>Super Mario Bros.</td>\n",
              "      <td>NES</td>\n",
              "      <td>1985.0</td>\n",
              "      <td>Platform</td>\n",
              "      <td>29.08</td>\n",
              "      <td>3.58</td>\n",
              "      <td>6.81</td>\n",
              "      <td>0.77</td>\n",
              "      <td>NaN</td>\n",
              "      <td>NaN</td>\n",
              "      <td>NaN</td>\n",
              "      <td>40.24</td>\n",
              "    </tr>\n",
              "    <tr>\n",
              "      <td>2</td>\n",
              "      <td>Mario Kart Wii</td>\n",
              "      <td>Wii</td>\n",
              "      <td>2008.0</td>\n",
              "      <td>Racing</td>\n",
              "      <td>15.68</td>\n",
              "      <td>12.76</td>\n",
              "      <td>3.79</td>\n",
              "      <td>3.29</td>\n",
              "      <td>82.0</td>\n",
              "      <td>8.3</td>\n",
              "      <td>E</td>\n",
              "      <td>35.52</td>\n",
              "    </tr>\n",
              "    <tr>\n",
              "      <td>3</td>\n",
              "      <td>Wii Sports Resort</td>\n",
              "      <td>Wii</td>\n",
              "      <td>2009.0</td>\n",
              "      <td>Sports</td>\n",
              "      <td>15.61</td>\n",
              "      <td>10.93</td>\n",
              "      <td>3.28</td>\n",
              "      <td>2.95</td>\n",
              "      <td>80.0</td>\n",
              "      <td>8.0</td>\n",
              "      <td>E</td>\n",
              "      <td>32.77</td>\n",
              "    </tr>\n",
              "    <tr>\n",
              "      <td>4</td>\n",
              "      <td>Pokemon Red/Pokemon Blue</td>\n",
              "      <td>GB</td>\n",
              "      <td>1996.0</td>\n",
              "      <td>Role-Playing</td>\n",
              "      <td>11.27</td>\n",
              "      <td>8.89</td>\n",
              "      <td>10.22</td>\n",
              "      <td>1.00</td>\n",
              "      <td>NaN</td>\n",
              "      <td>NaN</td>\n",
              "      <td>NaN</td>\n",
              "      <td>31.38</td>\n",
              "    </tr>\n",
              "  </tbody>\n",
              "</table>\n",
              "</div>"
            ],
            "text/plain": [
              "                       name platform  year_of_release         genre  na_sales  \\\n",
              "0                Wii Sports      Wii           2006.0        Sports     41.36   \n",
              "1         Super Mario Bros.      NES           1985.0      Platform     29.08   \n",
              "2            Mario Kart Wii      Wii           2008.0        Racing     15.68   \n",
              "3         Wii Sports Resort      Wii           2009.0        Sports     15.61   \n",
              "4  Pokemon Red/Pokemon Blue       GB           1996.0  Role-Playing     11.27   \n",
              "\n",
              "   eu_sales  jp_sales  other_sales  critic_score  user_score rating  \\\n",
              "0     28.96      3.77         8.45          76.0         8.0      E   \n",
              "1      3.58      6.81         0.77           NaN         NaN    NaN   \n",
              "2     12.76      3.79         3.29          82.0         8.3      E   \n",
              "3     10.93      3.28         2.95          80.0         8.0      E   \n",
              "4      8.89     10.22         1.00           NaN         NaN    NaN   \n",
              "\n",
              "   total_sales  \n",
              "0        82.54  \n",
              "1        40.24  \n",
              "2        35.52  \n",
              "3        32.77  \n",
              "4        31.38  "
            ]
          },
          "metadata": {
            "tags": []
          },
          "execution_count": 20
        }
      ]
    },
    {
      "cell_type": "code",
      "metadata": {
        "id": "Y4U8yOyEq1n-",
        "outputId": "a0907947-84fb-4381-a5a0-fd17f74ca66e"
      },
      "source": [
        "print('Количество строк, где были пропущены данные с оценками :', len(data[(data['critic_score'].isna() == True)\n",
        "                 |(data['user_score'].isna() == True)\n",
        "                 |(data['rating'].isna() == True)])/ len(data))"
      ],
      "execution_count": null,
      "outputs": [
        {
          "output_type": "stream",
          "text": [
            "Количество строк, где были пропущены данные с оценками : 0.5822107288910272\n"
          ],
          "name": "stdout"
        }
      ]
    },
    {
      "cell_type": "markdown",
      "metadata": {
        "id": "BuUFhN1sq1oM"
      },
      "source": [
        "<div class=\"alert alert-info\" style=\"border:solid blue 2px; padding: 20px\"> Пропусков в столбцах с оценками очень много, болеше 50%, поэтому мы не можем их удалить, так же у нас недостаточно информации чтобы их как-то заполнить, так что оставим их как есть. </div>"
      ]
    },
    {
      "cell_type": "markdown",
      "metadata": {
        "id": "Koc6E9CMq1oQ"
      },
      "source": [
        "# Анализ данных"
      ]
    },
    {
      "cell_type": "markdown",
      "metadata": {
        "id": "CZQ2Air5q1oR"
      },
      "source": [
        "#### Сколько игр выпускалось в разные годы, важны ли данные за все периоды?"
      ]
    },
    {
      "cell_type": "code",
      "metadata": {
        "id": "MF9JkcW6q1oU",
        "outputId": "3bf1412f-4397-4cc7-862f-654261e209ca"
      },
      "source": [
        "data.groupby(by='year_of_release')['name'].nunique().plot(grid = True, figsize=(7,5), title='Количество выпускаемых игр в разные годы')\n",
        "plt.show()"
      ],
      "execution_count": null,
      "outputs": [
        {
          "output_type": "display_data",
          "data": {
            "image/png": "[encoded data removed]",
            "text/plain": [
              "<Figure size 504x360 with 1 Axes>"
            ]
          },
          "metadata": {
            "tags": [],
            "needs_background": "light"
          }
        }
      ]
    },
    {
      "cell_type": "markdown",
      "metadata": {
        "id": "ZefW3nW3q1og"
      },
      "source": [
        "После 1995 года начался рост выпускаемых игр.  Отбросим данные до этого года, так как они нам неважны."
      ]
    },
    {
      "cell_type": "markdown",
      "metadata": {
        "id": "-bsXK1-_q1oj"
      },
      "source": [
        "<div class=\"alert alert-info\" style=\"border:solid blue 2px; padding: 20px\"> Я думаю это может быть связано с развитием разработки мобильных игр </div>"
      ]
    },
    {
      "cell_type": "code",
      "metadata": {
        "id": "bMta2YX-q1om"
      },
      "source": [
        "new_data = data.query('year_of_release > 1995')"
      ],
      "execution_count": null,
      "outputs": []
    },
    {
      "cell_type": "markdown",
      "metadata": {
        "id": "8p_8OUnKq1ow"
      },
      "source": [
        "---\n",
        "#### Как менялись продажи по платформам? Выберите платформы с наибольшими суммарными продажами и постройте распределение по годам."
      ]
    },
    {
      "cell_type": "code",
      "metadata": {
        "id": "2Fv91CtYq1ox",
        "outputId": "5ae1a810-bed8-425a-cf49-455ff63df427"
      },
      "source": [
        "platform_sales = new_data.groupby(['platform','year_of_release']).agg({'total_sales':'sum'}).reset_index(level = 'year_of_release')\n",
        "top10_platform = new_data.groupby('platform')['total_sales'].sum().sort_values(ascending = False)[0:10].index\n",
        "for item in platform_sales.index.unique():\n",
        "    if item in top10_platform:\n",
        "        platform_sales[platform_sales.index == item].plot(x = 'year_of_release', y = 'total_sales', title = item)"
      ],
      "execution_count": null,
      "outputs": [
        {
          "output_type": "display_data",
          "data": {
            "image/png": "[encoded data removed]",
            "text/plain": [
              "<Figure size 432x288 with 1 Axes>"
            ]
          },
          "metadata": {
            "tags": [],
            "needs_background": "light"
          }
        },
        {
          "output_type": "display_data",
          "data": {
            "image/png": "[encoded data removed]",
            "text/plain": [
              "<Figure size 432x288 with 1 Axes>"
            ]
          },
          "metadata": {
            "tags": [],
            "needs_background": "light"
          }
        },
        {
          "output_type": "display_data",
          "data": {
            "image/png": "[encoded data removed]",
            "text/plain": [
              "<Figure size 432x288 with 1 Axes>"
            ]
          },
          "metadata": {
            "tags": [],
            "needs_background": "light"
          }
        },
        {
          "output_type": "display_data",
          "data": {
            "image/png": "[encoded data removed]",
            "text/plain": [
              "<Figure size 432x288 with 1 Axes>"
            ]
          },
          "metadata": {
            "tags": [],
            "needs_background": "light"
          }
        },
        {
          "output_type": "display_data",
          "data": {
            "image/png": "[encoded data removed]",
            "text/plain": [
              "<Figure size 432x288 with 1 Axes>"
            ]
          },
          "metadata": {
            "tags": [],
            "needs_background": "light"
          }
        },
        {
          "output_type": "display_data",
          "data": {
            "image/png": "[encoded data removed]",
            "text/plain": [
              "<Figure size 432x288 with 1 Axes>"
            ]
          },
          "metadata": {
            "tags": [],
            "needs_background": "light"
          }
        },
        {
          "output_type": "display_data",
          "data": {
            "image/png": "[encoded data removed]",
            "text/plain": [
              "<Figure size 432x288 with 1 Axes>"
            ]
          },
          "metadata": {
            "tags": [],
            "needs_background": "light"
          }
        },
        {
          "output_type": "display_data",
          "data": {
            "image/png": "[encoded data removed]",
            "text/plain": [
              "<Figure size 432x288 with 1 Axes>"
            ]
          },
          "metadata": {
            "tags": [],
            "needs_background": "light"
          }
        },
        {
          "output_type": "display_data",
          "data": {
            "image/png": "[encoded data removed]",
            "text/plain": [
              "<Figure size 432x288 with 1 Axes>"
            ]
          },
          "metadata": {
            "tags": [],
            "needs_background": "light"
          }
        },
        {
          "output_type": "display_data",
          "data": {
            "image/png": "[encoded data removed]",
            "text/plain": [
              "<Figure size 432x288 with 1 Axes>"
            ]
          },
          "metadata": {
            "tags": [],
            "needs_background": "light"
          }
        }
      ]
    },
    {
      "cell_type": "markdown",
      "metadata": {
        "id": "JMgooOHBq1o6"
      },
      "source": [
        "В топ 10 вошли следующие платформы: PS2, X360, PS3, Wii, DS, PS, PS4, GBA, PSP, 3DS. \n",
        "Из них к 2016 году только у **PS4** продажи остались на уровне, у всех остальных продажи стремятся к нулю."
      ]
    },
    {
      "cell_type": "markdown",
      "metadata": {
        "id": "2qTrU4QPq1o8"
      },
      "source": [
        "---\n",
        "#### За какой характерный срок появляются новые и исчезают старые платформы?"
      ]
    },
    {
      "cell_type": "markdown",
      "metadata": {
        "id": "BWvbOL-dq1pA"
      },
      "source": [
        "Создадим массив с акутальными на 2016 платформами (на мой взгляд актуальными можно считать те, последняя игра на которых вышла не ранее 2015 года)."
      ]
    },
    {
      "cell_type": "code",
      "metadata": {
        "id": "jA0iuHv7q1pD"
      },
      "source": [
        "actual_platforms = data.query('year_of_release >= 2015')['platform'].unique()"
      ],
      "execution_count": null,
      "outputs": []
    },
    {
      "cell_type": "code",
      "metadata": {
        "id": "EdIrvNKIq1pL",
        "outputId": "3eec64c4-d415-4e23-a246-4c96562ac7b4"
      },
      "source": [
        "actual_platforms"
      ],
      "execution_count": null,
      "outputs": [
        {
          "output_type": "execute_result",
          "data": {
            "text/plain": [
              "array(['PS4', 'XOne', '3DS', 'WiiU', 'PS3', 'X360', 'PC', 'Wii', 'PSV',\n",
              "       'PSP'], dtype=object)"
            ]
          },
          "metadata": {
            "tags": []
          },
          "execution_count": 26
        }
      ]
    },
    {
      "cell_type": "markdown",
      "metadata": {
        "id": "NdSUbcriq1pS"
      },
      "source": [
        "Посчитаем среднее значение \"жизни\" платформы, для этого из даты релиза последней игры вычтем дату релиза первой игра на определнной платформе. При этом мы исключили актуальные на 2016 год платформы."
      ]
    },
    {
      "cell_type": "code",
      "metadata": {
        "id": "YBPLilJaq1pT",
        "outputId": "02eecb9d-7768-4bd6-d0de-0ee403356534"
      },
      "source": [
        "((data.query('platform not in @ actual_platforms')\n",
        "  .groupby('platform')['year_of_release'].max() - data.groupby('platform')['year_of_release'].min())\n",
        " .mean())"
      ],
      "execution_count": null,
      "outputs": [
        {
          "output_type": "execute_result",
          "data": {
            "text/plain": [
              "6.809523809523809"
            ]
          },
          "metadata": {
            "tags": []
          },
          "execution_count": 27
        }
      ]
    },
    {
      "cell_type": "markdown",
      "metadata": {
        "id": "PDIO-2idq1pb"
      },
      "source": [
        "Средняя продолжительность \"жизни\" платформы около 7 лет."
      ]
    },
    {
      "cell_type": "markdown",
      "metadata": {
        "id": "SfAtmI8Xq1pl"
      },
      "source": [
        "---\n",
        "#### Актуальный период "
      ]
    },
    {
      "cell_type": "markdown",
      "metadata": {
        "id": "HFfZ4vjoq1pm"
      },
      "source": [
        "Так как продажи почти у всех платформ стремятся к нулю, то в актуальный период можно выделить последние четыре года, чтобы увидеть у каких платформ больший объем продаж."
      ]
    },
    {
      "cell_type": "code",
      "metadata": {
        "id": "kjU8ITxyq1pp"
      },
      "source": [
        "actual_data = data.query('year_of_release >= 2013')"
      ],
      "execution_count": null,
      "outputs": []
    },
    {
      "cell_type": "markdown",
      "metadata": {
        "id": "n4MgJoKvq1p5"
      },
      "source": [
        "---\n",
        "#### Какие платформы лидируют по продажам, растут или падают? Выберите несколько потенциально прибыльных платформ."
      ]
    },
    {
      "cell_type": "code",
      "metadata": {
        "id": "nr3TGjhZq1p7",
        "outputId": "40f4e542-a76a-44a5-8ec5-82959f7d0a14"
      },
      "source": [
        "actual_sales = (actual_data\n",
        "                .groupby(['platform','year_of_release'])\n",
        "                .agg({'total_sales':'sum'})\n",
        "                .reset_index(level = 'year_of_release'))\n",
        "for item in actual_sales.index.unique():\n",
        "    actual_sales[actual_sales.index == item].plot(x = 'year_of_release', y = 'total_sales', title = item)"
      ],
      "execution_count": null,
      "outputs": [
        {
          "output_type": "stream",
          "text": [
            "/opt/conda/lib/python3.7/site-packages/pandas/plotting/_matplotlib/core.py:1085: UserWarning: Attempting to set identical left == right == 2013.0 results in singular transformations; automatically expanding.\n",
            "  ax.set_xlim(left, right)\n"
          ],
          "name": "stderr"
        },
        {
          "output_type": "display_data",
          "data": {
            "image/png": "[encoded data removed]",
            "text/plain": [
              "<Figure size 432x288 with 1 Axes>"
            ]
          },
          "metadata": {
            "tags": [],
            "needs_background": "light"
          }
        },
        {
          "output_type": "display_data",
          "data": {
            "image/png": "[encoded data removed]",
            "text/plain": [
              "<Figure size 432x288 with 1 Axes>"
            ]
          },
          "metadata": {
            "tags": [],
            "needs_background": "light"
          }
        },
        {
          "output_type": "display_data",
          "data": {
            "image/png": "[encoded data removed]",
            "text/plain": [
              "<Figure size 432x288 with 1 Axes>"
            ]
          },
          "metadata": {
            "tags": [],
            "needs_background": "light"
          }
        },
        {
          "output_type": "display_data",
          "data": {
            "image/png": "[encoded data removed]",
            "text/plain": [
              "<Figure size 432x288 with 1 Axes>"
            ]
          },
          "metadata": {
            "tags": [],
            "needs_background": "light"
          }
        },
        {
          "output_type": "display_data",
          "data": {
            "image/png": "[encoded data removed]",
            "text/plain": [
              "<Figure size 432x288 with 1 Axes>"
            ]
          },
          "metadata": {
            "tags": [],
            "needs_background": "light"
          }
        },
        {
          "output_type": "display_data",
          "data": {
            "image/png": "[encoded data removed]",
            "text/plain": [
              "<Figure size 432x288 with 1 Axes>"
            ]
          },
          "metadata": {
            "tags": [],
            "needs_background": "light"
          }
        },
        {
          "output_type": "display_data",
          "data": {
            "image/png": "[encoded data removed]",
            "text/plain": [
              "<Figure size 432x288 with 1 Axes>"
            ]
          },
          "metadata": {
            "tags": [],
            "needs_background": "light"
          }
        },
        {
          "output_type": "display_data",
          "data": {
            "image/png": "[encoded data removed]",
            "text/plain": [
              "<Figure size 432x288 with 1 Axes>"
            ]
          },
          "metadata": {
            "tags": [],
            "needs_background": "light"
          }
        },
        {
          "output_type": "display_data",
          "data": {
            "image/png": "[encoded data removed]",
            "text/plain": [
              "<Figure size 432x288 with 1 Axes>"
            ]
          },
          "metadata": {
            "tags": [],
            "needs_background": "light"
          }
        },
        {
          "output_type": "display_data",
          "data": {
            "image/png": "[encoded data removed]",
            "text/plain": [
              "<Figure size 432x288 with 1 Axes>"
            ]
          },
          "metadata": {
            "tags": [],
            "needs_background": "light"
          }
        },
        {
          "output_type": "display_data",
          "data": {
            "image/png": "[encoded data removed]",
            "text/plain": [
              "<Figure size 432x288 with 1 Axes>"
            ]
          },
          "metadata": {
            "tags": [],
            "needs_background": "light"
          }
        }
      ]
    },
    {
      "cell_type": "markdown",
      "metadata": {
        "id": "uPsiDOdLq1qD"
      },
      "source": [
        "Продажи всех платформ кроме **PS4** и **XOne** упали."
      ]
    },
    {
      "cell_type": "markdown",
      "metadata": {
        "id": "8CrPgiBxq1qG"
      },
      "source": [
        "---\n",
        "#### Постройте график «ящик с усами» по глобальным продажам игр в разбивке по платформам. Опишите результат."
      ]
    },
    {
      "cell_type": "code",
      "metadata": {
        "id": "4IhuPYwDq1qI",
        "outputId": "b53765cd-708a-4bef-92de-a4d9d61fd7b6"
      },
      "source": [
        "sns.catplot(x = 'platform',y='total_sales', data=actual_data, kind='box', height=7)\n",
        "plt.ylim(0, 5)"
      ],
      "execution_count": null,
      "outputs": [
        {
          "output_type": "execute_result",
          "data": {
            "text/plain": [
              "(0, 5)"
            ]
          },
          "metadata": {
            "tags": []
          },
          "execution_count": 30
        },
        {
          "output_type": "display_data",
          "data": {
            "image/png": "[encoded data removed]",
            "text/plain": [
              "<Figure size 504x504 with 1 Axes>"
            ]
          },
          "metadata": {
            "tags": [],
            "needs_background": "light"
          }
        }
      ]
    },
    {
      "cell_type": "markdown",
      "metadata": {
        "id": "6kBMAbPNq1qQ"
      },
      "source": [
        "Медианное значение продаж самых популярных платформ находится примерно на одном уровне. Так же присутвует большое количество выбросов, это может быть связано с выходи очень популярной игры, которую покупают чаще среднестатистической игры."
      ]
    },
    {
      "cell_type": "markdown",
      "metadata": {
        "id": "Tj59Zhn-q1qS"
      },
      "source": [
        "<div class=\"alert alert-info\" style=\"border:solid blue 2px; padding: 20px\"> Возможно разница формируется из-за того, что это крупные распиаренные платформы, или на этих платформах выходит большее количество игр из-за более простой адаптации под них игр </div>"
      ]
    },
    {
      "cell_type": "markdown",
      "metadata": {
        "id": "jxzJigp_q1qV"
      },
      "source": [
        "---\n",
        "####  Как влияют на продажи внутри одной популярной платформы отзывы пользователей и критиков? Постройте диаграмму рассеяния и посчитайте корреляцию между отзывами и продажами. Сформулируйте выводы."
      ]
    },
    {
      "cell_type": "code",
      "metadata": {
        "id": "ojcFMhMtq1qW",
        "outputId": "9dd47b9a-7f20-4f33-b22b-2fedca9023ac"
      },
      "source": [
        "actual_data.plot(x='user_score', y='total_sales', kind='scatter', title='Зависимость продаж от оценок пользователей')\n",
        "plt.show()\n",
        "actual_data.plot(x='critic_score', y='total_sales', kind='scatter', title='Зависимость продаж от оценок критиков')\n",
        "plt.show()"
      ],
      "execution_count": null,
      "outputs": [
        {
          "output_type": "display_data",
          "data": {
            "image/png": "[encoded data removed]",
            "text/plain": [
              "<Figure size 432x288 with 1 Axes>"
            ]
          },
          "metadata": {
            "tags": [],
            "needs_background": "light"
          }
        },
        {
          "output_type": "display_data",
          "data": {
            "image/png": "[encoded data removed]",
            "text/plain": [
              "<Figure size 432x288 with 1 Axes>"
            ]
          },
          "metadata": {
            "tags": [],
            "needs_background": "light"
          }
        }
      ]
    },
    {
      "cell_type": "code",
      "metadata": {
        "id": "ga108lcsq1qr",
        "outputId": "5ef60c38-3052-47e5-ffaf-5b51c9b63962"
      },
      "source": [
        "print('Корреляция между отзывами пользователей и продажами:', actual_data['total_sales'].corr(actual_data['user_score']))\n",
        "print('Корреляция между отзывами критиков и продажами:', actual_data['total_sales'].corr(actual_data['critic_score']))"
      ],
      "execution_count": null,
      "outputs": [
        {
          "output_type": "stream",
          "text": [
            "Корреляция между отзывами пользователей и продажами: -0.0026078133545982727\n",
            "Корреляция между отзывами критиков и продажами: 0.3136995151027369\n"
          ],
          "name": "stdout"
        }
      ]
    },
    {
      "cell_type": "code",
      "metadata": {
        "id": "5hNxCRn3q1q1",
        "outputId": "4f14bb76-cc79-4097-98be-61348cdb4643"
      },
      "source": [
        "actual_data.query('platform == \"PS4\"').plot(x='user_score', y='total_sales', kind='scatter', title='Зависимость продаж от отзывов пользоваталей PS4')\n",
        "plt.show()\n",
        "actual_data.query('platform == \"PS4\"').plot(x='critic_score', y='total_sales', kind='scatter', title='Зависимость продаж от отзывов критиков PS4')\n",
        "plt.show()\n"
      ],
      "execution_count": null,
      "outputs": [
        {
          "output_type": "display_data",
          "data": {
            "image/png": "[encoded data removed]",
            "text/plain": [
              "<Figure size 432x288 with 1 Axes>"
            ]
          },
          "metadata": {
            "tags": [],
            "needs_background": "light"
          }
        },
        {
          "output_type": "display_data",
          "data": {
            "image/png": "[encoded data removed]",
            "text/plain": [
              "<Figure size 432x288 with 1 Axes>"
            ]
          },
          "metadata": {
            "tags": [],
            "needs_background": "light"
          }
        }
      ]
    },
    {
      "cell_type": "code",
      "metadata": {
        "id": "DfGtAJJtq1rA",
        "outputId": "1db090ac-fd5a-46ed-9b32-fff74bd2f748"
      },
      "source": [
        "print('Корреляция между отзывами пользователей и продажами на платформе PS4', actual_data.query('platform == \"PS4\"')['user_score'].corr(actual_data.query('platform == \"PS4\"')['total_sales']) )\n",
        "print('Корреляция между отзывами критиков и продажами на платформе PS4', actual_data.query('platform == \"PS4\"')['critic_score'].corr(actual_data.query('platform == \"PS4\"')['total_sales']) )"
      ],
      "execution_count": null,
      "outputs": [
        {
          "output_type": "stream",
          "text": [
            "Корреляция между отзывами пользователей и продажами на платформе PS4 -0.031957110204556424\n",
            "Корреляция между отзывами критиков и продажами на платформе PS4 0.40656790206178095\n"
          ],
          "name": "stdout"
        }
      ]
    },
    {
      "cell_type": "code",
      "metadata": {
        "id": "XRZDa3sAq1rM",
        "outputId": "f0dfcbab-f1c7-457c-bcc9-8952d2914387"
      },
      "source": [
        "actual_data.query('platform == \"XOne\"').plot(x='user_score', y='total_sales', kind='scatter', title='Зависимость продаж от отзывов пользоваталей XOne')\n",
        "plt.show()\n",
        "actual_data.query('platform == \"XOne\"').plot(x='critic_score', y='total_sales', kind='scatter', title='Зависимость продаж от отзывов критиков XOne')\n",
        "plt.show()"
      ],
      "execution_count": null,
      "outputs": [
        {
          "output_type": "display_data",
          "data": {
            "image/png": "[encoded data removed]",
            "text/plain": [
              "<Figure size 432x288 with 1 Axes>"
            ]
          },
          "metadata": {
            "tags": [],
            "needs_background": "light"
          }
        },
        {
          "output_type": "display_data",
          "data": {
            "image/png": "[encoded data removed]",
            "text/plain": [
              "<Figure size 432x288 with 1 Axes>"
            ]
          },
          "metadata": {
            "tags": [],
            "needs_background": "light"
          }
        }
      ]
    },
    {
      "cell_type": "code",
      "metadata": {
        "id": "ZU8amflYq1rU",
        "outputId": "a6cf73e7-7486-4081-d50b-170fb977702b"
      },
      "source": [
        "print('Корреляция между отзывами пользователей и продажами на платформе XOne', actual_data.query('platform == \"XOne\"')['user_score'].corr(actual_data.query('platform == \"XOne\"')['total_sales']) )\n",
        "print('Корреляция между отзывами критиков и продажами на платформе XOne', actual_data.query('platform == \"XOne\"')['critic_score'].corr(actual_data.query('platform == \"XOne\"')['total_sales']) )"
      ],
      "execution_count": null,
      "outputs": [
        {
          "output_type": "stream",
          "text": [
            "Корреляция между отзывами пользователей и продажами на платформе XOne -0.06892505328279414\n",
            "Корреляция между отзывами критиков и продажами на платформе XOne 0.4169983280084017\n"
          ],
          "name": "stdout"
        }
      ]
    },
    {
      "cell_type": "markdown",
      "metadata": {
        "id": "uoprTtoZq1rg"
      },
      "source": [
        "Похоже что при покупке игр пользователь ориентируется только на оценки критиков."
      ]
    },
    {
      "cell_type": "markdown",
      "metadata": {
        "id": "5tfBIokIq1rj"
      },
      "source": [
        "<div class=\"alert alert-info\" style=\"border:solid blue 2px; padding: 20px\"> Возможно на мнение пользователей отрицательно влияют оценки других пользователй из-за того, что их оценки зачастую эмоционально окрашены и менее объективны, нежели оценки критиков, задача которых объективно оценивать игру. </div>"
      ]
    },
    {
      "cell_type": "markdown",
      "metadata": {
        "id": "yqF_6eWcq1rn"
      },
      "source": [
        "---\n",
        "#### Посмотрите на общее распределение игр по жанрам. Что можно сказать о самых прибыльных жанрах? Выделяются ли жанры с высокими и низкими продажами?"
      ]
    },
    {
      "cell_type": "code",
      "metadata": {
        "id": "8_3WuBc-q1ro",
        "outputId": "82fc98b2-fa7e-41b5-f880-7fa5dcdff5ac"
      },
      "source": [
        "actual_data.groupby('genre').agg({'name':'count', 'total_sales':'sum'}).sort_values(by='name', ascending=False)"
      ],
      "execution_count": null,
      "outputs": [
        {
          "output_type": "execute_result",
          "data": {
            "text/html": [
              "<div>\n",
              "<style scoped>\n",
              "    .dataframe tbody tr th:only-of-type {\n",
              "        vertical-align: middle;\n",
              "    }\n",
              "\n",
              "    .dataframe tbody tr th {\n",
              "        vertical-align: top;\n",
              "    }\n",
              "\n",
              "    .dataframe thead th {\n",
              "        text-align: right;\n",
              "    }\n",
              "</style>\n",
              "<table border=\"1\" class=\"dataframe\">\n",
              "  <thead>\n",
              "    <tr style=\"text-align: right;\">\n",
              "      <th></th>\n",
              "      <th>name</th>\n",
              "      <th>total_sales</th>\n",
              "    </tr>\n",
              "    <tr>\n",
              "      <th>genre</th>\n",
              "      <th></th>\n",
              "      <th></th>\n",
              "    </tr>\n",
              "  </thead>\n",
              "  <tbody>\n",
              "    <tr>\n",
              "      <td>Action</td>\n",
              "      <td>766</td>\n",
              "      <td>321.87</td>\n",
              "    </tr>\n",
              "    <tr>\n",
              "      <td>Role-Playing</td>\n",
              "      <td>292</td>\n",
              "      <td>145.89</td>\n",
              "    </tr>\n",
              "    <tr>\n",
              "      <td>Adventure</td>\n",
              "      <td>245</td>\n",
              "      <td>23.64</td>\n",
              "    </tr>\n",
              "    <tr>\n",
              "      <td>Sports</td>\n",
              "      <td>214</td>\n",
              "      <td>150.65</td>\n",
              "    </tr>\n",
              "    <tr>\n",
              "      <td>Shooter</td>\n",
              "      <td>187</td>\n",
              "      <td>232.98</td>\n",
              "    </tr>\n",
              "    <tr>\n",
              "      <td>Misc</td>\n",
              "      <td>155</td>\n",
              "      <td>62.82</td>\n",
              "    </tr>\n",
              "    <tr>\n",
              "      <td>Racing</td>\n",
              "      <td>85</td>\n",
              "      <td>39.89</td>\n",
              "    </tr>\n",
              "    <tr>\n",
              "      <td>Fighting</td>\n",
              "      <td>80</td>\n",
              "      <td>35.31</td>\n",
              "    </tr>\n",
              "    <tr>\n",
              "      <td>Platform</td>\n",
              "      <td>74</td>\n",
              "      <td>42.63</td>\n",
              "    </tr>\n",
              "    <tr>\n",
              "      <td>Simulation</td>\n",
              "      <td>62</td>\n",
              "      <td>21.76</td>\n",
              "    </tr>\n",
              "    <tr>\n",
              "      <td>Strategy</td>\n",
              "      <td>56</td>\n",
              "      <td>10.08</td>\n",
              "    </tr>\n",
              "    <tr>\n",
              "      <td>Puzzle</td>\n",
              "      <td>17</td>\n",
              "      <td>3.17</td>\n",
              "    </tr>\n",
              "  </tbody>\n",
              "</table>\n",
              "</div>"
            ],
            "text/plain": [
              "              name  total_sales\n",
              "genre                          \n",
              "Action         766       321.87\n",
              "Role-Playing   292       145.89\n",
              "Adventure      245        23.64\n",
              "Sports         214       150.65\n",
              "Shooter        187       232.98\n",
              "Misc           155        62.82\n",
              "Racing          85        39.89\n",
              "Fighting        80        35.31\n",
              "Platform        74        42.63\n",
              "Simulation      62        21.76\n",
              "Strategy        56        10.08\n",
              "Puzzle          17         3.17"
            ]
          },
          "metadata": {
            "tags": []
          },
          "execution_count": 37
        }
      ]
    },
    {
      "cell_type": "code",
      "metadata": {
        "id": "to6oTV9Zq1rx",
        "outputId": "85260bc8-00a7-4c40-def7-83d69ce2f8f9"
      },
      "source": [
        "(actual_data.groupby('genre')\n",
        " .agg({'name':'count'})\n",
        " .sort_values(by='name', ascending=False)\n",
        " .plot(kind='bar', title='Распределение игр по жанрам', figsize=(6,6)))\n",
        "plt.show()"
      ],
      "execution_count": null,
      "outputs": [
        {
          "output_type": "display_data",
          "data": {
            "image/png": "[encoded data removed]",
            "text/plain": [
              "<Figure size 432x432 with 1 Axes>"
            ]
          },
          "metadata": {
            "tags": [],
            "needs_background": "light"
          }
        }
      ]
    },
    {
      "cell_type": "code",
      "metadata": {
        "id": "iEVeZjfQq1sC",
        "outputId": "77dd14e2-bb69-40e7-fcd0-27161abf12a9"
      },
      "source": [
        "(actual_data.groupby('genre')\n",
        " .agg({'total_sales':'sum'})\n",
        " .sort_values(by='total_sales', ascending = False)\n",
        " .plot(kind='bar', title='Самые прибыльные жанры', figsize=(6,6)))\n",
        "plt.show()"
      ],
      "execution_count": null,
      "outputs": [
        {
          "output_type": "display_data",
          "data": {
            "image/png": "[encoded data removed]",
            "text/plain": [
              "<Figure size 432x432 with 1 Axes>"
            ]
          },
          "metadata": {
            "tags": [],
            "needs_background": "light"
          }
        }
      ]
    },
    {
      "cell_type": "markdown",
      "metadata": {
        "id": "vJztHYKlq1sO"
      },
      "source": [
        "Жанр **Action** является абсолютным лидером по количеству выпускаемых игр. При этом, несмотря на то, что игр в жанре **Action** в 4 раза больше чем игр в жанре Shooter суммарные продажи отличются лишь 1.2 раза. Следовательно игры в жанре **Shooter** более прибыльные, но стоит учитывать тот факт, что такие игры более трудно- и времязатратны. Также к самым прибыльным жанрам игр можно отнести **Sports** и **Role-Playing**.\n",
        "\n",
        "Жанр **Puzzle** с самыми маленькими продажами также является и самым непопулярным у разрабочиков, так как игр в этом жанре меньше всего.\n"
      ]
    },
    {
      "cell_type": "markdown",
      "metadata": {
        "id": "oh8NTsX3q1sQ"
      },
      "source": [
        "----\n",
        "# Портрет пользователя каждого региона"
      ]
    },
    {
      "cell_type": "markdown",
      "metadata": {
        "id": "IfV_dw6eq1sR"
      },
      "source": [
        "#### Определите для пользователя каждого региона (NA, EU, JP) самые популярные платформы (топ-5). Опишите различия в долях продаж."
      ]
    },
    {
      "cell_type": "code",
      "metadata": {
        "id": "zIjd49Ugq1sT",
        "outputId": "e1e5964d-b700-4836-fc0e-c1da18ca249f"
      },
      "source": [
        "(actual_data\n",
        " .groupby('platform')\n",
        " .agg({'na_sales':'sum','eu_sales':'sum','jp_sales':'sum'})\n",
        " .sort_values('na_sales', ascending=False)\n",
        " .plot(kind='bar', figsize=(7,5), width=0.8, title='Популярность платформы в разных регионах')\n",
        ")\n",
        "\n",
        "plt.show() "
      ],
      "execution_count": null,
      "outputs": [
        {
          "output_type": "display_data",
          "data": {
            "image/png": "[encoded data removed]",
            "text/plain": [
              "<Figure size 504x360 with 1 Axes>"
            ]
          },
          "metadata": {
            "tags": [],
            "needs_background": "light"
          }
        }
      ]
    },
    {
      "cell_type": "code",
      "metadata": {
        "id": "3dnPg33gq1sa",
        "outputId": "de46269a-4168-4840-b988-ac128e0e1db5"
      },
      "source": [
        "(actual_data\n",
        " .groupby('platform')\n",
        " .agg({'na_sales':'sum'})\n",
        " .sort_values(by='na_sales', ascending=True)\n",
        " .tail()\n",
        " .plot(kind='barh',figsize=(7,4), title='Топ-5 популярных платформы для региона NA')\n",
        ")\n",
        "print('Доля продаж = ', ((actual_data['na_sales'].sum()) / (actual_data['total_sales'].sum()) * 100).round(1))\n",
        "plt.show()"
      ],
      "execution_count": null,
      "outputs": [
        {
          "output_type": "stream",
          "text": [
            "Доля продаж =  40.1\n"
          ],
          "name": "stdout"
        },
        {
          "output_type": "display_data",
          "data": {
            "image/png": "[encoded data removed]",
            "text/plain": [
              "<Figure size 504x288 with 1 Axes>"
            ]
          },
          "metadata": {
            "tags": [],
            "needs_background": "light"
          }
        }
      ]
    },
    {
      "cell_type": "code",
      "metadata": {
        "id": "GrvaZzOPq1sp",
        "outputId": "2358d0a5-0ccd-424f-feaf-737364bf7513"
      },
      "source": [
        "(actual_data\n",
        " .groupby('platform')\n",
        " .agg({'eu_sales':'sum'})\n",
        " .sort_values(by='eu_sales', ascending=True)\n",
        " .tail()\n",
        " .plot(kind='barh',figsize=(7,4), color='orange', title='Топ-5 популярных платформы для региона EU')\n",
        ")\n",
        "print('Доля продаж = ',((actual_data['eu_sales'].sum()) / (actual_data['total_sales'].sum())*100).round(1))\n",
        "plt.show()"
      ],
      "execution_count": null,
      "outputs": [
        {
          "output_type": "stream",
          "text": [
            "Доля продаж =  36.0\n"
          ],
          "name": "stdout"
        },
        {
          "output_type": "display_data",
          "data": {
            "image/png": "[encoded data removed]",
            "text/plain": [
              "<Figure size 504x288 with 1 Axes>"
            ]
          },
          "metadata": {
            "tags": [],
            "needs_background": "light"
          }
        }
      ]
    },
    {
      "cell_type": "code",
      "metadata": {
        "scrolled": false,
        "id": "5uEMjyJgq1sy",
        "outputId": "b8f6a138-9d2d-443a-9fab-f921c057a7a8"
      },
      "source": [
        "(actual_data\n",
        " .groupby('platform')\n",
        " .agg({'jp_sales':'sum'})\n",
        " .sort_values(by='jp_sales', ascending=True)\n",
        " .tail()\n",
        " .plot(kind='barh',figsize=(7,4), color='green', title='Топ-5 популярных платформы для региона JP')\n",
        ")\n",
        "print('Доля продаж = ', ((actual_data['jp_sales'].sum())/(actual_data['total_sales'].sum())*100).round(1))\n",
        "plt.show()"
      ],
      "execution_count": null,
      "outputs": [
        {
          "output_type": "stream",
          "text": [
            "Доля продаж =  12.9\n"
          ],
          "name": "stdout"
        },
        {
          "output_type": "display_data",
          "data": {
            "image/png": "[encoded data removed]",
            "text/plain": [
              "<Figure size 504x288 with 1 Axes>"
            ]
          },
          "metadata": {
            "tags": [],
            "needs_background": "light"
          }
        }
      ]
    },
    {
      "cell_type": "markdown",
      "metadata": {
        "id": "MfVSvGr3q1tD"
      },
      "source": [
        "Самая большая доля продаж в **Северной Америке** 40.1%. Популярные платформы в Северной Америке и Европе в целом похожи, на первом месте там **PS4**. В Японии же предпочитают совершенно другие платформы, там на первом месте по популярности **3DS**."
      ]
    },
    {
      "cell_type": "markdown",
      "metadata": {
        "id": "iGs9nSwoq1tE"
      },
      "source": [
        "---\n",
        "#### Определите для пользователя каждого региона (NA, EU, JP) самые популярные жанры (топ-5). Поясните разницу."
      ]
    },
    {
      "cell_type": "code",
      "metadata": {
        "id": "atHvY-kjq1tP",
        "outputId": "cdc799b2-fff9-4c4f-a5ab-43cf857e7414"
      },
      "source": [
        "(actual_data\n",
        " .groupby('genre')\n",
        " .agg({'na_sales':'sum','eu_sales':'sum','jp_sales':'sum'})\n",
        " .sort_values('na_sales', ascending=False)\n",
        " .plot(kind='bar', figsize=(7,5), width=0.8, title='Популярность жанров в разных регионах')\n",
        ")\n",
        "\n",
        "plt.show() "
      ],
      "execution_count": null,
      "outputs": [
        {
          "output_type": "display_data",
          "data": {
            "image/png": "[encoded data removed]",
            "text/plain": [
              "<Figure size 504x360 with 1 Axes>"
            ]
          },
          "metadata": {
            "tags": [],
            "needs_background": "light"
          }
        }
      ]
    },
    {
      "cell_type": "code",
      "metadata": {
        "id": "qjtEGUNlq1tY",
        "outputId": "03265c9e-f2e0-4170-9259-ec638327bc01"
      },
      "source": [
        "(actual_data\n",
        " .groupby('genre')\n",
        " .agg({'na_sales':'sum'})\n",
        " .sort_values(by='na_sales', ascending=True)\n",
        " .tail()\n",
        " .plot(kind='barh',figsize=(7,4), title='Топ-5 популярных жанров для региона NA')\n",
        ")\n",
        "plt.show()"
      ],
      "execution_count": null,
      "outputs": [
        {
          "output_type": "display_data",
          "data": {
            "image/png": "[encoded data removed]",
            "text/plain": [
              "<Figure size 504x288 with 1 Axes>"
            ]
          },
          "metadata": {
            "tags": [],
            "needs_background": "light"
          }
        }
      ]
    },
    {
      "cell_type": "code",
      "metadata": {
        "id": "xB7WgPwOq1tk",
        "outputId": "eaaaf09f-9e2c-48de-f9d5-bbdd5e26d8ca"
      },
      "source": [
        "(actual_data\n",
        " .groupby('genre')\n",
        " .agg({'eu_sales':'sum'})\n",
        " .sort_values(by='eu_sales', ascending=True)\n",
        " .tail()\n",
        " .plot(kind='barh',figsize=(7,4), color='orange', title='Топ-5 популярных жанров для региона EU')\n",
        ")\n",
        "plt.show()"
      ],
      "execution_count": null,
      "outputs": [
        {
          "output_type": "display_data",
          "data": {
            "image/png": "[encoded data removed]",
            "text/plain": [
              "<Figure size 504x288 with 1 Axes>"
            ]
          },
          "metadata": {
            "tags": [],
            "needs_background": "light"
          }
        }
      ]
    },
    {
      "cell_type": "code",
      "metadata": {
        "id": "F3BGjQqVq1tu",
        "outputId": "413eb49a-fb2e-4c8a-e2e3-b3e614105713"
      },
      "source": [
        "(actual_data\n",
        " .groupby('genre')\n",
        " .agg({'jp_sales':'sum'})\n",
        " .sort_values(by='jp_sales', ascending=True)\n",
        " .tail()\n",
        " .plot(kind='barh',figsize=(7,4), color='green', title='Топ-5 популярных жанров для региона JP')\n",
        ")\n",
        "plt.show()"
      ],
      "execution_count": null,
      "outputs": [
        {
          "output_type": "display_data",
          "data": {
            "image/png": "[encoded data removed]",
            "text/plain": [
              "<Figure size 504x288 with 1 Axes>"
            ]
          },
          "metadata": {
            "tags": [],
            "needs_background": "light"
          }
        }
      ]
    },
    {
      "cell_type": "markdown",
      "metadata": {
        "id": "mkegqCfwq1t8"
      },
      "source": [
        "Предпочтения в жанрах игр в Северной Америке и Европе также схожи между собой. На первом месте там **Action**. В Японии Action занимает второе место, а лидирует **Role-Playing**."
      ]
    },
    {
      "cell_type": "markdown",
      "metadata": {
        "id": "VAx-XEy_q1uB"
      },
      "source": [
        "<div class=\"alert alert-info\" style=\"border:solid blue 2px; padding: 20px\"> Такие отличия Японского рынка могут быть обусловлены совершенно иным менталитетом, культурой и мировосприятием, а так же стоит учитывать тот факт, что в Японии наибольшую популярность имеют мобильные игры. </div>"
      ]
    },
    {
      "cell_type": "markdown",
      "metadata": {
        "id": "zicnPJ3Tq1uG"
      },
      "source": [
        "---\n",
        "#### Влияет ли рейтинг ESRB на продажи в отдельном регионе?"
      ]
    },
    {
      "cell_type": "code",
      "metadata": {
        "scrolled": true,
        "id": "4NF8EP_hq1uJ",
        "outputId": "53a5cba1-27c6-45fc-83f1-f7f221178e2a"
      },
      "source": [
        "actual_data.head()"
      ],
      "execution_count": null,
      "outputs": [
        {
          "output_type": "execute_result",
          "data": {
            "text/html": [
              "<div>\n",
              "<style scoped>\n",
              "    .dataframe tbody tr th:only-of-type {\n",
              "        vertical-align: middle;\n",
              "    }\n",
              "\n",
              "    .dataframe tbody tr th {\n",
              "        vertical-align: top;\n",
              "    }\n",
              "\n",
              "    .dataframe thead th {\n",
              "        text-align: right;\n",
              "    }\n",
              "</style>\n",
              "<table border=\"1\" class=\"dataframe\">\n",
              "  <thead>\n",
              "    <tr style=\"text-align: right;\">\n",
              "      <th></th>\n",
              "      <th>name</th>\n",
              "      <th>platform</th>\n",
              "      <th>year_of_release</th>\n",
              "      <th>genre</th>\n",
              "      <th>na_sales</th>\n",
              "      <th>eu_sales</th>\n",
              "      <th>jp_sales</th>\n",
              "      <th>other_sales</th>\n",
              "      <th>critic_score</th>\n",
              "      <th>user_score</th>\n",
              "      <th>rating</th>\n",
              "      <th>total_sales</th>\n",
              "    </tr>\n",
              "  </thead>\n",
              "  <tbody>\n",
              "    <tr>\n",
              "      <td>16</td>\n",
              "      <td>Grand Theft Auto V</td>\n",
              "      <td>PS3</td>\n",
              "      <td>2013.0</td>\n",
              "      <td>Action</td>\n",
              "      <td>7.02</td>\n",
              "      <td>9.09</td>\n",
              "      <td>0.98</td>\n",
              "      <td>3.96</td>\n",
              "      <td>97.0</td>\n",
              "      <td>8.2</td>\n",
              "      <td>M</td>\n",
              "      <td>21.05</td>\n",
              "    </tr>\n",
              "    <tr>\n",
              "      <td>23</td>\n",
              "      <td>Grand Theft Auto V</td>\n",
              "      <td>X360</td>\n",
              "      <td>2013.0</td>\n",
              "      <td>Action</td>\n",
              "      <td>9.66</td>\n",
              "      <td>5.14</td>\n",
              "      <td>0.06</td>\n",
              "      <td>1.41</td>\n",
              "      <td>97.0</td>\n",
              "      <td>8.1</td>\n",
              "      <td>M</td>\n",
              "      <td>16.27</td>\n",
              "    </tr>\n",
              "    <tr>\n",
              "      <td>31</td>\n",
              "      <td>Call of Duty: Black Ops 3</td>\n",
              "      <td>PS4</td>\n",
              "      <td>2015.0</td>\n",
              "      <td>Shooter</td>\n",
              "      <td>6.03</td>\n",
              "      <td>5.86</td>\n",
              "      <td>0.36</td>\n",
              "      <td>2.38</td>\n",
              "      <td>NaN</td>\n",
              "      <td>NaN</td>\n",
              "      <td>NaN</td>\n",
              "      <td>14.63</td>\n",
              "    </tr>\n",
              "    <tr>\n",
              "      <td>33</td>\n",
              "      <td>Pokemon X/Pokemon Y</td>\n",
              "      <td>3DS</td>\n",
              "      <td>2013.0</td>\n",
              "      <td>Role-Playing</td>\n",
              "      <td>5.28</td>\n",
              "      <td>4.19</td>\n",
              "      <td>4.35</td>\n",
              "      <td>0.78</td>\n",
              "      <td>NaN</td>\n",
              "      <td>NaN</td>\n",
              "      <td>NaN</td>\n",
              "      <td>14.60</td>\n",
              "    </tr>\n",
              "    <tr>\n",
              "      <td>42</td>\n",
              "      <td>Grand Theft Auto V</td>\n",
              "      <td>PS4</td>\n",
              "      <td>2014.0</td>\n",
              "      <td>Action</td>\n",
              "      <td>3.96</td>\n",
              "      <td>6.31</td>\n",
              "      <td>0.38</td>\n",
              "      <td>1.97</td>\n",
              "      <td>97.0</td>\n",
              "      <td>8.3</td>\n",
              "      <td>M</td>\n",
              "      <td>12.62</td>\n",
              "    </tr>\n",
              "  </tbody>\n",
              "</table>\n",
              "</div>"
            ],
            "text/plain": [
              "                         name platform  year_of_release         genre  \\\n",
              "16         Grand Theft Auto V      PS3           2013.0        Action   \n",
              "23         Grand Theft Auto V     X360           2013.0        Action   \n",
              "31  Call of Duty: Black Ops 3      PS4           2015.0       Shooter   \n",
              "33        Pokemon X/Pokemon Y      3DS           2013.0  Role-Playing   \n",
              "42         Grand Theft Auto V      PS4           2014.0        Action   \n",
              "\n",
              "    na_sales  eu_sales  jp_sales  other_sales  critic_score  user_score  \\\n",
              "16      7.02      9.09      0.98         3.96          97.0         8.2   \n",
              "23      9.66      5.14      0.06         1.41          97.0         8.1   \n",
              "31      6.03      5.86      0.36         2.38           NaN         NaN   \n",
              "33      5.28      4.19      4.35         0.78           NaN         NaN   \n",
              "42      3.96      6.31      0.38         1.97          97.0         8.3   \n",
              "\n",
              "   rating  total_sales  \n",
              "16      M        21.05  \n",
              "23      M        16.27  \n",
              "31    NaN        14.63  \n",
              "33    NaN        14.60  \n",
              "42      M        12.62  "
            ]
          },
          "metadata": {
            "tags": []
          },
          "execution_count": 48
        }
      ]
    },
    {
      "cell_type": "markdown",
      "metadata": {
        "id": "FHPwhHm4q1vl"
      },
      "source": [
        "<div class=\"alert alert-info\" style=\"border:solid blue 2px; padding: 20px\"> Чтобы учесть игры у которых не стоит рейтинг, заполним пропуски значением \"без рейтинга\" </div>"
      ]
    },
    {
      "cell_type": "code",
      "metadata": {
        "id": "5XdbOyjkq1vo",
        "outputId": "b4d07f76-7c96-4287-9e8e-78cab373c27b"
      },
      "source": [
        "actual_data['rating'] = actual_data['rating'].fillna('без рейтинга')\n",
        "pd.set_option('chained_assignment', None)"
      ],
      "execution_count": null,
      "outputs": [
        {
          "output_type": "stream",
          "text": [
            "/opt/conda/lib/python3.7/site-packages/ipykernel_launcher.py:1: SettingWithCopyWarning: \n",
            "A value is trying to be set on a copy of a slice from a DataFrame.\n",
            "Try using .loc[row_indexer,col_indexer] = value instead\n",
            "\n",
            "See the caveats in the documentation: http://pandas.pydata.org/pandas-docs/stable/user_guide/indexing.html#returning-a-view-versus-a-copy\n",
            "  \"\"\"Entry point for launching an IPython kernel.\n"
          ],
          "name": "stderr"
        }
      ]
    },
    {
      "cell_type": "code",
      "metadata": {
        "id": "EB34Z4W4q1wn",
        "outputId": "53a20f76-7903-4c35-eff1-84d0cce2dab9"
      },
      "source": [
        "(actual_data\n",
        " .groupby('rating')\n",
        " .agg({'na_sales':'sum','eu_sales':'sum','jp_sales':'sum'})\n",
        " .sort_values(by='na_sales', ascending=False)\n",
        " .plot(kind='bar', figsize=(7,5), width=0.8, title='Влияние рейтинга ESRB на продажи в отдельном регионе')\n",
        ")\n",
        "plt.show() "
      ],
      "execution_count": null,
      "outputs": [
        {
          "output_type": "display_data",
          "data": {
            "image/png": "[encoded data removed]",
            "text/plain": [
              "<Figure size 504x360 with 1 Axes>"
            ]
          },
          "metadata": {
            "tags": [],
            "needs_background": "light"
          }
        }
      ]
    },
    {
      "cell_type": "markdown",
      "metadata": {
        "id": "h0fnM2bWq1w3"
      },
      "source": [
        "В Америке и Европе ситуации похожи. Чаще всего покупают игры с рейтингом М, а реже всего с рейтингом Т. В Японии ситуация обратная, там популярны игры с рейтингом Т, самыми непопулярными стали игры с рейтингом Е10+."
      ]
    },
    {
      "cell_type": "markdown",
      "metadata": {
        "id": "37rN-Zu8q1w9"
      },
      "source": [
        "---\n",
        "# Проверка гипотез"
      ]
    },
    {
      "cell_type": "markdown",
      "metadata": {
        "id": "g7vwtay4q1xJ"
      },
      "source": [
        "**H0** - средние пользовательские рейтинги платформ Xbox One и PC одинаковые\n",
        "\n",
        "**H1** - средние пользовательские рейтинги платформ Xbox One и PC отличаются"
      ]
    },
    {
      "cell_type": "markdown",
      "metadata": {
        "id": "vrqmJqrtq1xK"
      },
      "source": [
        "Для начала сравним диспресии выборок , чтобы понять какой параметр equal_var использовать."
      ]
    },
    {
      "cell_type": "code",
      "metadata": {
        "scrolled": true,
        "id": "xFsjJO2vq1xM",
        "outputId": "cdc80db0-c69e-472e-a410-be4fa4bd4bb3"
      },
      "source": [
        "print('Диспресия выборки платформы Xbox One = ', actual_data.query('platform == \"XOne\"')['user_score'].var())\n",
        "print('Диспресия выборки платформы PC = ', actual_data.query('platform == \"PC\"')['user_score'].var())"
      ],
      "execution_count": null,
      "outputs": [
        {
          "output_type": "stream",
          "text": [
            "Диспресия выборки платформы Xbox One =  1.9069968429360695\n",
            "Диспресия выборки платформы PC =  3.035892752408881\n"
          ],
          "name": "stdout"
        }
      ]
    },
    {
      "cell_type": "markdown",
      "metadata": {
        "id": "qD_PZhNVq1xf"
      },
      "source": [
        "Диспресии выборок не равны, следовательно необходимо ипользовать параметр equal_var = False"
      ]
    },
    {
      "cell_type": "code",
      "metadata": {
        "id": "5IFEEpGDq1xo",
        "outputId": "75e4eca3-1392-4cd7-d322-6466b0a05e4b"
      },
      "source": [
        "xone_customer = actual_data.query('platform == \"XOne\"')['user_score']\n",
        "xone_customer = xone_customer.dropna()\n",
        "pc_customer = actual_data.query('platform == \"PC\"')['user_score']\n",
        "pc_customer = pc_customer.dropna()\n",
        "results = st.ttest_ind(xone_customer, pc_customer, equal_var = False)\n",
        "alpha = .05\n",
        "print('p-значение: ', results.pvalue)\n",
        "if (results.pvalue < alpha):\n",
        "    print(\"Отвергаем нулевую гипотезу\")\n",
        "else:\n",
        "    print(\"Не получилось отвергнуть нулевую гипотезу\")"
      ],
      "execution_count": null,
      "outputs": [
        {
          "output_type": "stream",
          "text": [
            "p-значение:  0.14759594013430463\n",
            "Не получилось отвергнуть нулевую гипотезу\n"
          ],
          "name": "stdout"
        }
      ]
    },
    {
      "cell_type": "markdown",
      "metadata": {
        "id": "lZABaIbzq1xv"
      },
      "source": [
        "Нулевая гипотеза не отклонена, значит в среднем пользователи Xbox One и PC ставят одинаковые оценки."
      ]
    },
    {
      "cell_type": "markdown",
      "metadata": {
        "id": "A3QvqB9Aq1x5"
      },
      "source": [
        "---"
      ]
    },
    {
      "cell_type": "markdown",
      "metadata": {
        "id": "B11f244Vq1x6"
      },
      "source": [
        "**H0** - средние пользовательские рейтинги жанров Action и Sports одинаковые\n",
        "\n",
        "**H1** - средние пользовательские рейтинги жанров Action и Sports разные"
      ]
    },
    {
      "cell_type": "code",
      "metadata": {
        "id": "ip3nOJPLq1x8",
        "outputId": "11d152c9-ec9d-40a3-cdea-01d003d5fbfd"
      },
      "source": [
        "print('Диспресия выборки жанра Action = ', actual_data.query('genre == \"Action\"')['user_score'].var())\n",
        "print('Диспресия выборки жанра Sports = ', actual_data.query('genre == \"Sports\"')['user_score'].var())"
      ],
      "execution_count": null,
      "outputs": [
        {
          "output_type": "stream",
          "text": [
            "Диспресия выборки жанра Action =  1.7693609042482705\n",
            "Диспресия выборки жанра Sports =  3.180612814465409\n"
          ],
          "name": "stdout"
        }
      ]
    },
    {
      "cell_type": "markdown",
      "metadata": {
        "id": "EInBwz8Eq1yH"
      },
      "source": [
        "Диспресии выборок не равны, следовательно необходимо ипользовать параметр equal_var = False"
      ]
    },
    {
      "cell_type": "code",
      "metadata": {
        "id": "Oc2CnWzvq1yL",
        "outputId": "d3e90be8-7f0b-4431-e8fa-9b2cc196760c"
      },
      "source": [
        "action = actual_data.query('genre == \"Action\"')['user_score']\n",
        "action = action.dropna()\n",
        "sports = actual_data.query('genre == \"Sports\"')['user_score']\n",
        "sports = sports.dropna()\n",
        "results = st.ttest_ind(action, sports, equal_var = False)\n",
        "alpha = .05\n",
        "print('p-значение: ', results.pvalue)\n",
        "if (results.pvalue < alpha):\n",
        "    print(\"Отвергаем нулевую гипотезу\")\n",
        "else:\n",
        "    print(\"Не получилось отвергнуть нулевую гипотезу\")"
      ],
      "execution_count": null,
      "outputs": [
        {
          "output_type": "stream",
          "text": [
            "p-значение:  1.4460039700704315e-20\n",
            "Отвергаем нулевую гипотезу\n"
          ],
          "name": "stdout"
        }
      ]
    },
    {
      "cell_type": "markdown",
      "metadata": {
        "id": "P5SvAk6jq1yV"
      },
      "source": [
        "Нулевая гипотеза отклонена, значит средние пользовательские рейтинги жанров Action и Sports отличаются."
      ]
    },
    {
      "cell_type": "markdown",
      "metadata": {
        "id": "A8sR_3poq1yY"
      },
      "source": [
        "---\n",
        "# Вывод"
      ]
    },
    {
      "cell_type": "markdown",
      "metadata": {
        "id": "tXR8Y-H3q1ya"
      },
      "source": [
        "Проведя анализ интернет-магазина «Стримчик», который продаёт компьютерные игры по всему миру, я пришла к выводу, что предпочтения Американских и Европейских пользователей сильно отличаются от Японских.  \n",
        "\n",
        "В Америке и Европе топ-5 самых популярных платформ включают в себя: \n",
        "1. **PS4**\n",
        "2. **XOne**\n",
        "3. **X360**\n",
        "4. **PS3**\n",
        "5. **3DS**\n",
        "\n",
        "с незначительными различиями по местам.\n",
        "\n",
        "В Японии же топ-5 выглядит другим образом:\n",
        "1. **3DS**\n",
        "2. **PS3**\n",
        "3. **PSV**\n",
        "4. **PS4**\n",
        "5. **WiiU**\n",
        "\n",
        "Самыми популярными жанрами в Америке и Европе стали: \n",
        "* **Action**\n",
        "* **Shooter**\n",
        "* **Sports**\n",
        "* **Role-Playing**\n",
        "* **Misc**\n",
        "* **Racing**\n",
        "\n",
        "В Японии:\n",
        "* **Role-Playing**\n",
        "* **Action**\n",
        "* **Misc**\n",
        "* **Fighting**\n",
        "* **Shooter**\n",
        "\n",
        "В Америке и Европе чаще всего покупают игры с рейтингом **M** (от 17 лет), а самый непопулярный рейтинг **T** (подросткам 13—19 лет), в Японии наоборот игры с рейтингом **Т** являются наиболее популярными.\n",
        "\n",
        "Такие отличия Японского рынка обусловлены совершенно иным менталитетом, культурой и мировосприятием, а так стоит учитывать тот факт, что в Японии наибольшую популярность имеют мобильные игры.\n"
      ]
    },
    {
      "cell_type": "markdown",
      "metadata": {
        "id": "taaVDGvFq1yb"
      },
      "source": [
        "Если ориентироваться на весь рынок в целом, то можно сделать следующие выводы:\n",
        "* Наиболее потенциально прибыльными платформами можно считать PS4 и Xbox One, так как за последние 3 года только их продажи не приблизились к нулю;\n",
        "* На мнение пользователей сильно влияют оценки критиков.\n"
      ]
    },
    {
      "cell_type": "markdown",
      "metadata": {
        "id": "OJSZs_i9q1yd"
      },
      "source": [
        "---"
      ]
    }
  ]
}