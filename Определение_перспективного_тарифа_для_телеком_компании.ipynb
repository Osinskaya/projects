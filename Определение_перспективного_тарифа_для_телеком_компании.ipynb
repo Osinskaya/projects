{
  "nbformat": 4,
  "nbformat_minor": 0,
  "metadata": {
    "kernelspec": {
      "display_name": "Python 3",
      "language": "python",
      "name": "python3"
    },
    "language_info": {
      "codemirror_mode": {
        "name": "ipython",
        "version": 3
      },
      "file_extension": ".py",
      "mimetype": "text/x-python",
      "name": "python",
      "nbconvert_exporter": "python",
      "pygments_lexer": "ipython3",
      "version": "3.7.6"
    },
    "colab": {
      "name": "Определение перспективного тарифа для телеком компании",
      "provenance": []
    }
  },
  "cells": [
    {
      "cell_type": "markdown",
      "metadata": {
        "id": "xwOuUo0_plQO"
      },
      "source": [
        "# ОПРЕДЕЛЕНИЕ ПЕРСПЕКТИВНОГО ТАРИФА ДЛЯ ТЕЛЕКОМ КОМПАНИИ"
      ]
    },
    {
      "cell_type": "markdown",
      "metadata": {
        "id": "ZcmM7Sj7plQR"
      },
      "source": [
        "## Описание проекта\n",
        "Вы аналитик компании «Мегалайн» — федерального оператора сотовой связи. <br>Клиентам предлагают два тарифных плана: «Смарт» и «Ультра». Чтобы скорректировать рекламный бюджет, коммерческий департамент хочет понять, какой тариф приносит больше денег.\n",
        "Необходимо сделать предварительный анализ тарифов на небольшой выборке клиентов.<br> В вашем распоряжении данные 500 пользователей «Мегалайна»: кто они, откуда, каким тарифом пользуются, сколько звонков и сообщений каждый отправил за 2018 год. Нужно проанализировать поведение клиентов и сделать вывод — какой тариф лучше."
      ]
    },
    {
      "cell_type": "markdown",
      "metadata": {
        "id": "unnM7oj_plQU"
      },
      "source": [
        "## Описание тарифов\n",
        "### Тариф «Смарт»  \n",
        "\n",
        "* Ежемесячная плата: 550 рублей\n",
        "* Включено 500 минут разговора, 50 сообщений и 15 Гб интернет-трафика  \n",
        "\n",
        "*Стоимость услуг сверх тарифного пакета:*\n",
        "* минута разговора: 3 рубля\n",
        "* сообщение: 3 рубля\n",
        "* 1 Гб интернет-трафика: 200 рублей  \n",
        "\n",
        "### Тариф «Ультра»  \n",
        "\n",
        "* Ежемесячная плата: 1950 рублей\n",
        "* Включено 3000 минут разговора, 1000 сообщений и 30 Гб интернет-трафика  \n",
        "\n",
        "*Стоимость услуг сверх тарифного пакета:*\n",
        "* минута разговора: 1 рубль\n",
        "* сообщение: 1 рубль\n",
        "* 1 Гб интернет-трафика: 150 рублей"
      ]
    },
    {
      "cell_type": "markdown",
      "metadata": {
        "id": "5VwXk3rMplQc"
      },
      "source": [
        "# Первый взгляд на данные"
      ]
    },
    {
      "cell_type": "code",
      "metadata": {
        "id": "rUebM6WuplQf"
      },
      "source": [
        "import pandas as pd\n",
        "import numpy as np\n",
        "import matplotlib.pyplot as plt\n",
        "from scipy import stats as st"
      ],
      "execution_count": null,
      "outputs": []
    },
    {
      "cell_type": "code",
      "metadata": {
        "id": "DzKlpwA8plQt"
      },
      "source": [
        "data_calls = pd.read_csv('/datasets/calls.csv')\n",
        "data_internet = pd.read_csv('/datasets/internet.csv')\n",
        "data_messages = pd.read_csv('/datasets/messages.csv')\n",
        "data_tariffs = pd.read_csv('/datasets/tariffs.csv')\n",
        "data_users = pd.read_csv('/datasets/users.csv')"
      ],
      "execution_count": null,
      "outputs": []
    },
    {
      "cell_type": "markdown",
      "metadata": {
        "id": "kBSlSqHxplQ4"
      },
      "source": [
        "### Таблица users (информация о пользователях):\n",
        "* **user_id** — уникальный идентификатор пользователя\n",
        "* **age** — возраст пользователя (годы)\n",
        "* **churn_date** — дата прекращения пользования тарифом (если значение пропущено, то тариф ещё действовал на момент выгрузки данных)\n",
        "* **city** — город проживания пользователя\n",
        "* **first_name** — имя пользователя\n",
        "* **last_name** — фамилия пользователя\n",
        "* **reg_date** — дата подключения тарифа (день, месяц, год)\n",
        "* **tariff** — название тарифного плана"
      ]
    },
    {
      "cell_type": "code",
      "metadata": {
        "scrolled": false,
        "id": "eZK3td4pplQ6",
        "outputId": "3f109a7f-2a34-4c47-ceef-000785942555"
      },
      "source": [
        "data_users.head()"
      ],
      "execution_count": null,
      "outputs": [
        {
          "output_type": "execute_result",
          "data": {
            "text/html": [
              "<div>\n",
              "<style scoped>\n",
              "    .dataframe tbody tr th:only-of-type {\n",
              "        vertical-align: middle;\n",
              "    }\n",
              "\n",
              "    .dataframe tbody tr th {\n",
              "        vertical-align: top;\n",
              "    }\n",
              "\n",
              "    .dataframe thead th {\n",
              "        text-align: right;\n",
              "    }\n",
              "</style>\n",
              "<table border=\"1\" class=\"dataframe\">\n",
              "  <thead>\n",
              "    <tr style=\"text-align: right;\">\n",
              "      <th></th>\n",
              "      <th>user_id</th>\n",
              "      <th>age</th>\n",
              "      <th>churn_date</th>\n",
              "      <th>city</th>\n",
              "      <th>first_name</th>\n",
              "      <th>last_name</th>\n",
              "      <th>reg_date</th>\n",
              "      <th>tariff</th>\n",
              "    </tr>\n",
              "  </thead>\n",
              "  <tbody>\n",
              "    <tr>\n",
              "      <td>0</td>\n",
              "      <td>1000</td>\n",
              "      <td>52</td>\n",
              "      <td>NaN</td>\n",
              "      <td>Краснодар</td>\n",
              "      <td>Рафаил</td>\n",
              "      <td>Верещагин</td>\n",
              "      <td>2018-05-25</td>\n",
              "      <td>ultra</td>\n",
              "    </tr>\n",
              "    <tr>\n",
              "      <td>1</td>\n",
              "      <td>1001</td>\n",
              "      <td>41</td>\n",
              "      <td>NaN</td>\n",
              "      <td>Москва</td>\n",
              "      <td>Иван</td>\n",
              "      <td>Ежов</td>\n",
              "      <td>2018-11-01</td>\n",
              "      <td>smart</td>\n",
              "    </tr>\n",
              "    <tr>\n",
              "      <td>2</td>\n",
              "      <td>1002</td>\n",
              "      <td>59</td>\n",
              "      <td>NaN</td>\n",
              "      <td>Стерлитамак</td>\n",
              "      <td>Евгений</td>\n",
              "      <td>Абрамович</td>\n",
              "      <td>2018-06-17</td>\n",
              "      <td>smart</td>\n",
              "    </tr>\n",
              "    <tr>\n",
              "      <td>3</td>\n",
              "      <td>1003</td>\n",
              "      <td>23</td>\n",
              "      <td>NaN</td>\n",
              "      <td>Москва</td>\n",
              "      <td>Белла</td>\n",
              "      <td>Белякова</td>\n",
              "      <td>2018-08-17</td>\n",
              "      <td>ultra</td>\n",
              "    </tr>\n",
              "    <tr>\n",
              "      <td>4</td>\n",
              "      <td>1004</td>\n",
              "      <td>68</td>\n",
              "      <td>NaN</td>\n",
              "      <td>Новокузнецк</td>\n",
              "      <td>Татьяна</td>\n",
              "      <td>Авдеенко</td>\n",
              "      <td>2018-05-14</td>\n",
              "      <td>ultra</td>\n",
              "    </tr>\n",
              "  </tbody>\n",
              "</table>\n",
              "</div>"
            ],
            "text/plain": [
              "   user_id  age churn_date         city first_name  last_name    reg_date  \\\n",
              "0     1000   52        NaN    Краснодар     Рафаил  Верещагин  2018-05-25   \n",
              "1     1001   41        NaN       Москва       Иван       Ежов  2018-11-01   \n",
              "2     1002   59        NaN  Стерлитамак    Евгений  Абрамович  2018-06-17   \n",
              "3     1003   23        NaN       Москва      Белла   Белякова  2018-08-17   \n",
              "4     1004   68        NaN  Новокузнецк    Татьяна   Авдеенко  2018-05-14   \n",
              "\n",
              "  tariff  \n",
              "0  ultra  \n",
              "1  smart  \n",
              "2  smart  \n",
              "3  ultra  \n",
              "4  ultra  "
            ]
          },
          "metadata": {
            "tags": []
          },
          "execution_count": 3
        }
      ]
    },
    {
      "cell_type": "code",
      "metadata": {
        "id": "8sH7572splRI",
        "outputId": "2f0346f2-ea0e-4b40-fc27-61d76beccfa2"
      },
      "source": [
        "data_users.duplicated().sum()"
      ],
      "execution_count": null,
      "outputs": [
        {
          "output_type": "execute_result",
          "data": {
            "text/plain": [
              "0"
            ]
          },
          "metadata": {
            "tags": []
          },
          "execution_count": 5
        }
      ]
    },
    {
      "cell_type": "markdown",
      "metadata": {
        "id": "8V5GIsxvplRY"
      },
      "source": [
        "### Таблица calls (информация о звонках):\n",
        "* **id** — уникальный номер звонка\n",
        "* **call_date** — дата звонка\n",
        "* **duration** — длительность звонка в минутах\n",
        "* **user_id** — идентификатор пользователя, сделавшего звонок"
      ]
    },
    {
      "cell_type": "code",
      "metadata": {
        "id": "eZYA0wnJplRZ",
        "outputId": "d2ffc5c8-e18a-42c6-9c48-d7a3597b72d6"
      },
      "source": [
        "data_calls.head()"
      ],
      "execution_count": null,
      "outputs": [
        {
          "output_type": "execute_result",
          "data": {
            "text/html": [
              "<div>\n",
              "<style scoped>\n",
              "    .dataframe tbody tr th:only-of-type {\n",
              "        vertical-align: middle;\n",
              "    }\n",
              "\n",
              "    .dataframe tbody tr th {\n",
              "        vertical-align: top;\n",
              "    }\n",
              "\n",
              "    .dataframe thead th {\n",
              "        text-align: right;\n",
              "    }\n",
              "</style>\n",
              "<table border=\"1\" class=\"dataframe\">\n",
              "  <thead>\n",
              "    <tr style=\"text-align: right;\">\n",
              "      <th></th>\n",
              "      <th>id</th>\n",
              "      <th>call_date</th>\n",
              "      <th>duration</th>\n",
              "      <th>user_id</th>\n",
              "    </tr>\n",
              "  </thead>\n",
              "  <tbody>\n",
              "    <tr>\n",
              "      <td>0</td>\n",
              "      <td>1000_0</td>\n",
              "      <td>2018-07-25</td>\n",
              "      <td>0.00</td>\n",
              "      <td>1000</td>\n",
              "    </tr>\n",
              "    <tr>\n",
              "      <td>1</td>\n",
              "      <td>1000_1</td>\n",
              "      <td>2018-08-17</td>\n",
              "      <td>0.00</td>\n",
              "      <td>1000</td>\n",
              "    </tr>\n",
              "    <tr>\n",
              "      <td>2</td>\n",
              "      <td>1000_2</td>\n",
              "      <td>2018-06-11</td>\n",
              "      <td>2.85</td>\n",
              "      <td>1000</td>\n",
              "    </tr>\n",
              "    <tr>\n",
              "      <td>3</td>\n",
              "      <td>1000_3</td>\n",
              "      <td>2018-09-21</td>\n",
              "      <td>13.80</td>\n",
              "      <td>1000</td>\n",
              "    </tr>\n",
              "    <tr>\n",
              "      <td>4</td>\n",
              "      <td>1000_4</td>\n",
              "      <td>2018-12-15</td>\n",
              "      <td>5.18</td>\n",
              "      <td>1000</td>\n",
              "    </tr>\n",
              "  </tbody>\n",
              "</table>\n",
              "</div>"
            ],
            "text/plain": [
              "       id   call_date  duration  user_id\n",
              "0  1000_0  2018-07-25      0.00     1000\n",
              "1  1000_1  2018-08-17      0.00     1000\n",
              "2  1000_2  2018-06-11      2.85     1000\n",
              "3  1000_3  2018-09-21     13.80     1000\n",
              "4  1000_4  2018-12-15      5.18     1000"
            ]
          },
          "metadata": {
            "tags": []
          },
          "execution_count": 6
        }
      ]
    },
    {
      "cell_type": "code",
      "metadata": {
        "scrolled": true,
        "id": "53vorf3aplRj",
        "outputId": "35777363-e702-454e-d671-c28ee26baccd"
      },
      "source": [
        "data_calls.info()"
      ],
      "execution_count": null,
      "outputs": [
        {
          "output_type": "stream",
          "text": [
            "<class 'pandas.core.frame.DataFrame'>\n",
            "RangeIndex: 202607 entries, 0 to 202606\n",
            "Data columns (total 4 columns):\n",
            "id           202607 non-null object\n",
            "call_date    202607 non-null object\n",
            "duration     202607 non-null float64\n",
            "user_id      202607 non-null int64\n",
            "dtypes: float64(1), int64(1), object(2)\n",
            "memory usage: 6.2+ MB\n"
          ],
          "name": "stdout"
        }
      ]
    },
    {
      "cell_type": "code",
      "metadata": {
        "scrolled": true,
        "id": "u6HzfuzUplRu",
        "outputId": "1e3f3f7d-c585-4538-e60b-a7b17bf8358d"
      },
      "source": [
        "data_calls.duplicated().sum()"
      ],
      "execution_count": null,
      "outputs": [
        {
          "output_type": "execute_result",
          "data": {
            "text/plain": [
              "0"
            ]
          },
          "metadata": {
            "tags": []
          },
          "execution_count": 8
        }
      ]
    },
    {
      "cell_type": "code",
      "metadata": {
        "id": "QM7L38TIplR4",
        "outputId": "5b78ad07-63cf-4926-b5b9-bb1829732546"
      },
      "source": [
        "len(data_calls[data_calls['duration'] == 0.0])"
      ],
      "execution_count": null,
      "outputs": [
        {
          "output_type": "execute_result",
          "data": {
            "text/plain": [
              "39613"
            ]
          },
          "metadata": {
            "tags": []
          },
          "execution_count": 9
        }
      ]
    },
    {
      "cell_type": "markdown",
      "metadata": {
        "id": "T5iodUoTplSB"
      },
      "source": [
        "### Таблица internet (информация об интернет-сессиях):\n",
        "* **id** — уникальный номер сессии\n",
        "* **mb_used** — объём потраченного за сессию интернет-трафика (в мегабайтах)\n",
        "* **session_date** — дата интернет-сессии\n",
        "* **user_id** — идентификатор пользователя"
      ]
    },
    {
      "cell_type": "code",
      "metadata": {
        "id": "clLEjWVUplSE",
        "outputId": "e03e9eff-11de-4f28-cf0f-610b1e2a1455"
      },
      "source": [
        "data_internet.head()"
      ],
      "execution_count": null,
      "outputs": [
        {
          "output_type": "execute_result",
          "data": {
            "text/html": [
              "<div>\n",
              "<style scoped>\n",
              "    .dataframe tbody tr th:only-of-type {\n",
              "        vertical-align: middle;\n",
              "    }\n",
              "\n",
              "    .dataframe tbody tr th {\n",
              "        vertical-align: top;\n",
              "    }\n",
              "\n",
              "    .dataframe thead th {\n",
              "        text-align: right;\n",
              "    }\n",
              "</style>\n",
              "<table border=\"1\" class=\"dataframe\">\n",
              "  <thead>\n",
              "    <tr style=\"text-align: right;\">\n",
              "      <th></th>\n",
              "      <th>Unnamed: 0</th>\n",
              "      <th>id</th>\n",
              "      <th>mb_used</th>\n",
              "      <th>session_date</th>\n",
              "      <th>user_id</th>\n",
              "    </tr>\n",
              "  </thead>\n",
              "  <tbody>\n",
              "    <tr>\n",
              "      <td>0</td>\n",
              "      <td>0</td>\n",
              "      <td>1000_0</td>\n",
              "      <td>112.95</td>\n",
              "      <td>2018-11-25</td>\n",
              "      <td>1000</td>\n",
              "    </tr>\n",
              "    <tr>\n",
              "      <td>1</td>\n",
              "      <td>1</td>\n",
              "      <td>1000_1</td>\n",
              "      <td>1052.81</td>\n",
              "      <td>2018-09-07</td>\n",
              "      <td>1000</td>\n",
              "    </tr>\n",
              "    <tr>\n",
              "      <td>2</td>\n",
              "      <td>2</td>\n",
              "      <td>1000_2</td>\n",
              "      <td>1197.26</td>\n",
              "      <td>2018-06-25</td>\n",
              "      <td>1000</td>\n",
              "    </tr>\n",
              "    <tr>\n",
              "      <td>3</td>\n",
              "      <td>3</td>\n",
              "      <td>1000_3</td>\n",
              "      <td>550.27</td>\n",
              "      <td>2018-08-22</td>\n",
              "      <td>1000</td>\n",
              "    </tr>\n",
              "    <tr>\n",
              "      <td>4</td>\n",
              "      <td>4</td>\n",
              "      <td>1000_4</td>\n",
              "      <td>302.56</td>\n",
              "      <td>2018-09-24</td>\n",
              "      <td>1000</td>\n",
              "    </tr>\n",
              "  </tbody>\n",
              "</table>\n",
              "</div>"
            ],
            "text/plain": [
              "   Unnamed: 0      id  mb_used session_date  user_id\n",
              "0           0  1000_0   112.95   2018-11-25     1000\n",
              "1           1  1000_1  1052.81   2018-09-07     1000\n",
              "2           2  1000_2  1197.26   2018-06-25     1000\n",
              "3           3  1000_3   550.27   2018-08-22     1000\n",
              "4           4  1000_4   302.56   2018-09-24     1000"
            ]
          },
          "metadata": {
            "tags": []
          },
          "execution_count": 10
        }
      ]
    },
    {
      "cell_type": "code",
      "metadata": {
        "scrolled": true,
        "id": "K9GI73AEplSP",
        "outputId": "77ae9f62-f6f5-46ba-8c33-ebdcab0e5527"
      },
      "source": [
        "data_internet.info()"
      ],
      "execution_count": null,
      "outputs": [
        {
          "output_type": "stream",
          "text": [
            "<class 'pandas.core.frame.DataFrame'>\n",
            "RangeIndex: 149396 entries, 0 to 149395\n",
            "Data columns (total 5 columns):\n",
            "Unnamed: 0      149396 non-null int64\n",
            "id              149396 non-null object\n",
            "mb_used         149396 non-null float64\n",
            "session_date    149396 non-null object\n",
            "user_id         149396 non-null int64\n",
            "dtypes: float64(1), int64(2), object(2)\n",
            "memory usage: 5.7+ MB\n"
          ],
          "name": "stdout"
        }
      ]
    },
    {
      "cell_type": "code",
      "metadata": {
        "scrolled": true,
        "id": "1wVzWzaNplSc",
        "outputId": "9d6302d6-0b5c-425f-e558-51c50b1684e8"
      },
      "source": [
        "data_internet.duplicated().sum()"
      ],
      "execution_count": null,
      "outputs": [
        {
          "output_type": "execute_result",
          "data": {
            "text/plain": [
              "0"
            ]
          },
          "metadata": {
            "tags": []
          },
          "execution_count": 12
        }
      ]
    },
    {
      "cell_type": "code",
      "metadata": {
        "id": "_tZhiaayplSm",
        "outputId": "96d9053d-e182-4934-84bd-25ba23f9886e"
      },
      "source": [
        "len(data_internet[data_internet['mb_used'] == 0.0])"
      ],
      "execution_count": null,
      "outputs": [
        {
          "output_type": "execute_result",
          "data": {
            "text/plain": [
              "19598"
            ]
          },
          "metadata": {
            "tags": []
          },
          "execution_count": 13
        }
      ]
    },
    {
      "cell_type": "markdown",
      "metadata": {
        "id": "4Y-U59opplSz"
      },
      "source": [
        "### Таблица messages (информация о сообщениях):\n",
        "* **id** — уникальный номер сообщения\n",
        "* **message_date** — дата сообщения\n",
        "* **user_id** — идентификатор пользователя, отправившего сообщение"
      ]
    },
    {
      "cell_type": "code",
      "metadata": {
        "id": "BgnphS_XplS1",
        "outputId": "4e7817c9-0a69-41cd-e1f8-d459ce3f01fc"
      },
      "source": [
        "data_messages.head()"
      ],
      "execution_count": null,
      "outputs": [
        {
          "output_type": "execute_result",
          "data": {
            "text/html": [
              "<div>\n",
              "<style scoped>\n",
              "    .dataframe tbody tr th:only-of-type {\n",
              "        vertical-align: middle;\n",
              "    }\n",
              "\n",
              "    .dataframe tbody tr th {\n",
              "        vertical-align: top;\n",
              "    }\n",
              "\n",
              "    .dataframe thead th {\n",
              "        text-align: right;\n",
              "    }\n",
              "</style>\n",
              "<table border=\"1\" class=\"dataframe\">\n",
              "  <thead>\n",
              "    <tr style=\"text-align: right;\">\n",
              "      <th></th>\n",
              "      <th>id</th>\n",
              "      <th>message_date</th>\n",
              "      <th>user_id</th>\n",
              "    </tr>\n",
              "  </thead>\n",
              "  <tbody>\n",
              "    <tr>\n",
              "      <td>0</td>\n",
              "      <td>1000_0</td>\n",
              "      <td>2018-06-27</td>\n",
              "      <td>1000</td>\n",
              "    </tr>\n",
              "    <tr>\n",
              "      <td>1</td>\n",
              "      <td>1000_1</td>\n",
              "      <td>2018-10-08</td>\n",
              "      <td>1000</td>\n",
              "    </tr>\n",
              "    <tr>\n",
              "      <td>2</td>\n",
              "      <td>1000_2</td>\n",
              "      <td>2018-08-04</td>\n",
              "      <td>1000</td>\n",
              "    </tr>\n",
              "    <tr>\n",
              "      <td>3</td>\n",
              "      <td>1000_3</td>\n",
              "      <td>2018-06-16</td>\n",
              "      <td>1000</td>\n",
              "    </tr>\n",
              "    <tr>\n",
              "      <td>4</td>\n",
              "      <td>1000_4</td>\n",
              "      <td>2018-12-05</td>\n",
              "      <td>1000</td>\n",
              "    </tr>\n",
              "  </tbody>\n",
              "</table>\n",
              "</div>"
            ],
            "text/plain": [
              "       id message_date  user_id\n",
              "0  1000_0   2018-06-27     1000\n",
              "1  1000_1   2018-10-08     1000\n",
              "2  1000_2   2018-08-04     1000\n",
              "3  1000_3   2018-06-16     1000\n",
              "4  1000_4   2018-12-05     1000"
            ]
          },
          "metadata": {
            "tags": []
          },
          "execution_count": 14
        }
      ]
    },
    {
      "cell_type": "code",
      "metadata": {
        "scrolled": true,
        "id": "bSQ9gkHlplTA",
        "outputId": "aca20111-00cd-445e-fa30-4fd3311afa88"
      },
      "source": [
        "data_messages.info()"
      ],
      "execution_count": null,
      "outputs": [
        {
          "output_type": "stream",
          "text": [
            "<class 'pandas.core.frame.DataFrame'>\n",
            "RangeIndex: 123036 entries, 0 to 123035\n",
            "Data columns (total 3 columns):\n",
            "id              123036 non-null object\n",
            "message_date    123036 non-null object\n",
            "user_id         123036 non-null int64\n",
            "dtypes: int64(1), object(2)\n",
            "memory usage: 2.8+ MB\n"
          ],
          "name": "stdout"
        }
      ]
    },
    {
      "cell_type": "code",
      "metadata": {
        "id": "1W04VzvlplTM",
        "outputId": "a71ff287-91fa-4cbc-944e-6d2b2c87bf80"
      },
      "source": [
        "data_messages.duplicated().sum()"
      ],
      "execution_count": null,
      "outputs": [
        {
          "output_type": "execute_result",
          "data": {
            "text/plain": [
              "0"
            ]
          },
          "metadata": {
            "tags": []
          },
          "execution_count": 16
        }
      ]
    },
    {
      "cell_type": "markdown",
      "metadata": {
        "id": "8UDukfoMplTU"
      },
      "source": [
        "### Таблица tariffs (информация о тарифах):\n",
        "* **messages_included** — количество сообщений в месяц, включённых в абонентскую плату\n",
        "* **mb_per_month_included** — объём интернет-трафика, включённого в абонентскую плату (в мегабайтах)\n",
        "* **minutes_included** — количество минут разговора в месяц, включённых в абонентскую плату\n",
        "* **rub_monthly_fee** — ежемесячная абонентская плата в рублях\n",
        "* **rub_per_gb** — стоимость дополнительного гигабайта интернет-трафика сверх тарифного пакета (1 гигабайт = 1024 мегабайта)\n",
        "* **rub_per_message** — стоимость отправки сообщения сверх тарифного пакета\n",
        "* **rub_per_minute** — стоимость минуты разговора сверх тарифного пакета (например, если в тарифе 100 минут разговора в месяц, то со 101 минуты будет взиматься плата)\n",
        "* **tariff_name**  — название тарифа\n"
      ]
    },
    {
      "cell_type": "code",
      "metadata": {
        "id": "DNjh3xdAplTV",
        "outputId": "a6f9986c-aef3-48a0-b530-69ba579bb5f3"
      },
      "source": [
        "data_tariffs.head()"
      ],
      "execution_count": null,
      "outputs": [
        {
          "output_type": "execute_result",
          "data": {
            "text/html": [
              "<div>\n",
              "<style scoped>\n",
              "    .dataframe tbody tr th:only-of-type {\n",
              "        vertical-align: middle;\n",
              "    }\n",
              "\n",
              "    .dataframe tbody tr th {\n",
              "        vertical-align: top;\n",
              "    }\n",
              "\n",
              "    .dataframe thead th {\n",
              "        text-align: right;\n",
              "    }\n",
              "</style>\n",
              "<table border=\"1\" class=\"dataframe\">\n",
              "  <thead>\n",
              "    <tr style=\"text-align: right;\">\n",
              "      <th></th>\n",
              "      <th>messages_included</th>\n",
              "      <th>mb_per_month_included</th>\n",
              "      <th>minutes_included</th>\n",
              "      <th>rub_monthly_fee</th>\n",
              "      <th>rub_per_gb</th>\n",
              "      <th>rub_per_message</th>\n",
              "      <th>rub_per_minute</th>\n",
              "      <th>tariff_name</th>\n",
              "    </tr>\n",
              "  </thead>\n",
              "  <tbody>\n",
              "    <tr>\n",
              "      <td>0</td>\n",
              "      <td>50</td>\n",
              "      <td>15360</td>\n",
              "      <td>500</td>\n",
              "      <td>550</td>\n",
              "      <td>200</td>\n",
              "      <td>3</td>\n",
              "      <td>3</td>\n",
              "      <td>smart</td>\n",
              "    </tr>\n",
              "    <tr>\n",
              "      <td>1</td>\n",
              "      <td>1000</td>\n",
              "      <td>30720</td>\n",
              "      <td>3000</td>\n",
              "      <td>1950</td>\n",
              "      <td>150</td>\n",
              "      <td>1</td>\n",
              "      <td>1</td>\n",
              "      <td>ultra</td>\n",
              "    </tr>\n",
              "  </tbody>\n",
              "</table>\n",
              "</div>"
            ],
            "text/plain": [
              "   messages_included  mb_per_month_included  minutes_included  \\\n",
              "0                 50                  15360               500   \n",
              "1               1000                  30720              3000   \n",
              "\n",
              "   rub_monthly_fee  rub_per_gb  rub_per_message  rub_per_minute tariff_name  \n",
              "0              550         200                3               3       smart  \n",
              "1             1950         150                1               1       ultra  "
            ]
          },
          "metadata": {
            "tags": []
          },
          "execution_count": 17
        }
      ]
    },
    {
      "cell_type": "code",
      "metadata": {
        "id": "gQ7kCQmrplTe",
        "outputId": "39060efd-71ee-47d3-ea7a-57507d92551a"
      },
      "source": [
        "data_tariffs.info()"
      ],
      "execution_count": null,
      "outputs": [
        {
          "output_type": "stream",
          "text": [
            "<class 'pandas.core.frame.DataFrame'>\n",
            "RangeIndex: 2 entries, 0 to 1\n",
            "Data columns (total 8 columns):\n",
            "messages_included        2 non-null int64\n",
            "mb_per_month_included    2 non-null int64\n",
            "minutes_included         2 non-null int64\n",
            "rub_monthly_fee          2 non-null int64\n",
            "rub_per_gb               2 non-null int64\n",
            "rub_per_message          2 non-null int64\n",
            "rub_per_minute           2 non-null int64\n",
            "tariff_name              2 non-null object\n",
            "dtypes: int64(7), object(1)\n",
            "memory usage: 256.0+ bytes\n"
          ],
          "name": "stdout"
        }
      ]
    },
    {
      "cell_type": "markdown",
      "metadata": {
        "id": "2SUyGskvplTm"
      },
      "source": [
        "## Замечания\n"
      ]
    },
    {
      "cell_type": "markdown",
      "metadata": {
        "id": "uKud5eNNplTn"
      },
      "source": [
        "1. Необходимо удалить лишний столбец 'Unnamed: 0' в таблице 'data_internet';\n",
        "2. Изменить тип данных 'object' на 'datetime' везде, где встречается дата;\n",
        "3. Большое количество 0 в значениях продолжительности вызова и количества использованных Мб. <font color=darkblue>(0 в значениях продолжительности вызова могут быть связаны с тем, что это не состоявшиеся вызовы (номер был занят и т.д.), 0 в значениях количества использованных Мб трафика интернета могут быть связаны с тем, что клиент не пользовался интернетом в этот день)</font>\n",
        "4. Необходимо округлить значения продолжительности вызова и использованных Мб вверх, как делает это оператор."
      ]
    },
    {
      "cell_type": "markdown",
      "metadata": {
        "id": "sXJyytx0plTq"
      },
      "source": [
        "# Подготовка данных"
      ]
    },
    {
      "cell_type": "code",
      "metadata": {
        "id": "Ga4J4YLcplTs"
      },
      "source": [
        "# Замена типа данных\n",
        "\n",
        "data_users['reg_date'] = pd.to_datetime(data_users['reg_date'], format='%Y.%m.%d')\n",
        "data_calls['call_date'] = pd.to_datetime(data_calls['call_date'], format='%Y.%m.%d')\n",
        "data_internet['session_date'] = pd.to_datetime(data_internet['session_date'], format='%Y.%m.%d')\n",
        "data_messages['message_date'] = pd.to_datetime(data_messages['message_date'], format='%Y.%m.%d')"
      ],
      "execution_count": null,
      "outputs": []
    },
    {
      "cell_type": "code",
      "metadata": {
        "id": "xUTlVIOkplT4"
      },
      "source": [
        "# Удаление ненужного столбца \n",
        "\n",
        "data_internet.drop(['Unnamed: 0'], axis = 'columns', inplace = True)"
      ],
      "execution_count": null,
      "outputs": []
    },
    {
      "cell_type": "code",
      "metadata": {
        "id": "Vc_qElEYplUD"
      },
      "source": [
        "# Округление значений вверх\n",
        "\n",
        "data_calls['duration'] = np.ceil(data_calls['duration'])\n",
        "data_internet['mb_used'] = np.ceil(data_internet['mb_used'])"
      ],
      "execution_count": null,
      "outputs": []
    },
    {
      "cell_type": "code",
      "metadata": {
        "id": "mHCeFsdsplUL",
        "outputId": "174f3773-1d40-469f-ee08-31ba74f09d87"
      },
      "source": [
        "data_calls['duration'].head()"
      ],
      "execution_count": null,
      "outputs": [
        {
          "output_type": "execute_result",
          "data": {
            "text/plain": [
              "0     0.0\n",
              "1     0.0\n",
              "2     3.0\n",
              "3    14.0\n",
              "4     6.0\n",
              "Name: duration, dtype: float64"
            ]
          },
          "metadata": {
            "tags": []
          },
          "execution_count": 22
        }
      ]
    },
    {
      "cell_type": "code",
      "metadata": {
        "id": "wILOTtehplUU",
        "outputId": "afd2b042-989e-4cf9-e9ad-4ea95d07ca09"
      },
      "source": [
        "data_internet['mb_used'].head()"
      ],
      "execution_count": null,
      "outputs": [
        {
          "output_type": "execute_result",
          "data": {
            "text/plain": [
              "0     113.0\n",
              "1    1053.0\n",
              "2    1198.0\n",
              "3     551.0\n",
              "4     303.0\n",
              "Name: mb_used, dtype: float64"
            ]
          },
          "metadata": {
            "tags": []
          },
          "execution_count": 23
        }
      ]
    },
    {
      "cell_type": "code",
      "metadata": {
        "id": "_P0EjtkWplUf"
      },
      "source": [
        "# Удалим звонки продолжительностью 0 секунд\n",
        "\n",
        "data_calls = data_calls.query('duration != 0')"
      ],
      "execution_count": null,
      "outputs": []
    },
    {
      "cell_type": "code",
      "metadata": {
        "id": "Ia2NybyrplUv",
        "outputId": "9ac10f7f-72e2-4f1e-a412-d6f1b4c7fd5a"
      },
      "source": [
        "len(data_calls[data_calls['duration'] == 0.0])"
      ],
      "execution_count": null,
      "outputs": [
        {
          "output_type": "execute_result",
          "data": {
            "text/plain": [
              "0"
            ]
          },
          "metadata": {
            "tags": []
          },
          "execution_count": 25
        }
      ]
    },
    {
      "cell_type": "code",
      "metadata": {
        "id": "myi8lwSJplU9"
      },
      "source": [
        "# Удалим 0 в значениях количетсва использованных Мб интренет трафика\n",
        "\n",
        "data_internet = data_internet.query('mb_used != 0')"
      ],
      "execution_count": null,
      "outputs": []
    },
    {
      "cell_type": "code",
      "metadata": {
        "id": "LhttB97EplVF",
        "outputId": "e66247f8-41e6-4989-f854-77a59f29b54a"
      },
      "source": [
        "len(data_internet[data_internet['mb_used'] == 0.0])"
      ],
      "execution_count": null,
      "outputs": [
        {
          "output_type": "execute_result",
          "data": {
            "text/plain": [
              "0"
            ]
          },
          "metadata": {
            "tags": []
          },
          "execution_count": 27
        }
      ]
    },
    {
      "cell_type": "markdown",
      "metadata": {
        "id": "56EPjRIeplVN"
      },
      "source": [
        "### Количество сделанных звонков и израсходованных минут разговора по месяцам для каждого клиента"
      ]
    },
    {
      "cell_type": "markdown",
      "metadata": {
        "id": "Bv00fw5mplVO"
      },
      "source": [
        "Для подсчета количества сделанных звонков и израсходованных минут разговора по месяцам для каждого клиента необходимо создать сводную таблицу с клиентами, их звонками и месяцами, когда был совершен звонок. Для добавления в сводную таблицу месяца создадим новый столбец в таблице, где будет записан только месяц."
      ]
    },
    {
      "cell_type": "code",
      "metadata": {
        "id": "gepYDfJPplVP",
        "outputId": "7aa66924-5630-42e0-a23a-3457b5e81078"
      },
      "source": [
        "data_calls.head()"
      ],
      "execution_count": null,
      "outputs": [
        {
          "output_type": "execute_result",
          "data": {
            "text/html": [
              "<div>\n",
              "<style scoped>\n",
              "    .dataframe tbody tr th:only-of-type {\n",
              "        vertical-align: middle;\n",
              "    }\n",
              "\n",
              "    .dataframe tbody tr th {\n",
              "        vertical-align: top;\n",
              "    }\n",
              "\n",
              "    .dataframe thead th {\n",
              "        text-align: right;\n",
              "    }\n",
              "</style>\n",
              "<table border=\"1\" class=\"dataframe\">\n",
              "  <thead>\n",
              "    <tr style=\"text-align: right;\">\n",
              "      <th></th>\n",
              "      <th>id</th>\n",
              "      <th>call_date</th>\n",
              "      <th>duration</th>\n",
              "      <th>user_id</th>\n",
              "    </tr>\n",
              "  </thead>\n",
              "  <tbody>\n",
              "    <tr>\n",
              "      <td>2</td>\n",
              "      <td>1000_2</td>\n",
              "      <td>2018-06-11</td>\n",
              "      <td>3.0</td>\n",
              "      <td>1000</td>\n",
              "    </tr>\n",
              "    <tr>\n",
              "      <td>3</td>\n",
              "      <td>1000_3</td>\n",
              "      <td>2018-09-21</td>\n",
              "      <td>14.0</td>\n",
              "      <td>1000</td>\n",
              "    </tr>\n",
              "    <tr>\n",
              "      <td>4</td>\n",
              "      <td>1000_4</td>\n",
              "      <td>2018-12-15</td>\n",
              "      <td>6.0</td>\n",
              "      <td>1000</td>\n",
              "    </tr>\n",
              "    <tr>\n",
              "      <td>7</td>\n",
              "      <td>1000_7</td>\n",
              "      <td>2018-08-22</td>\n",
              "      <td>19.0</td>\n",
              "      <td>1000</td>\n",
              "    </tr>\n",
              "    <tr>\n",
              "      <td>8</td>\n",
              "      <td>1000_8</td>\n",
              "      <td>2018-09-15</td>\n",
              "      <td>19.0</td>\n",
              "      <td>1000</td>\n",
              "    </tr>\n",
              "  </tbody>\n",
              "</table>\n",
              "</div>"
            ],
            "text/plain": [
              "       id  call_date  duration  user_id\n",
              "2  1000_2 2018-06-11       3.0     1000\n",
              "3  1000_3 2018-09-21      14.0     1000\n",
              "4  1000_4 2018-12-15       6.0     1000\n",
              "7  1000_7 2018-08-22      19.0     1000\n",
              "8  1000_8 2018-09-15      19.0     1000"
            ]
          },
          "metadata": {
            "tags": []
          },
          "execution_count": 28
        }
      ]
    },
    {
      "cell_type": "code",
      "metadata": {
        "id": "Ftqzm17CplVW"
      },
      "source": [
        "data_calls['month'] = data_calls['call_date'].dt.month\n",
        "data_messages['month'] = data_messages['message_date'].dt.month\n",
        "data_internet['month'] = data_internet['session_date'].dt.month"
      ],
      "execution_count": null,
      "outputs": []
    },
    {
      "cell_type": "code",
      "metadata": {
        "id": "_stW2tUKplVe"
      },
      "source": [
        "#pivot_calls = data_calls.pivot_table(index=['user_id','month'], values=['id','duration'], aggfunc=({'id':'count','duration':'sum'}))\n",
        "#pivot_calls"
      ],
      "execution_count": null,
      "outputs": []
    },
    {
      "cell_type": "code",
      "metadata": {
        "id": "xiJ_EfoOplVl",
        "outputId": "2a85f2d0-1eb8-418b-f7c6-e24b65d6ee4a"
      },
      "source": [
        "pivot_calls_duration = data_calls.pivot_table(index=['user_id','month'], values='duration', aggfunc='sum')\n",
        "pivot_calls_duration"
      ],
      "execution_count": null,
      "outputs": [
        {
          "output_type": "execute_result",
          "data": {
            "text/html": [
              "<div>\n",
              "<style scoped>\n",
              "    .dataframe tbody tr th:only-of-type {\n",
              "        vertical-align: middle;\n",
              "    }\n",
              "\n",
              "    .dataframe tbody tr th {\n",
              "        vertical-align: top;\n",
              "    }\n",
              "\n",
              "    .dataframe thead th {\n",
              "        text-align: right;\n",
              "    }\n",
              "</style>\n",
              "<table border=\"1\" class=\"dataframe\">\n",
              "  <thead>\n",
              "    <tr style=\"text-align: right;\">\n",
              "      <th></th>\n",
              "      <th></th>\n",
              "      <th>duration</th>\n",
              "    </tr>\n",
              "    <tr>\n",
              "      <th>user_id</th>\n",
              "      <th>month</th>\n",
              "      <th></th>\n",
              "    </tr>\n",
              "  </thead>\n",
              "  <tbody>\n",
              "    <tr>\n",
              "      <td rowspan=\"5\" valign=\"top\">1000</td>\n",
              "      <td>5</td>\n",
              "      <td>159.0</td>\n",
              "    </tr>\n",
              "    <tr>\n",
              "      <td>6</td>\n",
              "      <td>172.0</td>\n",
              "    </tr>\n",
              "    <tr>\n",
              "      <td>7</td>\n",
              "      <td>340.0</td>\n",
              "    </tr>\n",
              "    <tr>\n",
              "      <td>8</td>\n",
              "      <td>408.0</td>\n",
              "    </tr>\n",
              "    <tr>\n",
              "      <td>9</td>\n",
              "      <td>466.0</td>\n",
              "    </tr>\n",
              "    <tr>\n",
              "      <td>...</td>\n",
              "      <td>...</td>\n",
              "      <td>...</td>\n",
              "    </tr>\n",
              "    <tr>\n",
              "      <td>1498</td>\n",
              "      <td>10</td>\n",
              "      <td>247.0</td>\n",
              "    </tr>\n",
              "    <tr>\n",
              "      <td rowspan=\"4\" valign=\"top\">1499</td>\n",
              "      <td>9</td>\n",
              "      <td>70.0</td>\n",
              "    </tr>\n",
              "    <tr>\n",
              "      <td>10</td>\n",
              "      <td>449.0</td>\n",
              "    </tr>\n",
              "    <tr>\n",
              "      <td>11</td>\n",
              "      <td>612.0</td>\n",
              "    </tr>\n",
              "    <tr>\n",
              "      <td>12</td>\n",
              "      <td>492.0</td>\n",
              "    </tr>\n",
              "  </tbody>\n",
              "</table>\n",
              "<p>3168 rows × 1 columns</p>\n",
              "</div>"
            ],
            "text/plain": [
              "               duration\n",
              "user_id month          \n",
              "1000    5         159.0\n",
              "        6         172.0\n",
              "        7         340.0\n",
              "        8         408.0\n",
              "        9         466.0\n",
              "...                 ...\n",
              "1498    10        247.0\n",
              "1499    9          70.0\n",
              "        10        449.0\n",
              "        11        612.0\n",
              "        12        492.0\n",
              "\n",
              "[3168 rows x 1 columns]"
            ]
          },
          "metadata": {
            "tags": []
          },
          "execution_count": 31
        }
      ]
    },
    {
      "cell_type": "markdown",
      "metadata": {
        "id": "w4W4mzQ3plVr"
      },
      "source": [
        "Получили сводную таблицу количества израсходованных минут по месяцам для каждого клиента."
      ]
    },
    {
      "cell_type": "code",
      "metadata": {
        "id": "HVeZJP4RplVs",
        "outputId": "b9cf92be-4fb5-4329-b67d-45bc2214b9c4"
      },
      "source": [
        "pivot_calls_count = data_calls.pivot_table(index=['user_id','month'], values='id', aggfunc='count')\n",
        "pivot_calls_count"
      ],
      "execution_count": null,
      "outputs": [
        {
          "output_type": "execute_result",
          "data": {
            "text/html": [
              "<div>\n",
              "<style scoped>\n",
              "    .dataframe tbody tr th:only-of-type {\n",
              "        vertical-align: middle;\n",
              "    }\n",
              "\n",
              "    .dataframe tbody tr th {\n",
              "        vertical-align: top;\n",
              "    }\n",
              "\n",
              "    .dataframe thead th {\n",
              "        text-align: right;\n",
              "    }\n",
              "</style>\n",
              "<table border=\"1\" class=\"dataframe\">\n",
              "  <thead>\n",
              "    <tr style=\"text-align: right;\">\n",
              "      <th></th>\n",
              "      <th></th>\n",
              "      <th>id</th>\n",
              "    </tr>\n",
              "    <tr>\n",
              "      <th>user_id</th>\n",
              "      <th>month</th>\n",
              "      <th></th>\n",
              "    </tr>\n",
              "  </thead>\n",
              "  <tbody>\n",
              "    <tr>\n",
              "      <td rowspan=\"5\" valign=\"top\">1000</td>\n",
              "      <td>5</td>\n",
              "      <td>17</td>\n",
              "    </tr>\n",
              "    <tr>\n",
              "      <td>6</td>\n",
              "      <td>28</td>\n",
              "    </tr>\n",
              "    <tr>\n",
              "      <td>7</td>\n",
              "      <td>41</td>\n",
              "    </tr>\n",
              "    <tr>\n",
              "      <td>8</td>\n",
              "      <td>42</td>\n",
              "    </tr>\n",
              "    <tr>\n",
              "      <td>9</td>\n",
              "      <td>46</td>\n",
              "    </tr>\n",
              "    <tr>\n",
              "      <td>...</td>\n",
              "      <td>...</td>\n",
              "      <td>...</td>\n",
              "    </tr>\n",
              "    <tr>\n",
              "      <td>1498</td>\n",
              "      <td>10</td>\n",
              "      <td>30</td>\n",
              "    </tr>\n",
              "    <tr>\n",
              "      <td rowspan=\"4\" valign=\"top\">1499</td>\n",
              "      <td>9</td>\n",
              "      <td>8</td>\n",
              "    </tr>\n",
              "    <tr>\n",
              "      <td>10</td>\n",
              "      <td>44</td>\n",
              "    </tr>\n",
              "    <tr>\n",
              "      <td>11</td>\n",
              "      <td>62</td>\n",
              "    </tr>\n",
              "    <tr>\n",
              "      <td>12</td>\n",
              "      <td>56</td>\n",
              "    </tr>\n",
              "  </tbody>\n",
              "</table>\n",
              "<p>3168 rows × 1 columns</p>\n",
              "</div>"
            ],
            "text/plain": [
              "               id\n",
              "user_id month    \n",
              "1000    5      17\n",
              "        6      28\n",
              "        7      41\n",
              "        8      42\n",
              "        9      46\n",
              "...            ..\n",
              "1498    10     30\n",
              "1499    9       8\n",
              "        10     44\n",
              "        11     62\n",
              "        12     56\n",
              "\n",
              "[3168 rows x 1 columns]"
            ]
          },
          "metadata": {
            "tags": []
          },
          "execution_count": 32
        }
      ]
    },
    {
      "cell_type": "markdown",
      "metadata": {
        "id": "01rabVu4plV0"
      },
      "source": [
        "Получили сводную таблицу количества звонков по месяцам для каждого клиента."
      ]
    },
    {
      "cell_type": "markdown",
      "metadata": {
        "id": "fbcMGuIAplV2"
      },
      "source": [
        "### Количество отправленных сообщений по месяцам"
      ]
    },
    {
      "cell_type": "code",
      "metadata": {
        "id": "_iTZT8EuplV3",
        "outputId": "5ab74bbf-30e6-4332-a350-b231c1e7575f"
      },
      "source": [
        "pivot_messages = data_messages.pivot_table(index=['user_id','month'], values='id', aggfunc='count')\n",
        "pivot_messages"
      ],
      "execution_count": null,
      "outputs": [
        {
          "output_type": "execute_result",
          "data": {
            "text/html": [
              "<div>\n",
              "<style scoped>\n",
              "    .dataframe tbody tr th:only-of-type {\n",
              "        vertical-align: middle;\n",
              "    }\n",
              "\n",
              "    .dataframe tbody tr th {\n",
              "        vertical-align: top;\n",
              "    }\n",
              "\n",
              "    .dataframe thead th {\n",
              "        text-align: right;\n",
              "    }\n",
              "</style>\n",
              "<table border=\"1\" class=\"dataframe\">\n",
              "  <thead>\n",
              "    <tr style=\"text-align: right;\">\n",
              "      <th></th>\n",
              "      <th></th>\n",
              "      <th>id</th>\n",
              "    </tr>\n",
              "    <tr>\n",
              "      <th>user_id</th>\n",
              "      <th>month</th>\n",
              "      <th></th>\n",
              "    </tr>\n",
              "  </thead>\n",
              "  <tbody>\n",
              "    <tr>\n",
              "      <td rowspan=\"5\" valign=\"top\">1000</td>\n",
              "      <td>5</td>\n",
              "      <td>22</td>\n",
              "    </tr>\n",
              "    <tr>\n",
              "      <td>6</td>\n",
              "      <td>60</td>\n",
              "    </tr>\n",
              "    <tr>\n",
              "      <td>7</td>\n",
              "      <td>75</td>\n",
              "    </tr>\n",
              "    <tr>\n",
              "      <td>8</td>\n",
              "      <td>81</td>\n",
              "    </tr>\n",
              "    <tr>\n",
              "      <td>9</td>\n",
              "      <td>57</td>\n",
              "    </tr>\n",
              "    <tr>\n",
              "      <td>...</td>\n",
              "      <td>...</td>\n",
              "      <td>...</td>\n",
              "    </tr>\n",
              "    <tr>\n",
              "      <td>1498</td>\n",
              "      <td>10</td>\n",
              "      <td>42</td>\n",
              "    </tr>\n",
              "    <tr>\n",
              "      <td rowspan=\"4\" valign=\"top\">1499</td>\n",
              "      <td>9</td>\n",
              "      <td>11</td>\n",
              "    </tr>\n",
              "    <tr>\n",
              "      <td>10</td>\n",
              "      <td>48</td>\n",
              "    </tr>\n",
              "    <tr>\n",
              "      <td>11</td>\n",
              "      <td>59</td>\n",
              "    </tr>\n",
              "    <tr>\n",
              "      <td>12</td>\n",
              "      <td>66</td>\n",
              "    </tr>\n",
              "  </tbody>\n",
              "</table>\n",
              "<p>2717 rows × 1 columns</p>\n",
              "</div>"
            ],
            "text/plain": [
              "               id\n",
              "user_id month    \n",
              "1000    5      22\n",
              "        6      60\n",
              "        7      75\n",
              "        8      81\n",
              "        9      57\n",
              "...            ..\n",
              "1498    10     42\n",
              "1499    9      11\n",
              "        10     48\n",
              "        11     59\n",
              "        12     66\n",
              "\n",
              "[2717 rows x 1 columns]"
            ]
          },
          "metadata": {
            "tags": []
          },
          "execution_count": 33
        }
      ]
    },
    {
      "cell_type": "markdown",
      "metadata": {
        "id": "3_0E0-Y3plV_"
      },
      "source": [
        "Получили сводную таблицу количества отправленных сообщений по месяцам каждого клиента."
      ]
    },
    {
      "cell_type": "markdown",
      "metadata": {
        "id": "nIJEVMqDplWA"
      },
      "source": [
        "### Объем израсходованного интернет-трафика по месяцам\n"
      ]
    },
    {
      "cell_type": "code",
      "metadata": {
        "id": "VMTpdSDZplWC",
        "outputId": "eb25ea19-f6a8-415a-f04c-0130ba5f242c"
      },
      "source": [
        "pivot_internet = data_internet.pivot_table(index=['user_id','month'], values='mb_used', aggfunc='sum')\n",
        "pivot_internet"
      ],
      "execution_count": null,
      "outputs": [
        {
          "output_type": "execute_result",
          "data": {
            "text/html": [
              "<div>\n",
              "<style scoped>\n",
              "    .dataframe tbody tr th:only-of-type {\n",
              "        vertical-align: middle;\n",
              "    }\n",
              "\n",
              "    .dataframe tbody tr th {\n",
              "        vertical-align: top;\n",
              "    }\n",
              "\n",
              "    .dataframe thead th {\n",
              "        text-align: right;\n",
              "    }\n",
              "</style>\n",
              "<table border=\"1\" class=\"dataframe\">\n",
              "  <thead>\n",
              "    <tr style=\"text-align: right;\">\n",
              "      <th></th>\n",
              "      <th></th>\n",
              "      <th>mb_used</th>\n",
              "    </tr>\n",
              "    <tr>\n",
              "      <th>user_id</th>\n",
              "      <th>month</th>\n",
              "      <th></th>\n",
              "    </tr>\n",
              "  </thead>\n",
              "  <tbody>\n",
              "    <tr>\n",
              "      <td rowspan=\"5\" valign=\"top\">1000</td>\n",
              "      <td>5</td>\n",
              "      <td>2256.0</td>\n",
              "    </tr>\n",
              "    <tr>\n",
              "      <td>6</td>\n",
              "      <td>23257.0</td>\n",
              "    </tr>\n",
              "    <tr>\n",
              "      <td>7</td>\n",
              "      <td>14016.0</td>\n",
              "    </tr>\n",
              "    <tr>\n",
              "      <td>8</td>\n",
              "      <td>14070.0</td>\n",
              "    </tr>\n",
              "    <tr>\n",
              "      <td>9</td>\n",
              "      <td>14581.0</td>\n",
              "    </tr>\n",
              "    <tr>\n",
              "      <td>...</td>\n",
              "      <td>...</td>\n",
              "      <td>...</td>\n",
              "    </tr>\n",
              "    <tr>\n",
              "      <td>1498</td>\n",
              "      <td>10</td>\n",
              "      <td>20604.0</td>\n",
              "    </tr>\n",
              "    <tr>\n",
              "      <td rowspan=\"4\" valign=\"top\">1499</td>\n",
              "      <td>9</td>\n",
              "      <td>1848.0</td>\n",
              "    </tr>\n",
              "    <tr>\n",
              "      <td>10</td>\n",
              "      <td>17809.0</td>\n",
              "    </tr>\n",
              "    <tr>\n",
              "      <td>11</td>\n",
              "      <td>17984.0</td>\n",
              "    </tr>\n",
              "    <tr>\n",
              "      <td>12</td>\n",
              "      <td>13077.0</td>\n",
              "    </tr>\n",
              "  </tbody>\n",
              "</table>\n",
              "<p>3201 rows × 1 columns</p>\n",
              "</div>"
            ],
            "text/plain": [
              "               mb_used\n",
              "user_id month         \n",
              "1000    5       2256.0\n",
              "        6      23257.0\n",
              "        7      14016.0\n",
              "        8      14070.0\n",
              "        9      14581.0\n",
              "...                ...\n",
              "1498    10     20604.0\n",
              "1499    9       1848.0\n",
              "        10     17809.0\n",
              "        11     17984.0\n",
              "        12     13077.0\n",
              "\n",
              "[3201 rows x 1 columns]"
            ]
          },
          "metadata": {
            "tags": []
          },
          "execution_count": 34
        }
      ]
    },
    {
      "cell_type": "markdown",
      "metadata": {
        "id": "NPln0jINplWJ"
      },
      "source": [
        "Получили сводную таблицу израсходованного интренет-трафика по месяцам для каждого клиента."
      ]
    },
    {
      "cell_type": "markdown",
      "metadata": {
        "id": "Z7RIcp26plWK"
      },
      "source": [
        "### Помесячная выручка с каждого пользователя"
      ]
    },
    {
      "cell_type": "markdown",
      "metadata": {
        "id": "SeIgsrMtplWL"
      },
      "source": [
        "Для того чтобы посчитать помесячную выручку с каждого пользователся необходимо объединить все сводные таблицы и столбец с названием тарифа из таблицы data_users в одну, посчитать для каждого пользователя сумму оплаченную сверх тарифа и сложить ее с ценой самого тарифа.  "
      ]
    },
    {
      "cell_type": "markdown",
      "metadata": {
        "id": "YRb9cII-plWM"
      },
      "source": [
        "Таблица pivot_internet  самая большая, так что присоединять будем к ней с помощью внешнего типа слияния, чтобы все клиенты пользовавшиеся хотя бы чем-то одним (звонки, сообщения, интернет) точно попали в таблицу."
      ]
    },
    {
      "cell_type": "code",
      "metadata": {
        "id": "B8vGZm7SplWO",
        "outputId": "c7c8762c-c5d9-4fc8-d343-1f8b28699d88"
      },
      "source": [
        "total_data = (pivot_internet\n",
        "              .merge(pivot_calls_duration, on=['user_id','month'], how='outer')\n",
        "              .merge(pivot_messages, on=['user_id','month'], how='outer')\n",
        "              .reset_index()\n",
        "              .merge(data_users[['user_id','tariff','city']], on='user_id', how='outer' )\n",
        "              )\n",
        "total_data"
      ],
      "execution_count": null,
      "outputs": [
        {
          "output_type": "execute_result",
          "data": {
            "text/html": [
              "<div>\n",
              "<style scoped>\n",
              "    .dataframe tbody tr th:only-of-type {\n",
              "        vertical-align: middle;\n",
              "    }\n",
              "\n",
              "    .dataframe tbody tr th {\n",
              "        vertical-align: top;\n",
              "    }\n",
              "\n",
              "    .dataframe thead th {\n",
              "        text-align: right;\n",
              "    }\n",
              "</style>\n",
              "<table border=\"1\" class=\"dataframe\">\n",
              "  <thead>\n",
              "    <tr style=\"text-align: right;\">\n",
              "      <th></th>\n",
              "      <th>user_id</th>\n",
              "      <th>month</th>\n",
              "      <th>mb_used</th>\n",
              "      <th>duration</th>\n",
              "      <th>id</th>\n",
              "      <th>tariff</th>\n",
              "      <th>city</th>\n",
              "    </tr>\n",
              "  </thead>\n",
              "  <tbody>\n",
              "    <tr>\n",
              "      <td>0</td>\n",
              "      <td>1000</td>\n",
              "      <td>5.0</td>\n",
              "      <td>2256.0</td>\n",
              "      <td>159.0</td>\n",
              "      <td>22.0</td>\n",
              "      <td>ultra</td>\n",
              "      <td>Краснодар</td>\n",
              "    </tr>\n",
              "    <tr>\n",
              "      <td>1</td>\n",
              "      <td>1000</td>\n",
              "      <td>6.0</td>\n",
              "      <td>23257.0</td>\n",
              "      <td>172.0</td>\n",
              "      <td>60.0</td>\n",
              "      <td>ultra</td>\n",
              "      <td>Краснодар</td>\n",
              "    </tr>\n",
              "    <tr>\n",
              "      <td>2</td>\n",
              "      <td>1000</td>\n",
              "      <td>7.0</td>\n",
              "      <td>14016.0</td>\n",
              "      <td>340.0</td>\n",
              "      <td>75.0</td>\n",
              "      <td>ultra</td>\n",
              "      <td>Краснодар</td>\n",
              "    </tr>\n",
              "    <tr>\n",
              "      <td>3</td>\n",
              "      <td>1000</td>\n",
              "      <td>8.0</td>\n",
              "      <td>14070.0</td>\n",
              "      <td>408.0</td>\n",
              "      <td>81.0</td>\n",
              "      <td>ultra</td>\n",
              "      <td>Краснодар</td>\n",
              "    </tr>\n",
              "    <tr>\n",
              "      <td>4</td>\n",
              "      <td>1000</td>\n",
              "      <td>9.0</td>\n",
              "      <td>14581.0</td>\n",
              "      <td>466.0</td>\n",
              "      <td>57.0</td>\n",
              "      <td>ultra</td>\n",
              "      <td>Краснодар</td>\n",
              "    </tr>\n",
              "    <tr>\n",
              "      <td>...</td>\n",
              "      <td>...</td>\n",
              "      <td>...</td>\n",
              "      <td>...</td>\n",
              "      <td>...</td>\n",
              "      <td>...</td>\n",
              "      <td>...</td>\n",
              "      <td>...</td>\n",
              "    </tr>\n",
              "    <tr>\n",
              "      <td>3211</td>\n",
              "      <td>1273</td>\n",
              "      <td>10.0</td>\n",
              "      <td>NaN</td>\n",
              "      <td>315.0</td>\n",
              "      <td>35.0</td>\n",
              "      <td>ultra</td>\n",
              "      <td>Курган</td>\n",
              "    </tr>\n",
              "    <tr>\n",
              "      <td>3212</td>\n",
              "      <td>1273</td>\n",
              "      <td>11.0</td>\n",
              "      <td>NaN</td>\n",
              "      <td>272.0</td>\n",
              "      <td>29.0</td>\n",
              "      <td>ultra</td>\n",
              "      <td>Курган</td>\n",
              "    </tr>\n",
              "    <tr>\n",
              "      <td>3213</td>\n",
              "      <td>1273</td>\n",
              "      <td>12.0</td>\n",
              "      <td>NaN</td>\n",
              "      <td>260.0</td>\n",
              "      <td>39.0</td>\n",
              "      <td>ultra</td>\n",
              "      <td>Курган</td>\n",
              "    </tr>\n",
              "    <tr>\n",
              "      <td>3214</td>\n",
              "      <td>1128</td>\n",
              "      <td>NaN</td>\n",
              "      <td>NaN</td>\n",
              "      <td>NaN</td>\n",
              "      <td>NaN</td>\n",
              "      <td>ultra</td>\n",
              "      <td>Волжский</td>\n",
              "    </tr>\n",
              "    <tr>\n",
              "      <td>3215</td>\n",
              "      <td>1371</td>\n",
              "      <td>NaN</td>\n",
              "      <td>NaN</td>\n",
              "      <td>NaN</td>\n",
              "      <td>NaN</td>\n",
              "      <td>smart</td>\n",
              "      <td>Омск</td>\n",
              "    </tr>\n",
              "  </tbody>\n",
              "</table>\n",
              "<p>3216 rows × 7 columns</p>\n",
              "</div>"
            ],
            "text/plain": [
              "      user_id  month  mb_used  duration    id tariff       city\n",
              "0        1000    5.0   2256.0     159.0  22.0  ultra  Краснодар\n",
              "1        1000    6.0  23257.0     172.0  60.0  ultra  Краснодар\n",
              "2        1000    7.0  14016.0     340.0  75.0  ultra  Краснодар\n",
              "3        1000    8.0  14070.0     408.0  81.0  ultra  Краснодар\n",
              "4        1000    9.0  14581.0     466.0  57.0  ultra  Краснодар\n",
              "...       ...    ...      ...       ...   ...    ...        ...\n",
              "3211     1273   10.0      NaN     315.0  35.0  ultra     Курган\n",
              "3212     1273   11.0      NaN     272.0  29.0  ultra     Курган\n",
              "3213     1273   12.0      NaN     260.0  39.0  ultra     Курган\n",
              "3214     1128    NaN      NaN       NaN   NaN  ultra   Волжский\n",
              "3215     1371    NaN      NaN       NaN   NaN  smart       Омск\n",
              "\n",
              "[3216 rows x 7 columns]"
            ]
          },
          "metadata": {
            "tags": []
          },
          "execution_count": 35
        }
      ]
    },
    {
      "cell_type": "code",
      "metadata": {
        "id": "YRKboe1BplWV"
      },
      "source": [
        "# Для удобства переименуем столбец id в messages\n",
        "\n",
        "total_data.rename(columns={'id': 'messages'}, inplace=True)"
      ],
      "execution_count": null,
      "outputs": []
    },
    {
      "cell_type": "code",
      "metadata": {
        "scrolled": true,
        "id": "JX4A5TT_plWc",
        "outputId": "fcf7959b-e020-4d4c-8a88-2d3493d2a68a"
      },
      "source": [
        "total_data"
      ],
      "execution_count": null,
      "outputs": [
        {
          "output_type": "execute_result",
          "data": {
            "text/html": [
              "<div>\n",
              "<style scoped>\n",
              "    .dataframe tbody tr th:only-of-type {\n",
              "        vertical-align: middle;\n",
              "    }\n",
              "\n",
              "    .dataframe tbody tr th {\n",
              "        vertical-align: top;\n",
              "    }\n",
              "\n",
              "    .dataframe thead th {\n",
              "        text-align: right;\n",
              "    }\n",
              "</style>\n",
              "<table border=\"1\" class=\"dataframe\">\n",
              "  <thead>\n",
              "    <tr style=\"text-align: right;\">\n",
              "      <th></th>\n",
              "      <th>user_id</th>\n",
              "      <th>month</th>\n",
              "      <th>mb_used</th>\n",
              "      <th>duration</th>\n",
              "      <th>messages</th>\n",
              "      <th>tariff</th>\n",
              "      <th>city</th>\n",
              "    </tr>\n",
              "  </thead>\n",
              "  <tbody>\n",
              "    <tr>\n",
              "      <td>0</td>\n",
              "      <td>1000</td>\n",
              "      <td>5.0</td>\n",
              "      <td>2256.0</td>\n",
              "      <td>159.0</td>\n",
              "      <td>22.0</td>\n",
              "      <td>ultra</td>\n",
              "      <td>Краснодар</td>\n",
              "    </tr>\n",
              "    <tr>\n",
              "      <td>1</td>\n",
              "      <td>1000</td>\n",
              "      <td>6.0</td>\n",
              "      <td>23257.0</td>\n",
              "      <td>172.0</td>\n",
              "      <td>60.0</td>\n",
              "      <td>ultra</td>\n",
              "      <td>Краснодар</td>\n",
              "    </tr>\n",
              "    <tr>\n",
              "      <td>2</td>\n",
              "      <td>1000</td>\n",
              "      <td>7.0</td>\n",
              "      <td>14016.0</td>\n",
              "      <td>340.0</td>\n",
              "      <td>75.0</td>\n",
              "      <td>ultra</td>\n",
              "      <td>Краснодар</td>\n",
              "    </tr>\n",
              "    <tr>\n",
              "      <td>3</td>\n",
              "      <td>1000</td>\n",
              "      <td>8.0</td>\n",
              "      <td>14070.0</td>\n",
              "      <td>408.0</td>\n",
              "      <td>81.0</td>\n",
              "      <td>ultra</td>\n",
              "      <td>Краснодар</td>\n",
              "    </tr>\n",
              "    <tr>\n",
              "      <td>4</td>\n",
              "      <td>1000</td>\n",
              "      <td>9.0</td>\n",
              "      <td>14581.0</td>\n",
              "      <td>466.0</td>\n",
              "      <td>57.0</td>\n",
              "      <td>ultra</td>\n",
              "      <td>Краснодар</td>\n",
              "    </tr>\n",
              "    <tr>\n",
              "      <td>...</td>\n",
              "      <td>...</td>\n",
              "      <td>...</td>\n",
              "      <td>...</td>\n",
              "      <td>...</td>\n",
              "      <td>...</td>\n",
              "      <td>...</td>\n",
              "      <td>...</td>\n",
              "    </tr>\n",
              "    <tr>\n",
              "      <td>3211</td>\n",
              "      <td>1273</td>\n",
              "      <td>10.0</td>\n",
              "      <td>NaN</td>\n",
              "      <td>315.0</td>\n",
              "      <td>35.0</td>\n",
              "      <td>ultra</td>\n",
              "      <td>Курган</td>\n",
              "    </tr>\n",
              "    <tr>\n",
              "      <td>3212</td>\n",
              "      <td>1273</td>\n",
              "      <td>11.0</td>\n",
              "      <td>NaN</td>\n",
              "      <td>272.0</td>\n",
              "      <td>29.0</td>\n",
              "      <td>ultra</td>\n",
              "      <td>Курган</td>\n",
              "    </tr>\n",
              "    <tr>\n",
              "      <td>3213</td>\n",
              "      <td>1273</td>\n",
              "      <td>12.0</td>\n",
              "      <td>NaN</td>\n",
              "      <td>260.0</td>\n",
              "      <td>39.0</td>\n",
              "      <td>ultra</td>\n",
              "      <td>Курган</td>\n",
              "    </tr>\n",
              "    <tr>\n",
              "      <td>3214</td>\n",
              "      <td>1128</td>\n",
              "      <td>NaN</td>\n",
              "      <td>NaN</td>\n",
              "      <td>NaN</td>\n",
              "      <td>NaN</td>\n",
              "      <td>ultra</td>\n",
              "      <td>Волжский</td>\n",
              "    </tr>\n",
              "    <tr>\n",
              "      <td>3215</td>\n",
              "      <td>1371</td>\n",
              "      <td>NaN</td>\n",
              "      <td>NaN</td>\n",
              "      <td>NaN</td>\n",
              "      <td>NaN</td>\n",
              "      <td>smart</td>\n",
              "      <td>Омск</td>\n",
              "    </tr>\n",
              "  </tbody>\n",
              "</table>\n",
              "<p>3216 rows × 7 columns</p>\n",
              "</div>"
            ],
            "text/plain": [
              "      user_id  month  mb_used  duration  messages tariff       city\n",
              "0        1000    5.0   2256.0     159.0      22.0  ultra  Краснодар\n",
              "1        1000    6.0  23257.0     172.0      60.0  ultra  Краснодар\n",
              "2        1000    7.0  14016.0     340.0      75.0  ultra  Краснодар\n",
              "3        1000    8.0  14070.0     408.0      81.0  ultra  Краснодар\n",
              "4        1000    9.0  14581.0     466.0      57.0  ultra  Краснодар\n",
              "...       ...    ...      ...       ...       ...    ...        ...\n",
              "3211     1273   10.0      NaN     315.0      35.0  ultra     Курган\n",
              "3212     1273   11.0      NaN     272.0      29.0  ultra     Курган\n",
              "3213     1273   12.0      NaN     260.0      39.0  ultra     Курган\n",
              "3214     1128    NaN      NaN       NaN       NaN  ultra   Волжский\n",
              "3215     1371    NaN      NaN       NaN       NaN  smart       Омск\n",
              "\n",
              "[3216 rows x 7 columns]"
            ]
          },
          "metadata": {
            "tags": []
          },
          "execution_count": 37
        }
      ]
    },
    {
      "cell_type": "markdown",
      "metadata": {
        "id": "nysVP1zJplWk"
      },
      "source": [
        "---"
      ]
    },
    {
      "cell_type": "markdown",
      "metadata": {
        "id": "WLbz691FplWm"
      },
      "source": [
        "Напишем функцию, которая будет подсчитывать выручку с каждого клиента."
      ]
    },
    {
      "cell_type": "code",
      "metadata": {
        "id": "jLiFcvdkplWn"
      },
      "source": [
        "def revenue_per_user(row):\n",
        "    extra_minutes = 0\n",
        "    extra_messages = 0\n",
        "    extra_mb = 0\n",
        "    if row['tariff'] == 'smart':\n",
        "        if row['mb_used'] > 15*1024:\n",
        "            extra_mb = row['mb_used'] - 15*1024\n",
        "        if row['duration'] > 500:\n",
        "            extra_minutes = row['duration'] - 500\n",
        "        if row['messages'] > 50:\n",
        "            extra_messages = row['messages'] - 50\n",
        "        smart_result = 550 + np.ceil(extra_mb / 1024) * 200 + extra_minutes * 3 + extra_messages * 3\n",
        "        return smart_result\n",
        "    elif row['tariff'] == 'ultra':\n",
        "        if row['mb_used'] > 30*1024:\n",
        "            extra_mb = row['mb_used'] - 30*1024\n",
        "        if row['duration'] > 3000:\n",
        "            extra_minutes = row['duration'] - 3000\n",
        "        if row['messages'] > 1000:\n",
        "            extra_messages = row['messages'] - 1000\n",
        "        smart_result = 1950 + np.ceil(extra_mb / 1024) * 150 + extra_minutes + extra_messages \n",
        "        return smart_result "
      ],
      "execution_count": null,
      "outputs": []
    },
    {
      "cell_type": "markdown",
      "metadata": {
        "id": "DcqvZ91vplWu"
      },
      "source": [
        "<div class=\"alert alert-warning\">\n",
        "<h2> Комментарий от ревьюера</h2>\n",
        "\n",
        "Когда ты вписываешь условия тарифа вручную можно ошибиться, так же это не удобно, если условия тарифа изменяться. У тебя есть исходная таблица с уловиями тарифов, можно ее использовать как словарь внутри функции. Либо с помощью объединения подтянуть условия по тарифу в итоговую сводную таблицу, и внутри функции работать с одной строкой.\n",
        "\n",
        "</div>"
      ]
    },
    {
      "cell_type": "code",
      "metadata": {
        "id": "Obv66I5oplWv"
      },
      "source": [
        "total_data['total_cost'] = total_data.apply(revenue_per_user, axis = 1)"
      ],
      "execution_count": null,
      "outputs": []
    },
    {
      "cell_type": "code",
      "metadata": {
        "id": "AuMgC9HQplW7",
        "outputId": "32b502a7-f248-45fb-fdb9-42ede690c8f8"
      },
      "source": [
        "total_data.head(20)"
      ],
      "execution_count": null,
      "outputs": [
        {
          "output_type": "execute_result",
          "data": {
            "text/html": [
              "<div>\n",
              "<style scoped>\n",
              "    .dataframe tbody tr th:only-of-type {\n",
              "        vertical-align: middle;\n",
              "    }\n",
              "\n",
              "    .dataframe tbody tr th {\n",
              "        vertical-align: top;\n",
              "    }\n",
              "\n",
              "    .dataframe thead th {\n",
              "        text-align: right;\n",
              "    }\n",
              "</style>\n",
              "<table border=\"1\" class=\"dataframe\">\n",
              "  <thead>\n",
              "    <tr style=\"text-align: right;\">\n",
              "      <th></th>\n",
              "      <th>user_id</th>\n",
              "      <th>month</th>\n",
              "      <th>mb_used</th>\n",
              "      <th>duration</th>\n",
              "      <th>messages</th>\n",
              "      <th>tariff</th>\n",
              "      <th>city</th>\n",
              "      <th>total_cost</th>\n",
              "    </tr>\n",
              "  </thead>\n",
              "  <tbody>\n",
              "    <tr>\n",
              "      <td>0</td>\n",
              "      <td>1000</td>\n",
              "      <td>5.0</td>\n",
              "      <td>2256.0</td>\n",
              "      <td>159.0</td>\n",
              "      <td>22.0</td>\n",
              "      <td>ultra</td>\n",
              "      <td>Краснодар</td>\n",
              "      <td>1950.0</td>\n",
              "    </tr>\n",
              "    <tr>\n",
              "      <td>1</td>\n",
              "      <td>1000</td>\n",
              "      <td>6.0</td>\n",
              "      <td>23257.0</td>\n",
              "      <td>172.0</td>\n",
              "      <td>60.0</td>\n",
              "      <td>ultra</td>\n",
              "      <td>Краснодар</td>\n",
              "      <td>1950.0</td>\n",
              "    </tr>\n",
              "    <tr>\n",
              "      <td>2</td>\n",
              "      <td>1000</td>\n",
              "      <td>7.0</td>\n",
              "      <td>14016.0</td>\n",
              "      <td>340.0</td>\n",
              "      <td>75.0</td>\n",
              "      <td>ultra</td>\n",
              "      <td>Краснодар</td>\n",
              "      <td>1950.0</td>\n",
              "    </tr>\n",
              "    <tr>\n",
              "      <td>3</td>\n",
              "      <td>1000</td>\n",
              "      <td>8.0</td>\n",
              "      <td>14070.0</td>\n",
              "      <td>408.0</td>\n",
              "      <td>81.0</td>\n",
              "      <td>ultra</td>\n",
              "      <td>Краснодар</td>\n",
              "      <td>1950.0</td>\n",
              "    </tr>\n",
              "    <tr>\n",
              "      <td>4</td>\n",
              "      <td>1000</td>\n",
              "      <td>9.0</td>\n",
              "      <td>14581.0</td>\n",
              "      <td>466.0</td>\n",
              "      <td>57.0</td>\n",
              "      <td>ultra</td>\n",
              "      <td>Краснодар</td>\n",
              "      <td>1950.0</td>\n",
              "    </tr>\n",
              "    <tr>\n",
              "      <td>5</td>\n",
              "      <td>1000</td>\n",
              "      <td>10.0</td>\n",
              "      <td>14717.0</td>\n",
              "      <td>350.0</td>\n",
              "      <td>73.0</td>\n",
              "      <td>ultra</td>\n",
              "      <td>Краснодар</td>\n",
              "      <td>1950.0</td>\n",
              "    </tr>\n",
              "    <tr>\n",
              "      <td>6</td>\n",
              "      <td>1000</td>\n",
              "      <td>11.0</td>\n",
              "      <td>14768.0</td>\n",
              "      <td>338.0</td>\n",
              "      <td>58.0</td>\n",
              "      <td>ultra</td>\n",
              "      <td>Краснодар</td>\n",
              "      <td>1950.0</td>\n",
              "    </tr>\n",
              "    <tr>\n",
              "      <td>7</td>\n",
              "      <td>1000</td>\n",
              "      <td>12.0</td>\n",
              "      <td>9827.0</td>\n",
              "      <td>333.0</td>\n",
              "      <td>70.0</td>\n",
              "      <td>ultra</td>\n",
              "      <td>Краснодар</td>\n",
              "      <td>1950.0</td>\n",
              "    </tr>\n",
              "    <tr>\n",
              "      <td>8</td>\n",
              "      <td>1001</td>\n",
              "      <td>11.0</td>\n",
              "      <td>18452.0</td>\n",
              "      <td>430.0</td>\n",
              "      <td>NaN</td>\n",
              "      <td>smart</td>\n",
              "      <td>Москва</td>\n",
              "      <td>1350.0</td>\n",
              "    </tr>\n",
              "    <tr>\n",
              "      <td>9</td>\n",
              "      <td>1001</td>\n",
              "      <td>12.0</td>\n",
              "      <td>14053.0</td>\n",
              "      <td>414.0</td>\n",
              "      <td>NaN</td>\n",
              "      <td>smart</td>\n",
              "      <td>Москва</td>\n",
              "      <td>550.0</td>\n",
              "    </tr>\n",
              "    <tr>\n",
              "      <td>10</td>\n",
              "      <td>1002</td>\n",
              "      <td>6.0</td>\n",
              "      <td>10871.0</td>\n",
              "      <td>117.0</td>\n",
              "      <td>4.0</td>\n",
              "      <td>smart</td>\n",
              "      <td>Стерлитамак</td>\n",
              "      <td>550.0</td>\n",
              "    </tr>\n",
              "    <tr>\n",
              "      <td>11</td>\n",
              "      <td>1002</td>\n",
              "      <td>7.0</td>\n",
              "      <td>17601.0</td>\n",
              "      <td>214.0</td>\n",
              "      <td>11.0</td>\n",
              "      <td>smart</td>\n",
              "      <td>Стерлитамак</td>\n",
              "      <td>1150.0</td>\n",
              "    </tr>\n",
              "    <tr>\n",
              "      <td>12</td>\n",
              "      <td>1002</td>\n",
              "      <td>8.0</td>\n",
              "      <td>20347.0</td>\n",
              "      <td>289.0</td>\n",
              "      <td>13.0</td>\n",
              "      <td>smart</td>\n",
              "      <td>Стерлитамак</td>\n",
              "      <td>1550.0</td>\n",
              "    </tr>\n",
              "    <tr>\n",
              "      <td>13</td>\n",
              "      <td>1002</td>\n",
              "      <td>9.0</td>\n",
              "      <td>16712.0</td>\n",
              "      <td>206.0</td>\n",
              "      <td>4.0</td>\n",
              "      <td>smart</td>\n",
              "      <td>Стерлитамак</td>\n",
              "      <td>950.0</td>\n",
              "    </tr>\n",
              "    <tr>\n",
              "      <td>14</td>\n",
              "      <td>1002</td>\n",
              "      <td>10.0</td>\n",
              "      <td>13905.0</td>\n",
              "      <td>212.0</td>\n",
              "      <td>10.0</td>\n",
              "      <td>smart</td>\n",
              "      <td>Стерлитамак</td>\n",
              "      <td>550.0</td>\n",
              "    </tr>\n",
              "    <tr>\n",
              "      <td>15</td>\n",
              "      <td>1002</td>\n",
              "      <td>11.0</td>\n",
              "      <td>18610.0</td>\n",
              "      <td>243.0</td>\n",
              "      <td>16.0</td>\n",
              "      <td>smart</td>\n",
              "      <td>Стерлитамак</td>\n",
              "      <td>1350.0</td>\n",
              "    </tr>\n",
              "    <tr>\n",
              "      <td>16</td>\n",
              "      <td>1002</td>\n",
              "      <td>12.0</td>\n",
              "      <td>18137.0</td>\n",
              "      <td>236.0</td>\n",
              "      <td>12.0</td>\n",
              "      <td>smart</td>\n",
              "      <td>Стерлитамак</td>\n",
              "      <td>1150.0</td>\n",
              "    </tr>\n",
              "    <tr>\n",
              "      <td>17</td>\n",
              "      <td>1003</td>\n",
              "      <td>8.0</td>\n",
              "      <td>8571.0</td>\n",
              "      <td>380.0</td>\n",
              "      <td>37.0</td>\n",
              "      <td>ultra</td>\n",
              "      <td>Москва</td>\n",
              "      <td>1950.0</td>\n",
              "    </tr>\n",
              "    <tr>\n",
              "      <td>18</td>\n",
              "      <td>1003</td>\n",
              "      <td>9.0</td>\n",
              "      <td>12479.0</td>\n",
              "      <td>961.0</td>\n",
              "      <td>91.0</td>\n",
              "      <td>ultra</td>\n",
              "      <td>Москва</td>\n",
              "      <td>1950.0</td>\n",
              "    </tr>\n",
              "    <tr>\n",
              "      <td>19</td>\n",
              "      <td>1003</td>\n",
              "      <td>10.0</td>\n",
              "      <td>14779.0</td>\n",
              "      <td>855.0</td>\n",
              "      <td>83.0</td>\n",
              "      <td>ultra</td>\n",
              "      <td>Москва</td>\n",
              "      <td>1950.0</td>\n",
              "    </tr>\n",
              "  </tbody>\n",
              "</table>\n",
              "</div>"
            ],
            "text/plain": [
              "    user_id  month  mb_used  duration  messages tariff         city  \\\n",
              "0      1000    5.0   2256.0     159.0      22.0  ultra    Краснодар   \n",
              "1      1000    6.0  23257.0     172.0      60.0  ultra    Краснодар   \n",
              "2      1000    7.0  14016.0     340.0      75.0  ultra    Краснодар   \n",
              "3      1000    8.0  14070.0     408.0      81.0  ultra    Краснодар   \n",
              "4      1000    9.0  14581.0     466.0      57.0  ultra    Краснодар   \n",
              "5      1000   10.0  14717.0     350.0      73.0  ultra    Краснодар   \n",
              "6      1000   11.0  14768.0     338.0      58.0  ultra    Краснодар   \n",
              "7      1000   12.0   9827.0     333.0      70.0  ultra    Краснодар   \n",
              "8      1001   11.0  18452.0     430.0       NaN  smart       Москва   \n",
              "9      1001   12.0  14053.0     414.0       NaN  smart       Москва   \n",
              "10     1002    6.0  10871.0     117.0       4.0  smart  Стерлитамак   \n",
              "11     1002    7.0  17601.0     214.0      11.0  smart  Стерлитамак   \n",
              "12     1002    8.0  20347.0     289.0      13.0  smart  Стерлитамак   \n",
              "13     1002    9.0  16712.0     206.0       4.0  smart  Стерлитамак   \n",
              "14     1002   10.0  13905.0     212.0      10.0  smart  Стерлитамак   \n",
              "15     1002   11.0  18610.0     243.0      16.0  smart  Стерлитамак   \n",
              "16     1002   12.0  18137.0     236.0      12.0  smart  Стерлитамак   \n",
              "17     1003    8.0   8571.0     380.0      37.0  ultra       Москва   \n",
              "18     1003    9.0  12479.0     961.0      91.0  ultra       Москва   \n",
              "19     1003   10.0  14779.0     855.0      83.0  ultra       Москва   \n",
              "\n",
              "    total_cost  \n",
              "0       1950.0  \n",
              "1       1950.0  \n",
              "2       1950.0  \n",
              "3       1950.0  \n",
              "4       1950.0  \n",
              "5       1950.0  \n",
              "6       1950.0  \n",
              "7       1950.0  \n",
              "8       1350.0  \n",
              "9        550.0  \n",
              "10       550.0  \n",
              "11      1150.0  \n",
              "12      1550.0  \n",
              "13       950.0  \n",
              "14       550.0  \n",
              "15      1350.0  \n",
              "16      1150.0  \n",
              "17      1950.0  \n",
              "18      1950.0  \n",
              "19      1950.0  "
            ]
          },
          "metadata": {
            "tags": []
          },
          "execution_count": 40
        }
      ]
    },
    {
      "cell_type": "markdown",
      "metadata": {
        "id": "-pSjK2LlplXC"
      },
      "source": [
        "Подсчитали выручку с каждого клиента по месяцам."
      ]
    },
    {
      "cell_type": "markdown",
      "metadata": {
        "id": "krABKO87plXN"
      },
      "source": [
        "<div class=\"alert alert-info\" style=\"border:solid blue 2px; padding: 20px\">  По видимому пропуски появились при левом слиянии таблиц, то есть пользователь пользовался допустим только интернет-трафиком, но не отправил ни одного сообщения за месяц.</div>\n"
      ]
    },
    {
      "cell_type": "markdown",
      "metadata": {
        "id": "nsstm9N7plXQ"
      },
      "source": [
        "# Анализ данных"
      ]
    },
    {
      "cell_type": "markdown",
      "metadata": {
        "id": "tbcDGR5YplXS"
      },
      "source": [
        "Для начала подсчитаем суммарную выручку и количество клиентов на каждом тарифе."
      ]
    },
    {
      "cell_type": "code",
      "metadata": {
        "scrolled": true,
        "id": "uyUx1GJDplXT",
        "outputId": "cfa32f6a-5037-4942-a163-7b67618b91ad"
      },
      "source": [
        "sum_total_cost_smart = total_data.query('tariff == \"smart\"')['total_cost'].sum()\n",
        "mean_total_cost_smart = total_data.query('tariff == \"smart\"')['total_cost'].mean()\n",
        "count_smart = total_data.query('tariff == \"smart\"')['user_id'].count()\n",
        "count_customer_smart = data_users.query('tariff == \"smart\"')['user_id'].count()\n",
        "print('Суммарная выручка с клиентов тарифа \"Смарт\" = ', sum_total_cost_smart )\n",
        "print('Средняя выручка с клиента тарифа \"Смарт\" = ', mean_total_cost_smart )\n",
        "print('Общее количество операций клиентов тарифа \"Смарт\" = ', count_smart )\n",
        "print('Количество клиентов тарифа \"Смарт\" = ', count_customer_smart )\n",
        "print(' ')\n",
        "sum_total_cost_ultra = total_data.query('tariff == \"ultra\"')['total_cost'].sum()\n",
        "mean_total_cost_ultra = total_data.query('tariff == \"ultra\"')['total_cost'].mean()\n",
        "count_ultra = total_data.query('tariff == \"ultra\"')['user_id'].count()\n",
        "count_customer_ultra = data_users.query('tariff == \"ultra\"')['user_id'].count()\n",
        "print('Суммарная выручка с клиентов тарифа \"Ультра\" = ', sum_total_cost_ultra )\n",
        "print('Средняя выручка с клиента тарифа \"Ультра\" = ', mean_total_cost_ultra )\n",
        "print('Общее количество операций клиентов тарифа \"Ультра\" = ', count_ultra)\n",
        "print('Количество клиентов тарифа \"Ультра\" = ', count_customer_ultra)"
      ],
      "execution_count": null,
      "outputs": [
        {
          "output_type": "stream",
          "text": [
            "Суммарная выручка с клиентов тарифа \"Смарт\" =  2886301.0\n",
            "Средняя выручка с клиента тарифа \"Смарт\" =  1294.3053811659192\n",
            "Общее количество операций клиентов тарифа \"Смарт\" =  2230\n",
            "Количество клиентов тарифа \"Смарт\" =  351\n",
            " \n",
            "Суммарная выручка с клиентов тарифа \"Ультра\" =  2041950.0\n",
            "Средняя выручка с клиента тарифа \"Ультра\" =  2070.943204868154\n",
            "Общее количество операций клиентов тарифа \"Ультра\" =  986\n",
            "Количество клиентов тарифа \"Ультра\" =  149\n"
          ],
          "name": "stdout"
        }
      ]
    },
    {
      "cell_type": "markdown",
      "metadata": {
        "id": "f-GxhavPplXg"
      },
      "source": [
        "Для анализа данных напишем функцию, которая будет высчитывать среднее значение, диспресию и страндартное отклонение для каждого параметра тарифа и строить гистограмму."
      ]
    },
    {
      "cell_type": "code",
      "metadata": {
        "id": "DUYYbIyiplXh"
      },
      "source": [
        "def analysis(ftariff1, ftariff2, fparam, fbins):\n",
        "    current_data_smart = total_data.query('tariff == @ftariff1')\n",
        "    current_data_ultra = total_data.query('tariff == @ftariff2')\n",
        "    ax = current_data_smart[fparam].plot(kind='hist', histtype='step', bins=fbins, label='smart', linewidth=5, alpha=0.7, legend=True, figsize=(10,5))\n",
        "    current_data_ultra[fparam].plot(kind='hist', histtype='step', bins=fbins, label='ultra', linewidth=5, alpha=0.7, ax=ax, grid=True, legend=True, figsize=(10,5))\n",
        "    \n",
        "    plt.xlabel(fparam)\n",
        "    plt.ylabel('users')\n",
        "    mean_value_smart = current_data_smart[fparam].mean()\n",
        "    var_smart = current_data_smart[fparam].var()\n",
        "    dev_smart = np.sqrt(var_smart)\n",
        "    print('Среднее значение для тарифа \"Смарт\":', mean_value_smart)\n",
        "    print('Дисперсия для тарифа \"Смарт\":', var_smart)\n",
        "    print('Стандартное отклонение для тарифа \"Смарт\":', dev_smart)\n",
        "    \n",
        "    print(' ')\n",
        "    \n",
        "    mean_value_ultra = current_data_ultra[fparam].mean()\n",
        "    var_ultra = current_data_ultra[fparam].var()\n",
        "    dev_ultra = np.sqrt(var_ultra)\n",
        "    print('Среднее значение для тарифа \"Ультра\":', mean_value_ultra)\n",
        "    print('Дисперсия для тарифа \"Ультра\":', var_ultra)\n",
        "    print('Стандартное отклонение для тарифа \"Ультра\":', dev_ultra)"
      ],
      "execution_count": null,
      "outputs": []
    },
    {
      "cell_type": "code",
      "metadata": {
        "id": "40-QQfSiplXo",
        "outputId": "1a05e888-560a-40ed-f173-b4a42dc9e7b7"
      },
      "source": [
        "analysis('smart', 'ultra', 'duration', 20)"
      ],
      "execution_count": null,
      "outputs": [
        {
          "output_type": "stream",
          "text": [
            "Среднее значение для тарифа \"Смарт\": 419.4403421882035\n",
            "Дисперсия для тарифа \"Смарт\": 35718.128533936906\n",
            "Стандартное отклонение для тарифа \"Смарт\": 188.99240337626512\n",
            " \n",
            "Среднее значение для тарифа \"Ультра\": 547.7550158394931\n",
            "Дисперсия для тарифа \"Ультра\": 93338.42829141095\n",
            "Стандартное отклонение для тарифа \"Ультра\": 305.5133847991131\n"
          ],
          "name": "stdout"
        },
        {
          "output_type": "display_data",
          "data": {
            "image/png": "[encoded data removed]",
            "text/plain": [
              "<Figure size 720x360 with 1 Axes>"
            ]
          },
          "metadata": {
            "tags": [],
            "needs_background": "light"
          }
        }
      ]
    },
    {
      "cell_type": "markdown",
      "metadata": {
        "id": "uU6pWGtXplX1"
      },
      "source": [
        "* На гистограмме видно, что пик  тарифа Смарт приходится на 500 минут, что является лимитом минут включенных в тариф. Многие используют болше 500 минут разговора, так что можно сделать вывод, что пользователям тарифа Смарт не хватает включенных минут. Так как распределение нормальное, то по правилу 3-х сигм для того чтобы удовлетворить 99% процентов пользоватлей тарифа Смарт им необходимо предоставить **983** минуты разговоров.  \n",
        "\n",
        "\n",
        "* В среднем пользователи тарифа Ультра тратят около 550 минут и ни один пользователь не добирался до лимита тарифа в 3000 минут. Так как распределение нормальное, то по правилу 3-х сигм можно сделать вывод, что при среднем в 550 минут и страдартном отклонении в 305 минут 99% пользователей хватит **1465** минут, но можно и окргулить до 1500.\n",
        "\n",
        "---"
      ]
    },
    {
      "cell_type": "code",
      "metadata": {
        "id": "i0mYBo4XplX6",
        "outputId": "4c834695-5e4b-4569-8f3d-37d907ef8b49"
      },
      "source": [
        "analysis('smart', 'ultra','messages', 20)"
      ],
      "execution_count": null,
      "outputs": [
        {
          "output_type": "stream",
          "text": [
            "Среднее значение для тарифа \"Смарт\": 38.71644120707596\n",
            "Дисперсия для тарифа \"Смарт\": 717.5942011753547\n",
            "Стандартное отклонение для тарифа \"Смарт\": 26.787948804926344\n",
            " \n",
            "Среднее значение для тарифа \"Ультра\": 61.161006289308176\n",
            "Дисперсия для тарифа \"Ультра\": 2109.6591828651995\n",
            "Стандартное отклонение для тарифа \"Ультра\": 45.93102636416042\n"
          ],
          "name": "stdout"
        },
        {
          "output_type": "display_data",
          "data": {
            "image/png": "[encoded data removed]",
            "text/plain": [
              "<Figure size 720x360 with 1 Axes>"
            ]
          },
          "metadata": {
            "tags": [],
            "needs_background": "light"
          }
        }
      ]
    },
    {
      "cell_type": "markdown",
      "metadata": {
        "id": "jqkcmEJlplYC"
      },
      "source": [
        "* В среднем пользователи тарифа Смарт отправляют около 40 сообщений в месяц, однако есть и те, кому не хватает лимита тарифа в 50 сообщений и им приходится платить за них сверх тарифа.\n",
        "\n",
        "* Для пользователей тарифа Ультра лимит в 1000 сообщений в месяц опять же оказался слишком большим, никто не отправляет больше 250 сообщений.\n",
        "\n",
        "Графики имеют распределение Пуассона.\n",
        "\n",
        "---"
      ]
    },
    {
      "cell_type": "code",
      "metadata": {
        "id": "onDevHMgplYE",
        "outputId": "1852d231-2942-426e-cc06-36f3df5d8510"
      },
      "source": [
        "analysis('smart', 'ultra', 'mb_used', 20)"
      ],
      "execution_count": null,
      "outputs": [
        {
          "output_type": "stream",
          "text": [
            "Среднее значение для тарифа \"Смарт\": 16243.763358778626\n",
            "Дисперсия для тарифа \"Смарт\": 34340091.55358943\n",
            "Стандартное отклонение для тарифа \"Смарт\": 5860.041941282454\n",
            " \n",
            "Среднее значение для тарифа \"Ультра\": 19706.979466119097\n",
            "Дисперсия для тарифа \"Ультра\": 98746498.93277423\n",
            "Стандартное отклонение для тарифа \"Ультра\": 9937.127297804644\n"
          ],
          "name": "stdout"
        },
        {
          "output_type": "display_data",
          "data": {
            "image/png": "[encoded data removed]",
            "text/plain": [
              "<Figure size 720x360 with 1 Axes>"
            ]
          },
          "metadata": {
            "tags": [],
            "needs_background": "light"
          }
        }
      ]
    },
    {
      "cell_type": "markdown",
      "metadata": {
        "id": "jxdZ4QNpplYR"
      },
      "source": [
        "* В среднем клиенты тарифа Смарт трятят чуть больше 15ГБ интернет-трафика, но так как оператор окргуляет все значения вверх, то выходит, что большинству не хватает 15ГБ и им приходится платить сверх своего тарифа. Так как распределение велечин нормальное, то можно примениьт правило 3-х сигм и сдлеать вывод, что при стандартом отклонении 5860Мб и среднем значении 16243Мб 99% пользователей тарифа Смарт хватит **33Гб** интренет-трафика.  \n",
        "\n",
        "\n",
        "* Клиенты тарифа Ультра также не укладывются в свой лимит в 30Гб. Для удовлетворения 99% пользователей этого тарифа необходимо установить лимит в **48Гб**."
      ]
    },
    {
      "cell_type": "code",
      "metadata": {
        "scrolled": true,
        "id": "UkC1NhN1plYT",
        "outputId": "f15e7cc0-9313-4ed9-dfa2-0cc8d9db5299"
      },
      "source": [
        "total_data.query('tariff == \"ultra\"').describe()"
      ],
      "execution_count": null,
      "outputs": [
        {
          "output_type": "execute_result",
          "data": {
            "text/html": [
              "<div>\n",
              "<style scoped>\n",
              "    .dataframe tbody tr th:only-of-type {\n",
              "        vertical-align: middle;\n",
              "    }\n",
              "\n",
              "    .dataframe tbody tr th {\n",
              "        vertical-align: top;\n",
              "    }\n",
              "\n",
              "    .dataframe thead th {\n",
              "        text-align: right;\n",
              "    }\n",
              "</style>\n",
              "<table border=\"1\" class=\"dataframe\">\n",
              "  <thead>\n",
              "    <tr style=\"text-align: right;\">\n",
              "      <th></th>\n",
              "      <th>user_id</th>\n",
              "      <th>month</th>\n",
              "      <th>mb_used</th>\n",
              "      <th>duration</th>\n",
              "      <th>messages</th>\n",
              "      <th>total_cost</th>\n",
              "    </tr>\n",
              "  </thead>\n",
              "  <tbody>\n",
              "    <tr>\n",
              "      <td>count</td>\n",
              "      <td>986.000000</td>\n",
              "      <td>985.000000</td>\n",
              "      <td>974.000000</td>\n",
              "      <td>947.000000</td>\n",
              "      <td>795.000000</td>\n",
              "      <td>986.000000</td>\n",
              "    </tr>\n",
              "    <tr>\n",
              "      <td>mean</td>\n",
              "      <td>1262.957404</td>\n",
              "      <td>8.250761</td>\n",
              "      <td>19706.979466</td>\n",
              "      <td>547.755016</td>\n",
              "      <td>61.161006</td>\n",
              "      <td>2070.943205</td>\n",
              "    </tr>\n",
              "    <tr>\n",
              "      <td>std</td>\n",
              "      <td>140.689268</td>\n",
              "      <td>2.871762</td>\n",
              "      <td>9937.127298</td>\n",
              "      <td>305.513385</td>\n",
              "      <td>45.931026</td>\n",
              "      <td>378.629673</td>\n",
              "    </tr>\n",
              "    <tr>\n",
              "      <td>min</td>\n",
              "      <td>1000.000000</td>\n",
              "      <td>1.000000</td>\n",
              "      <td>366.000000</td>\n",
              "      <td>1.000000</td>\n",
              "      <td>1.000000</td>\n",
              "      <td>1950.000000</td>\n",
              "    </tr>\n",
              "    <tr>\n",
              "      <td>25%</td>\n",
              "      <td>1143.000000</td>\n",
              "      <td>6.000000</td>\n",
              "      <td>12073.750000</td>\n",
              "      <td>311.000000</td>\n",
              "      <td>24.000000</td>\n",
              "      <td>1950.000000</td>\n",
              "    </tr>\n",
              "    <tr>\n",
              "      <td>50%</td>\n",
              "      <td>1277.000000</td>\n",
              "      <td>9.000000</td>\n",
              "      <td>19427.500000</td>\n",
              "      <td>529.000000</td>\n",
              "      <td>51.000000</td>\n",
              "      <td>1950.000000</td>\n",
              "    </tr>\n",
              "    <tr>\n",
              "      <td>75%</td>\n",
              "      <td>1381.000000</td>\n",
              "      <td>11.000000</td>\n",
              "      <td>26936.250000</td>\n",
              "      <td>758.000000</td>\n",
              "      <td>87.500000</td>\n",
              "      <td>1950.000000</td>\n",
              "    </tr>\n",
              "    <tr>\n",
              "      <td>max</td>\n",
              "      <td>1495.000000</td>\n",
              "      <td>12.000000</td>\n",
              "      <td>49789.000000</td>\n",
              "      <td>1673.000000</td>\n",
              "      <td>224.000000</td>\n",
              "      <td>4800.000000</td>\n",
              "    </tr>\n",
              "  </tbody>\n",
              "</table>\n",
              "</div>"
            ],
            "text/plain": [
              "           user_id       month       mb_used     duration    messages  \\\n",
              "count   986.000000  985.000000    974.000000   947.000000  795.000000   \n",
              "mean   1262.957404    8.250761  19706.979466   547.755016   61.161006   \n",
              "std     140.689268    2.871762   9937.127298   305.513385   45.931026   \n",
              "min    1000.000000    1.000000    366.000000     1.000000    1.000000   \n",
              "25%    1143.000000    6.000000  12073.750000   311.000000   24.000000   \n",
              "50%    1277.000000    9.000000  19427.500000   529.000000   51.000000   \n",
              "75%    1381.000000   11.000000  26936.250000   758.000000   87.500000   \n",
              "max    1495.000000   12.000000  49789.000000  1673.000000  224.000000   \n",
              "\n",
              "        total_cost  \n",
              "count   986.000000  \n",
              "mean   2070.943205  \n",
              "std     378.629673  \n",
              "min    1950.000000  \n",
              "25%    1950.000000  \n",
              "50%    1950.000000  \n",
              "75%    1950.000000  \n",
              "max    4800.000000  "
            ]
          },
          "metadata": {
            "tags": []
          },
          "execution_count": 240
        }
      ]
    },
    {
      "cell_type": "markdown",
      "metadata": {
        "id": "WH6N3MX4plYo"
      },
      "source": [
        "<div class=\"alert alert-info\" style=\"border:solid blue 2px; padding: 20px\"> Тариф ультра имеет такое большое стандартное отклонение, потому что его значения более неоднороды и имеют больший размах. </div>"
      ]
    },
    {
      "cell_type": "code",
      "metadata": {
        "id": "8PULXAUpplYv",
        "outputId": "9e3653d8-1bd1-4783-cba5-67e1cfb7206f"
      },
      "source": [
        "analysis('smart', 'ultra', 'total_cost', 30)"
      ],
      "execution_count": null,
      "outputs": [
        {
          "output_type": "stream",
          "text": [
            "Среднее значение для тарифа \"Смарт\": 1294.3053811659192\n",
            "Дисперсия для тарифа \"Смарт\": 673877.6236139194\n",
            "Стандартное отклонение для тарифа \"Смарт\": 820.9004955619891\n",
            " \n",
            "Среднее значение для тарифа \"Ультра\": 2070.943204868154\n",
            "Дисперсия для тарифа \"Ультра\": 143360.42925834787\n",
            "Стандартное отклонение для тарифа \"Ультра\": 378.6296729765747\n"
          ],
          "name": "stdout"
        },
        {
          "output_type": "display_data",
          "data": {
            "image/png": "[encoded data removed]",
            "text/plain": [
              "<Figure size 720x360 with 1 Axes>"
            ]
          },
          "metadata": {
            "tags": [],
            "needs_background": "light"
          }
        }
      ]
    },
    {
      "cell_type": "markdown",
      "metadata": {
        "id": "DEGu-j3-plY5"
      },
      "source": [
        "* В среднем пользователи тарифа Смарт переплачивают по тарифу более чем в 2 раза\n",
        "\n",
        "* Клиенты тарифа Ультра тоже переплачивают, но далеко не так много, как клиенты Смарт."
      ]
    },
    {
      "cell_type": "code",
      "metadata": {
        "id": "orK8JdMvplZB"
      },
      "source": [
        "def analysis2(ftariff1, ftariff2, fparam, name):\n",
        "    dependence_month_smart = total_data.query('tariff == @ftariff1')\n",
        "    dependence_month_ultra = total_data.query('tariff == @ftariff2')\n",
        "    ax = dependence_month_smart.groupby('month').agg({fparam:'mean'}).plot( y=fparam, kind='bar', grid=True, legend=True, label='smart', figsize=(10,5), alpha=0.8)\n",
        "    dependence_month_ultra.groupby('month').agg({fparam:'mean'}).plot(y=fparam, kind='bar',label='ultra', color='orange', ax=ax, grid=True, legend=True, figsize=(10,5), alpha=0.5, title=name)\n",
        "    plt.show() "
      ],
      "execution_count": null,
      "outputs": []
    },
    {
      "cell_type": "code",
      "metadata": {
        "id": "f5YAS_YsplZN",
        "outputId": "5f6cb45f-a91c-4a76-f266-1b72312b16b0"
      },
      "source": [
        "analysis2('smart', 'ultra', 'total_cost','Изменение выручки в течении времени')"
      ],
      "execution_count": null,
      "outputs": [
        {
          "output_type": "display_data",
          "data": {
            "image/png": "[encoded data removed]",
            "text/plain": [
              "<Figure size 720x360 with 1 Axes>"
            ]
          },
          "metadata": {
            "tags": [],
            "needs_background": "light"
          }
        }
      ]
    },
    {
      "cell_type": "code",
      "metadata": {
        "id": "AxXBW0SmplZW",
        "outputId": "180345ac-15f1-475f-bcd9-e975359c8400"
      },
      "source": [
        "analysis2('smart', 'ultra', 'duration','Изменение количества потраченных минут в течении времени')"
      ],
      "execution_count": null,
      "outputs": [
        {
          "output_type": "display_data",
          "data": {
            "image/png": "[encoded data removed]",
            "text/plain": [
              "<Figure size 720x360 with 1 Axes>"
            ]
          },
          "metadata": {
            "tags": [],
            "needs_background": "light"
          }
        }
      ]
    },
    {
      "cell_type": "code",
      "metadata": {
        "id": "UzDJTABNplZh",
        "outputId": "c4033f4c-4a93-4f19-cff9-f1d9f881793b"
      },
      "source": [
        "analysis2('smart', 'ultra', 'messages','Изменение количества потраченных сообщений в течении времени')"
      ],
      "execution_count": null,
      "outputs": [
        {
          "output_type": "display_data",
          "data": {
            "image/png": "[encoded data removed]",
            "text/plain": [
              "<Figure size 720x360 with 1 Axes>"
            ]
          },
          "metadata": {
            "tags": [],
            "needs_background": "light"
          }
        }
      ]
    },
    {
      "cell_type": "code",
      "metadata": {
        "id": "teJzYDS5plZp",
        "outputId": "c09cea49-9f0f-422a-9e27-d321540ec066"
      },
      "source": [
        "analysis2('smart', 'ultra', 'mb_used','Изменение количества потраченных Мб в течении времени')"
      ],
      "execution_count": null,
      "outputs": [
        {
          "output_type": "display_data",
          "data": {
            "image/png": "[encoded data removed]",
            "text/plain": [
              "<Figure size 720x360 with 1 Axes>"
            ]
          },
          "metadata": {
            "tags": [],
            "needs_background": "light"
          }
        }
      ]
    },
    {
      "cell_type": "markdown",
      "metadata": {
        "id": "mkrtomxxplZx"
      },
      "source": [
        "<div class=\"alert alert-info\" style=\"border:solid blue 2px; padding: 20px\"> Анализ значений по временной динамике показывает, что месяц не особо влияет на изучаемые значения, да, к концу года показатели растут, но незначительно. </div>"
      ]
    },
    {
      "cell_type": "markdown",
      "metadata": {
        "id": "edx2PiauplZ4"
      },
      "source": [
        "# Проверка гипотез"
      ]
    },
    {
      "cell_type": "markdown",
      "metadata": {
        "id": "f4lJyGAFplZ6"
      },
      "source": [
        "Чтобы проверить гипотезы о равенстве среднего двух генеральных совокупностей по взятым из них выборкам, примените метод scipy.stats.ttest_ind (array1, array2, equal_var). "
      ]
    },
    {
      "cell_type": "markdown",
      "metadata": {
        "id": "W9dWN1NHplZ9"
      },
      "source": [
        "**H0** - средняя выручка пользователей тарифов «Ультра» и «Смарт» равна.  \n",
        "\n",
        "**H1** - средняя выручка пользователей тарифов «Ультра» и «Смарт» различается."
      ]
    },
    {
      "cell_type": "markdown",
      "metadata": {
        "id": "68qxxs5BplaA"
      },
      "source": [
        "<div class=\"alert alert-info\" style=\"border:solid blue 2px; padding: 20px\"> Сравиним диспресии выборок </div>"
      ]
    },
    {
      "cell_type": "code",
      "metadata": {
        "id": "fpn5RP57plaB",
        "outputId": "429318e3-077e-456e-b569-6cc8bb50fdde"
      },
      "source": [
        "print('Дисперсия выборки клиентов тарифа Смарт', total_data.query('tariff == \"smart\"')['total_cost'].var())"
      ],
      "execution_count": null,
      "outputs": [
        {
          "output_type": "stream",
          "text": [
            "Дисперсия выборки клиентов тарифа Смарт 673877.6236139194\n"
          ],
          "name": "stdout"
        }
      ]
    },
    {
      "cell_type": "code",
      "metadata": {
        "id": "uh0yPRIqplaL",
        "outputId": "2945bb97-c8d3-4c61-a99e-ced7ba46fe15"
      },
      "source": [
        "print('Дисперсия выборки клиентов тарифа Ультра', total_data.query('tariff == \"ultra\"')['total_cost'].var())"
      ],
      "execution_count": null,
      "outputs": [
        {
          "output_type": "stream",
          "text": [
            "Дисперсия выборки клиентов тарифа Ультра 143360.42925834787\n"
          ],
          "name": "stdout"
        }
      ]
    },
    {
      "cell_type": "markdown",
      "metadata": {
        "id": "8a7ZNP-ZplaU"
      },
      "source": [
        "<div class=\"alert alert-info\" style=\"border:solid blue 2px; padding: 20px\"> Диспресии не равны, значит необходимо использовать параметр equal_var = False </div>"
      ]
    },
    {
      "cell_type": "code",
      "metadata": {
        "id": "xyeny4SYplaV",
        "outputId": "66a9dd16-3cbc-4e4a-a7cd-f39fcc89936e"
      },
      "source": [
        "smart_customers = total_data.query('tariff == \"smart\"')['total_cost']\n",
        "ultra_customers = total_data.query('tariff == \"ultra\"')['total_cost']\n",
        "results = st.ttest_ind(ultra_customers, smart_customers, equal_var = False)\n",
        "alpha = .05\n",
        "print('p-значение: ', results.pvalue)\n",
        "if (results.pvalue < alpha):\n",
        "    print(\"Отвергаем нулевую гипотезу\")\n",
        "else:\n",
        "    print(\"Не получилось отвергнуть нулевую гипотезу\")"
      ],
      "execution_count": null,
      "outputs": [
        {
          "output_type": "stream",
          "text": [
            "p-значение:  1.2414049931248697e-246\n",
            "Отвергаем нулевую гипотезу\n"
          ],
          "name": "stdout"
        }
      ]
    },
    {
      "cell_type": "markdown",
      "metadata": {
        "id": "0yDnWInrplac"
      },
      "source": [
        "**Нулевая гипотеза отвергнута**, значит средняя выручка пользователей тарифов «Ультра» и «Смарт» все же **различается**.\n",
        "\n",
        "---"
      ]
    },
    {
      "cell_type": "markdown",
      "metadata": {
        "id": "DYrljTfLplah"
      },
      "source": [
        "**H0** - средняя выручка пользователей из Москвы не отличается от выручки пользователей из других регионов. \n",
        "\n",
        "**H1** - средняя выручка пользователей из Москвы отличается от выручки пользователей из других регионов."
      ]
    },
    {
      "cell_type": "markdown",
      "metadata": {
        "id": "3gknxdGDplai"
      },
      "source": [
        "<div class=\"alert alert-info\" style=\"border:solid blue 2px; padding: 20px\"> Сравиним диспресии выборок </div>"
      ]
    },
    {
      "cell_type": "code",
      "metadata": {
        "id": "sWdmAYnFplak",
        "outputId": "24e0d103-3b7e-47b9-ba11-8f65871818e4"
      },
      "source": [
        "print('Дисспрессия выборки клиентов их Москвы', total_data.query('city == \"Москва\"')['total_cost'].var())"
      ],
      "execution_count": null,
      "outputs": [
        {
          "output_type": "stream",
          "text": [
            "Дисспрессия выборки клиентов их Москвы 566183.0292184273\n"
          ],
          "name": "stdout"
        }
      ]
    },
    {
      "cell_type": "code",
      "metadata": {
        "id": "Rd293tldplap",
        "outputId": "f80747de-d707-489a-cd3c-6896a242b360"
      },
      "source": [
        "print('Диспресия выборки клиентов из других регионов', total_data.query('city != \"Москва\"')['total_cost'].var())"
      ],
      "execution_count": null,
      "outputs": [
        {
          "output_type": "stream",
          "text": [
            "Диспресия выборки клиентов из других регионов 656697.9582266762\n"
          ],
          "name": "stdout"
        }
      ]
    },
    {
      "cell_type": "markdown",
      "metadata": {
        "id": "fX7IuIaMplav"
      },
      "source": [
        "<div class=\"alert alert-info\" style=\"border:solid blue 2px; padding: 20px\"> Диспресии не равны, значит необходимо использовать параметр equal_var = False </div>"
      ]
    },
    {
      "cell_type": "code",
      "metadata": {
        "id": "79DnUshIplaw",
        "outputId": "7002539c-ffdf-493b-c7e1-d1834c78494f"
      },
      "source": [
        "moscow_customer = total_data.query('city == \"Москва\"')['total_cost']\n",
        "other_customer = total_data.query('city != \"Москва\"')['total_cost']\n",
        "results = st.ttest_ind(moscow_customer, other_customer, equal_var = False)\n",
        "alpha = .05\n",
        "print('p-значение: ', results.pvalue)\n",
        "if (results.pvalue < alpha):\n",
        "    print(\"Отвергаем нулевую гипотезу\")\n",
        "else:\n",
        "    print(\"Не получилось отвергнуть нулевую гипотезу\")"
      ],
      "execution_count": null,
      "outputs": [
        {
          "output_type": "stream",
          "text": [
            "p-значение:  0.5086199993481282\n",
            "Не получилось отвергнуть нулевую гипотезу\n"
          ],
          "name": "stdout"
        }
      ]
    },
    {
      "cell_type": "markdown",
      "metadata": {
        "id": "GH8dsLfRpla4"
      },
      "source": [
        "**Нулевая гепотеза не отвергнута**, а значит средняя выручка пользователей из Москвы не сильно то и отличается от выручки пользователей из других регионов."
      ]
    },
    {
      "cell_type": "markdown",
      "metadata": {
        "id": "__3vU4-Npla8"
      },
      "source": [
        "---\n",
        "# Вывод"
      ]
    },
    {
      "cell_type": "markdown",
      "metadata": {
        "id": "5iEpez5gpla9"
      },
      "source": [
        "В ходе анализа тарифов \"Смрат\" и \"Ультра\" оператора мобильной связи \"Мегалайн\" были сделаны следующие выводы:\n",
        "1. Пользователей тарифа \"Смарт\" в два раза больше, чем пользователей тарифа \"Ультра\";  \n",
        "2. Не смотря на большое различие в количестве пользователей тариф \"Ультра\" принес выручку приблизительно равную выручке с тарифа \"Смарт\", из чего можно сделать вывод, что тариф \"Ультра\" более прибыльный для оператора;  \n",
        "3. Пользователям тарифа \"Смарт\" не хватает минут и Гб включенных в тариф и им чаще приходится платить за них сверх тарифного пакета;\n",
        "4. Пользователям тарифа \"Ультра\" не хватает только Гб, при этом минут и сообщений включенных в тарифный пакет оказалось слишком много, практически никто не добирался до их лимита. Возможно стоило бы сократить количестов минут и сообщений, при этом увеличить Гб. <font color=darkblue> (Оптимальнымы были бы следующие условия: 1500 минут разговора, 250 сообщений, 50Гб интернет-трафика)</font>\n",
        "5. Средняя выручка пользователей из Москвы не сильно отличается от выручки пользователей из других регионов.\n"
      ]
    }
  ]
}