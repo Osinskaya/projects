{
  "nbformat": 4,
  "nbformat_minor": 0,
  "metadata": {
    "kernelspec": {
      "display_name": "Python 3",
      "language": "python",
      "name": "python3"
    },
    "language_info": {
      "codemirror_mode": {
        "name": "ipython",
        "version": 3
      },
      "file_extension": ".py",
      "mimetype": "text/x-python",
      "name": "python",
      "nbconvert_exporter": "python",
      "pygments_lexer": "ipython3",
      "version": "3.7.6"
    },
    "colab": {
      "name": "ae41e8a1-aef6-41ed-9548-3e07bc9ef4a0.ipynb",
      "provenance": []
    }
  },
  "cells": [
    {
      "cell_type": "markdown",
      "metadata": {
        "id": "AT3WrZLZlhgZ"
      },
      "source": [
        "<a id='section0'></a>\n",
        "# Исследование объявлений о продаже квартир\n",
        "\n",
        "В вашем распоряжении данные сервиса Яндекс.Недвижимость — архив объявлений о продаже квартир в Санкт-Петербурге и соседних населённых пунктов за несколько лет. Нужно научиться определять рыночную стоимость объектов недвижимости. Ваша задача — установить параметры. Это позволит построить автоматизированную систему: она отследит аномалии и мошенническую деятельность. \n",
        "\n",
        "По каждой квартире на продажу доступны два вида данных. Первые вписаны пользователем, вторые — получены автоматически на основе картографических данных. Например, расстояние до центра, аэропорта, ближайшего парка и водоёма. "
      ]
    },
    {
      "cell_type": "markdown",
      "metadata": {
        "id": "LykPczShlhgg"
      },
      "source": [
        "* *airports_nearest* — расстояние до ближайшего аэропорта в метрах (м)\n",
        "* *balcony* — число балконов\n",
        "* *ceiling_height* — высота потолков (м)\n",
        "* *cityCenters_nearest* — расстояние до центра города (м)\n",
        "* *days_exposition* — сколько дней было размещено объявление (от публикации до снятия)\n",
        "* *first_day_exposition* — дата публикации\n",
        "* *floor* — этаж\n",
        "* *floors_total* — всего этажей в доме\n",
        "* *is_apartment* — апартаменты (булев тип)\n",
        "* *kitchen_area* — площадь кухни в квадратных метрах (м²)\n",
        "* *last_price* — цена на момент снятия с публикации\n",
        "* *living_area* — жилая площадь в квадратных метрах(м²)\n",
        "* *locality_name* — название населённого пункта\n",
        "* *open_plan* — свободная планировка (булев тип)\n",
        "* *parks_around3000* — число парков в радиусе 3 км\n",
        "* *parks_nearest* — расстояние до ближайшего парка (м)\n",
        "* *ponds_around3000* — число водоёмов в радиусе 3 км\n",
        "* *ponds_nearest* — расстояние до ближайшего водоёма (м)\n",
        "* *rooms* — число комнат\n",
        "* *studio* — квартира-студия (булев тип)\n",
        "* *total_area* — площадь квартиры в квадратных метрах (м²)\n",
        "* *total_images* — число фотографий квартиры в объявлении"
      ]
    },
    {
      "cell_type": "markdown",
      "metadata": {
        "id": "hKvokJe_lhgl"
      },
      "source": [
        "* [Шаг 0. Исследование объявлений о продаже квартир](#section0)  \n",
        "* [Шаг 1. Откройте файл с данными и изучите общую информацию](#section1) \n",
        "    * [Вывод](#section1.1) \n",
        "* [Шаг 2. Предобработка данных](#section2)  \n",
        "    * [Обработка пропусков в столбце is_apartment](#section2.1) \n",
        "    * [Обработка пропусков в столбце 'balcony'](#section2.2)\n",
        "    * [Работа со столбцом 'first_day_exposition'](#section2.3)\n",
        "    * [Обработка пропусков в столбце floors_total](#section2.4)\n",
        "    * [Обработка пропусков в столбцах  living_area и kitchen_area](#section2.5)\n",
        "    * [Обработка пропусков в столбцах days_exposition](#section2.6)\n",
        "    * [Обработка пропусков в столбце ceiling_height](#section2.7)\n",
        "* [Шаг 3. Посчитайте и добавьте в таблицу](#section3)  \n",
        "    * [Цена за квадратный метр](#section3.1)\n",
        "    * [День недели, месяц и год публикации объявления](#section3.2)\n",
        "    * [Этаж квартиры](#section3.3)\n",
        "    * [Соотношение жилой и общей площади](#section3.4)\n",
        "    * [Отношение площади кухни к общей](#section3.5)\n",
        "* [Шаг 4. Проведите исследовательский анализ данных и выполните инструкции](#section4) \n",
        "    * [Изучение площади](#section4.1)\n",
        "    * [Изучение цены](#section4.2)  \n",
        "    * [Изучение числа комнат](#section4.3)  \n",
        "    * [Изучение высоты потолков](#section4.4)\n",
        "* [Шаг 5. Задачи](#section5) \n",
        "    * [Какие факторы больше всего влияют на стоимость квартиры?](#section4.5)\n",
        "    * [10 населённых пунктов с наибольшим числом объявлений](#section4.6)\n",
        "* [Шаг 5. Общий вывод](#section5)  \n"
      ]
    },
    {
      "cell_type": "markdown",
      "metadata": {
        "id": "FVaKKTSilhgs"
      },
      "source": [
        "<a id='section1'></a>\n",
        "## Шаг 1. Откройте файл с данными и изучите общую информацию. "
      ]
    },
    {
      "cell_type": "code",
      "metadata": {
        "id": "y1YhrKMBlhgu"
      },
      "source": [
        "import pandas as pd\n",
        "import matplotlib.pyplot as plt\n",
        "data = pd.read_csv('/datasets/real_estate_data.csv', sep='\\t')"
      ],
      "execution_count": null,
      "outputs": []
    },
    {
      "cell_type": "code",
      "metadata": {
        "id": "iNswBV95lhg7",
        "outputId": "f655c3d4-2e5c-4152-9b9f-3448aeabbf93"
      },
      "source": [
        "data.head()"
      ],
      "execution_count": null,
      "outputs": [
        {
          "output_type": "execute_result",
          "data": {
            "text/html": [
              "<div>\n",
              "<style scoped>\n",
              "    .dataframe tbody tr th:only-of-type {\n",
              "        vertical-align: middle;\n",
              "    }\n",
              "\n",
              "    .dataframe tbody tr th {\n",
              "        vertical-align: top;\n",
              "    }\n",
              "\n",
              "    .dataframe thead th {\n",
              "        text-align: right;\n",
              "    }\n",
              "</style>\n",
              "<table border=\"1\" class=\"dataframe\">\n",
              "  <thead>\n",
              "    <tr style=\"text-align: right;\">\n",
              "      <th></th>\n",
              "      <th>total_images</th>\n",
              "      <th>last_price</th>\n",
              "      <th>total_area</th>\n",
              "      <th>first_day_exposition</th>\n",
              "      <th>rooms</th>\n",
              "      <th>ceiling_height</th>\n",
              "      <th>floors_total</th>\n",
              "      <th>living_area</th>\n",
              "      <th>floor</th>\n",
              "      <th>is_apartment</th>\n",
              "      <th>...</th>\n",
              "      <th>kitchen_area</th>\n",
              "      <th>balcony</th>\n",
              "      <th>locality_name</th>\n",
              "      <th>airports_nearest</th>\n",
              "      <th>cityCenters_nearest</th>\n",
              "      <th>parks_around3000</th>\n",
              "      <th>parks_nearest</th>\n",
              "      <th>ponds_around3000</th>\n",
              "      <th>ponds_nearest</th>\n",
              "      <th>days_exposition</th>\n",
              "    </tr>\n",
              "  </thead>\n",
              "  <tbody>\n",
              "    <tr>\n",
              "      <td>0</td>\n",
              "      <td>20</td>\n",
              "      <td>13000000.0</td>\n",
              "      <td>108.0</td>\n",
              "      <td>2019-03-07T00:00:00</td>\n",
              "      <td>3</td>\n",
              "      <td>2.70</td>\n",
              "      <td>16.0</td>\n",
              "      <td>51.0</td>\n",
              "      <td>8</td>\n",
              "      <td>NaN</td>\n",
              "      <td>...</td>\n",
              "      <td>25.0</td>\n",
              "      <td>NaN</td>\n",
              "      <td>Санкт-Петербург</td>\n",
              "      <td>18863.0</td>\n",
              "      <td>16028.0</td>\n",
              "      <td>1.0</td>\n",
              "      <td>482.0</td>\n",
              "      <td>2.0</td>\n",
              "      <td>755.0</td>\n",
              "      <td>NaN</td>\n",
              "    </tr>\n",
              "    <tr>\n",
              "      <td>1</td>\n",
              "      <td>7</td>\n",
              "      <td>3350000.0</td>\n",
              "      <td>40.4</td>\n",
              "      <td>2018-12-04T00:00:00</td>\n",
              "      <td>1</td>\n",
              "      <td>NaN</td>\n",
              "      <td>11.0</td>\n",
              "      <td>18.6</td>\n",
              "      <td>1</td>\n",
              "      <td>NaN</td>\n",
              "      <td>...</td>\n",
              "      <td>11.0</td>\n",
              "      <td>2.0</td>\n",
              "      <td>посёлок Шушары</td>\n",
              "      <td>12817.0</td>\n",
              "      <td>18603.0</td>\n",
              "      <td>0.0</td>\n",
              "      <td>NaN</td>\n",
              "      <td>0.0</td>\n",
              "      <td>NaN</td>\n",
              "      <td>81.0</td>\n",
              "    </tr>\n",
              "    <tr>\n",
              "      <td>2</td>\n",
              "      <td>10</td>\n",
              "      <td>5196000.0</td>\n",
              "      <td>56.0</td>\n",
              "      <td>2015-08-20T00:00:00</td>\n",
              "      <td>2</td>\n",
              "      <td>NaN</td>\n",
              "      <td>5.0</td>\n",
              "      <td>34.3</td>\n",
              "      <td>4</td>\n",
              "      <td>NaN</td>\n",
              "      <td>...</td>\n",
              "      <td>8.3</td>\n",
              "      <td>0.0</td>\n",
              "      <td>Санкт-Петербург</td>\n",
              "      <td>21741.0</td>\n",
              "      <td>13933.0</td>\n",
              "      <td>1.0</td>\n",
              "      <td>90.0</td>\n",
              "      <td>2.0</td>\n",
              "      <td>574.0</td>\n",
              "      <td>558.0</td>\n",
              "    </tr>\n",
              "    <tr>\n",
              "      <td>3</td>\n",
              "      <td>0</td>\n",
              "      <td>64900000.0</td>\n",
              "      <td>159.0</td>\n",
              "      <td>2015-07-24T00:00:00</td>\n",
              "      <td>3</td>\n",
              "      <td>NaN</td>\n",
              "      <td>14.0</td>\n",
              "      <td>NaN</td>\n",
              "      <td>9</td>\n",
              "      <td>NaN</td>\n",
              "      <td>...</td>\n",
              "      <td>NaN</td>\n",
              "      <td>0.0</td>\n",
              "      <td>Санкт-Петербург</td>\n",
              "      <td>28098.0</td>\n",
              "      <td>6800.0</td>\n",
              "      <td>2.0</td>\n",
              "      <td>84.0</td>\n",
              "      <td>3.0</td>\n",
              "      <td>234.0</td>\n",
              "      <td>424.0</td>\n",
              "    </tr>\n",
              "    <tr>\n",
              "      <td>4</td>\n",
              "      <td>2</td>\n",
              "      <td>10000000.0</td>\n",
              "      <td>100.0</td>\n",
              "      <td>2018-06-19T00:00:00</td>\n",
              "      <td>2</td>\n",
              "      <td>3.03</td>\n",
              "      <td>14.0</td>\n",
              "      <td>32.0</td>\n",
              "      <td>13</td>\n",
              "      <td>NaN</td>\n",
              "      <td>...</td>\n",
              "      <td>41.0</td>\n",
              "      <td>NaN</td>\n",
              "      <td>Санкт-Петербург</td>\n",
              "      <td>31856.0</td>\n",
              "      <td>8098.0</td>\n",
              "      <td>2.0</td>\n",
              "      <td>112.0</td>\n",
              "      <td>1.0</td>\n",
              "      <td>48.0</td>\n",
              "      <td>121.0</td>\n",
              "    </tr>\n",
              "  </tbody>\n",
              "</table>\n",
              "<p>5 rows × 22 columns</p>\n",
              "</div>"
            ],
            "text/plain": [
              "   total_images  last_price  total_area first_day_exposition  rooms  \\\n",
              "0            20  13000000.0       108.0  2019-03-07T00:00:00      3   \n",
              "1             7   3350000.0        40.4  2018-12-04T00:00:00      1   \n",
              "2            10   5196000.0        56.0  2015-08-20T00:00:00      2   \n",
              "3             0  64900000.0       159.0  2015-07-24T00:00:00      3   \n",
              "4             2  10000000.0       100.0  2018-06-19T00:00:00      2   \n",
              "\n",
              "   ceiling_height  floors_total  living_area  floor is_apartment  ...  \\\n",
              "0            2.70          16.0         51.0      8          NaN  ...   \n",
              "1             NaN          11.0         18.6      1          NaN  ...   \n",
              "2             NaN           5.0         34.3      4          NaN  ...   \n",
              "3             NaN          14.0          NaN      9          NaN  ...   \n",
              "4            3.03          14.0         32.0     13          NaN  ...   \n",
              "\n",
              "   kitchen_area  balcony    locality_name  airports_nearest  \\\n",
              "0          25.0      NaN  Санкт-Петербург           18863.0   \n",
              "1          11.0      2.0   посёлок Шушары           12817.0   \n",
              "2           8.3      0.0  Санкт-Петербург           21741.0   \n",
              "3           NaN      0.0  Санкт-Петербург           28098.0   \n",
              "4          41.0      NaN  Санкт-Петербург           31856.0   \n",
              "\n",
              "  cityCenters_nearest  parks_around3000  parks_nearest  ponds_around3000  \\\n",
              "0             16028.0               1.0          482.0               2.0   \n",
              "1             18603.0               0.0            NaN               0.0   \n",
              "2             13933.0               1.0           90.0               2.0   \n",
              "3              6800.0               2.0           84.0               3.0   \n",
              "4              8098.0               2.0          112.0               1.0   \n",
              "\n",
              "   ponds_nearest  days_exposition  \n",
              "0          755.0              NaN  \n",
              "1            NaN             81.0  \n",
              "2          574.0            558.0  \n",
              "3          234.0            424.0  \n",
              "4           48.0            121.0  \n",
              "\n",
              "[5 rows x 22 columns]"
            ]
          },
          "metadata": {
            "tags": []
          },
          "execution_count": 2
        }
      ]
    },
    {
      "cell_type": "code",
      "metadata": {
        "scrolled": true,
        "id": "sd1E-p6glhhK"
      },
      "source": [
        "pd.set_option('display.max_columns', None)"
      ],
      "execution_count": null,
      "outputs": []
    },
    {
      "cell_type": "code",
      "metadata": {
        "id": "tTEAHpaMlhhV"
      },
      "source": [
        "#Для удобства разместим столбцы в другом порядке\n",
        "\n",
        "data = data[[\n",
        "    'locality_name',\n",
        "    'total_area',\n",
        " 'living_area',\n",
        " 'kitchen_area',\n",
        " 'ceiling_height',\n",
        " 'rooms',\n",
        " 'balcony',\n",
        " 'floor',\n",
        " 'floors_total',\n",
        " 'is_apartment',\n",
        " 'studio',\n",
        " 'open_plan',  \n",
        " 'total_images',\n",
        " 'last_price',\n",
        " 'first_day_exposition',\n",
        " 'days_exposition',\n",
        " 'cityCenters_nearest',\n",
        " 'airports_nearest',\n",
        " 'parks_around3000',\n",
        " 'parks_nearest',\n",
        " 'ponds_around3000',\n",
        " 'ponds_nearest'\n",
        "]]"
      ],
      "execution_count": null,
      "outputs": []
    },
    {
      "cell_type": "code",
      "metadata": {
        "scrolled": false,
        "id": "KFF0UmWllhhh",
        "outputId": "c5298dc8-99b1-4e1f-acc5-51a7f5853947"
      },
      "source": [
        "data.head(10)"
      ],
      "execution_count": null,
      "outputs": [
        {
          "output_type": "execute_result",
          "data": {
            "text/html": [
              "<div>\n",
              "<style scoped>\n",
              "    .dataframe tbody tr th:only-of-type {\n",
              "        vertical-align: middle;\n",
              "    }\n",
              "\n",
              "    .dataframe tbody tr th {\n",
              "        vertical-align: top;\n",
              "    }\n",
              "\n",
              "    .dataframe thead th {\n",
              "        text-align: right;\n",
              "    }\n",
              "</style>\n",
              "<table border=\"1\" class=\"dataframe\">\n",
              "  <thead>\n",
              "    <tr style=\"text-align: right;\">\n",
              "      <th></th>\n",
              "      <th>locality_name</th>\n",
              "      <th>total_area</th>\n",
              "      <th>living_area</th>\n",
              "      <th>kitchen_area</th>\n",
              "      <th>ceiling_height</th>\n",
              "      <th>rooms</th>\n",
              "      <th>balcony</th>\n",
              "      <th>floor</th>\n",
              "      <th>floors_total</th>\n",
              "      <th>is_apartment</th>\n",
              "      <th>studio</th>\n",
              "      <th>open_plan</th>\n",
              "      <th>total_images</th>\n",
              "      <th>last_price</th>\n",
              "      <th>first_day_exposition</th>\n",
              "      <th>days_exposition</th>\n",
              "      <th>cityCenters_nearest</th>\n",
              "      <th>airports_nearest</th>\n",
              "      <th>parks_around3000</th>\n",
              "      <th>parks_nearest</th>\n",
              "      <th>ponds_around3000</th>\n",
              "      <th>ponds_nearest</th>\n",
              "    </tr>\n",
              "  </thead>\n",
              "  <tbody>\n",
              "    <tr>\n",
              "      <td>0</td>\n",
              "      <td>Санкт-Петербург</td>\n",
              "      <td>108.00</td>\n",
              "      <td>51.00</td>\n",
              "      <td>25.00</td>\n",
              "      <td>2.70</td>\n",
              "      <td>3</td>\n",
              "      <td>NaN</td>\n",
              "      <td>8</td>\n",
              "      <td>16.0</td>\n",
              "      <td>NaN</td>\n",
              "      <td>False</td>\n",
              "      <td>False</td>\n",
              "      <td>20</td>\n",
              "      <td>13000000.0</td>\n",
              "      <td>2019-03-07T00:00:00</td>\n",
              "      <td>NaN</td>\n",
              "      <td>16028.0</td>\n",
              "      <td>18863.0</td>\n",
              "      <td>1.0</td>\n",
              "      <td>482.0</td>\n",
              "      <td>2.0</td>\n",
              "      <td>755.0</td>\n",
              "    </tr>\n",
              "    <tr>\n",
              "      <td>1</td>\n",
              "      <td>посёлок Шушары</td>\n",
              "      <td>40.40</td>\n",
              "      <td>18.60</td>\n",
              "      <td>11.00</td>\n",
              "      <td>NaN</td>\n",
              "      <td>1</td>\n",
              "      <td>2.0</td>\n",
              "      <td>1</td>\n",
              "      <td>11.0</td>\n",
              "      <td>NaN</td>\n",
              "      <td>False</td>\n",
              "      <td>False</td>\n",
              "      <td>7</td>\n",
              "      <td>3350000.0</td>\n",
              "      <td>2018-12-04T00:00:00</td>\n",
              "      <td>81.0</td>\n",
              "      <td>18603.0</td>\n",
              "      <td>12817.0</td>\n",
              "      <td>0.0</td>\n",
              "      <td>NaN</td>\n",
              "      <td>0.0</td>\n",
              "      <td>NaN</td>\n",
              "    </tr>\n",
              "    <tr>\n",
              "      <td>2</td>\n",
              "      <td>Санкт-Петербург</td>\n",
              "      <td>56.00</td>\n",
              "      <td>34.30</td>\n",
              "      <td>8.30</td>\n",
              "      <td>NaN</td>\n",
              "      <td>2</td>\n",
              "      <td>0.0</td>\n",
              "      <td>4</td>\n",
              "      <td>5.0</td>\n",
              "      <td>NaN</td>\n",
              "      <td>False</td>\n",
              "      <td>False</td>\n",
              "      <td>10</td>\n",
              "      <td>5196000.0</td>\n",
              "      <td>2015-08-20T00:00:00</td>\n",
              "      <td>558.0</td>\n",
              "      <td>13933.0</td>\n",
              "      <td>21741.0</td>\n",
              "      <td>1.0</td>\n",
              "      <td>90.0</td>\n",
              "      <td>2.0</td>\n",
              "      <td>574.0</td>\n",
              "    </tr>\n",
              "    <tr>\n",
              "      <td>3</td>\n",
              "      <td>Санкт-Петербург</td>\n",
              "      <td>159.00</td>\n",
              "      <td>NaN</td>\n",
              "      <td>NaN</td>\n",
              "      <td>NaN</td>\n",
              "      <td>3</td>\n",
              "      <td>0.0</td>\n",
              "      <td>9</td>\n",
              "      <td>14.0</td>\n",
              "      <td>NaN</td>\n",
              "      <td>False</td>\n",
              "      <td>False</td>\n",
              "      <td>0</td>\n",
              "      <td>64900000.0</td>\n",
              "      <td>2015-07-24T00:00:00</td>\n",
              "      <td>424.0</td>\n",
              "      <td>6800.0</td>\n",
              "      <td>28098.0</td>\n",
              "      <td>2.0</td>\n",
              "      <td>84.0</td>\n",
              "      <td>3.0</td>\n",
              "      <td>234.0</td>\n",
              "    </tr>\n",
              "    <tr>\n",
              "      <td>4</td>\n",
              "      <td>Санкт-Петербург</td>\n",
              "      <td>100.00</td>\n",
              "      <td>32.00</td>\n",
              "      <td>41.00</td>\n",
              "      <td>3.03</td>\n",
              "      <td>2</td>\n",
              "      <td>NaN</td>\n",
              "      <td>13</td>\n",
              "      <td>14.0</td>\n",
              "      <td>NaN</td>\n",
              "      <td>False</td>\n",
              "      <td>False</td>\n",
              "      <td>2</td>\n",
              "      <td>10000000.0</td>\n",
              "      <td>2018-06-19T00:00:00</td>\n",
              "      <td>121.0</td>\n",
              "      <td>8098.0</td>\n",
              "      <td>31856.0</td>\n",
              "      <td>2.0</td>\n",
              "      <td>112.0</td>\n",
              "      <td>1.0</td>\n",
              "      <td>48.0</td>\n",
              "    </tr>\n",
              "    <tr>\n",
              "      <td>5</td>\n",
              "      <td>городской посёлок Янино-1</td>\n",
              "      <td>30.40</td>\n",
              "      <td>14.40</td>\n",
              "      <td>9.10</td>\n",
              "      <td>NaN</td>\n",
              "      <td>1</td>\n",
              "      <td>NaN</td>\n",
              "      <td>5</td>\n",
              "      <td>12.0</td>\n",
              "      <td>NaN</td>\n",
              "      <td>False</td>\n",
              "      <td>False</td>\n",
              "      <td>10</td>\n",
              "      <td>2890000.0</td>\n",
              "      <td>2018-09-10T00:00:00</td>\n",
              "      <td>55.0</td>\n",
              "      <td>NaN</td>\n",
              "      <td>NaN</td>\n",
              "      <td>NaN</td>\n",
              "      <td>NaN</td>\n",
              "      <td>NaN</td>\n",
              "      <td>NaN</td>\n",
              "    </tr>\n",
              "    <tr>\n",
              "      <td>6</td>\n",
              "      <td>посёлок Парголово</td>\n",
              "      <td>37.30</td>\n",
              "      <td>10.60</td>\n",
              "      <td>14.40</td>\n",
              "      <td>NaN</td>\n",
              "      <td>1</td>\n",
              "      <td>1.0</td>\n",
              "      <td>6</td>\n",
              "      <td>26.0</td>\n",
              "      <td>NaN</td>\n",
              "      <td>False</td>\n",
              "      <td>False</td>\n",
              "      <td>6</td>\n",
              "      <td>3700000.0</td>\n",
              "      <td>2017-11-02T00:00:00</td>\n",
              "      <td>155.0</td>\n",
              "      <td>19143.0</td>\n",
              "      <td>52996.0</td>\n",
              "      <td>0.0</td>\n",
              "      <td>NaN</td>\n",
              "      <td>0.0</td>\n",
              "      <td>NaN</td>\n",
              "    </tr>\n",
              "    <tr>\n",
              "      <td>7</td>\n",
              "      <td>Санкт-Петербург</td>\n",
              "      <td>71.60</td>\n",
              "      <td>NaN</td>\n",
              "      <td>18.90</td>\n",
              "      <td>NaN</td>\n",
              "      <td>2</td>\n",
              "      <td>2.0</td>\n",
              "      <td>22</td>\n",
              "      <td>24.0</td>\n",
              "      <td>NaN</td>\n",
              "      <td>False</td>\n",
              "      <td>False</td>\n",
              "      <td>5</td>\n",
              "      <td>7915000.0</td>\n",
              "      <td>2019-04-18T00:00:00</td>\n",
              "      <td>NaN</td>\n",
              "      <td>11634.0</td>\n",
              "      <td>23982.0</td>\n",
              "      <td>0.0</td>\n",
              "      <td>NaN</td>\n",
              "      <td>0.0</td>\n",
              "      <td>NaN</td>\n",
              "    </tr>\n",
              "    <tr>\n",
              "      <td>8</td>\n",
              "      <td>посёлок Мурино</td>\n",
              "      <td>33.16</td>\n",
              "      <td>15.43</td>\n",
              "      <td>8.81</td>\n",
              "      <td>NaN</td>\n",
              "      <td>1</td>\n",
              "      <td>NaN</td>\n",
              "      <td>26</td>\n",
              "      <td>27.0</td>\n",
              "      <td>NaN</td>\n",
              "      <td>False</td>\n",
              "      <td>False</td>\n",
              "      <td>20</td>\n",
              "      <td>2900000.0</td>\n",
              "      <td>2018-05-23T00:00:00</td>\n",
              "      <td>189.0</td>\n",
              "      <td>NaN</td>\n",
              "      <td>NaN</td>\n",
              "      <td>NaN</td>\n",
              "      <td>NaN</td>\n",
              "      <td>NaN</td>\n",
              "      <td>NaN</td>\n",
              "    </tr>\n",
              "    <tr>\n",
              "      <td>9</td>\n",
              "      <td>Санкт-Петербург</td>\n",
              "      <td>61.00</td>\n",
              "      <td>43.60</td>\n",
              "      <td>6.50</td>\n",
              "      <td>2.50</td>\n",
              "      <td>3</td>\n",
              "      <td>2.0</td>\n",
              "      <td>7</td>\n",
              "      <td>9.0</td>\n",
              "      <td>NaN</td>\n",
              "      <td>False</td>\n",
              "      <td>False</td>\n",
              "      <td>18</td>\n",
              "      <td>5400000.0</td>\n",
              "      <td>2017-02-26T00:00:00</td>\n",
              "      <td>289.0</td>\n",
              "      <td>15008.0</td>\n",
              "      <td>50898.0</td>\n",
              "      <td>0.0</td>\n",
              "      <td>NaN</td>\n",
              "      <td>0.0</td>\n",
              "      <td>NaN</td>\n",
              "    </tr>\n",
              "  </tbody>\n",
              "</table>\n",
              "</div>"
            ],
            "text/plain": [
              "               locality_name  total_area  living_area  kitchen_area  \\\n",
              "0            Санкт-Петербург      108.00        51.00         25.00   \n",
              "1             посёлок Шушары       40.40        18.60         11.00   \n",
              "2            Санкт-Петербург       56.00        34.30          8.30   \n",
              "3            Санкт-Петербург      159.00          NaN           NaN   \n",
              "4            Санкт-Петербург      100.00        32.00         41.00   \n",
              "5  городской посёлок Янино-1       30.40        14.40          9.10   \n",
              "6          посёлок Парголово       37.30        10.60         14.40   \n",
              "7            Санкт-Петербург       71.60          NaN         18.90   \n",
              "8             посёлок Мурино       33.16        15.43          8.81   \n",
              "9            Санкт-Петербург       61.00        43.60          6.50   \n",
              "\n",
              "   ceiling_height  rooms  balcony  floor  floors_total is_apartment  studio  \\\n",
              "0            2.70      3      NaN      8          16.0          NaN   False   \n",
              "1             NaN      1      2.0      1          11.0          NaN   False   \n",
              "2             NaN      2      0.0      4           5.0          NaN   False   \n",
              "3             NaN      3      0.0      9          14.0          NaN   False   \n",
              "4            3.03      2      NaN     13          14.0          NaN   False   \n",
              "5             NaN      1      NaN      5          12.0          NaN   False   \n",
              "6             NaN      1      1.0      6          26.0          NaN   False   \n",
              "7             NaN      2      2.0     22          24.0          NaN   False   \n",
              "8             NaN      1      NaN     26          27.0          NaN   False   \n",
              "9            2.50      3      2.0      7           9.0          NaN   False   \n",
              "\n",
              "   open_plan  total_images  last_price first_day_exposition  days_exposition  \\\n",
              "0      False            20  13000000.0  2019-03-07T00:00:00              NaN   \n",
              "1      False             7   3350000.0  2018-12-04T00:00:00             81.0   \n",
              "2      False            10   5196000.0  2015-08-20T00:00:00            558.0   \n",
              "3      False             0  64900000.0  2015-07-24T00:00:00            424.0   \n",
              "4      False             2  10000000.0  2018-06-19T00:00:00            121.0   \n",
              "5      False            10   2890000.0  2018-09-10T00:00:00             55.0   \n",
              "6      False             6   3700000.0  2017-11-02T00:00:00            155.0   \n",
              "7      False             5   7915000.0  2019-04-18T00:00:00              NaN   \n",
              "8      False            20   2900000.0  2018-05-23T00:00:00            189.0   \n",
              "9      False            18   5400000.0  2017-02-26T00:00:00            289.0   \n",
              "\n",
              "   cityCenters_nearest  airports_nearest  parks_around3000  parks_nearest  \\\n",
              "0              16028.0           18863.0               1.0          482.0   \n",
              "1              18603.0           12817.0               0.0            NaN   \n",
              "2              13933.0           21741.0               1.0           90.0   \n",
              "3               6800.0           28098.0               2.0           84.0   \n",
              "4               8098.0           31856.0               2.0          112.0   \n",
              "5                  NaN               NaN               NaN            NaN   \n",
              "6              19143.0           52996.0               0.0            NaN   \n",
              "7              11634.0           23982.0               0.0            NaN   \n",
              "8                  NaN               NaN               NaN            NaN   \n",
              "9              15008.0           50898.0               0.0            NaN   \n",
              "\n",
              "   ponds_around3000  ponds_nearest  \n",
              "0               2.0          755.0  \n",
              "1               0.0            NaN  \n",
              "2               2.0          574.0  \n",
              "3               3.0          234.0  \n",
              "4               1.0           48.0  \n",
              "5               NaN            NaN  \n",
              "6               0.0            NaN  \n",
              "7               0.0            NaN  \n",
              "8               NaN            NaN  \n",
              "9               0.0            NaN  "
            ]
          },
          "metadata": {
            "tags": []
          },
          "execution_count": 5
        }
      ]
    },
    {
      "cell_type": "code",
      "metadata": {
        "scrolled": false,
        "id": "UJN7leM9lhht",
        "outputId": "0d03da20-e6b9-4107-a574-d674a8062d84"
      },
      "source": [
        "data.info()"
      ],
      "execution_count": null,
      "outputs": [
        {
          "output_type": "stream",
          "text": [
            "<class 'pandas.core.frame.DataFrame'>\n",
            "RangeIndex: 23699 entries, 0 to 23698\n",
            "Data columns (total 22 columns):\n",
            "locality_name           23650 non-null object\n",
            "total_area              23699 non-null float64\n",
            "living_area             21796 non-null float64\n",
            "kitchen_area            21421 non-null float64\n",
            "ceiling_height          14504 non-null float64\n",
            "rooms                   23699 non-null int64\n",
            "balcony                 12180 non-null float64\n",
            "floor                   23699 non-null int64\n",
            "floors_total            23613 non-null float64\n",
            "is_apartment            2775 non-null object\n",
            "studio                  23699 non-null bool\n",
            "open_plan               23699 non-null bool\n",
            "total_images            23699 non-null int64\n",
            "last_price              23699 non-null float64\n",
            "first_day_exposition    23699 non-null object\n",
            "days_exposition         20518 non-null float64\n",
            "cityCenters_nearest     18180 non-null float64\n",
            "airports_nearest        18157 non-null float64\n",
            "parks_around3000        18181 non-null float64\n",
            "parks_nearest           8079 non-null float64\n",
            "ponds_around3000        18181 non-null float64\n",
            "ponds_nearest           9110 non-null float64\n",
            "dtypes: bool(2), float64(14), int64(3), object(3)\n",
            "memory usage: 3.7+ MB\n"
          ],
          "name": "stdout"
        }
      ]
    },
    {
      "cell_type": "code",
      "metadata": {
        "id": "XpEPqmWxlhh7",
        "outputId": "eabded8d-62d2-4316-e2af-113b7ade8230"
      },
      "source": [
        "data.describe()"
      ],
      "execution_count": null,
      "outputs": [
        {
          "output_type": "execute_result",
          "data": {
            "text/html": [
              "<div>\n",
              "<style scoped>\n",
              "    .dataframe tbody tr th:only-of-type {\n",
              "        vertical-align: middle;\n",
              "    }\n",
              "\n",
              "    .dataframe tbody tr th {\n",
              "        vertical-align: top;\n",
              "    }\n",
              "\n",
              "    .dataframe thead th {\n",
              "        text-align: right;\n",
              "    }\n",
              "</style>\n",
              "<table border=\"1\" class=\"dataframe\">\n",
              "  <thead>\n",
              "    <tr style=\"text-align: right;\">\n",
              "      <th></th>\n",
              "      <th>total_area</th>\n",
              "      <th>living_area</th>\n",
              "      <th>kitchen_area</th>\n",
              "      <th>ceiling_height</th>\n",
              "      <th>rooms</th>\n",
              "      <th>balcony</th>\n",
              "      <th>floor</th>\n",
              "      <th>floors_total</th>\n",
              "      <th>total_images</th>\n",
              "      <th>last_price</th>\n",
              "      <th>days_exposition</th>\n",
              "      <th>cityCenters_nearest</th>\n",
              "      <th>airports_nearest</th>\n",
              "      <th>parks_around3000</th>\n",
              "      <th>parks_nearest</th>\n",
              "      <th>ponds_around3000</th>\n",
              "      <th>ponds_nearest</th>\n",
              "    </tr>\n",
              "  </thead>\n",
              "  <tbody>\n",
              "    <tr>\n",
              "      <td>count</td>\n",
              "      <td>23699.000000</td>\n",
              "      <td>21796.000000</td>\n",
              "      <td>21421.000000</td>\n",
              "      <td>14504.000000</td>\n",
              "      <td>23699.000000</td>\n",
              "      <td>12180.000000</td>\n",
              "      <td>23699.000000</td>\n",
              "      <td>23613.000000</td>\n",
              "      <td>23699.000000</td>\n",
              "      <td>2.369900e+04</td>\n",
              "      <td>20518.000000</td>\n",
              "      <td>18180.000000</td>\n",
              "      <td>18157.000000</td>\n",
              "      <td>18181.000000</td>\n",
              "      <td>8079.000000</td>\n",
              "      <td>18181.000000</td>\n",
              "      <td>9110.000000</td>\n",
              "    </tr>\n",
              "    <tr>\n",
              "      <td>mean</td>\n",
              "      <td>60.348651</td>\n",
              "      <td>34.457852</td>\n",
              "      <td>10.569807</td>\n",
              "      <td>2.771499</td>\n",
              "      <td>2.070636</td>\n",
              "      <td>1.150082</td>\n",
              "      <td>5.892358</td>\n",
              "      <td>10.673824</td>\n",
              "      <td>9.858475</td>\n",
              "      <td>6.541549e+06</td>\n",
              "      <td>180.888634</td>\n",
              "      <td>14191.277833</td>\n",
              "      <td>28793.672193</td>\n",
              "      <td>0.611408</td>\n",
              "      <td>490.804555</td>\n",
              "      <td>0.770255</td>\n",
              "      <td>517.980900</td>\n",
              "    </tr>\n",
              "    <tr>\n",
              "      <td>std</td>\n",
              "      <td>35.654083</td>\n",
              "      <td>22.030445</td>\n",
              "      <td>5.905438</td>\n",
              "      <td>1.261056</td>\n",
              "      <td>1.078405</td>\n",
              "      <td>1.071300</td>\n",
              "      <td>4.885249</td>\n",
              "      <td>6.597173</td>\n",
              "      <td>5.682529</td>\n",
              "      <td>1.088701e+07</td>\n",
              "      <td>219.727988</td>\n",
              "      <td>8608.386210</td>\n",
              "      <td>12630.880622</td>\n",
              "      <td>0.802074</td>\n",
              "      <td>342.317995</td>\n",
              "      <td>0.938346</td>\n",
              "      <td>277.720643</td>\n",
              "    </tr>\n",
              "    <tr>\n",
              "      <td>min</td>\n",
              "      <td>12.000000</td>\n",
              "      <td>2.000000</td>\n",
              "      <td>1.300000</td>\n",
              "      <td>1.000000</td>\n",
              "      <td>0.000000</td>\n",
              "      <td>0.000000</td>\n",
              "      <td>1.000000</td>\n",
              "      <td>1.000000</td>\n",
              "      <td>0.000000</td>\n",
              "      <td>1.219000e+04</td>\n",
              "      <td>1.000000</td>\n",
              "      <td>181.000000</td>\n",
              "      <td>0.000000</td>\n",
              "      <td>0.000000</td>\n",
              "      <td>1.000000</td>\n",
              "      <td>0.000000</td>\n",
              "      <td>13.000000</td>\n",
              "    </tr>\n",
              "    <tr>\n",
              "      <td>25%</td>\n",
              "      <td>40.000000</td>\n",
              "      <td>18.600000</td>\n",
              "      <td>7.000000</td>\n",
              "      <td>2.520000</td>\n",
              "      <td>1.000000</td>\n",
              "      <td>0.000000</td>\n",
              "      <td>2.000000</td>\n",
              "      <td>5.000000</td>\n",
              "      <td>6.000000</td>\n",
              "      <td>3.400000e+06</td>\n",
              "      <td>45.000000</td>\n",
              "      <td>9238.000000</td>\n",
              "      <td>18585.000000</td>\n",
              "      <td>0.000000</td>\n",
              "      <td>288.000000</td>\n",
              "      <td>0.000000</td>\n",
              "      <td>294.000000</td>\n",
              "    </tr>\n",
              "    <tr>\n",
              "      <td>50%</td>\n",
              "      <td>52.000000</td>\n",
              "      <td>30.000000</td>\n",
              "      <td>9.100000</td>\n",
              "      <td>2.650000</td>\n",
              "      <td>2.000000</td>\n",
              "      <td>1.000000</td>\n",
              "      <td>4.000000</td>\n",
              "      <td>9.000000</td>\n",
              "      <td>9.000000</td>\n",
              "      <td>4.650000e+06</td>\n",
              "      <td>95.000000</td>\n",
              "      <td>13098.500000</td>\n",
              "      <td>26726.000000</td>\n",
              "      <td>0.000000</td>\n",
              "      <td>455.000000</td>\n",
              "      <td>1.000000</td>\n",
              "      <td>502.000000</td>\n",
              "    </tr>\n",
              "    <tr>\n",
              "      <td>75%</td>\n",
              "      <td>69.900000</td>\n",
              "      <td>42.300000</td>\n",
              "      <td>12.000000</td>\n",
              "      <td>2.800000</td>\n",
              "      <td>3.000000</td>\n",
              "      <td>2.000000</td>\n",
              "      <td>8.000000</td>\n",
              "      <td>16.000000</td>\n",
              "      <td>14.000000</td>\n",
              "      <td>6.800000e+06</td>\n",
              "      <td>232.000000</td>\n",
              "      <td>16293.000000</td>\n",
              "      <td>37273.000000</td>\n",
              "      <td>1.000000</td>\n",
              "      <td>612.000000</td>\n",
              "      <td>1.000000</td>\n",
              "      <td>729.000000</td>\n",
              "    </tr>\n",
              "    <tr>\n",
              "      <td>max</td>\n",
              "      <td>900.000000</td>\n",
              "      <td>409.700000</td>\n",
              "      <td>112.000000</td>\n",
              "      <td>100.000000</td>\n",
              "      <td>19.000000</td>\n",
              "      <td>5.000000</td>\n",
              "      <td>33.000000</td>\n",
              "      <td>60.000000</td>\n",
              "      <td>50.000000</td>\n",
              "      <td>7.630000e+08</td>\n",
              "      <td>1580.000000</td>\n",
              "      <td>65968.000000</td>\n",
              "      <td>84869.000000</td>\n",
              "      <td>3.000000</td>\n",
              "      <td>3190.000000</td>\n",
              "      <td>3.000000</td>\n",
              "      <td>1344.000000</td>\n",
              "    </tr>\n",
              "  </tbody>\n",
              "</table>\n",
              "</div>"
            ],
            "text/plain": [
              "         total_area   living_area  kitchen_area  ceiling_height         rooms  \\\n",
              "count  23699.000000  21796.000000  21421.000000    14504.000000  23699.000000   \n",
              "mean      60.348651     34.457852     10.569807        2.771499      2.070636   \n",
              "std       35.654083     22.030445      5.905438        1.261056      1.078405   \n",
              "min       12.000000      2.000000      1.300000        1.000000      0.000000   \n",
              "25%       40.000000     18.600000      7.000000        2.520000      1.000000   \n",
              "50%       52.000000     30.000000      9.100000        2.650000      2.000000   \n",
              "75%       69.900000     42.300000     12.000000        2.800000      3.000000   \n",
              "max      900.000000    409.700000    112.000000      100.000000     19.000000   \n",
              "\n",
              "            balcony         floor  floors_total  total_images    last_price  \\\n",
              "count  12180.000000  23699.000000  23613.000000  23699.000000  2.369900e+04   \n",
              "mean       1.150082      5.892358     10.673824      9.858475  6.541549e+06   \n",
              "std        1.071300      4.885249      6.597173      5.682529  1.088701e+07   \n",
              "min        0.000000      1.000000      1.000000      0.000000  1.219000e+04   \n",
              "25%        0.000000      2.000000      5.000000      6.000000  3.400000e+06   \n",
              "50%        1.000000      4.000000      9.000000      9.000000  4.650000e+06   \n",
              "75%        2.000000      8.000000     16.000000     14.000000  6.800000e+06   \n",
              "max        5.000000     33.000000     60.000000     50.000000  7.630000e+08   \n",
              "\n",
              "       days_exposition  cityCenters_nearest  airports_nearest  \\\n",
              "count     20518.000000         18180.000000      18157.000000   \n",
              "mean        180.888634         14191.277833      28793.672193   \n",
              "std         219.727988          8608.386210      12630.880622   \n",
              "min           1.000000           181.000000          0.000000   \n",
              "25%          45.000000          9238.000000      18585.000000   \n",
              "50%          95.000000         13098.500000      26726.000000   \n",
              "75%         232.000000         16293.000000      37273.000000   \n",
              "max        1580.000000         65968.000000      84869.000000   \n",
              "\n",
              "       parks_around3000  parks_nearest  ponds_around3000  ponds_nearest  \n",
              "count      18181.000000    8079.000000      18181.000000    9110.000000  \n",
              "mean           0.611408     490.804555          0.770255     517.980900  \n",
              "std            0.802074     342.317995          0.938346     277.720643  \n",
              "min            0.000000       1.000000          0.000000      13.000000  \n",
              "25%            0.000000     288.000000          0.000000     294.000000  \n",
              "50%            0.000000     455.000000          1.000000     502.000000  \n",
              "75%            1.000000     612.000000          1.000000     729.000000  \n",
              "max            3.000000    3190.000000          3.000000    1344.000000  "
            ]
          },
          "metadata": {
            "tags": []
          },
          "execution_count": 7
        }
      ]
    },
    {
      "cell_type": "markdown",
      "metadata": {
        "id": "qGRkIS3mlhiG"
      },
      "source": [
        "<a id='section1.1'></a>\n",
        "### Вывод"
      ]
    },
    {
      "cell_type": "markdown",
      "metadata": {
        "id": "h0W80DV6lhiK"
      },
      "source": [
        "* При выводе датафрейма данные склеились в одну строку вместо того, чтобы разбиться по колонкам. Для того чтобы их \"расклеить\" параметру sep задали разделитель '\\t'\n",
        "* Столбец 'is_apartment' имеет неверный тип данных, должен быть bool, из-за этого большое количество пропусков\n",
        "* Столбец 'first_day_exposition' имеет неверный тип данных, должен быть datetime\n",
        "* Пропуски имеются в столбцах: *'ceiling_height', 'floors_total', 'living_area', 'is_apartment', 'kitchen_area', 'balcony', 'locality_name', 'airports_nearest', 'cityCenters_nearest', 'parks_around3000', 'parks_nearest', 'ponds_around3000', 'ponds_nearest', 'days_exposition'*  \n",
        "* Есть неправдаподобные значения в данных о площади и высоте потолков. \n",
        "* В столбце floors_total аномально высокое значение: 60 этажей\n",
        "\n",
        "\n",
        "Пропуски в столбцах 'ceiling_height', 'floors_total', 'living_area', 'kitchen_area' могут быть связаны с тем, что пользователь не знал эти данные о квартире.  \n",
        "\n",
        "Пропуски в столбцах 'airports_nearest', 'cityCenters_nearest', 'parks_around3000', 'parks_nearest', 'ponds_around3000', 'ponds_nearest'  могут быть связаны с отсутсвием в населенном пункте аэропорта, центра города, водоемов и парков.  \n",
        "\n",
        "Пропуски в столбцах 'days_exposition' могут быть связаны с тем, что квартира до сих пор не продана и объявление все еще размещено.  \n",
        "\n",
        "Пропуски в столбце 'balcony' могут быть связаны с отсутвием балкона в квартире.  \n",
        "\n",
        "Пропуски в столбце 'is_apartment' могут быть связаны с тем, что эти квартиры не являются апартаментами."
      ]
    },
    {
      "cell_type": "markdown",
      "metadata": {
        "id": "j5ozucT_lhiT"
      },
      "source": [
        "<a id='section2'></a>\n",
        "### Шаг 2. Предобработка данных"
      ]
    },
    {
      "cell_type": "markdown",
      "metadata": {
        "id": "daUJJCjZlhiW"
      },
      "source": [
        "<a id='section2.1'></a>\n",
        "### Обработка пропусков в столбце is_apartment"
      ]
    },
    {
      "cell_type": "code",
      "metadata": {
        "id": "5IANR-b9lhiZ",
        "outputId": "46076db0-b81c-4d8b-d093-5a99ffa959f1"
      },
      "source": [
        "data['is_apartment'].value_counts()"
      ],
      "execution_count": null,
      "outputs": [
        {
          "output_type": "execute_result",
          "data": {
            "text/plain": [
              "False    2725\n",
              "True       50\n",
              "Name: is_apartment, dtype: int64"
            ]
          },
          "metadata": {
            "tags": []
          },
          "execution_count": 8
        }
      ]
    },
    {
      "cell_type": "markdown",
      "metadata": {
        "id": "IijtaNjWlhix"
      },
      "source": [
        "Скроее всего пропуски в столбце is_apartment указывают на то, что эти квартиры не являются апартаментами, поэтому заполним их 0,  а потом переведем в булевы тип."
      ]
    },
    {
      "cell_type": "code",
      "metadata": {
        "id": "e03Wcs1Rlhi1"
      },
      "source": [
        "#Заменим пропуски в столбце 'is_apartment' на 0\n",
        "\n",
        "data['is_apartment'] = data['is_apartment'].fillna(0)"
      ],
      "execution_count": null,
      "outputs": []
    },
    {
      "cell_type": "code",
      "metadata": {
        "id": "UZvaih_alhjJ"
      },
      "source": [
        "#Изменим тип данных в столбце 'is_apartment' на bool\n",
        "\n",
        "data['is_apartment'] = data['is_apartment'].astype('bool')"
      ],
      "execution_count": null,
      "outputs": []
    },
    {
      "cell_type": "code",
      "metadata": {
        "id": "0oaoIGTDlhjX",
        "outputId": "9cac83c0-5686-46dd-cc02-3c5e6a51652f"
      },
      "source": [
        "#Проверим тип данных столбца 'is_apartment'\n",
        "\n",
        "data.info()"
      ],
      "execution_count": null,
      "outputs": [
        {
          "output_type": "stream",
          "text": [
            "<class 'pandas.core.frame.DataFrame'>\n",
            "RangeIndex: 23699 entries, 0 to 23698\n",
            "Data columns (total 22 columns):\n",
            "locality_name           23650 non-null object\n",
            "total_area              23699 non-null float64\n",
            "living_area             21796 non-null float64\n",
            "kitchen_area            21421 non-null float64\n",
            "ceiling_height          14504 non-null float64\n",
            "rooms                   23699 non-null int64\n",
            "balcony                 12180 non-null float64\n",
            "floor                   23699 non-null int64\n",
            "floors_total            23613 non-null float64\n",
            "is_apartment            23699 non-null bool\n",
            "studio                  23699 non-null bool\n",
            "open_plan               23699 non-null bool\n",
            "total_images            23699 non-null int64\n",
            "last_price              23699 non-null float64\n",
            "first_day_exposition    23699 non-null object\n",
            "days_exposition         20518 non-null float64\n",
            "cityCenters_nearest     18180 non-null float64\n",
            "airports_nearest        18157 non-null float64\n",
            "parks_around3000        18181 non-null float64\n",
            "parks_nearest           8079 non-null float64\n",
            "ponds_around3000        18181 non-null float64\n",
            "ponds_nearest           9110 non-null float64\n",
            "dtypes: bool(3), float64(14), int64(3), object(2)\n",
            "memory usage: 3.5+ MB\n"
          ],
          "name": "stdout"
        }
      ]
    },
    {
      "cell_type": "code",
      "metadata": {
        "id": "llVXPDd0lhjo",
        "outputId": "7e1ae0e0-c9bd-45ed-d72a-bb32068849e4"
      },
      "source": [
        "data['is_apartment'].value_counts()"
      ],
      "execution_count": null,
      "outputs": [
        {
          "output_type": "execute_result",
          "data": {
            "text/plain": [
              "False    23649\n",
              "True        50\n",
              "Name: is_apartment, dtype: int64"
            ]
          },
          "metadata": {
            "tags": []
          },
          "execution_count": 12
        }
      ]
    },
    {
      "cell_type": "markdown",
      "metadata": {
        "id": "cJcWzvR0lhj2"
      },
      "source": [
        "<a id='section2.2'></a>\n",
        "### Обработка пропусков в столбце balcony"
      ]
    },
    {
      "cell_type": "markdown",
      "metadata": {
        "id": "7QO3_6M-lhj4"
      },
      "source": [
        "Пропуски в столбце balcony скороее всего связаны с отсутвием балкона в квартире, поэтому заполним их 0."
      ]
    },
    {
      "cell_type": "code",
      "metadata": {
        "id": "RutvYDsylhj6"
      },
      "source": [
        "#Заменим пропуски в столбце 'balcony' на 0, а тип данных на int\n",
        "\n",
        "data['balcony'] = data['balcony'].fillna(0)\n",
        "data['balcony'] = data['balcony'].astype('int')"
      ],
      "execution_count": null,
      "outputs": []
    },
    {
      "cell_type": "code",
      "metadata": {
        "id": "5kY_6y0SlhkG",
        "outputId": "bc3b6da6-188d-4087-a13d-8c46f0c37899"
      },
      "source": [
        "data.head(10)"
      ],
      "execution_count": null,
      "outputs": [
        {
          "output_type": "execute_result",
          "data": {
            "text/html": [
              "<div>\n",
              "<style scoped>\n",
              "    .dataframe tbody tr th:only-of-type {\n",
              "        vertical-align: middle;\n",
              "    }\n",
              "\n",
              "    .dataframe tbody tr th {\n",
              "        vertical-align: top;\n",
              "    }\n",
              "\n",
              "    .dataframe thead th {\n",
              "        text-align: right;\n",
              "    }\n",
              "</style>\n",
              "<table border=\"1\" class=\"dataframe\">\n",
              "  <thead>\n",
              "    <tr style=\"text-align: right;\">\n",
              "      <th></th>\n",
              "      <th>locality_name</th>\n",
              "      <th>total_area</th>\n",
              "      <th>living_area</th>\n",
              "      <th>kitchen_area</th>\n",
              "      <th>ceiling_height</th>\n",
              "      <th>rooms</th>\n",
              "      <th>balcony</th>\n",
              "      <th>floor</th>\n",
              "      <th>floors_total</th>\n",
              "      <th>is_apartment</th>\n",
              "      <th>studio</th>\n",
              "      <th>open_plan</th>\n",
              "      <th>total_images</th>\n",
              "      <th>last_price</th>\n",
              "      <th>first_day_exposition</th>\n",
              "      <th>days_exposition</th>\n",
              "      <th>cityCenters_nearest</th>\n",
              "      <th>airports_nearest</th>\n",
              "      <th>parks_around3000</th>\n",
              "      <th>parks_nearest</th>\n",
              "      <th>ponds_around3000</th>\n",
              "      <th>ponds_nearest</th>\n",
              "    </tr>\n",
              "  </thead>\n",
              "  <tbody>\n",
              "    <tr>\n",
              "      <td>0</td>\n",
              "      <td>Санкт-Петербург</td>\n",
              "      <td>108.00</td>\n",
              "      <td>51.00</td>\n",
              "      <td>25.00</td>\n",
              "      <td>2.70</td>\n",
              "      <td>3</td>\n",
              "      <td>0</td>\n",
              "      <td>8</td>\n",
              "      <td>16.0</td>\n",
              "      <td>False</td>\n",
              "      <td>False</td>\n",
              "      <td>False</td>\n",
              "      <td>20</td>\n",
              "      <td>13000000.0</td>\n",
              "      <td>2019-03-07T00:00:00</td>\n",
              "      <td>NaN</td>\n",
              "      <td>16028.0</td>\n",
              "      <td>18863.0</td>\n",
              "      <td>1.0</td>\n",
              "      <td>482.0</td>\n",
              "      <td>2.0</td>\n",
              "      <td>755.0</td>\n",
              "    </tr>\n",
              "    <tr>\n",
              "      <td>1</td>\n",
              "      <td>посёлок Шушары</td>\n",
              "      <td>40.40</td>\n",
              "      <td>18.60</td>\n",
              "      <td>11.00</td>\n",
              "      <td>NaN</td>\n",
              "      <td>1</td>\n",
              "      <td>2</td>\n",
              "      <td>1</td>\n",
              "      <td>11.0</td>\n",
              "      <td>False</td>\n",
              "      <td>False</td>\n",
              "      <td>False</td>\n",
              "      <td>7</td>\n",
              "      <td>3350000.0</td>\n",
              "      <td>2018-12-04T00:00:00</td>\n",
              "      <td>81.0</td>\n",
              "      <td>18603.0</td>\n",
              "      <td>12817.0</td>\n",
              "      <td>0.0</td>\n",
              "      <td>NaN</td>\n",
              "      <td>0.0</td>\n",
              "      <td>NaN</td>\n",
              "    </tr>\n",
              "    <tr>\n",
              "      <td>2</td>\n",
              "      <td>Санкт-Петербург</td>\n",
              "      <td>56.00</td>\n",
              "      <td>34.30</td>\n",
              "      <td>8.30</td>\n",
              "      <td>NaN</td>\n",
              "      <td>2</td>\n",
              "      <td>0</td>\n",
              "      <td>4</td>\n",
              "      <td>5.0</td>\n",
              "      <td>False</td>\n",
              "      <td>False</td>\n",
              "      <td>False</td>\n",
              "      <td>10</td>\n",
              "      <td>5196000.0</td>\n",
              "      <td>2015-08-20T00:00:00</td>\n",
              "      <td>558.0</td>\n",
              "      <td>13933.0</td>\n",
              "      <td>21741.0</td>\n",
              "      <td>1.0</td>\n",
              "      <td>90.0</td>\n",
              "      <td>2.0</td>\n",
              "      <td>574.0</td>\n",
              "    </tr>\n",
              "    <tr>\n",
              "      <td>3</td>\n",
              "      <td>Санкт-Петербург</td>\n",
              "      <td>159.00</td>\n",
              "      <td>NaN</td>\n",
              "      <td>NaN</td>\n",
              "      <td>NaN</td>\n",
              "      <td>3</td>\n",
              "      <td>0</td>\n",
              "      <td>9</td>\n",
              "      <td>14.0</td>\n",
              "      <td>False</td>\n",
              "      <td>False</td>\n",
              "      <td>False</td>\n",
              "      <td>0</td>\n",
              "      <td>64900000.0</td>\n",
              "      <td>2015-07-24T00:00:00</td>\n",
              "      <td>424.0</td>\n",
              "      <td>6800.0</td>\n",
              "      <td>28098.0</td>\n",
              "      <td>2.0</td>\n",
              "      <td>84.0</td>\n",
              "      <td>3.0</td>\n",
              "      <td>234.0</td>\n",
              "    </tr>\n",
              "    <tr>\n",
              "      <td>4</td>\n",
              "      <td>Санкт-Петербург</td>\n",
              "      <td>100.00</td>\n",
              "      <td>32.00</td>\n",
              "      <td>41.00</td>\n",
              "      <td>3.03</td>\n",
              "      <td>2</td>\n",
              "      <td>0</td>\n",
              "      <td>13</td>\n",
              "      <td>14.0</td>\n",
              "      <td>False</td>\n",
              "      <td>False</td>\n",
              "      <td>False</td>\n",
              "      <td>2</td>\n",
              "      <td>10000000.0</td>\n",
              "      <td>2018-06-19T00:00:00</td>\n",
              "      <td>121.0</td>\n",
              "      <td>8098.0</td>\n",
              "      <td>31856.0</td>\n",
              "      <td>2.0</td>\n",
              "      <td>112.0</td>\n",
              "      <td>1.0</td>\n",
              "      <td>48.0</td>\n",
              "    </tr>\n",
              "    <tr>\n",
              "      <td>5</td>\n",
              "      <td>городской посёлок Янино-1</td>\n",
              "      <td>30.40</td>\n",
              "      <td>14.40</td>\n",
              "      <td>9.10</td>\n",
              "      <td>NaN</td>\n",
              "      <td>1</td>\n",
              "      <td>0</td>\n",
              "      <td>5</td>\n",
              "      <td>12.0</td>\n",
              "      <td>False</td>\n",
              "      <td>False</td>\n",
              "      <td>False</td>\n",
              "      <td>10</td>\n",
              "      <td>2890000.0</td>\n",
              "      <td>2018-09-10T00:00:00</td>\n",
              "      <td>55.0</td>\n",
              "      <td>NaN</td>\n",
              "      <td>NaN</td>\n",
              "      <td>NaN</td>\n",
              "      <td>NaN</td>\n",
              "      <td>NaN</td>\n",
              "      <td>NaN</td>\n",
              "    </tr>\n",
              "    <tr>\n",
              "      <td>6</td>\n",
              "      <td>посёлок Парголово</td>\n",
              "      <td>37.30</td>\n",
              "      <td>10.60</td>\n",
              "      <td>14.40</td>\n",
              "      <td>NaN</td>\n",
              "      <td>1</td>\n",
              "      <td>1</td>\n",
              "      <td>6</td>\n",
              "      <td>26.0</td>\n",
              "      <td>False</td>\n",
              "      <td>False</td>\n",
              "      <td>False</td>\n",
              "      <td>6</td>\n",
              "      <td>3700000.0</td>\n",
              "      <td>2017-11-02T00:00:00</td>\n",
              "      <td>155.0</td>\n",
              "      <td>19143.0</td>\n",
              "      <td>52996.0</td>\n",
              "      <td>0.0</td>\n",
              "      <td>NaN</td>\n",
              "      <td>0.0</td>\n",
              "      <td>NaN</td>\n",
              "    </tr>\n",
              "    <tr>\n",
              "      <td>7</td>\n",
              "      <td>Санкт-Петербург</td>\n",
              "      <td>71.60</td>\n",
              "      <td>NaN</td>\n",
              "      <td>18.90</td>\n",
              "      <td>NaN</td>\n",
              "      <td>2</td>\n",
              "      <td>2</td>\n",
              "      <td>22</td>\n",
              "      <td>24.0</td>\n",
              "      <td>False</td>\n",
              "      <td>False</td>\n",
              "      <td>False</td>\n",
              "      <td>5</td>\n",
              "      <td>7915000.0</td>\n",
              "      <td>2019-04-18T00:00:00</td>\n",
              "      <td>NaN</td>\n",
              "      <td>11634.0</td>\n",
              "      <td>23982.0</td>\n",
              "      <td>0.0</td>\n",
              "      <td>NaN</td>\n",
              "      <td>0.0</td>\n",
              "      <td>NaN</td>\n",
              "    </tr>\n",
              "    <tr>\n",
              "      <td>8</td>\n",
              "      <td>посёлок Мурино</td>\n",
              "      <td>33.16</td>\n",
              "      <td>15.43</td>\n",
              "      <td>8.81</td>\n",
              "      <td>NaN</td>\n",
              "      <td>1</td>\n",
              "      <td>0</td>\n",
              "      <td>26</td>\n",
              "      <td>27.0</td>\n",
              "      <td>False</td>\n",
              "      <td>False</td>\n",
              "      <td>False</td>\n",
              "      <td>20</td>\n",
              "      <td>2900000.0</td>\n",
              "      <td>2018-05-23T00:00:00</td>\n",
              "      <td>189.0</td>\n",
              "      <td>NaN</td>\n",
              "      <td>NaN</td>\n",
              "      <td>NaN</td>\n",
              "      <td>NaN</td>\n",
              "      <td>NaN</td>\n",
              "      <td>NaN</td>\n",
              "    </tr>\n",
              "    <tr>\n",
              "      <td>9</td>\n",
              "      <td>Санкт-Петербург</td>\n",
              "      <td>61.00</td>\n",
              "      <td>43.60</td>\n",
              "      <td>6.50</td>\n",
              "      <td>2.50</td>\n",
              "      <td>3</td>\n",
              "      <td>2</td>\n",
              "      <td>7</td>\n",
              "      <td>9.0</td>\n",
              "      <td>False</td>\n",
              "      <td>False</td>\n",
              "      <td>False</td>\n",
              "      <td>18</td>\n",
              "      <td>5400000.0</td>\n",
              "      <td>2017-02-26T00:00:00</td>\n",
              "      <td>289.0</td>\n",
              "      <td>15008.0</td>\n",
              "      <td>50898.0</td>\n",
              "      <td>0.0</td>\n",
              "      <td>NaN</td>\n",
              "      <td>0.0</td>\n",
              "      <td>NaN</td>\n",
              "    </tr>\n",
              "  </tbody>\n",
              "</table>\n",
              "</div>"
            ],
            "text/plain": [
              "               locality_name  total_area  living_area  kitchen_area  \\\n",
              "0            Санкт-Петербург      108.00        51.00         25.00   \n",
              "1             посёлок Шушары       40.40        18.60         11.00   \n",
              "2            Санкт-Петербург       56.00        34.30          8.30   \n",
              "3            Санкт-Петербург      159.00          NaN           NaN   \n",
              "4            Санкт-Петербург      100.00        32.00         41.00   \n",
              "5  городской посёлок Янино-1       30.40        14.40          9.10   \n",
              "6          посёлок Парголово       37.30        10.60         14.40   \n",
              "7            Санкт-Петербург       71.60          NaN         18.90   \n",
              "8             посёлок Мурино       33.16        15.43          8.81   \n",
              "9            Санкт-Петербург       61.00        43.60          6.50   \n",
              "\n",
              "   ceiling_height  rooms  balcony  floor  floors_total  is_apartment  studio  \\\n",
              "0            2.70      3        0      8          16.0         False   False   \n",
              "1             NaN      1        2      1          11.0         False   False   \n",
              "2             NaN      2        0      4           5.0         False   False   \n",
              "3             NaN      3        0      9          14.0         False   False   \n",
              "4            3.03      2        0     13          14.0         False   False   \n",
              "5             NaN      1        0      5          12.0         False   False   \n",
              "6             NaN      1        1      6          26.0         False   False   \n",
              "7             NaN      2        2     22          24.0         False   False   \n",
              "8             NaN      1        0     26          27.0         False   False   \n",
              "9            2.50      3        2      7           9.0         False   False   \n",
              "\n",
              "   open_plan  total_images  last_price first_day_exposition  days_exposition  \\\n",
              "0      False            20  13000000.0  2019-03-07T00:00:00              NaN   \n",
              "1      False             7   3350000.0  2018-12-04T00:00:00             81.0   \n",
              "2      False            10   5196000.0  2015-08-20T00:00:00            558.0   \n",
              "3      False             0  64900000.0  2015-07-24T00:00:00            424.0   \n",
              "4      False             2  10000000.0  2018-06-19T00:00:00            121.0   \n",
              "5      False            10   2890000.0  2018-09-10T00:00:00             55.0   \n",
              "6      False             6   3700000.0  2017-11-02T00:00:00            155.0   \n",
              "7      False             5   7915000.0  2019-04-18T00:00:00              NaN   \n",
              "8      False            20   2900000.0  2018-05-23T00:00:00            189.0   \n",
              "9      False            18   5400000.0  2017-02-26T00:00:00            289.0   \n",
              "\n",
              "   cityCenters_nearest  airports_nearest  parks_around3000  parks_nearest  \\\n",
              "0              16028.0           18863.0               1.0          482.0   \n",
              "1              18603.0           12817.0               0.0            NaN   \n",
              "2              13933.0           21741.0               1.0           90.0   \n",
              "3               6800.0           28098.0               2.0           84.0   \n",
              "4               8098.0           31856.0               2.0          112.0   \n",
              "5                  NaN               NaN               NaN            NaN   \n",
              "6              19143.0           52996.0               0.0            NaN   \n",
              "7              11634.0           23982.0               0.0            NaN   \n",
              "8                  NaN               NaN               NaN            NaN   \n",
              "9              15008.0           50898.0               0.0            NaN   \n",
              "\n",
              "   ponds_around3000  ponds_nearest  \n",
              "0               2.0          755.0  \n",
              "1               0.0            NaN  \n",
              "2               2.0          574.0  \n",
              "3               3.0          234.0  \n",
              "4               1.0           48.0  \n",
              "5               NaN            NaN  \n",
              "6               0.0            NaN  \n",
              "7               0.0            NaN  \n",
              "8               NaN            NaN  \n",
              "9               0.0            NaN  "
            ]
          },
          "metadata": {
            "tags": []
          },
          "execution_count": 14
        }
      ]
    },
    {
      "cell_type": "markdown",
      "metadata": {
        "id": "q33xFsbKlhkS"
      },
      "source": [
        "<a id='section2.3'></a>"
      ]
    },
    {
      "cell_type": "code",
      "metadata": {
        "id": "C5hJLg6IlhkY"
      },
      "source": [
        "#Заменим тип данных столбца 'first_day_exposition' на datetime\n",
        "\n",
        "data['first_day_exposition'] = pd.to_datetime(data['first_day_exposition'], format='%Y-%m-%dT%H:%M:%S') "
      ],
      "execution_count": null,
      "outputs": []
    },
    {
      "cell_type": "code",
      "metadata": {
        "id": "rx-vqaGjlhko",
        "outputId": "c44bbe8a-54c0-4f9a-db28-c1d755cd519a"
      },
      "source": [
        "#Проверим тип данных\n",
        "\n",
        "data.dtypes"
      ],
      "execution_count": null,
      "outputs": [
        {
          "output_type": "execute_result",
          "data": {
            "text/plain": [
              "locality_name                   object\n",
              "total_area                     float64\n",
              "living_area                    float64\n",
              "kitchen_area                   float64\n",
              "ceiling_height                 float64\n",
              "rooms                            int64\n",
              "balcony                          int64\n",
              "floor                            int64\n",
              "floors_total                   float64\n",
              "is_apartment                      bool\n",
              "studio                            bool\n",
              "open_plan                         bool\n",
              "total_images                     int64\n",
              "last_price                     float64\n",
              "first_day_exposition    datetime64[ns]\n",
              "days_exposition                float64\n",
              "cityCenters_nearest            float64\n",
              "airports_nearest               float64\n",
              "parks_around3000               float64\n",
              "parks_nearest                  float64\n",
              "ponds_around3000               float64\n",
              "ponds_nearest                  float64\n",
              "dtype: object"
            ]
          },
          "metadata": {
            "tags": []
          },
          "execution_count": 16
        }
      ]
    },
    {
      "cell_type": "markdown",
      "metadata": {
        "id": "31ODUF2rlhk4"
      },
      "source": [
        "<a id='section2.4'></a>\n",
        "### Обработка пропусков в столбце floors_total"
      ]
    },
    {
      "cell_type": "code",
      "metadata": {
        "id": "51SsT3fclhk5",
        "outputId": "1a741a91-65da-4896-e261-b965a2b18d76"
      },
      "source": [
        "#Посмотрим сколько процентов данных пропущено в столбце floors_total\n",
        "\n",
        "len(data[data['floors_total'].isna()])/len(data['floors_total'])"
      ],
      "execution_count": null,
      "outputs": [
        {
          "output_type": "execute_result",
          "data": {
            "text/plain": [
              "0.0036288450989493226"
            ]
          },
          "metadata": {
            "tags": []
          },
          "execution_count": 17
        }
      ]
    },
    {
      "cell_type": "markdown",
      "metadata": {
        "id": "M7ENmDVflhlF"
      },
      "source": [
        "Для заполнения пропусков в столбце floors_total недостаточно данных, но процент пропусков очень мал, так что можно удалить эти строки."
      ]
    },
    {
      "cell_type": "code",
      "metadata": {
        "id": "C1asi6UylhlH"
      },
      "source": [
        "data.dropna(subset = ['floors_total'], inplace = True)"
      ],
      "execution_count": null,
      "outputs": []
    },
    {
      "cell_type": "markdown",
      "metadata": {
        "id": "Yy1TKjKHlhlR"
      },
      "source": [
        "<a id='section2.5'></a>\n",
        "### Обработка пропусков в столбцах  living_area и kitchen_area"
      ]
    },
    {
      "cell_type": "code",
      "metadata": {
        "id": "4uX8Ssp4lhlU",
        "outputId": "ccef6965-65da-4f6b-c383-24f176b6326f"
      },
      "source": [
        "data['living_area'].isna().sum()"
      ],
      "execution_count": null,
      "outputs": [
        {
          "output_type": "execute_result",
          "data": {
            "text/plain": [
              "1870"
            ]
          },
          "metadata": {
            "tags": []
          },
          "execution_count": 19
        }
      ]
    },
    {
      "cell_type": "code",
      "metadata": {
        "id": "hVFPRHSJlhld",
        "outputId": "13212d6c-e469-4065-b17e-8aee9598022c"
      },
      "source": [
        "data['kitchen_area'].isna().sum()"
      ],
      "execution_count": null,
      "outputs": [
        {
          "output_type": "execute_result",
          "data": {
            "text/plain": [
              "2231"
            ]
          },
          "metadata": {
            "tags": []
          },
          "execution_count": 20
        }
      ]
    },
    {
      "cell_type": "markdown",
      "metadata": {
        "id": "9UeHIO2clhlm"
      },
      "source": [
        "Пропуски в столбцах living_area и kitchen_area заполним медианными значениями в зависимости от количсетва комнат."
      ]
    },
    {
      "cell_type": "code",
      "metadata": {
        "id": "N98fs288lhlo",
        "outputId": "aaa337f9-d6a5-477e-d3e5-e81999d877d4"
      },
      "source": [
        "living_area_median = {}\n",
        "kitchen_area_median = {}\n",
        "for i in data['rooms'].unique():\n",
        "    living_area_median[i] = data[data['rooms'] == i]['living_area'].median()\n",
        "    kitchen_area_median[i] = data[data['rooms'] == i]['kitchen_area'].median()\n",
        "    \n",
        "def fill_living_area(row):\n",
        "    if pd.isnull(row['living_area']):\n",
        "        return living_area_median[row['rooms']]\n",
        "    else:\n",
        "        return row['living_area']\n",
        "    \n",
        "def fill_kitchen_area(row):\n",
        "    if pd.isnull(row['kitchen_area']) and row['studio']:\n",
        "        return 0.0\n",
        "    elif pd.isnull(row['kitchen_area']) and row['rooms'] == 0:\n",
        "        return 0.0\n",
        "    elif pd.isnull(row['kitchen_area']) and not(row['studio']):\n",
        "        return kitchen_area_median[row['rooms']]\n",
        "    else:\n",
        "        return row['kitchen_area']\n",
        "    \n",
        "data['living_area'] = data.apply(fill_living_area, axis = 1)\n",
        "data['kitchen_area'] = data.apply(fill_kitchen_area, axis = 1)\n",
        "    "
      ],
      "execution_count": null,
      "outputs": [
        {
          "output_type": "stream",
          "text": [
            "/opt/conda/lib/python3.7/site-packages/numpy/lib/nanfunctions.py:1111: RuntimeWarning: Mean of empty slice\n",
            "  return np.nanmean(a, axis, out=out, keepdims=keepdims)\n"
          ],
          "name": "stderr"
        }
      ]
    },
    {
      "cell_type": "code",
      "metadata": {
        "id": "T5EYSYMqlhl3",
        "outputId": "0a08d914-d8d8-4278-8b03-82171452902c"
      },
      "source": [
        "data['living_area'].isna().sum()"
      ],
      "execution_count": null,
      "outputs": [
        {
          "output_type": "execute_result",
          "data": {
            "text/plain": [
              "0"
            ]
          },
          "metadata": {
            "tags": []
          },
          "execution_count": 22
        }
      ]
    },
    {
      "cell_type": "code",
      "metadata": {
        "id": "VR8l1fCHlhmD",
        "outputId": "6a81d23e-edf3-4365-f27a-daf0265305c2"
      },
      "source": [
        "data['kitchen_area'].isna().sum()"
      ],
      "execution_count": null,
      "outputs": [
        {
          "output_type": "execute_result",
          "data": {
            "text/plain": [
              "0"
            ]
          },
          "metadata": {
            "tags": []
          },
          "execution_count": 23
        }
      ]
    },
    {
      "cell_type": "markdown",
      "metadata": {
        "id": "epoSOt0PlhmW"
      },
      "source": [
        "<a id='section2.6'></a>\n",
        "### Обработка пропусков в столбцах days_exposition"
      ]
    },
    {
      "cell_type": "code",
      "metadata": {
        "id": "7miTX1cwlhmb",
        "outputId": "097a808b-8926-45c1-9d38-d666ec585081"
      },
      "source": [
        "#Посмотрим сколько пропусков в столбце days_exposition\n",
        "\n",
        "data['days_exposition'].isna().sum()"
      ],
      "execution_count": null,
      "outputs": [
        {
          "output_type": "execute_result",
          "data": {
            "text/plain": [
              "3172"
            ]
          },
          "metadata": {
            "tags": []
          },
          "execution_count": 24
        }
      ]
    },
    {
      "cell_type": "markdown",
      "metadata": {
        "id": "J1abelsRlhmt"
      },
      "source": [
        "Я предпологаю, что пропуски в этом столбце из-за того, что квартира все еще не продана. Заполним их условным значение -1 и будем держать в уме, что он означает, то что квартира все еще продается.  \n",
        "Перед этим проверим нет ли там уже -1."
      ]
    },
    {
      "cell_type": "code",
      "metadata": {
        "id": "hIPqfMfhlhmv",
        "outputId": "30345f87-0c3d-4e89-d8fa-efdf77574b70"
      },
      "source": [
        "len(data.query('days_exposition == -1'))"
      ],
      "execution_count": null,
      "outputs": [
        {
          "output_type": "execute_result",
          "data": {
            "text/plain": [
              "0"
            ]
          },
          "metadata": {
            "tags": []
          },
          "execution_count": 25
        }
      ]
    },
    {
      "cell_type": "markdown",
      "metadata": {
        "id": "luv2ekU7lhm-"
      },
      "source": [
        "-1 нет, можно заполнять."
      ]
    },
    {
      "cell_type": "code",
      "metadata": {
        "id": "xBmx4WkJlhnA"
      },
      "source": [
        "data['days_exposition'] = data['days_exposition'].fillna(-1)"
      ],
      "execution_count": null,
      "outputs": []
    },
    {
      "cell_type": "markdown",
      "metadata": {
        "id": "LXO8g-bflhng"
      },
      "source": [
        "<a id='section2.7'></a>\n",
        "### Обработка пропусков в столбце ceiling_height"
      ]
    },
    {
      "cell_type": "code",
      "metadata": {
        "id": "8uvS1HXnlhni",
        "outputId": "89763ea0-25a4-43e7-f4e6-079b0e72a40e"
      },
      "source": [
        "data['ceiling_height'].isna().sum()"
      ],
      "execution_count": null,
      "outputs": [
        {
          "output_type": "execute_result",
          "data": {
            "text/plain": [
              "9118"
            ]
          },
          "metadata": {
            "tags": []
          },
          "execution_count": 27
        }
      ]
    },
    {
      "cell_type": "markdown",
      "metadata": {
        "id": "iBKl-jLrlhns"
      },
      "source": [
        "Заполним пропуски в столбце ceiling_height медианным значением в зависимости от количсетва комнат."
      ]
    },
    {
      "cell_type": "code",
      "metadata": {
        "id": "HUCoDMH-lhn4"
      },
      "source": [
        "data['ceiling_height'] = data['ceiling_height'].fillna(data['ceiling_height'].median())"
      ],
      "execution_count": null,
      "outputs": []
    },
    {
      "cell_type": "code",
      "metadata": {
        "id": "U86ELNS1lhoD",
        "outputId": "3851f2f9-6db7-4126-f31e-a4c521a922f5"
      },
      "source": [
        "data['ceiling_height'].isna().sum()"
      ],
      "execution_count": null,
      "outputs": [
        {
          "output_type": "execute_result",
          "data": {
            "text/plain": [
              "0"
            ]
          },
          "metadata": {
            "tags": []
          },
          "execution_count": 30
        }
      ]
    },
    {
      "cell_type": "code",
      "metadata": {
        "id": "oPjAImailhoZ",
        "outputId": "2d990168-7b63-45e1-fe39-8478a5f3244b"
      },
      "source": [
        "data.corr()['ceiling_height'].sort_values(ascending=False)"
      ],
      "execution_count": null,
      "outputs": [
        {
          "output_type": "execute_result",
          "data": {
            "text/plain": [
              "ceiling_height              1.000000\n",
              "is_apartment                0.146543\n",
              "price_meter                 0.099911\n",
              "total_area                  0.080777\n",
              "living_area                 0.079184\n",
              "kitchen_area                0.065529\n",
              "last_price                  0.064447\n",
              "ponds_around3000            0.063652\n",
              "parks_around3000            0.056807\n",
              "rooms                       0.048052\n",
              "balcony                     0.032687\n",
              "open_plan                   0.017670\n",
              "days_exposition             0.009375\n",
              "ratio_living_total_area     0.006651\n",
              "total_images                0.004411\n",
              "ratio_kitchen_total_area    0.001382\n",
              "studio                      0.000377\n",
              "year_exposition            -0.000370\n",
              "month_exposition           -0.002699\n",
              "weekday_exposition         -0.009887\n",
              "floor                      -0.012699\n",
              "airports_nearest           -0.018843\n",
              "parks_nearest              -0.018947\n",
              "floors_total               -0.026843\n",
              "ponds_nearest              -0.047173\n",
              "cityCenters_nearest        -0.075529\n",
              "Name: ceiling_height, dtype: float64"
            ]
          },
          "metadata": {
            "tags": []
          },
          "execution_count": 104
        }
      ]
    },
    {
      "cell_type": "markdown",
      "metadata": {
        "id": "Jf8FT1Pflhox"
      },
      "source": [
        "<hr style=\"border: 2px solid green;\" />"
      ]
    },
    {
      "cell_type": "markdown",
      "metadata": {
        "id": "IIkBBhxSlhoy"
      },
      "source": [
        "<a id='section2.8'></a>\n",
        "### Обработка пропусков в столбцах cityCenters_nearest"
      ]
    },
    {
      "cell_type": "markdown",
      "metadata": {
        "id": "H3M0cS4gmRrR"
      },
      "source": [
        "Недостаточно данных для заполнения пропусков, а условный маркер может исказить последущие исследования, так что оотсавим пропуски."
      ]
    },
    {
      "cell_type": "markdown",
      "metadata": {
        "id": "15rfo1fQlhpH"
      },
      "source": [
        "<a id='section3'></a>\n",
        "### Шаг 3. Посчитайте и добавьте в таблицу"
      ]
    },
    {
      "cell_type": "markdown",
      "metadata": {
        "id": "RrLs144MlhpI"
      },
      "source": [
        "<a id='section3.1'></a>\n",
        "#### Цена за квадратный метр"
      ]
    },
    {
      "cell_type": "code",
      "metadata": {
        "id": "xCe40FyLlhpJ"
      },
      "source": [
        "#Посчитаем цену за квадратный метр\n",
        "\n",
        "data['price_meter'] = data['last_price']/data['total_area']"
      ],
      "execution_count": null,
      "outputs": []
    },
    {
      "cell_type": "code",
      "metadata": {
        "id": "LpovvaLYlhpW"
      },
      "source": [
        "#Округлим цену\n",
        "\n",
        "data['price_meter'] = data['price_meter'].round()"
      ],
      "execution_count": null,
      "outputs": []
    },
    {
      "cell_type": "code",
      "metadata": {
        "scrolled": true,
        "id": "XCpuaVO9lhpf",
        "outputId": "6088f5ff-eafb-43ea-f9a7-e2c9895ba386"
      },
      "source": [
        "data.head()"
      ],
      "execution_count": null,
      "outputs": [
        {
          "output_type": "execute_result",
          "data": {
            "text/html": [
              "<div>\n",
              "<style scoped>\n",
              "    .dataframe tbody tr th:only-of-type {\n",
              "        vertical-align: middle;\n",
              "    }\n",
              "\n",
              "    .dataframe tbody tr th {\n",
              "        vertical-align: top;\n",
              "    }\n",
              "\n",
              "    .dataframe thead th {\n",
              "        text-align: right;\n",
              "    }\n",
              "</style>\n",
              "<table border=\"1\" class=\"dataframe\">\n",
              "  <thead>\n",
              "    <tr style=\"text-align: right;\">\n",
              "      <th></th>\n",
              "      <th>locality_name</th>\n",
              "      <th>total_area</th>\n",
              "      <th>living_area</th>\n",
              "      <th>kitchen_area</th>\n",
              "      <th>ceiling_height</th>\n",
              "      <th>rooms</th>\n",
              "      <th>balcony</th>\n",
              "      <th>floor</th>\n",
              "      <th>floors_total</th>\n",
              "      <th>is_apartment</th>\n",
              "      <th>studio</th>\n",
              "      <th>open_plan</th>\n",
              "      <th>total_images</th>\n",
              "      <th>last_price</th>\n",
              "      <th>first_day_exposition</th>\n",
              "      <th>days_exposition</th>\n",
              "      <th>cityCenters_nearest</th>\n",
              "      <th>airports_nearest</th>\n",
              "      <th>parks_around3000</th>\n",
              "      <th>parks_nearest</th>\n",
              "      <th>ponds_around3000</th>\n",
              "      <th>ponds_nearest</th>\n",
              "      <th>price_meter</th>\n",
              "    </tr>\n",
              "  </thead>\n",
              "  <tbody>\n",
              "    <tr>\n",
              "      <td>0</td>\n",
              "      <td>Санкт-Петербург</td>\n",
              "      <td>108.0</td>\n",
              "      <td>51.0</td>\n",
              "      <td>25.0</td>\n",
              "      <td>2.70</td>\n",
              "      <td>3</td>\n",
              "      <td>0</td>\n",
              "      <td>8</td>\n",
              "      <td>16.0</td>\n",
              "      <td>False</td>\n",
              "      <td>False</td>\n",
              "      <td>False</td>\n",
              "      <td>20</td>\n",
              "      <td>13000000.0</td>\n",
              "      <td>2019-03-07</td>\n",
              "      <td>-1.0</td>\n",
              "      <td>16028.0</td>\n",
              "      <td>18863.0</td>\n",
              "      <td>1.0</td>\n",
              "      <td>482.0</td>\n",
              "      <td>2.0</td>\n",
              "      <td>755.0</td>\n",
              "      <td>120370.0</td>\n",
              "    </tr>\n",
              "    <tr>\n",
              "      <td>1</td>\n",
              "      <td>посёлок Шушары</td>\n",
              "      <td>40.4</td>\n",
              "      <td>18.6</td>\n",
              "      <td>11.0</td>\n",
              "      <td>2.65</td>\n",
              "      <td>1</td>\n",
              "      <td>2</td>\n",
              "      <td>1</td>\n",
              "      <td>11.0</td>\n",
              "      <td>False</td>\n",
              "      <td>False</td>\n",
              "      <td>False</td>\n",
              "      <td>7</td>\n",
              "      <td>3350000.0</td>\n",
              "      <td>2018-12-04</td>\n",
              "      <td>81.0</td>\n",
              "      <td>18603.0</td>\n",
              "      <td>12817.0</td>\n",
              "      <td>0.0</td>\n",
              "      <td>NaN</td>\n",
              "      <td>0.0</td>\n",
              "      <td>NaN</td>\n",
              "      <td>82921.0</td>\n",
              "    </tr>\n",
              "    <tr>\n",
              "      <td>2</td>\n",
              "      <td>Санкт-Петербург</td>\n",
              "      <td>56.0</td>\n",
              "      <td>34.3</td>\n",
              "      <td>8.3</td>\n",
              "      <td>2.65</td>\n",
              "      <td>2</td>\n",
              "      <td>0</td>\n",
              "      <td>4</td>\n",
              "      <td>5.0</td>\n",
              "      <td>False</td>\n",
              "      <td>False</td>\n",
              "      <td>False</td>\n",
              "      <td>10</td>\n",
              "      <td>5196000.0</td>\n",
              "      <td>2015-08-20</td>\n",
              "      <td>558.0</td>\n",
              "      <td>13933.0</td>\n",
              "      <td>21741.0</td>\n",
              "      <td>1.0</td>\n",
              "      <td>90.0</td>\n",
              "      <td>2.0</td>\n",
              "      <td>574.0</td>\n",
              "      <td>92786.0</td>\n",
              "    </tr>\n",
              "    <tr>\n",
              "      <td>3</td>\n",
              "      <td>Санкт-Петербург</td>\n",
              "      <td>159.0</td>\n",
              "      <td>45.0</td>\n",
              "      <td>9.5</td>\n",
              "      <td>2.65</td>\n",
              "      <td>3</td>\n",
              "      <td>0</td>\n",
              "      <td>9</td>\n",
              "      <td>14.0</td>\n",
              "      <td>False</td>\n",
              "      <td>False</td>\n",
              "      <td>False</td>\n",
              "      <td>0</td>\n",
              "      <td>64900000.0</td>\n",
              "      <td>2015-07-24</td>\n",
              "      <td>424.0</td>\n",
              "      <td>6800.0</td>\n",
              "      <td>28098.0</td>\n",
              "      <td>2.0</td>\n",
              "      <td>84.0</td>\n",
              "      <td>3.0</td>\n",
              "      <td>234.0</td>\n",
              "      <td>408176.0</td>\n",
              "    </tr>\n",
              "    <tr>\n",
              "      <td>4</td>\n",
              "      <td>Санкт-Петербург</td>\n",
              "      <td>100.0</td>\n",
              "      <td>32.0</td>\n",
              "      <td>41.0</td>\n",
              "      <td>3.03</td>\n",
              "      <td>2</td>\n",
              "      <td>0</td>\n",
              "      <td>13</td>\n",
              "      <td>14.0</td>\n",
              "      <td>False</td>\n",
              "      <td>False</td>\n",
              "      <td>False</td>\n",
              "      <td>2</td>\n",
              "      <td>10000000.0</td>\n",
              "      <td>2018-06-19</td>\n",
              "      <td>121.0</td>\n",
              "      <td>8098.0</td>\n",
              "      <td>31856.0</td>\n",
              "      <td>2.0</td>\n",
              "      <td>112.0</td>\n",
              "      <td>1.0</td>\n",
              "      <td>48.0</td>\n",
              "      <td>100000.0</td>\n",
              "    </tr>\n",
              "  </tbody>\n",
              "</table>\n",
              "</div>"
            ],
            "text/plain": [
              "     locality_name  total_area  living_area  kitchen_area  ceiling_height  \\\n",
              "0  Санкт-Петербург       108.0         51.0          25.0            2.70   \n",
              "1   посёлок Шушары        40.4         18.6          11.0            2.65   \n",
              "2  Санкт-Петербург        56.0         34.3           8.3            2.65   \n",
              "3  Санкт-Петербург       159.0         45.0           9.5            2.65   \n",
              "4  Санкт-Петербург       100.0         32.0          41.0            3.03   \n",
              "\n",
              "   rooms  balcony  floor  floors_total  is_apartment  studio  open_plan  \\\n",
              "0      3        0      8          16.0         False   False      False   \n",
              "1      1        2      1          11.0         False   False      False   \n",
              "2      2        0      4           5.0         False   False      False   \n",
              "3      3        0      9          14.0         False   False      False   \n",
              "4      2        0     13          14.0         False   False      False   \n",
              "\n",
              "   total_images  last_price first_day_exposition  days_exposition  \\\n",
              "0            20  13000000.0           2019-03-07             -1.0   \n",
              "1             7   3350000.0           2018-12-04             81.0   \n",
              "2            10   5196000.0           2015-08-20            558.0   \n",
              "3             0  64900000.0           2015-07-24            424.0   \n",
              "4             2  10000000.0           2018-06-19            121.0   \n",
              "\n",
              "   cityCenters_nearest  airports_nearest  parks_around3000  parks_nearest  \\\n",
              "0              16028.0           18863.0               1.0          482.0   \n",
              "1              18603.0           12817.0               0.0            NaN   \n",
              "2              13933.0           21741.0               1.0           90.0   \n",
              "3               6800.0           28098.0               2.0           84.0   \n",
              "4               8098.0           31856.0               2.0          112.0   \n",
              "\n",
              "   ponds_around3000  ponds_nearest  price_meter  \n",
              "0               2.0          755.0     120370.0  \n",
              "1               0.0            NaN      82921.0  \n",
              "2               2.0          574.0      92786.0  \n",
              "3               3.0          234.0     408176.0  \n",
              "4               1.0           48.0     100000.0  "
            ]
          },
          "metadata": {
            "tags": []
          },
          "execution_count": 35
        }
      ]
    },
    {
      "cell_type": "markdown",
      "metadata": {
        "id": "sPTZGMfHlhpp"
      },
      "source": [
        "<a id='section3.2'></a>\n",
        "#### День недели, месяц и год публикации объявления"
      ]
    },
    {
      "cell_type": "code",
      "metadata": {
        "id": "rZcsCpxclhpq"
      },
      "source": [
        "data['weekday_exposition'] = data['first_day_exposition'].dt.weekday"
      ],
      "execution_count": null,
      "outputs": []
    },
    {
      "cell_type": "code",
      "metadata": {
        "id": "4mFFttiBlhpw"
      },
      "source": [
        "data['month_exposition'] = data['first_day_exposition'].dt.month"
      ],
      "execution_count": null,
      "outputs": []
    },
    {
      "cell_type": "code",
      "metadata": {
        "id": "lQL8Ovpwlhp4"
      },
      "source": [
        "data['year_exposition'] = data['first_day_exposition'].dt.year"
      ],
      "execution_count": null,
      "outputs": []
    },
    {
      "cell_type": "code",
      "metadata": {
        "id": "uGKNYHaClhp-",
        "outputId": "1daf66e3-e1c3-4a60-aa9b-20717b3dd524"
      },
      "source": [
        "data.head()"
      ],
      "execution_count": null,
      "outputs": [
        {
          "output_type": "execute_result",
          "data": {
            "text/html": [
              "<div>\n",
              "<style scoped>\n",
              "    .dataframe tbody tr th:only-of-type {\n",
              "        vertical-align: middle;\n",
              "    }\n",
              "\n",
              "    .dataframe tbody tr th {\n",
              "        vertical-align: top;\n",
              "    }\n",
              "\n",
              "    .dataframe thead th {\n",
              "        text-align: right;\n",
              "    }\n",
              "</style>\n",
              "<table border=\"1\" class=\"dataframe\">\n",
              "  <thead>\n",
              "    <tr style=\"text-align: right;\">\n",
              "      <th></th>\n",
              "      <th>locality_name</th>\n",
              "      <th>total_area</th>\n",
              "      <th>living_area</th>\n",
              "      <th>kitchen_area</th>\n",
              "      <th>ceiling_height</th>\n",
              "      <th>rooms</th>\n",
              "      <th>balcony</th>\n",
              "      <th>floor</th>\n",
              "      <th>floors_total</th>\n",
              "      <th>is_apartment</th>\n",
              "      <th>studio</th>\n",
              "      <th>open_plan</th>\n",
              "      <th>total_images</th>\n",
              "      <th>last_price</th>\n",
              "      <th>first_day_exposition</th>\n",
              "      <th>days_exposition</th>\n",
              "      <th>cityCenters_nearest</th>\n",
              "      <th>airports_nearest</th>\n",
              "      <th>parks_around3000</th>\n",
              "      <th>parks_nearest</th>\n",
              "      <th>ponds_around3000</th>\n",
              "      <th>ponds_nearest</th>\n",
              "      <th>price_meter</th>\n",
              "      <th>weekday_exposition</th>\n",
              "      <th>month_exposition</th>\n",
              "      <th>year_exposition</th>\n",
              "    </tr>\n",
              "  </thead>\n",
              "  <tbody>\n",
              "    <tr>\n",
              "      <td>0</td>\n",
              "      <td>Санкт-Петербург</td>\n",
              "      <td>108.0</td>\n",
              "      <td>51.0</td>\n",
              "      <td>25.0</td>\n",
              "      <td>2.70</td>\n",
              "      <td>3</td>\n",
              "      <td>0</td>\n",
              "      <td>8</td>\n",
              "      <td>16.0</td>\n",
              "      <td>False</td>\n",
              "      <td>False</td>\n",
              "      <td>False</td>\n",
              "      <td>20</td>\n",
              "      <td>13000000.0</td>\n",
              "      <td>2019-03-07</td>\n",
              "      <td>-1.0</td>\n",
              "      <td>16028.0</td>\n",
              "      <td>18863.0</td>\n",
              "      <td>1.0</td>\n",
              "      <td>482.0</td>\n",
              "      <td>2.0</td>\n",
              "      <td>755.0</td>\n",
              "      <td>120370.0</td>\n",
              "      <td>3</td>\n",
              "      <td>3</td>\n",
              "      <td>2019</td>\n",
              "    </tr>\n",
              "    <tr>\n",
              "      <td>1</td>\n",
              "      <td>посёлок Шушары</td>\n",
              "      <td>40.4</td>\n",
              "      <td>18.6</td>\n",
              "      <td>11.0</td>\n",
              "      <td>2.65</td>\n",
              "      <td>1</td>\n",
              "      <td>2</td>\n",
              "      <td>1</td>\n",
              "      <td>11.0</td>\n",
              "      <td>False</td>\n",
              "      <td>False</td>\n",
              "      <td>False</td>\n",
              "      <td>7</td>\n",
              "      <td>3350000.0</td>\n",
              "      <td>2018-12-04</td>\n",
              "      <td>81.0</td>\n",
              "      <td>18603.0</td>\n",
              "      <td>12817.0</td>\n",
              "      <td>0.0</td>\n",
              "      <td>NaN</td>\n",
              "      <td>0.0</td>\n",
              "      <td>NaN</td>\n",
              "      <td>82921.0</td>\n",
              "      <td>1</td>\n",
              "      <td>12</td>\n",
              "      <td>2018</td>\n",
              "    </tr>\n",
              "    <tr>\n",
              "      <td>2</td>\n",
              "      <td>Санкт-Петербург</td>\n",
              "      <td>56.0</td>\n",
              "      <td>34.3</td>\n",
              "      <td>8.3</td>\n",
              "      <td>2.65</td>\n",
              "      <td>2</td>\n",
              "      <td>0</td>\n",
              "      <td>4</td>\n",
              "      <td>5.0</td>\n",
              "      <td>False</td>\n",
              "      <td>False</td>\n",
              "      <td>False</td>\n",
              "      <td>10</td>\n",
              "      <td>5196000.0</td>\n",
              "      <td>2015-08-20</td>\n",
              "      <td>558.0</td>\n",
              "      <td>13933.0</td>\n",
              "      <td>21741.0</td>\n",
              "      <td>1.0</td>\n",
              "      <td>90.0</td>\n",
              "      <td>2.0</td>\n",
              "      <td>574.0</td>\n",
              "      <td>92786.0</td>\n",
              "      <td>3</td>\n",
              "      <td>8</td>\n",
              "      <td>2015</td>\n",
              "    </tr>\n",
              "    <tr>\n",
              "      <td>3</td>\n",
              "      <td>Санкт-Петербург</td>\n",
              "      <td>159.0</td>\n",
              "      <td>45.0</td>\n",
              "      <td>9.5</td>\n",
              "      <td>2.65</td>\n",
              "      <td>3</td>\n",
              "      <td>0</td>\n",
              "      <td>9</td>\n",
              "      <td>14.0</td>\n",
              "      <td>False</td>\n",
              "      <td>False</td>\n",
              "      <td>False</td>\n",
              "      <td>0</td>\n",
              "      <td>64900000.0</td>\n",
              "      <td>2015-07-24</td>\n",
              "      <td>424.0</td>\n",
              "      <td>6800.0</td>\n",
              "      <td>28098.0</td>\n",
              "      <td>2.0</td>\n",
              "      <td>84.0</td>\n",
              "      <td>3.0</td>\n",
              "      <td>234.0</td>\n",
              "      <td>408176.0</td>\n",
              "      <td>4</td>\n",
              "      <td>7</td>\n",
              "      <td>2015</td>\n",
              "    </tr>\n",
              "    <tr>\n",
              "      <td>4</td>\n",
              "      <td>Санкт-Петербург</td>\n",
              "      <td>100.0</td>\n",
              "      <td>32.0</td>\n",
              "      <td>41.0</td>\n",
              "      <td>3.03</td>\n",
              "      <td>2</td>\n",
              "      <td>0</td>\n",
              "      <td>13</td>\n",
              "      <td>14.0</td>\n",
              "      <td>False</td>\n",
              "      <td>False</td>\n",
              "      <td>False</td>\n",
              "      <td>2</td>\n",
              "      <td>10000000.0</td>\n",
              "      <td>2018-06-19</td>\n",
              "      <td>121.0</td>\n",
              "      <td>8098.0</td>\n",
              "      <td>31856.0</td>\n",
              "      <td>2.0</td>\n",
              "      <td>112.0</td>\n",
              "      <td>1.0</td>\n",
              "      <td>48.0</td>\n",
              "      <td>100000.0</td>\n",
              "      <td>1</td>\n",
              "      <td>6</td>\n",
              "      <td>2018</td>\n",
              "    </tr>\n",
              "  </tbody>\n",
              "</table>\n",
              "</div>"
            ],
            "text/plain": [
              "     locality_name  total_area  living_area  kitchen_area  ceiling_height  \\\n",
              "0  Санкт-Петербург       108.0         51.0          25.0            2.70   \n",
              "1   посёлок Шушары        40.4         18.6          11.0            2.65   \n",
              "2  Санкт-Петербург        56.0         34.3           8.3            2.65   \n",
              "3  Санкт-Петербург       159.0         45.0           9.5            2.65   \n",
              "4  Санкт-Петербург       100.0         32.0          41.0            3.03   \n",
              "\n",
              "   rooms  balcony  floor  floors_total  is_apartment  studio  open_plan  \\\n",
              "0      3        0      8          16.0         False   False      False   \n",
              "1      1        2      1          11.0         False   False      False   \n",
              "2      2        0      4           5.0         False   False      False   \n",
              "3      3        0      9          14.0         False   False      False   \n",
              "4      2        0     13          14.0         False   False      False   \n",
              "\n",
              "   total_images  last_price first_day_exposition  days_exposition  \\\n",
              "0            20  13000000.0           2019-03-07             -1.0   \n",
              "1             7   3350000.0           2018-12-04             81.0   \n",
              "2            10   5196000.0           2015-08-20            558.0   \n",
              "3             0  64900000.0           2015-07-24            424.0   \n",
              "4             2  10000000.0           2018-06-19            121.0   \n",
              "\n",
              "   cityCenters_nearest  airports_nearest  parks_around3000  parks_nearest  \\\n",
              "0              16028.0           18863.0               1.0          482.0   \n",
              "1              18603.0           12817.0               0.0            NaN   \n",
              "2              13933.0           21741.0               1.0           90.0   \n",
              "3               6800.0           28098.0               2.0           84.0   \n",
              "4               8098.0           31856.0               2.0          112.0   \n",
              "\n",
              "   ponds_around3000  ponds_nearest  price_meter  weekday_exposition  \\\n",
              "0               2.0          755.0     120370.0                   3   \n",
              "1               0.0            NaN      82921.0                   1   \n",
              "2               2.0          574.0      92786.0                   3   \n",
              "3               3.0          234.0     408176.0                   4   \n",
              "4               1.0           48.0     100000.0                   1   \n",
              "\n",
              "   month_exposition  year_exposition  \n",
              "0                 3             2019  \n",
              "1                12             2018  \n",
              "2                 8             2015  \n",
              "3                 7             2015  \n",
              "4                 6             2018  "
            ]
          },
          "metadata": {
            "tags": []
          },
          "execution_count": 39
        }
      ]
    },
    {
      "cell_type": "markdown",
      "metadata": {
        "id": "9JXsXPfRlhqJ"
      },
      "source": [
        "<a id='section3.3'></a>\n",
        "#### Этаж квартиры"
      ]
    },
    {
      "cell_type": "code",
      "metadata": {
        "id": "gOBz8Z8VlhqK"
      },
      "source": [
        "def floor_group(row):\n",
        "    if row['floor'] == 1:\n",
        "        return 'первый'\n",
        "    elif row['floor'] == row['floors_total']:\n",
        "        return 'последний'\n",
        "    else:\n",
        "        return 'другой'\n",
        "    \n",
        "data['floor_group'] = data.apply(floor_group, axis=1)"
      ],
      "execution_count": null,
      "outputs": []
    },
    {
      "cell_type": "code",
      "metadata": {
        "id": "ilZNsQVplhqW",
        "outputId": "b86036b0-2d73-4279-d113-0015687aceb6"
      },
      "source": [
        "data.head()"
      ],
      "execution_count": null,
      "outputs": [
        {
          "output_type": "execute_result",
          "data": {
            "text/html": [
              "<div>\n",
              "<style scoped>\n",
              "    .dataframe tbody tr th:only-of-type {\n",
              "        vertical-align: middle;\n",
              "    }\n",
              "\n",
              "    .dataframe tbody tr th {\n",
              "        vertical-align: top;\n",
              "    }\n",
              "\n",
              "    .dataframe thead th {\n",
              "        text-align: right;\n",
              "    }\n",
              "</style>\n",
              "<table border=\"1\" class=\"dataframe\">\n",
              "  <thead>\n",
              "    <tr style=\"text-align: right;\">\n",
              "      <th></th>\n",
              "      <th>locality_name</th>\n",
              "      <th>total_area</th>\n",
              "      <th>living_area</th>\n",
              "      <th>kitchen_area</th>\n",
              "      <th>ceiling_height</th>\n",
              "      <th>rooms</th>\n",
              "      <th>balcony</th>\n",
              "      <th>floor</th>\n",
              "      <th>floors_total</th>\n",
              "      <th>is_apartment</th>\n",
              "      <th>studio</th>\n",
              "      <th>open_plan</th>\n",
              "      <th>total_images</th>\n",
              "      <th>last_price</th>\n",
              "      <th>first_day_exposition</th>\n",
              "      <th>days_exposition</th>\n",
              "      <th>cityCenters_nearest</th>\n",
              "      <th>airports_nearest</th>\n",
              "      <th>parks_around3000</th>\n",
              "      <th>parks_nearest</th>\n",
              "      <th>ponds_around3000</th>\n",
              "      <th>ponds_nearest</th>\n",
              "      <th>price_meter</th>\n",
              "      <th>weekday_exposition</th>\n",
              "      <th>month_exposition</th>\n",
              "      <th>year_exposition</th>\n",
              "      <th>floor_group</th>\n",
              "    </tr>\n",
              "  </thead>\n",
              "  <tbody>\n",
              "    <tr>\n",
              "      <td>0</td>\n",
              "      <td>Санкт-Петербург</td>\n",
              "      <td>108.0</td>\n",
              "      <td>51.0</td>\n",
              "      <td>25.0</td>\n",
              "      <td>2.70</td>\n",
              "      <td>3</td>\n",
              "      <td>0</td>\n",
              "      <td>8</td>\n",
              "      <td>16.0</td>\n",
              "      <td>False</td>\n",
              "      <td>False</td>\n",
              "      <td>False</td>\n",
              "      <td>20</td>\n",
              "      <td>13000000.0</td>\n",
              "      <td>2019-03-07</td>\n",
              "      <td>-1.0</td>\n",
              "      <td>16028.0</td>\n",
              "      <td>18863.0</td>\n",
              "      <td>1.0</td>\n",
              "      <td>482.0</td>\n",
              "      <td>2.0</td>\n",
              "      <td>755.0</td>\n",
              "      <td>120370.0</td>\n",
              "      <td>3</td>\n",
              "      <td>3</td>\n",
              "      <td>2019</td>\n",
              "      <td>другой</td>\n",
              "    </tr>\n",
              "    <tr>\n",
              "      <td>1</td>\n",
              "      <td>посёлок Шушары</td>\n",
              "      <td>40.4</td>\n",
              "      <td>18.6</td>\n",
              "      <td>11.0</td>\n",
              "      <td>2.65</td>\n",
              "      <td>1</td>\n",
              "      <td>2</td>\n",
              "      <td>1</td>\n",
              "      <td>11.0</td>\n",
              "      <td>False</td>\n",
              "      <td>False</td>\n",
              "      <td>False</td>\n",
              "      <td>7</td>\n",
              "      <td>3350000.0</td>\n",
              "      <td>2018-12-04</td>\n",
              "      <td>81.0</td>\n",
              "      <td>18603.0</td>\n",
              "      <td>12817.0</td>\n",
              "      <td>0.0</td>\n",
              "      <td>NaN</td>\n",
              "      <td>0.0</td>\n",
              "      <td>NaN</td>\n",
              "      <td>82921.0</td>\n",
              "      <td>1</td>\n",
              "      <td>12</td>\n",
              "      <td>2018</td>\n",
              "      <td>первый</td>\n",
              "    </tr>\n",
              "    <tr>\n",
              "      <td>2</td>\n",
              "      <td>Санкт-Петербург</td>\n",
              "      <td>56.0</td>\n",
              "      <td>34.3</td>\n",
              "      <td>8.3</td>\n",
              "      <td>2.65</td>\n",
              "      <td>2</td>\n",
              "      <td>0</td>\n",
              "      <td>4</td>\n",
              "      <td>5.0</td>\n",
              "      <td>False</td>\n",
              "      <td>False</td>\n",
              "      <td>False</td>\n",
              "      <td>10</td>\n",
              "      <td>5196000.0</td>\n",
              "      <td>2015-08-20</td>\n",
              "      <td>558.0</td>\n",
              "      <td>13933.0</td>\n",
              "      <td>21741.0</td>\n",
              "      <td>1.0</td>\n",
              "      <td>90.0</td>\n",
              "      <td>2.0</td>\n",
              "      <td>574.0</td>\n",
              "      <td>92786.0</td>\n",
              "      <td>3</td>\n",
              "      <td>8</td>\n",
              "      <td>2015</td>\n",
              "      <td>другой</td>\n",
              "    </tr>\n",
              "    <tr>\n",
              "      <td>3</td>\n",
              "      <td>Санкт-Петербург</td>\n",
              "      <td>159.0</td>\n",
              "      <td>45.0</td>\n",
              "      <td>9.5</td>\n",
              "      <td>2.65</td>\n",
              "      <td>3</td>\n",
              "      <td>0</td>\n",
              "      <td>9</td>\n",
              "      <td>14.0</td>\n",
              "      <td>False</td>\n",
              "      <td>False</td>\n",
              "      <td>False</td>\n",
              "      <td>0</td>\n",
              "      <td>64900000.0</td>\n",
              "      <td>2015-07-24</td>\n",
              "      <td>424.0</td>\n",
              "      <td>6800.0</td>\n",
              "      <td>28098.0</td>\n",
              "      <td>2.0</td>\n",
              "      <td>84.0</td>\n",
              "      <td>3.0</td>\n",
              "      <td>234.0</td>\n",
              "      <td>408176.0</td>\n",
              "      <td>4</td>\n",
              "      <td>7</td>\n",
              "      <td>2015</td>\n",
              "      <td>другой</td>\n",
              "    </tr>\n",
              "    <tr>\n",
              "      <td>4</td>\n",
              "      <td>Санкт-Петербург</td>\n",
              "      <td>100.0</td>\n",
              "      <td>32.0</td>\n",
              "      <td>41.0</td>\n",
              "      <td>3.03</td>\n",
              "      <td>2</td>\n",
              "      <td>0</td>\n",
              "      <td>13</td>\n",
              "      <td>14.0</td>\n",
              "      <td>False</td>\n",
              "      <td>False</td>\n",
              "      <td>False</td>\n",
              "      <td>2</td>\n",
              "      <td>10000000.0</td>\n",
              "      <td>2018-06-19</td>\n",
              "      <td>121.0</td>\n",
              "      <td>8098.0</td>\n",
              "      <td>31856.0</td>\n",
              "      <td>2.0</td>\n",
              "      <td>112.0</td>\n",
              "      <td>1.0</td>\n",
              "      <td>48.0</td>\n",
              "      <td>100000.0</td>\n",
              "      <td>1</td>\n",
              "      <td>6</td>\n",
              "      <td>2018</td>\n",
              "      <td>другой</td>\n",
              "    </tr>\n",
              "  </tbody>\n",
              "</table>\n",
              "</div>"
            ],
            "text/plain": [
              "     locality_name  total_area  living_area  kitchen_area  ceiling_height  \\\n",
              "0  Санкт-Петербург       108.0         51.0          25.0            2.70   \n",
              "1   посёлок Шушары        40.4         18.6          11.0            2.65   \n",
              "2  Санкт-Петербург        56.0         34.3           8.3            2.65   \n",
              "3  Санкт-Петербург       159.0         45.0           9.5            2.65   \n",
              "4  Санкт-Петербург       100.0         32.0          41.0            3.03   \n",
              "\n",
              "   rooms  balcony  floor  floors_total  is_apartment  studio  open_plan  \\\n",
              "0      3        0      8          16.0         False   False      False   \n",
              "1      1        2      1          11.0         False   False      False   \n",
              "2      2        0      4           5.0         False   False      False   \n",
              "3      3        0      9          14.0         False   False      False   \n",
              "4      2        0     13          14.0         False   False      False   \n",
              "\n",
              "   total_images  last_price first_day_exposition  days_exposition  \\\n",
              "0            20  13000000.0           2019-03-07             -1.0   \n",
              "1             7   3350000.0           2018-12-04             81.0   \n",
              "2            10   5196000.0           2015-08-20            558.0   \n",
              "3             0  64900000.0           2015-07-24            424.0   \n",
              "4             2  10000000.0           2018-06-19            121.0   \n",
              "\n",
              "   cityCenters_nearest  airports_nearest  parks_around3000  parks_nearest  \\\n",
              "0              16028.0           18863.0               1.0          482.0   \n",
              "1              18603.0           12817.0               0.0            NaN   \n",
              "2              13933.0           21741.0               1.0           90.0   \n",
              "3               6800.0           28098.0               2.0           84.0   \n",
              "4               8098.0           31856.0               2.0          112.0   \n",
              "\n",
              "   ponds_around3000  ponds_nearest  price_meter  weekday_exposition  \\\n",
              "0               2.0          755.0     120370.0                   3   \n",
              "1               0.0            NaN      82921.0                   1   \n",
              "2               2.0          574.0      92786.0                   3   \n",
              "3               3.0          234.0     408176.0                   4   \n",
              "4               1.0           48.0     100000.0                   1   \n",
              "\n",
              "   month_exposition  year_exposition floor_group  \n",
              "0                 3             2019      другой  \n",
              "1                12             2018      первый  \n",
              "2                 8             2015      другой  \n",
              "3                 7             2015      другой  \n",
              "4                 6             2018      другой  "
            ]
          },
          "metadata": {
            "tags": []
          },
          "execution_count": 41
        }
      ]
    },
    {
      "cell_type": "markdown",
      "metadata": {
        "id": "wMV_XZaWlhqt"
      },
      "source": [
        "<a id='section3.4'></a>\n",
        "#### Соотношение жилой и общей площади"
      ]
    },
    {
      "cell_type": "code",
      "metadata": {
        "id": "dsBsm-6Clhqw"
      },
      "source": [
        "data['ratio_living_total_area'] = data['living_area']/data['total_area']\n",
        "data['ratio_living_total_area'] = data['ratio_living_total_area'].round(2)"
      ],
      "execution_count": null,
      "outputs": []
    },
    {
      "cell_type": "markdown",
      "metadata": {
        "id": "n8fb4Or7lhq6"
      },
      "source": [
        "<a id='section3.5'></a>\n",
        "#### Соотношение куханной к общей площади"
      ]
    },
    {
      "cell_type": "code",
      "metadata": {
        "id": "5lTMK9yllhq7"
      },
      "source": [
        "data['ratio_kitchen_total_area'] = data['kitchen_area']/data['total_area']\n",
        "data['ratio_kitchen_total_area'] = data['ratio_kitchen_total_area'].round(2)"
      ],
      "execution_count": null,
      "outputs": []
    },
    {
      "cell_type": "code",
      "metadata": {
        "id": "av1cAl4ElhrC",
        "outputId": "2827cda5-54f6-4699-c062-e32f8bf8285b"
      },
      "source": [
        "data.head()"
      ],
      "execution_count": null,
      "outputs": [
        {
          "output_type": "execute_result",
          "data": {
            "text/html": [
              "<div>\n",
              "<style scoped>\n",
              "    .dataframe tbody tr th:only-of-type {\n",
              "        vertical-align: middle;\n",
              "    }\n",
              "\n",
              "    .dataframe tbody tr th {\n",
              "        vertical-align: top;\n",
              "    }\n",
              "\n",
              "    .dataframe thead th {\n",
              "        text-align: right;\n",
              "    }\n",
              "</style>\n",
              "<table border=\"1\" class=\"dataframe\">\n",
              "  <thead>\n",
              "    <tr style=\"text-align: right;\">\n",
              "      <th></th>\n",
              "      <th>locality_name</th>\n",
              "      <th>total_area</th>\n",
              "      <th>living_area</th>\n",
              "      <th>kitchen_area</th>\n",
              "      <th>ceiling_height</th>\n",
              "      <th>rooms</th>\n",
              "      <th>balcony</th>\n",
              "      <th>floor</th>\n",
              "      <th>floors_total</th>\n",
              "      <th>is_apartment</th>\n",
              "      <th>studio</th>\n",
              "      <th>open_plan</th>\n",
              "      <th>total_images</th>\n",
              "      <th>last_price</th>\n",
              "      <th>first_day_exposition</th>\n",
              "      <th>days_exposition</th>\n",
              "      <th>cityCenters_nearest</th>\n",
              "      <th>airports_nearest</th>\n",
              "      <th>parks_around3000</th>\n",
              "      <th>parks_nearest</th>\n",
              "      <th>ponds_around3000</th>\n",
              "      <th>ponds_nearest</th>\n",
              "      <th>price_meter</th>\n",
              "      <th>weekday_exposition</th>\n",
              "      <th>month_exposition</th>\n",
              "      <th>year_exposition</th>\n",
              "      <th>floor_group</th>\n",
              "      <th>ratio_living_total_area</th>\n",
              "      <th>ratio_kitchen_total_area</th>\n",
              "    </tr>\n",
              "  </thead>\n",
              "  <tbody>\n",
              "    <tr>\n",
              "      <td>0</td>\n",
              "      <td>Санкт-Петербург</td>\n",
              "      <td>108.0</td>\n",
              "      <td>51.0</td>\n",
              "      <td>25.0</td>\n",
              "      <td>2.70</td>\n",
              "      <td>3</td>\n",
              "      <td>0</td>\n",
              "      <td>8</td>\n",
              "      <td>16.0</td>\n",
              "      <td>False</td>\n",
              "      <td>False</td>\n",
              "      <td>False</td>\n",
              "      <td>20</td>\n",
              "      <td>13000000.0</td>\n",
              "      <td>2019-03-07</td>\n",
              "      <td>-1.0</td>\n",
              "      <td>16028.0</td>\n",
              "      <td>18863.0</td>\n",
              "      <td>1.0</td>\n",
              "      <td>482.0</td>\n",
              "      <td>2.0</td>\n",
              "      <td>755.0</td>\n",
              "      <td>120370.0</td>\n",
              "      <td>3</td>\n",
              "      <td>3</td>\n",
              "      <td>2019</td>\n",
              "      <td>другой</td>\n",
              "      <td>0.47</td>\n",
              "      <td>0.23</td>\n",
              "    </tr>\n",
              "    <tr>\n",
              "      <td>1</td>\n",
              "      <td>посёлок Шушары</td>\n",
              "      <td>40.4</td>\n",
              "      <td>18.6</td>\n",
              "      <td>11.0</td>\n",
              "      <td>2.65</td>\n",
              "      <td>1</td>\n",
              "      <td>2</td>\n",
              "      <td>1</td>\n",
              "      <td>11.0</td>\n",
              "      <td>False</td>\n",
              "      <td>False</td>\n",
              "      <td>False</td>\n",
              "      <td>7</td>\n",
              "      <td>3350000.0</td>\n",
              "      <td>2018-12-04</td>\n",
              "      <td>81.0</td>\n",
              "      <td>18603.0</td>\n",
              "      <td>12817.0</td>\n",
              "      <td>0.0</td>\n",
              "      <td>NaN</td>\n",
              "      <td>0.0</td>\n",
              "      <td>NaN</td>\n",
              "      <td>82921.0</td>\n",
              "      <td>1</td>\n",
              "      <td>12</td>\n",
              "      <td>2018</td>\n",
              "      <td>первый</td>\n",
              "      <td>0.46</td>\n",
              "      <td>0.27</td>\n",
              "    </tr>\n",
              "    <tr>\n",
              "      <td>2</td>\n",
              "      <td>Санкт-Петербург</td>\n",
              "      <td>56.0</td>\n",
              "      <td>34.3</td>\n",
              "      <td>8.3</td>\n",
              "      <td>2.65</td>\n",
              "      <td>2</td>\n",
              "      <td>0</td>\n",
              "      <td>4</td>\n",
              "      <td>5.0</td>\n",
              "      <td>False</td>\n",
              "      <td>False</td>\n",
              "      <td>False</td>\n",
              "      <td>10</td>\n",
              "      <td>5196000.0</td>\n",
              "      <td>2015-08-20</td>\n",
              "      <td>558.0</td>\n",
              "      <td>13933.0</td>\n",
              "      <td>21741.0</td>\n",
              "      <td>1.0</td>\n",
              "      <td>90.0</td>\n",
              "      <td>2.0</td>\n",
              "      <td>574.0</td>\n",
              "      <td>92786.0</td>\n",
              "      <td>3</td>\n",
              "      <td>8</td>\n",
              "      <td>2015</td>\n",
              "      <td>другой</td>\n",
              "      <td>0.61</td>\n",
              "      <td>0.15</td>\n",
              "    </tr>\n",
              "    <tr>\n",
              "      <td>3</td>\n",
              "      <td>Санкт-Петербург</td>\n",
              "      <td>159.0</td>\n",
              "      <td>45.0</td>\n",
              "      <td>9.5</td>\n",
              "      <td>2.65</td>\n",
              "      <td>3</td>\n",
              "      <td>0</td>\n",
              "      <td>9</td>\n",
              "      <td>14.0</td>\n",
              "      <td>False</td>\n",
              "      <td>False</td>\n",
              "      <td>False</td>\n",
              "      <td>0</td>\n",
              "      <td>64900000.0</td>\n",
              "      <td>2015-07-24</td>\n",
              "      <td>424.0</td>\n",
              "      <td>6800.0</td>\n",
              "      <td>28098.0</td>\n",
              "      <td>2.0</td>\n",
              "      <td>84.0</td>\n",
              "      <td>3.0</td>\n",
              "      <td>234.0</td>\n",
              "      <td>408176.0</td>\n",
              "      <td>4</td>\n",
              "      <td>7</td>\n",
              "      <td>2015</td>\n",
              "      <td>другой</td>\n",
              "      <td>0.28</td>\n",
              "      <td>0.06</td>\n",
              "    </tr>\n",
              "    <tr>\n",
              "      <td>4</td>\n",
              "      <td>Санкт-Петербург</td>\n",
              "      <td>100.0</td>\n",
              "      <td>32.0</td>\n",
              "      <td>41.0</td>\n",
              "      <td>3.03</td>\n",
              "      <td>2</td>\n",
              "      <td>0</td>\n",
              "      <td>13</td>\n",
              "      <td>14.0</td>\n",
              "      <td>False</td>\n",
              "      <td>False</td>\n",
              "      <td>False</td>\n",
              "      <td>2</td>\n",
              "      <td>10000000.0</td>\n",
              "      <td>2018-06-19</td>\n",
              "      <td>121.0</td>\n",
              "      <td>8098.0</td>\n",
              "      <td>31856.0</td>\n",
              "      <td>2.0</td>\n",
              "      <td>112.0</td>\n",
              "      <td>1.0</td>\n",
              "      <td>48.0</td>\n",
              "      <td>100000.0</td>\n",
              "      <td>1</td>\n",
              "      <td>6</td>\n",
              "      <td>2018</td>\n",
              "      <td>другой</td>\n",
              "      <td>0.32</td>\n",
              "      <td>0.41</td>\n",
              "    </tr>\n",
              "  </tbody>\n",
              "</table>\n",
              "</div>"
            ],
            "text/plain": [
              "     locality_name  total_area  living_area  kitchen_area  ceiling_height  \\\n",
              "0  Санкт-Петербург       108.0         51.0          25.0            2.70   \n",
              "1   посёлок Шушары        40.4         18.6          11.0            2.65   \n",
              "2  Санкт-Петербург        56.0         34.3           8.3            2.65   \n",
              "3  Санкт-Петербург       159.0         45.0           9.5            2.65   \n",
              "4  Санкт-Петербург       100.0         32.0          41.0            3.03   \n",
              "\n",
              "   rooms  balcony  floor  floors_total  is_apartment  studio  open_plan  \\\n",
              "0      3        0      8          16.0         False   False      False   \n",
              "1      1        2      1          11.0         False   False      False   \n",
              "2      2        0      4           5.0         False   False      False   \n",
              "3      3        0      9          14.0         False   False      False   \n",
              "4      2        0     13          14.0         False   False      False   \n",
              "\n",
              "   total_images  last_price first_day_exposition  days_exposition  \\\n",
              "0            20  13000000.0           2019-03-07             -1.0   \n",
              "1             7   3350000.0           2018-12-04             81.0   \n",
              "2            10   5196000.0           2015-08-20            558.0   \n",
              "3             0  64900000.0           2015-07-24            424.0   \n",
              "4             2  10000000.0           2018-06-19            121.0   \n",
              "\n",
              "   cityCenters_nearest  airports_nearest  parks_around3000  parks_nearest  \\\n",
              "0              16028.0           18863.0               1.0          482.0   \n",
              "1              18603.0           12817.0               0.0            NaN   \n",
              "2              13933.0           21741.0               1.0           90.0   \n",
              "3               6800.0           28098.0               2.0           84.0   \n",
              "4               8098.0           31856.0               2.0          112.0   \n",
              "\n",
              "   ponds_around3000  ponds_nearest  price_meter  weekday_exposition  \\\n",
              "0               2.0          755.0     120370.0                   3   \n",
              "1               0.0            NaN      82921.0                   1   \n",
              "2               2.0          574.0      92786.0                   3   \n",
              "3               3.0          234.0     408176.0                   4   \n",
              "4               1.0           48.0     100000.0                   1   \n",
              "\n",
              "   month_exposition  year_exposition floor_group  ratio_living_total_area  \\\n",
              "0                 3             2019      другой                     0.47   \n",
              "1                12             2018      первый                     0.46   \n",
              "2                 8             2015      другой                     0.61   \n",
              "3                 7             2015      другой                     0.28   \n",
              "4                 6             2018      другой                     0.32   \n",
              "\n",
              "   ratio_kitchen_total_area  \n",
              "0                      0.23  \n",
              "1                      0.27  \n",
              "2                      0.15  \n",
              "3                      0.06  \n",
              "4                      0.41  "
            ]
          },
          "metadata": {
            "tags": []
          },
          "execution_count": 44
        }
      ]
    },
    {
      "cell_type": "markdown",
      "metadata": {
        "id": "NHJ2-BvBlhrW"
      },
      "source": [
        "<a id='section4'></a>\n",
        "### Шаг 4. Проведите исследовательский анализ данных и выполните инструкции:"
      ]
    },
    {
      "cell_type": "markdown",
      "metadata": {
        "id": "DUGvm8-Wlhrk"
      },
      "source": [
        "<a id='section4.1'></a>\n",
        "#### Изучение площади"
      ]
    },
    {
      "cell_type": "code",
      "metadata": {
        "scrolled": true,
        "id": "Re_u6eNTlhrn",
        "outputId": "41cec9dd-65fd-4aef-a501-1014d40c1783"
      },
      "source": [
        "data['total_area'].describe()"
      ],
      "execution_count": null,
      "outputs": [
        {
          "output_type": "execute_result",
          "data": {
            "text/plain": [
              "count    23613.000000\n",
              "mean        60.340678\n",
              "std         35.648988\n",
              "min         12.000000\n",
              "25%         40.000000\n",
              "50%         52.000000\n",
              "75%         69.800000\n",
              "max        900.000000\n",
              "Name: total_area, dtype: float64"
            ]
          },
          "metadata": {
            "tags": []
          },
          "execution_count": 45
        }
      ]
    },
    {
      "cell_type": "code",
      "metadata": {
        "scrolled": false,
        "id": "oxz0ZEkflhrx",
        "outputId": "6c098d40-1277-45ac-dc3a-c77e9a75acc7"
      },
      "source": [
        "data.boxplot('total_area', figsize=(7,7))\n",
        "plt.ylim(0, 150)\n",
        "plt.title('Диаграмма размаха общей площади')\n",
        "plt.ylabel('Общая площадь, кв.м.')\n",
        "plt.show()"
      ],
      "execution_count": null,
      "outputs": [
        {
          "output_type": "display_data",
          "data": {
            "image/png": "[encoded data removed]",
            "text/plain": [
              "<Figure size 504x504 with 1 Axes>"
            ]
          },
          "metadata": {
            "tags": [],
            "needs_background": "light"
          }
        }
      ]
    },
    {
      "cell_type": "markdown",
      "metadata": {
        "id": "k6FrZdZklhr7"
      },
      "source": [
        "Большое количество выбросов."
      ]
    },
    {
      "cell_type": "markdown",
      "metadata": {
        "id": "25E5himilhr8"
      },
      "source": [
        "Посмотрим сколько процентов данных мы потеряем, если отбросим все выбросы > 120 кв.м."
      ]
    },
    {
      "cell_type": "code",
      "metadata": {
        "scrolled": false,
        "id": "vQxi29pSlhr-",
        "outputId": "a5b1aac8-d47d-4a4c-9c84-de05088597de"
      },
      "source": [
        "len(data.query('total_area > 120'))/ len(data['total_area'])"
      ],
      "execution_count": null,
      "outputs": [
        {
          "output_type": "execute_result",
          "data": {
            "text/plain": [
              "0.044805827298522"
            ]
          },
          "metadata": {
            "tags": []
          },
          "execution_count": 47
        }
      ]
    },
    {
      "cell_type": "markdown",
      "metadata": {
        "id": "SOYf_HJPlhsI"
      },
      "source": [
        "Всего 4%, значит может отбросить их."
      ]
    },
    {
      "cell_type": "code",
      "metadata": {
        "scrolled": false,
        "id": "QjBuJIk8lhsM",
        "outputId": "76d8ce55-f0ba-49ad-e393-2c926426ba24"
      },
      "source": [
        "data.query('total_area < 120').hist('total_area', bins=30)\n",
        "plt.xlabel('Общая площадь, кв.м.')\n",
        "plt.ylabel('Количество')\n",
        "plt.title('Гистограмма общей площади')\n",
        "plt.show()"
      ],
      "execution_count": null,
      "outputs": [
        {
          "output_type": "display_data",
          "data": {
            "image/png": "[encoded data removed]",
            "text/plain": [
              "<Figure size 432x288 with 1 Axes>"
            ]
          },
          "metadata": {
            "tags": [],
            "needs_background": "light"
          }
        }
      ]
    },
    {
      "cell_type": "markdown",
      "metadata": {
        "id": "Taeo4jmYlhsY"
      },
      "source": [
        "Большая часть значений общей площади лежит в диапазоне от 30 до 50 кв.м., что выглядит правдоподобно. "
      ]
    },
    {
      "cell_type": "markdown",
      "metadata": {
        "id": "eOdB9HPSlhsb"
      },
      "source": [
        "<a id='section4.2'></a>\n",
        "#### Изучение цены"
      ]
    },
    {
      "cell_type": "code",
      "metadata": {
        "id": "kmnUg2B3lhsf",
        "outputId": "01894bb4-81e4-4b83-909c-055f4405ad1c"
      },
      "source": [
        "data['last_price'].describe()\n"
      ],
      "execution_count": null,
      "outputs": [
        {
          "output_type": "execute_result",
          "data": {
            "text/plain": [
              "count    2.361300e+04\n",
              "mean     6.540555e+06\n",
              "std      1.090172e+07\n",
              "min      1.219000e+04\n",
              "25%      3.400000e+06\n",
              "50%      4.650000e+06\n",
              "75%      6.799000e+06\n",
              "max      7.630000e+08\n",
              "Name: last_price, dtype: float64"
            ]
          },
          "metadata": {
            "tags": []
          },
          "execution_count": 49
        }
      ]
    },
    {
      "cell_type": "code",
      "metadata": {
        "scrolled": true,
        "id": "wGCs3cUUlhss",
        "outputId": "be485b23-1313-473c-95dc-f69e77f5c83b"
      },
      "source": [
        "data.boxplot('last_price')\n",
        "plt.ylim(0, 13000000)\n",
        "plt.title('Диаграмма размаха цены')\n",
        "plt.ylabel('Цена за квартиру, млн.руб.')\n",
        "plt.show()"
      ],
      "execution_count": null,
      "outputs": [
        {
          "output_type": "display_data",
          "data": {
            "image/png": "[encoded data removed]",
            "text/plain": [
              "<Figure size 432x288 with 1 Axes>"
            ]
          },
          "metadata": {
            "tags": [],
            "needs_background": "light"
          }
        }
      ]
    },
    {
      "cell_type": "markdown",
      "metadata": {
        "id": "9BpwEW5nlhs0"
      },
      "source": [
        "Посмотрим сколько процентов данных мы потеряем, если отбросим все выбросы > 12000000"
      ]
    },
    {
      "cell_type": "code",
      "metadata": {
        "id": "l4FBc-hDlhs1",
        "outputId": "9b7dc946-160e-4146-e568-6f72eaa630b8"
      },
      "source": [
        "len(data.query('last_price > 12000000'))/ len(data['last_price'])"
      ],
      "execution_count": null,
      "outputs": [
        {
          "output_type": "execute_result",
          "data": {
            "text/plain": [
              "0.08177698725278448"
            ]
          },
          "metadata": {
            "tags": []
          },
          "execution_count": 51
        }
      ]
    },
    {
      "cell_type": "markdown",
      "metadata": {
        "id": "2k-3Sgvolhs8"
      },
      "source": [
        "8%. Можем отбросить их."
      ]
    },
    {
      "cell_type": "code",
      "metadata": {
        "scrolled": true,
        "id": "vwl9Zp5xlhtA",
        "outputId": "30885d5d-545e-4627-f6cc-1ba795c3a506"
      },
      "source": [
        "data.query('last_price < 12000000').hist('last_price',bins=30)\n",
        "plt.xlabel('Цена за квартиру, млн.руб.')\n",
        "plt.ylabel('Количество')\n",
        "plt.title('Гистограмма цены за квартиру')\n",
        "plt.show()"
      ],
      "execution_count": null,
      "outputs": [
        {
          "output_type": "display_data",
          "data": {
            "image/png": "[encoded data removed]",
            "text/plain": [
              "<Figure size 432x288 with 1 Axes>"
            ]
          },
          "metadata": {
            "tags": [],
            "needs_background": "light"
          }
        }
      ]
    },
    {
      "cell_type": "markdown",
      "metadata": {
        "id": "pdeLDERHlhtG"
      },
      "source": [
        "Большая часть значений цены лежит в диапазоне от 2,5млн до 6млн., выглядит правдоподобно. "
      ]
    },
    {
      "cell_type": "code",
      "metadata": {
        "id": "ojvuc-uOlhtJ",
        "outputId": "405d1275-b576-4d9c-f620-3f17b51e42f0"
      },
      "source": [
        "data.loc[data['last_price']  < 12000000]['last_price'].describe()"
      ],
      "execution_count": null,
      "outputs": [
        {
          "output_type": "execute_result",
          "data": {
            "text/plain": [
              "count    2.162500e+04\n",
              "mean     4.859171e+06\n",
              "std      2.246001e+06\n",
              "min      1.219000e+04\n",
              "25%      3.300000e+06\n",
              "50%      4.400000e+06\n",
              "75%      6.000000e+06\n",
              "max      1.199900e+07\n",
              "Name: last_price, dtype: float64"
            ]
          },
          "metadata": {
            "tags": []
          },
          "execution_count": 53
        }
      ]
    },
    {
      "cell_type": "markdown",
      "metadata": {
        "id": "G-d4jOHolhtS"
      },
      "source": [
        "Средняя цена квартиры равна 4,7 млн.руб."
      ]
    },
    {
      "cell_type": "markdown",
      "metadata": {
        "id": "HcIDw-UElhtT"
      },
      "source": [
        "<a id='section4.3'></a>\n",
        "#### Изучение числа комнат"
      ]
    },
    {
      "cell_type": "code",
      "metadata": {
        "id": "-K5yDx-ElhtU",
        "outputId": "3b66c1dd-8007-455b-cb38-a3e75519c033"
      },
      "source": [
        "data['rooms'].describe()"
      ],
      "execution_count": null,
      "outputs": [
        {
          "output_type": "execute_result",
          "data": {
            "text/plain": [
              "count    23613.000000\n",
              "mean         2.071147\n",
              "std          1.078380\n",
              "min          0.000000\n",
              "25%          1.000000\n",
              "50%          2.000000\n",
              "75%          3.000000\n",
              "max         19.000000\n",
              "Name: rooms, dtype: float64"
            ]
          },
          "metadata": {
            "tags": []
          },
          "execution_count": 54
        }
      ]
    },
    {
      "cell_type": "code",
      "metadata": {
        "scrolled": true,
        "id": "LI-29bXjlhta",
        "outputId": "4aaf1a78-6a5c-4a45-f21a-635deefb3dc5"
      },
      "source": [
        "data.boxplot('rooms')\n",
        "plt.title('Диаграмма размаха количества комнат')\n",
        "plt.ylabel('Количество комнат')\n",
        "plt.show()"
      ],
      "execution_count": null,
      "outputs": [
        {
          "output_type": "display_data",
          "data": {
            "image/png": "[encoded data removed]",
            "text/plain": [
              "<Figure size 432x288 with 1 Axes>"
            ]
          },
          "metadata": {
            "tags": [],
            "needs_background": "light"
          }
        }
      ]
    },
    {
      "cell_type": "markdown",
      "metadata": {
        "id": "Q3g19Ulflhtf"
      },
      "source": [
        "Отбросим выбросы и построим гистограму. "
      ]
    },
    {
      "cell_type": "code",
      "metadata": {
        "scrolled": true,
        "id": "1gD_XOWVlhtg",
        "outputId": "10f4675e-8336-49a5-f28a-bb12f59b4025"
      },
      "source": [
        "data.query('rooms > 0 and rooms < 7 ').hist('rooms',bins=30)\n",
        "plt.xlabel('Количество комнат')\n",
        "plt.ylabel('Количество квартир')\n",
        "plt.title('Гистограмма количества комнат в квартире')\n",
        "plt.show()"
      ],
      "execution_count": null,
      "outputs": [
        {
          "output_type": "display_data",
          "data": {
            "image/png": "[encoded data removed]",
            "text/plain": [
              "<Figure size 432x288 with 1 Axes>"
            ]
          },
          "metadata": {
            "tags": [],
            "needs_background": "light"
          }
        }
      ]
    },
    {
      "cell_type": "markdown",
      "metadata": {
        "id": "qLO2OS73lhtk"
      },
      "source": [
        "Больше всего 1,2,3-комнатных квартир."
      ]
    },
    {
      "cell_type": "markdown",
      "metadata": {
        "id": "aYqJqHo7lhtm"
      },
      "source": [
        "<a id='section4.4'></a>\n",
        "#### Изучение высоты потолков"
      ]
    },
    {
      "cell_type": "code",
      "metadata": {
        "scrolled": true,
        "id": "-XqzAPTslhtn",
        "outputId": "9299a5e3-5c84-4b83-cccb-7a496e08036a"
      },
      "source": [
        "data['ceiling_height'].describe()\n"
      ],
      "execution_count": null,
      "outputs": [
        {
          "output_type": "execute_result",
          "data": {
            "text/plain": [
              "count    23613.000000\n",
              "mean         2.724581\n",
              "std          0.990085\n",
              "min          1.000000\n",
              "25%          2.600000\n",
              "50%          2.650000\n",
              "75%          2.700000\n",
              "max        100.000000\n",
              "Name: ceiling_height, dtype: float64"
            ]
          },
          "metadata": {
            "tags": []
          },
          "execution_count": 57
        }
      ]
    },
    {
      "cell_type": "code",
      "metadata": {
        "id": "0Ss9Snsclhts",
        "outputId": "185f4501-e189-499b-8552-2720d97485cc"
      },
      "source": [
        "data.boxplot('ceiling_height')\n",
        "plt.ylim(2 , 3.5)\n",
        "plt.title('Диаграмма размаха высоты потолков')\n",
        "plt.ylabel('Высота потолков, м.')\n",
        "plt.show()"
      ],
      "execution_count": null,
      "outputs": [
        {
          "output_type": "display_data",
          "data": {
            "image/png": "[encoded data removed]",
            "text/plain": [
              "<Figure size 432x288 with 1 Axes>"
            ]
          },
          "metadata": {
            "tags": [],
            "needs_background": "light"
          }
        }
      ]
    },
    {
      "cell_type": "markdown",
      "metadata": {
        "id": "UO765BOPlhtx"
      },
      "source": [
        "Посмотрим сколько процентов данных мы потеряем, если отбросим все выбросы > 3.2 и < 2.2"
      ]
    },
    {
      "cell_type": "code",
      "metadata": {
        "id": "biOXIrnAlhty",
        "outputId": "412d2582-a13d-4e43-834b-085352bdd554"
      },
      "source": [
        "len(data.query('ceiling_height > 3.2 or ceiling_height < 2.2 '))/ len(data['ceiling_height'])"
      ],
      "execution_count": null,
      "outputs": [
        {
          "output_type": "execute_result",
          "data": {
            "text/plain": [
              "0.03519247871934951"
            ]
          },
          "metadata": {
            "tags": []
          },
          "execution_count": 59
        }
      ]
    },
    {
      "cell_type": "markdown",
      "metadata": {
        "id": "68Ix5rorlht8"
      },
      "source": [
        "3%. Можем отбросить их."
      ]
    },
    {
      "cell_type": "code",
      "metadata": {
        "scrolled": true,
        "id": "vOJyr8AAlht9",
        "outputId": "3478fb0a-85de-45fb-96cb-7e042ae3f1eb"
      },
      "source": [
        "data.query('ceiling_height > 2.2 and ceiling_height < 3.2').hist('ceiling_height',bins=30, range=(2.5,3))\n",
        "plt.xlabel('Высота потолков, м.')\n",
        "plt.ylabel('Количество квартир')\n",
        "plt.title('Гистограмма количества высоты потолков в квартире')\n",
        "plt.show()"
      ],
      "execution_count": null,
      "outputs": [
        {
          "output_type": "display_data",
          "data": {
            "image/png": "[encoded data removed]",
            "text/plain": [
              "<Figure size 432x288 with 1 Axes>"
            ]
          },
          "metadata": {
            "tags": [],
            "needs_background": "light"
          }
        }
      ]
    },
    {
      "cell_type": "markdown",
      "metadata": {
        "id": "U41jBc--lhuC"
      },
      "source": [
        "Большая часть значений высоты потолков = 2,5м."
      ]
    },
    {
      "cell_type": "markdown",
      "metadata": {
        "id": "Te_bZv4_lhuE"
      },
      "source": [
        "### Вывод по блоку"
      ]
    },
    {
      "cell_type": "markdown",
      "metadata": {
        "id": "ZzeEunuRlhuG"
      },
      "source": [
        "* Средняя площадь квартиры равна **60 кв.м.**\n",
        "* Средняя цена квартиры равна **4,8 млн.руб.**\n",
        "* Наиболее популярны 1 и 2 комнатные квартиры\n",
        "* Средняя высота потолков составляет **2,5 м**\n"
      ]
    },
    {
      "cell_type": "markdown",
      "metadata": {
        "id": "luCFGOS4lhub"
      },
      "source": [
        "<a id='section5'></a>\n",
        "## Задачи"
      ]
    },
    {
      "cell_type": "markdown",
      "metadata": {
        "id": "jyp4C5e0lhud"
      },
      "source": [
        "<a id='section5.1'></a>\n",
        "**Изучите время продажи квартиры. Постройте гистограмму. Посчитайте среднее и медиану. Опишите, сколько обычно занимает продажа. Когда можно считать, что продажи прошли очень быстро, а когда необычно долго?**"
      ]
    },
    {
      "cell_type": "code",
      "metadata": {
        "scrolled": false,
        "id": "pNqQmVXIlhuf",
        "outputId": "86e58c78-6e7d-4a0d-a9f3-fd2ecf51fc25"
      },
      "source": [
        "data.boxplot(column = 'days_exposition', figsize = (5,5))\n",
        "plt.title('Диаграмма размаха времени публикации')\n",
        "plt.ylabel('Количество дней')\n",
        "plt.show()"
      ],
      "execution_count": null,
      "outputs": [
        {
          "output_type": "display_data",
          "data": {
            "image/png": "[encoded data removed]",
            "text/plain": [
              "<Figure size 360x360 with 1 Axes>"
            ]
          },
          "metadata": {
            "tags": [],
            "needs_background": "light"
          }
        }
      ]
    },
    {
      "cell_type": "markdown",
      "metadata": {
        "id": "KfOmb8Z7lhur"
      },
      "source": [
        "Посмотрим на график срока продажи квартир, отбросив выбросы."
      ]
    },
    {
      "cell_type": "code",
      "metadata": {
        "id": "XNrk9dWrlhut",
        "outputId": "0fc27ab9-9b0d-4ccd-d19f-74d2e7e507b2"
      },
      "source": [
        "(data.query('days_exposition < 470 and days_exposition > 0 ')\n",
        "    .pivot_table(index='days_exposition', values='first_day_exposition', aggfunc='count')\n",
        "    .plot(grid=True, figsize=(14, 7), legend=False, alpha=0.5, title='Срок продажи квартиры'))\n",
        "plt.xlabel('Количество дней')\n",
        "plt.ylabel('Количество квартир')\n",
        "plt.show()"
      ],
      "execution_count": null,
      "outputs": [
        {
          "output_type": "display_data",
          "data": {
            "image/png": "[encoded data removed]",
            "text/plain": [
              "<Figure size 1008x504 with 1 Axes>"
            ]
          },
          "metadata": {
            "tags": [],
            "needs_background": "light"
          }
        }
      ]
    },
    {
      "cell_type": "code",
      "metadata": {
        "scrolled": false,
        "id": "DOWLlidalhu4",
        "outputId": "dc10ddbd-9657-451d-cc04-288aa6548387"
      },
      "source": [
        "data.query('days_exposition > 0').hist('days_exposition', bins=50, range=(0,550), figsize = (10,7))\n",
        "plt.xlabel('Количество дней')\n",
        "plt.ylabel('Количество квартир')\n",
        "plt.title('Гистограмма срока продажи квартир')\n",
        "plt.show()"
      ],
      "execution_count": null,
      "outputs": [
        {
          "output_type": "display_data",
          "data": {
            "image/png": "[encoded data removed]",
            "text/plain": [
              "<Figure size 720x504 with 1 Axes>"
            ]
          },
          "metadata": {
            "tags": [],
            "needs_background": "light"
          }
        }
      ]
    },
    {
      "cell_type": "code",
      "metadata": {
        "id": "1dVpz0_ZlhvB",
        "outputId": "5612af9a-9e79-4cc3-aec3-acfb443c4da7"
      },
      "source": [
        "print('Медиана времени продажи квартиры:' , data.loc[data['days_exposition'] > 0]['days_exposition'].median())"
      ],
      "execution_count": null,
      "outputs": [
        {
          "output_type": "stream",
          "text": [
            "Медиана времени продажи квартиры: 95.0\n"
          ],
          "name": "stdout"
        }
      ]
    },
    {
      "cell_type": "code",
      "metadata": {
        "id": "PZmC17DMlhvH",
        "outputId": "64fe0776-3114-4420-d5a1-3592d4d42ea1"
      },
      "source": [
        "print('Среденее значение времени продажи квартиры:' , data.loc[data['days_exposition'] > 0]['days_exposition'].mean())"
      ],
      "execution_count": null,
      "outputs": [
        {
          "output_type": "stream",
          "text": [
            "Среденее значение времени продажи квартиры: 180.88483929357665\n"
          ],
          "name": "stdout"
        }
      ]
    },
    {
      "cell_type": "code",
      "metadata": {
        "id": "6I9D0nzllhvN",
        "outputId": "c7c1544b-563c-42cc-d38e-ad032ec2eefd"
      },
      "source": [
        "data.loc[data['days_exposition'] > 0]['days_exposition'].quantile(0.25)"
      ],
      "execution_count": null,
      "outputs": [
        {
          "output_type": "execute_result",
          "data": {
            "text/plain": [
              "45.00000000000001"
            ]
          },
          "metadata": {
            "tags": []
          },
          "execution_count": 66
        }
      ]
    },
    {
      "cell_type": "code",
      "metadata": {
        "id": "RpwLCh39lhvY",
        "outputId": "b2027a6d-5f41-4be9-9cee-8ae4dd6eaa2f"
      },
      "source": [
        "data.loc[data['days_exposition'] > 0]['days_exposition'].quantile(0.75)"
      ],
      "execution_count": null,
      "outputs": [
        {
          "output_type": "execute_result",
          "data": {
            "text/plain": [
              "232.0"
            ]
          },
          "metadata": {
            "tags": []
          },
          "execution_count": 67
        }
      ]
    },
    {
      "cell_type": "markdown",
      "metadata": {
        "id": "lgA05vgYlhvo"
      },
      "source": [
        "Медианное значение почти в два раза меньше среднего, что говорит о большом количестве выбросов. Значит будем ориентироваться на медиану.  \n",
        "Получается что в среднем продажа квартиры занимает 95 дней. Продажи квартир занявшие меньше 45 дней можно считать слишком быстрыми, а больше 232 дней слишком долгими."
      ]
    },
    {
      "cell_type": "code",
      "metadata": {
        "id": "Pt_FO0sRlhv4",
        "outputId": "0d5befb8-f953-4590-d76a-8013c75bc0b7"
      },
      "source": [
        "histbox(data[data['days_exposition'] > 0]['days_exposition'], bins=51, boxprops=dict(color='green'),\n",
        "        whiskerprops=dict(color='black'), range=(0, 550))"
      ],
      "execution_count": null,
      "outputs": [
        {
          "output_type": "display_data",
          "data": {
            "image/png": "[encoded data removed]",
            "text/plain": [
              "<Figure size 576x576 with 2 Axes>"
            ]
          },
          "metadata": {
            "tags": [],
            "needs_background": "light"
          }
        }
      ]
    },
    {
      "cell_type": "markdown",
      "metadata": {
        "id": "f3Q4YagylhwP"
      },
      "source": [
        "<hr style=\"border: 2px solid green;\" />"
      ]
    },
    {
      "cell_type": "markdown",
      "metadata": {
        "id": "C0hsno1klhwQ"
      },
      "source": [
        "<a id='section5.2'></a>\n",
        "**Уберите редкие и выбивающиеся значения. Опишите, какие особенности обнаружили.**"
      ]
    },
    {
      "cell_type": "markdown",
      "metadata": {
        "id": "xBkFUfMjlhwR"
      },
      "source": [
        "После проведенного выше анализа создадим новый датафрейм без выбросов и посмотрим его процентное отношение к изначальному датафрейму, чтобы убедиться, что мы не потеряли слишком много данных."
      ]
    },
    {
      "cell_type": "code",
      "metadata": {
        "id": "HX3eeDSNlhwS"
      },
      "source": [
        "good_data = data[(data['living_area'] < 120) &\n",
        "                 (data['ceiling_height'] > 2.2) & \n",
        "                 (data['ceiling_height'] < 3.2) & \n",
        "                 (data['rooms'] < 7) &\n",
        "                 (data['last_price'] < 12000000)].reset_index(drop = True)"
      ],
      "execution_count": null,
      "outputs": []
    },
    {
      "cell_type": "code",
      "metadata": {
        "scrolled": true,
        "id": "q8DVvkfylhwe",
        "outputId": "fe508794-87be-41a7-ad0e-2d9943c2398e"
      },
      "source": [
        "len(good_data)/len(data)"
      ],
      "execution_count": null,
      "outputs": [
        {
          "output_type": "execute_result",
          "data": {
            "text/plain": [
              "0.8874772371151485"
            ]
          },
          "metadata": {
            "tags": []
          },
          "execution_count": 71
        }
      ]
    },
    {
      "cell_type": "markdown",
      "metadata": {
        "id": "iYnQg4nHlhwm"
      },
      "source": [
        "После удаления выбросов у нас осталось 89% процентов от изначального датафрейма. Окей."
      ]
    },
    {
      "cell_type": "markdown",
      "metadata": {
        "id": "UkNSvwyklhwo"
      },
      "source": [
        "<a id='section5.3'></a>\n",
        "**Какие факторы больше всего влияют на стоимость квартиры? Изучите, зависит ли цена от площади, числа комнат, удалённости от центра. Изучите зависимость цены от того, на каком этаже расположена квартира: первом, последнем или другом. Также изучите зависимость от даты размещения: дня недели, месяца и года.**"
      ]
    },
    {
      "cell_type": "code",
      "metadata": {
        "id": "sIQxGKEglhwp",
        "outputId": "4d8bad52-d3cf-4524-95c1-fc1c4a87e7b6"
      },
      "source": [
        "good_data.head()"
      ],
      "execution_count": null,
      "outputs": [
        {
          "output_type": "execute_result",
          "data": {
            "text/html": [
              "<div>\n",
              "<style scoped>\n",
              "    .dataframe tbody tr th:only-of-type {\n",
              "        vertical-align: middle;\n",
              "    }\n",
              "\n",
              "    .dataframe tbody tr th {\n",
              "        vertical-align: top;\n",
              "    }\n",
              "\n",
              "    .dataframe thead th {\n",
              "        text-align: right;\n",
              "    }\n",
              "</style>\n",
              "<table border=\"1\" class=\"dataframe\">\n",
              "  <thead>\n",
              "    <tr style=\"text-align: right;\">\n",
              "      <th></th>\n",
              "      <th>locality_name</th>\n",
              "      <th>total_area</th>\n",
              "      <th>living_area</th>\n",
              "      <th>kitchen_area</th>\n",
              "      <th>ceiling_height</th>\n",
              "      <th>rooms</th>\n",
              "      <th>balcony</th>\n",
              "      <th>floor</th>\n",
              "      <th>floors_total</th>\n",
              "      <th>is_apartment</th>\n",
              "      <th>studio</th>\n",
              "      <th>open_plan</th>\n",
              "      <th>total_images</th>\n",
              "      <th>last_price</th>\n",
              "      <th>first_day_exposition</th>\n",
              "      <th>days_exposition</th>\n",
              "      <th>cityCenters_nearest</th>\n",
              "      <th>airports_nearest</th>\n",
              "      <th>parks_around3000</th>\n",
              "      <th>parks_nearest</th>\n",
              "      <th>ponds_around3000</th>\n",
              "      <th>ponds_nearest</th>\n",
              "      <th>price_meter</th>\n",
              "      <th>weekday_exposition</th>\n",
              "      <th>month_exposition</th>\n",
              "      <th>year_exposition</th>\n",
              "      <th>floor_group</th>\n",
              "      <th>ratio_living_total_area</th>\n",
              "      <th>ratio_kitchen_total_area</th>\n",
              "    </tr>\n",
              "  </thead>\n",
              "  <tbody>\n",
              "    <tr>\n",
              "      <td>0</td>\n",
              "      <td>посёлок Шушары</td>\n",
              "      <td>40.4</td>\n",
              "      <td>18.6</td>\n",
              "      <td>11.0</td>\n",
              "      <td>2.65</td>\n",
              "      <td>1</td>\n",
              "      <td>2</td>\n",
              "      <td>1</td>\n",
              "      <td>11.0</td>\n",
              "      <td>False</td>\n",
              "      <td>False</td>\n",
              "      <td>False</td>\n",
              "      <td>7</td>\n",
              "      <td>3350000.0</td>\n",
              "      <td>2018-12-04</td>\n",
              "      <td>81.0</td>\n",
              "      <td>18603.0</td>\n",
              "      <td>12817.0</td>\n",
              "      <td>0.0</td>\n",
              "      <td>NaN</td>\n",
              "      <td>0.0</td>\n",
              "      <td>NaN</td>\n",
              "      <td>82921.0</td>\n",
              "      <td>1</td>\n",
              "      <td>12</td>\n",
              "      <td>2018</td>\n",
              "      <td>первый</td>\n",
              "      <td>0.46</td>\n",
              "      <td>0.27</td>\n",
              "    </tr>\n",
              "    <tr>\n",
              "      <td>1</td>\n",
              "      <td>Санкт-Петербург</td>\n",
              "      <td>56.0</td>\n",
              "      <td>34.3</td>\n",
              "      <td>8.3</td>\n",
              "      <td>2.65</td>\n",
              "      <td>2</td>\n",
              "      <td>0</td>\n",
              "      <td>4</td>\n",
              "      <td>5.0</td>\n",
              "      <td>False</td>\n",
              "      <td>False</td>\n",
              "      <td>False</td>\n",
              "      <td>10</td>\n",
              "      <td>5196000.0</td>\n",
              "      <td>2015-08-20</td>\n",
              "      <td>558.0</td>\n",
              "      <td>13933.0</td>\n",
              "      <td>21741.0</td>\n",
              "      <td>1.0</td>\n",
              "      <td>90.0</td>\n",
              "      <td>2.0</td>\n",
              "      <td>574.0</td>\n",
              "      <td>92786.0</td>\n",
              "      <td>3</td>\n",
              "      <td>8</td>\n",
              "      <td>2015</td>\n",
              "      <td>другой</td>\n",
              "      <td>0.61</td>\n",
              "      <td>0.15</td>\n",
              "    </tr>\n",
              "    <tr>\n",
              "      <td>2</td>\n",
              "      <td>Санкт-Петербург</td>\n",
              "      <td>100.0</td>\n",
              "      <td>32.0</td>\n",
              "      <td>41.0</td>\n",
              "      <td>3.03</td>\n",
              "      <td>2</td>\n",
              "      <td>0</td>\n",
              "      <td>13</td>\n",
              "      <td>14.0</td>\n",
              "      <td>False</td>\n",
              "      <td>False</td>\n",
              "      <td>False</td>\n",
              "      <td>2</td>\n",
              "      <td>10000000.0</td>\n",
              "      <td>2018-06-19</td>\n",
              "      <td>121.0</td>\n",
              "      <td>8098.0</td>\n",
              "      <td>31856.0</td>\n",
              "      <td>2.0</td>\n",
              "      <td>112.0</td>\n",
              "      <td>1.0</td>\n",
              "      <td>48.0</td>\n",
              "      <td>100000.0</td>\n",
              "      <td>1</td>\n",
              "      <td>6</td>\n",
              "      <td>2018</td>\n",
              "      <td>другой</td>\n",
              "      <td>0.32</td>\n",
              "      <td>0.41</td>\n",
              "    </tr>\n",
              "    <tr>\n",
              "      <td>3</td>\n",
              "      <td>городской посёлок Янино-1</td>\n",
              "      <td>30.4</td>\n",
              "      <td>14.4</td>\n",
              "      <td>9.1</td>\n",
              "      <td>2.65</td>\n",
              "      <td>1</td>\n",
              "      <td>0</td>\n",
              "      <td>5</td>\n",
              "      <td>12.0</td>\n",
              "      <td>False</td>\n",
              "      <td>False</td>\n",
              "      <td>False</td>\n",
              "      <td>10</td>\n",
              "      <td>2890000.0</td>\n",
              "      <td>2018-09-10</td>\n",
              "      <td>55.0</td>\n",
              "      <td>NaN</td>\n",
              "      <td>NaN</td>\n",
              "      <td>NaN</td>\n",
              "      <td>NaN</td>\n",
              "      <td>NaN</td>\n",
              "      <td>NaN</td>\n",
              "      <td>95066.0</td>\n",
              "      <td>0</td>\n",
              "      <td>9</td>\n",
              "      <td>2018</td>\n",
              "      <td>другой</td>\n",
              "      <td>0.47</td>\n",
              "      <td>0.30</td>\n",
              "    </tr>\n",
              "    <tr>\n",
              "      <td>4</td>\n",
              "      <td>посёлок Парголово</td>\n",
              "      <td>37.3</td>\n",
              "      <td>10.6</td>\n",
              "      <td>14.4</td>\n",
              "      <td>2.65</td>\n",
              "      <td>1</td>\n",
              "      <td>1</td>\n",
              "      <td>6</td>\n",
              "      <td>26.0</td>\n",
              "      <td>False</td>\n",
              "      <td>False</td>\n",
              "      <td>False</td>\n",
              "      <td>6</td>\n",
              "      <td>3700000.0</td>\n",
              "      <td>2017-11-02</td>\n",
              "      <td>155.0</td>\n",
              "      <td>19143.0</td>\n",
              "      <td>52996.0</td>\n",
              "      <td>0.0</td>\n",
              "      <td>NaN</td>\n",
              "      <td>0.0</td>\n",
              "      <td>NaN</td>\n",
              "      <td>99196.0</td>\n",
              "      <td>3</td>\n",
              "      <td>11</td>\n",
              "      <td>2017</td>\n",
              "      <td>другой</td>\n",
              "      <td>0.28</td>\n",
              "      <td>0.39</td>\n",
              "    </tr>\n",
              "  </tbody>\n",
              "</table>\n",
              "</div>"
            ],
            "text/plain": [
              "               locality_name  total_area  living_area  kitchen_area  \\\n",
              "0             посёлок Шушары        40.4         18.6          11.0   \n",
              "1            Санкт-Петербург        56.0         34.3           8.3   \n",
              "2            Санкт-Петербург       100.0         32.0          41.0   \n",
              "3  городской посёлок Янино-1        30.4         14.4           9.1   \n",
              "4          посёлок Парголово        37.3         10.6          14.4   \n",
              "\n",
              "   ceiling_height  rooms  balcony  floor  floors_total  is_apartment  studio  \\\n",
              "0            2.65      1        2      1          11.0         False   False   \n",
              "1            2.65      2        0      4           5.0         False   False   \n",
              "2            3.03      2        0     13          14.0         False   False   \n",
              "3            2.65      1        0      5          12.0         False   False   \n",
              "4            2.65      1        1      6          26.0         False   False   \n",
              "\n",
              "   open_plan  total_images  last_price first_day_exposition  days_exposition  \\\n",
              "0      False             7   3350000.0           2018-12-04             81.0   \n",
              "1      False            10   5196000.0           2015-08-20            558.0   \n",
              "2      False             2  10000000.0           2018-06-19            121.0   \n",
              "3      False            10   2890000.0           2018-09-10             55.0   \n",
              "4      False             6   3700000.0           2017-11-02            155.0   \n",
              "\n",
              "   cityCenters_nearest  airports_nearest  parks_around3000  parks_nearest  \\\n",
              "0              18603.0           12817.0               0.0            NaN   \n",
              "1              13933.0           21741.0               1.0           90.0   \n",
              "2               8098.0           31856.0               2.0          112.0   \n",
              "3                  NaN               NaN               NaN            NaN   \n",
              "4              19143.0           52996.0               0.0            NaN   \n",
              "\n",
              "   ponds_around3000  ponds_nearest  price_meter  weekday_exposition  \\\n",
              "0               0.0            NaN      82921.0                   1   \n",
              "1               2.0          574.0      92786.0                   3   \n",
              "2               1.0           48.0     100000.0                   1   \n",
              "3               NaN            NaN      95066.0                   0   \n",
              "4               0.0            NaN      99196.0                   3   \n",
              "\n",
              "   month_exposition  year_exposition floor_group  ratio_living_total_area  \\\n",
              "0                12             2018      первый                     0.46   \n",
              "1                 8             2015      другой                     0.61   \n",
              "2                 6             2018      другой                     0.32   \n",
              "3                 9             2018      другой                     0.47   \n",
              "4                11             2017      другой                     0.28   \n",
              "\n",
              "   ratio_kitchen_total_area  \n",
              "0                      0.27  \n",
              "1                      0.15  \n",
              "2                      0.41  \n",
              "3                      0.30  \n",
              "4                      0.39  "
            ]
          },
          "metadata": {
            "tags": []
          },
          "execution_count": 72
        }
      ]
    },
    {
      "cell_type": "markdown",
      "metadata": {
        "id": "LYlvQX2Ilhwy"
      },
      "source": [
        "#### Изучим, как зависит  цена от площади, числа комнат, удалённости от центра"
      ]
    },
    {
      "cell_type": "markdown",
      "metadata": {
        "id": "tuRaD-UKlhwz"
      },
      "source": [
        "Построим матрицу рассеяния и изучим кореляцию данных, чтобы посомтреть на их зависимость."
      ]
    },
    {
      "cell_type": "code",
      "metadata": {
        "id": "1q-6m0_mlhw0",
        "outputId": "33a35b9f-e83e-4c5e-c9ff-ec9c3e54ab28"
      },
      "source": [
        "pd.plotting.scatter_matrix(good_data[['last_price',\n",
        "           'total_area',\n",
        "           'days_exposition',\n",
        "           'cityCenters_nearest',\n",
        "           'rooms']], figsize=(12, 12))\n",
        "plt.show()"
      ],
      "execution_count": null,
      "outputs": [
        {
          "output_type": "display_data",
          "data": {
            "image/png": "[encoded data removed]",
            "text/plain": [
              "<Figure size 864x864 with 25 Axes>"
            ]
          },
          "metadata": {
            "tags": [],
            "needs_background": "light"
          }
        }
      ]
    },
    {
      "cell_type": "code",
      "metadata": {
        "scrolled": false,
        "id": "w1tgsZhulhw4",
        "outputId": "33e049fa-e792-4c41-a473-1a6613df34a7"
      },
      "source": [
        "corr = good_data[['last_price',\n",
        "           'total_area',\n",
        "           'days_exposition',\n",
        "           'cityCenters_nearest',\n",
        "           'rooms']].corr()\n",
        "corr.round(2)"
      ],
      "execution_count": null,
      "outputs": [
        {
          "output_type": "execute_result",
          "data": {
            "text/html": [
              "<div>\n",
              "<style scoped>\n",
              "    .dataframe tbody tr th:only-of-type {\n",
              "        vertical-align: middle;\n",
              "    }\n",
              "\n",
              "    .dataframe tbody tr th {\n",
              "        vertical-align: top;\n",
              "    }\n",
              "\n",
              "    .dataframe thead th {\n",
              "        text-align: right;\n",
              "    }\n",
              "</style>\n",
              "<table border=\"1\" class=\"dataframe\">\n",
              "  <thead>\n",
              "    <tr style=\"text-align: right;\">\n",
              "      <th></th>\n",
              "      <th>last_price</th>\n",
              "      <th>total_area</th>\n",
              "      <th>days_exposition</th>\n",
              "      <th>cityCenters_nearest</th>\n",
              "      <th>rooms</th>\n",
              "    </tr>\n",
              "  </thead>\n",
              "  <tbody>\n",
              "    <tr>\n",
              "      <td>last_price</td>\n",
              "      <td>1.00</td>\n",
              "      <td>0.69</td>\n",
              "      <td>0.04</td>\n",
              "      <td>-0.32</td>\n",
              "      <td>0.44</td>\n",
              "    </tr>\n",
              "    <tr>\n",
              "      <td>total_area</td>\n",
              "      <td>0.69</td>\n",
              "      <td>1.00</td>\n",
              "      <td>0.08</td>\n",
              "      <td>-0.10</td>\n",
              "      <td>0.80</td>\n",
              "    </tr>\n",
              "    <tr>\n",
              "      <td>days_exposition</td>\n",
              "      <td>0.04</td>\n",
              "      <td>0.08</td>\n",
              "      <td>1.00</td>\n",
              "      <td>-0.02</td>\n",
              "      <td>0.05</td>\n",
              "    </tr>\n",
              "    <tr>\n",
              "      <td>cityCenters_nearest</td>\n",
              "      <td>-0.32</td>\n",
              "      <td>-0.10</td>\n",
              "      <td>-0.02</td>\n",
              "      <td>1.00</td>\n",
              "      <td>-0.06</td>\n",
              "    </tr>\n",
              "    <tr>\n",
              "      <td>rooms</td>\n",
              "      <td>0.44</td>\n",
              "      <td>0.80</td>\n",
              "      <td>0.05</td>\n",
              "      <td>-0.06</td>\n",
              "      <td>1.00</td>\n",
              "    </tr>\n",
              "  </tbody>\n",
              "</table>\n",
              "</div>"
            ],
            "text/plain": [
              "                     last_price  total_area  days_exposition  \\\n",
              "last_price                 1.00        0.69             0.04   \n",
              "total_area                 0.69        1.00             0.08   \n",
              "days_exposition            0.04        0.08             1.00   \n",
              "cityCenters_nearest       -0.32       -0.10            -0.02   \n",
              "rooms                      0.44        0.80             0.05   \n",
              "\n",
              "                     cityCenters_nearest  rooms  \n",
              "last_price                         -0.32   0.44  \n",
              "total_area                         -0.10   0.80  \n",
              "days_exposition                    -0.02   0.05  \n",
              "cityCenters_nearest                 1.00  -0.06  \n",
              "rooms                              -0.06   1.00  "
            ]
          },
          "metadata": {
            "tags": []
          },
          "execution_count": 74
        }
      ]
    },
    {
      "cell_type": "markdown",
      "metadata": {
        "id": "-3jyrTjblhw9"
      },
      "source": [
        "Судя по получившимся данным, больше всего на цену влияет общая площадь квартиры. А от площади зависит и количество комнат. Это логично:) Значит все правльно."
      ]
    },
    {
      "cell_type": "markdown",
      "metadata": {
        "id": "ggDwoR08lhw_"
      },
      "source": [
        "<div class=\"alert alert-info\" style=\"border:solid blue 2px; padding: 20px\"> <b>Комментарий студента: после того, как я оставила пропуски в столбце расстояние до центра нетронутыми, корреляция расстояния и цены уменьшилась. Следовательно, чем дальше квартира от центра, тем дешевле.</b> </div>"
      ]
    },
    {
      "cell_type": "markdown",
      "metadata": {
        "id": "TDuWpezIlhxA"
      },
      "source": [
        "#### Изучим зависимость цены от того, на каком этаже расположена квартира: первом, последнем или другом"
      ]
    },
    {
      "cell_type": "markdown",
      "metadata": {
        "id": "hr7nOmMslhxB"
      },
      "source": [
        "Построим сводную таблицу где будет указан тип этажа и средняя стоймость квартиры на данном типе этажа."
      ]
    },
    {
      "cell_type": "code",
      "metadata": {
        "id": "FJPy3e27lhxB",
        "outputId": "bcde5441-7368-4923-a0e2-c022180b0d59"
      },
      "source": [
        " good_data.pivot_table(index = 'floor_group', values = 'last_price', aggfunc= 'mean')"
      ],
      "execution_count": null,
      "outputs": [
        {
          "output_type": "execute_result",
          "data": {
            "text/html": [
              "<div>\n",
              "<style scoped>\n",
              "    .dataframe tbody tr th:only-of-type {\n",
              "        vertical-align: middle;\n",
              "    }\n",
              "\n",
              "    .dataframe tbody tr th {\n",
              "        vertical-align: top;\n",
              "    }\n",
              "\n",
              "    .dataframe thead th {\n",
              "        text-align: right;\n",
              "    }\n",
              "</style>\n",
              "<table border=\"1\" class=\"dataframe\">\n",
              "  <thead>\n",
              "    <tr style=\"text-align: right;\">\n",
              "      <th></th>\n",
              "      <th>last_price</th>\n",
              "    </tr>\n",
              "    <tr>\n",
              "      <th>floor_group</th>\n",
              "      <th></th>\n",
              "    </tr>\n",
              "  </thead>\n",
              "  <tbody>\n",
              "    <tr>\n",
              "      <td>другой</td>\n",
              "      <td>4.978714e+06</td>\n",
              "    </tr>\n",
              "    <tr>\n",
              "      <td>первый</td>\n",
              "      <td>4.069590e+06</td>\n",
              "    </tr>\n",
              "    <tr>\n",
              "      <td>последний</td>\n",
              "      <td>4.379100e+06</td>\n",
              "    </tr>\n",
              "  </tbody>\n",
              "</table>\n",
              "</div>"
            ],
            "text/plain": [
              "               last_price\n",
              "floor_group              \n",
              "другой       4.978714e+06\n",
              "первый       4.069590e+06\n",
              "последний    4.379100e+06"
            ]
          },
          "metadata": {
            "tags": []
          },
          "execution_count": 75
        }
      ]
    },
    {
      "cell_type": "code",
      "metadata": {
        "scrolled": true,
        "id": "IfJk3-a1lhxH",
        "outputId": "29703af7-8ff1-423c-883e-7f8925f51dbd"
      },
      "source": [
        "(\n",
        "    good_data\n",
        "    .pivot_table(index = 'floor_group', values = 'last_price', aggfunc= 'mean')\n",
        "    .sort_values(by='last_price', ascending=True)\n",
        "    .plot(y='last_price', kind='barh', title='Зависимость Типа Этажа и Средней цены', figsize=(14, 5), legend=False, alpha=0.7, grid=True, ylim=(3800000, 5000000))\n",
        ")\n",
        "plt.xlabel('Средняя цена')\n",
        "plt.ylabel('Тип этажа')\n",
        "plt.show()"
      ],
      "execution_count": null,
      "outputs": [
        {
          "output_type": "display_data",
          "data": {
            "image/png": "[encoded data removed]",
            "text/plain": [
              "<Figure size 1008x360 with 1 Axes>"
            ]
          },
          "metadata": {
            "tags": [],
            "needs_background": "light"
          }
        }
      ]
    },
    {
      "cell_type": "code",
      "metadata": {
        "id": "S1ra3zZNlhxX",
        "outputId": "81c03643-7359-4cf3-b95c-d18e1c8a7fd2"
      },
      "source": [
        "make_box_by_category(value='last_price', category='floor_group', data=good_data, \n",
        "                    sort=False, sort_by='last_price', stat='median', title='Зависимость цены от категории этажа')"
      ],
      "execution_count": null,
      "outputs": [
        {
          "output_type": "display_data",
          "data": {
            "image/png": "[encoded data removed]",
            "text/plain": [
              "<Figure size 648x432 with 1 Axes>"
            ]
          },
          "metadata": {
            "tags": [],
            "needs_background": "light"
          }
        }
      ]
    },
    {
      "cell_type": "markdown",
      "metadata": {
        "id": "MlGiQhRelhxh"
      },
      "source": [
        "<hr style=\"border: 2px solid orange;\" />"
      ]
    },
    {
      "cell_type": "markdown",
      "metadata": {
        "id": "7hlVPrxXlhxj"
      },
      "source": [
        "Стоймость квартир на первом этаже самая низкая (мало кто любит жить на первом). Стоймость квартир с типом этажа 'другой' самая высокая. Разница в средней стоимости между первым и 'другим' этажом составляет почти 1 млн. рублей, что довольно много. Проанализировав полученный график, можно сделать вывод о том, что цена квартиры напрямую зависит от типа этажа на котором она расположена."
      ]
    },
    {
      "cell_type": "markdown",
      "metadata": {
        "id": "kqHiOr1clhxj"
      },
      "source": [
        "#### Изучим зависимость от даты размещения: дня недели, месяца и года"
      ]
    },
    {
      "cell_type": "code",
      "metadata": {
        "id": "og4ZbWw5lhxm",
        "outputId": "b2e229fe-916a-4bce-a2f5-6222c2ef676e"
      },
      "source": [
        "# Рисуем график зависимости 'Дня публикации и Средней цены'\n",
        "(\n",
        "    good_data\n",
        "    .pivot_table(index = 'weekday_exposition', values = 'last_price', aggfunc= 'mean')\n",
        "    .plot(y='last_price', kind='bar', title='Зависимость дня публикации и средней цены', color='blue', figsize=(14, 6), legend=False, alpha=0.5, grid=True)\n",
        ")\n",
        "plt.gca().set_xticklabels(['Mon', 'Tues', 'Wed', 'Thurs', 'Fri', 'Sat', 'Sun'])\n",
        "plt.xlabel('День публикации')\n",
        "plt.ylabel('Средняя цена')\n",
        "plt.show()"
      ],
      "execution_count": null,
      "outputs": [
        {
          "output_type": "display_data",
          "data": {
            "image/png": "[encoded data removed]",
            "text/plain": [
              "<Figure size 1008x432 with 1 Axes>"
            ]
          },
          "metadata": {
            "tags": [],
            "needs_background": "light"
          }
        }
      ]
    },
    {
      "cell_type": "code",
      "metadata": {
        "id": "rJI1tNvxlhxy",
        "outputId": "43e79430-a638-40a8-fef3-85bbe869aa6d"
      },
      "source": [
        "# Рисем график зависимости 'Месяца публикации и Средней цены'\n",
        "(\n",
        "    good_data\n",
        "    .pivot_table(index = 'month_exposition', values = 'last_price', aggfunc= 'mean')\n",
        "    .sort_values(by='month_exposition', ascending=False)\n",
        "    .plot(y='last_price', kind='bar',  title='Зависимость месяца публикации и средней цены', color='pink', figsize=(14, 6), legend=False, alpha=0.8, grid=True, ylim=(4300000, 5000000))\n",
        ")\n",
        "plt.gca().set_xticklabels(['Dec', 'Jan', 'Feb', 'Mar', 'Apr', 'May', 'June', 'July', 'Aug', 'Sept', 'Oct', 'Nov'])\n",
        "plt.xlabel('Месяц публикации')\n",
        "plt.ylabel('Средняя цена')\n",
        "plt.show()\n",
        " "
      ],
      "execution_count": null,
      "outputs": [
        {
          "output_type": "display_data",
          "data": {
            "image/png": "[encoded data removed]",
            "text/plain": [
              "<Figure size 1008x432 with 1 Axes>"
            ]
          },
          "metadata": {
            "tags": [],
            "needs_background": "light"
          }
        }
      ]
    },
    {
      "cell_type": "code",
      "metadata": {
        "id": "7tzC_8v3lhx3",
        "outputId": "c53c921a-a480-4f14-d5eb-4a0e60bbea89"
      },
      "source": [
        "   \n",
        "# Рисуем график зависимости 'Года публикации и Средней цены'\n",
        "(\n",
        "    good_data\n",
        "    .pivot_table(index = 'year_exposition', values = 'last_price', aggfunc= 'mean')\n",
        "    .sort_values(by='year_exposition', ascending=True)\n",
        "    .plot(y='last_price', kind='bar', title='Зависимость года публикации и средней цены', color='yellow', figsize=(14, 6), legend=False, alpha=0.5, grid=True, ylim=(4300000, 6000000))\n",
        ")\n",
        "plt.xlabel('Год публикации')\n",
        "plt.ylabel('Средняя цена')\n",
        "plt.show()"
      ],
      "execution_count": null,
      "outputs": [
        {
          "output_type": "display_data",
          "data": {
            "image/png": "[encoded data removed]",
            "text/plain": [
              "<Figure size 1008x432 with 1 Axes>"
            ]
          },
          "metadata": {
            "tags": [],
            "needs_background": "light"
          }
        }
      ]
    },
    {
      "cell_type": "markdown",
      "metadata": {
        "id": "_VzJVM6Flhx9"
      },
      "source": [
        "Изучив графики зависимости средней стоймости квартиры от дня, месяца и года публикации, можно сдлеать вывод, что:\n",
        "* Средняя цена квартиры не зависит от дня публикации\n",
        "* Самая высокая средняя цена у квартир опубликованнх в Апреле, а самая низкая в Июне (пока не могу сказать с чем это связано)\n",
        "* Самая высокая средняя цена за квартиру наблюдалась в 2014 году, она достигала почти 5,8млн.руб., скорее всего это связано с падением национальной валюты в этом году, что привело к низкому спросу на недвижмость и повышению цен на нее, при этом самая низкая цена была в 2016. "
      ]
    },
    {
      "cell_type": "markdown",
      "metadata": {
        "id": "8nr-WbeHlhyC"
      },
      "source": [
        "**Выберите 10 населённых пунктов с наибольшим числом объявлений. Посчитайте среднюю цену квадратного метра в этих населённых пунктах. Выделите среди них населённые пункты с самой высокой и низкой стоимостью жилья. Эти данные можно найти по имени в столбце 'locality_name'.**"
      ]
    },
    {
      "cell_type": "code",
      "metadata": {
        "id": "uH8ceuWBlhyD",
        "outputId": "79e817b1-93dc-4847-d53d-88a0ba2707d6"
      },
      "source": [
        "# Из очищенных данных cформируем топ 10 пунктов по количеству объявлений\n",
        "top_10_locality_name = (good_data\n",
        "                        .pivot_table(index='locality_name', values='last_price', aggfunc='count')\n",
        "                        .sort_values(by='last_price', ascending=False).head(10))\n",
        "top_10_locality_name"
      ],
      "execution_count": null,
      "outputs": [
        {
          "output_type": "execute_result",
          "data": {
            "text/html": [
              "<div>\n",
              "<style scoped>\n",
              "    .dataframe tbody tr th:only-of-type {\n",
              "        vertical-align: middle;\n",
              "    }\n",
              "\n",
              "    .dataframe tbody tr th {\n",
              "        vertical-align: top;\n",
              "    }\n",
              "\n",
              "    .dataframe thead th {\n",
              "        text-align: right;\n",
              "    }\n",
              "</style>\n",
              "<table border=\"1\" class=\"dataframe\">\n",
              "  <thead>\n",
              "    <tr style=\"text-align: right;\">\n",
              "      <th></th>\n",
              "      <th>last_price</th>\n",
              "    </tr>\n",
              "    <tr>\n",
              "      <th>locality_name</th>\n",
              "      <th></th>\n",
              "    </tr>\n",
              "  </thead>\n",
              "  <tbody>\n",
              "    <tr>\n",
              "      <td>Санкт-Петербург</td>\n",
              "      <td>13168</td>\n",
              "    </tr>\n",
              "    <tr>\n",
              "      <td>посёлок Мурино</td>\n",
              "      <td>518</td>\n",
              "    </tr>\n",
              "    <tr>\n",
              "      <td>посёлок Шушары</td>\n",
              "      <td>438</td>\n",
              "    </tr>\n",
              "    <tr>\n",
              "      <td>Всеволожск</td>\n",
              "      <td>393</td>\n",
              "    </tr>\n",
              "    <tr>\n",
              "      <td>Колпино</td>\n",
              "      <td>330</td>\n",
              "    </tr>\n",
              "    <tr>\n",
              "      <td>Пушкин</td>\n",
              "      <td>327</td>\n",
              "    </tr>\n",
              "    <tr>\n",
              "      <td>посёлок Парголово</td>\n",
              "      <td>326</td>\n",
              "    </tr>\n",
              "    <tr>\n",
              "      <td>Гатчина</td>\n",
              "      <td>301</td>\n",
              "    </tr>\n",
              "    <tr>\n",
              "      <td>деревня Кудрово</td>\n",
              "      <td>298</td>\n",
              "    </tr>\n",
              "    <tr>\n",
              "      <td>Выборг</td>\n",
              "      <td>222</td>\n",
              "    </tr>\n",
              "  </tbody>\n",
              "</table>\n",
              "</div>"
            ],
            "text/plain": [
              "                   last_price\n",
              "locality_name                \n",
              "Санкт-Петербург         13168\n",
              "посёлок Мурино            518\n",
              "посёлок Шушары            438\n",
              "Всеволожск                393\n",
              "Колпино                   330\n",
              "Пушкин                    327\n",
              "посёлок Парголово         326\n",
              "Гатчина                   301\n",
              "деревня Кудрово           298\n",
              "Выборг                    222"
            ]
          },
          "metadata": {
            "tags": []
          },
          "execution_count": 82
        }
      ]
    },
    {
      "cell_type": "code",
      "metadata": {
        "scrolled": false,
        "id": "YJgf_3TVlhyI",
        "outputId": "d78f3510-8ca0-4726-b6b9-592bd622dfa0"
      },
      "source": [
        "# Посчитайте среднюю цену квадратного метра в этих населённых пунктах\n",
        "\n",
        "(good_data.query('locality_name in @top_10_locality_name.index')\n",
        "    .pivot_table(index='locality_name', values='price_meter', aggfunc='mean')\n",
        "    .sort_values(by='price_meter', ascending=False).head(10).round())"
      ],
      "execution_count": null,
      "outputs": [
        {
          "output_type": "execute_result",
          "data": {
            "text/html": [
              "<div>\n",
              "<style scoped>\n",
              "    .dataframe tbody tr th:only-of-type {\n",
              "        vertical-align: middle;\n",
              "    }\n",
              "\n",
              "    .dataframe tbody tr th {\n",
              "        vertical-align: top;\n",
              "    }\n",
              "\n",
              "    .dataframe thead th {\n",
              "        text-align: right;\n",
              "    }\n",
              "</style>\n",
              "<table border=\"1\" class=\"dataframe\">\n",
              "  <thead>\n",
              "    <tr style=\"text-align: right;\">\n",
              "      <th></th>\n",
              "      <th>price_meter</th>\n",
              "    </tr>\n",
              "    <tr>\n",
              "      <th>locality_name</th>\n",
              "      <th></th>\n",
              "    </tr>\n",
              "  </thead>\n",
              "  <tbody>\n",
              "    <tr>\n",
              "      <td>Санкт-Петербург</td>\n",
              "      <td>105346.0</td>\n",
              "    </tr>\n",
              "    <tr>\n",
              "      <td>Пушкин</td>\n",
              "      <td>100298.0</td>\n",
              "    </tr>\n",
              "    <tr>\n",
              "      <td>деревня Кудрово</td>\n",
              "      <td>92410.0</td>\n",
              "    </tr>\n",
              "    <tr>\n",
              "      <td>посёлок Парголово</td>\n",
              "      <td>90332.0</td>\n",
              "    </tr>\n",
              "    <tr>\n",
              "      <td>посёлок Мурино</td>\n",
              "      <td>85646.0</td>\n",
              "    </tr>\n",
              "    <tr>\n",
              "      <td>посёлок Шушары</td>\n",
              "      <td>78529.0</td>\n",
              "    </tr>\n",
              "    <tr>\n",
              "      <td>Колпино</td>\n",
              "      <td>75270.0</td>\n",
              "    </tr>\n",
              "    <tr>\n",
              "      <td>Гатчина</td>\n",
              "      <td>68348.0</td>\n",
              "    </tr>\n",
              "    <tr>\n",
              "      <td>Всеволожск</td>\n",
              "      <td>67154.0</td>\n",
              "    </tr>\n",
              "    <tr>\n",
              "      <td>Выборг</td>\n",
              "      <td>57613.0</td>\n",
              "    </tr>\n",
              "  </tbody>\n",
              "</table>\n",
              "</div>"
            ],
            "text/plain": [
              "                   price_meter\n",
              "locality_name                 \n",
              "Санкт-Петербург       105346.0\n",
              "Пушкин                100298.0\n",
              "деревня Кудрово        92410.0\n",
              "посёлок Парголово      90332.0\n",
              "посёлок Мурино         85646.0\n",
              "посёлок Шушары         78529.0\n",
              "Колпино                75270.0\n",
              "Гатчина                68348.0\n",
              "Всеволожск             67154.0\n",
              "Выборг                 57613.0"
            ]
          },
          "metadata": {
            "tags": []
          },
          "execution_count": 83
        }
      ]
    },
    {
      "cell_type": "markdown",
      "metadata": {
        "id": "YvC6e2RDlhyM"
      },
      "source": [
        "Самая высокая цена 105 тыс. руб. за квадратный метр в Санкт-Петербурге, что не удивительно. Самая низкая цена из топ 10 населенных пунктов в Выборге, там цена за квадртаный метр в среднем составляет  58 тыс.руб."
      ]
    },
    {
      "cell_type": "markdown",
      "metadata": {
        "id": "ipVtPzJ_lhyN"
      },
      "source": [
        "**Изучите предложения квартир: для каждой квартиры есть информация о расстоянии до центра. Выделите квартиры в Санкт-Петербурге ('locality_name'). Ваша задача — выяснить, какая область входит в центр. Создайте столбец с расстоянием до центра в километрах: округлите до целых значений. После этого посчитайте среднюю цену для каждого километра. Постройте график: он должен показывать, как цена зависит от удалённости от центра. Определите границу, где график сильно меняется — это и будет центральная зона.**"
      ]
    },
    {
      "cell_type": "code",
      "metadata": {
        "id": "SHxuJ6HGlhyN"
      },
      "source": [
        "#Создам новый датафрейм, где сохраню все данные которые относятся к городу Санкт-Петербург\n",
        "#и расстояние до центра не равно условному маркеру 6666z (пропущенным значениям)\n",
        "\n",
        "spb_good_data = good_data.copy().query('cityCenters_nearest != 6666 and locality_name == \"Санкт-Петербург\"')"
      ],
      "execution_count": null,
      "outputs": []
    },
    {
      "cell_type": "code",
      "metadata": {
        "id": "tO86VmshlhyQ"
      },
      "source": [
        "#Cоздам новый столбец central_region в который занесу расстояние до центра в км и округлю его до целего числа\n",
        "\n",
        "spb_good_data['central_region'] = (spb_good_data['cityCenters_nearest'] / 1000).round()"
      ],
      "execution_count": null,
      "outputs": []
    },
    {
      "cell_type": "markdown",
      "metadata": {
        "id": "F1VhJJDMlhya"
      },
      "source": [
        "<hr style=\"border: 2px solid red;\" />"
      ]
    },
    {
      "cell_type": "code",
      "metadata": {
        "id": "JlhOeiDtlhyb",
        "outputId": "a7dfe0bb-0d19-48ee-e7f5-0624e138299b"
      },
      "source": [
        "#Создам новую переменную spb_good_data_price в которую занесу значения датафрейма spb_good_data,\n",
        "#сгруппированные по столбцу central_region и рассчитаю среднее значение стоимости квартиры\n",
        "#После чего использую метод .plot() для создания гистограммы, чтобы визуализировать полученные данные\n",
        "\n",
        "spb_good_data_price = spb_good_data.groupby('central_region', as_index = False).agg({'last_price' : 'mean'})\n",
        "spb_good_data_price.plot(x='central_region', y='last_price', legend=False, color='red', grid=True, figsize=(14, 6), title='Средняя стоимость каждого КМ')\n",
        "plt.ylabel('Средняя стоимость')\n",
        "plt.xlabel('Удалённость от центра')\n",
        "plt.show()"
      ],
      "execution_count": null,
      "outputs": [
        {
          "output_type": "display_data",
          "data": {
            "image/png": "[encoded data removed]",
            "text/plain": [
              "<Figure size 1008x432 with 1 Axes>"
            ]
          },
          "metadata": {
            "tags": [],
            "needs_background": "light"
          }
        }
      ]
    },
    {
      "cell_type": "markdown",
      "metadata": {
        "id": "Mw33F3ddlhye"
      },
      "source": [
        "Изучив график, можно сделать вывод, что в центральную зону входят все квартиры, расположенные в окружности с радиусом 8 км. Все что находится дальше этой границы уже не относится к центральной части города."
      ]
    },
    {
      "cell_type": "markdown",
      "metadata": {
        "id": "IWZDEm1Blhyg"
      },
      "source": [
        "**Выделите сегмент квартир в центре. Проанализируйте эту территорию и изучите следующие параметры: площадь, цена, число комнат, высота потолков. Также выделите факторы, которые влияют на стоимость квартиры (число комнат, этаж, удалённость от центра, дата размещения объявления). Сделайте выводы. Отличаются ли они от общих выводов по всему городу?**"
      ]
    },
    {
      "cell_type": "code",
      "metadata": {
        "id": "vaeq1LWalhyg"
      },
      "source": [
        "#Создам новый датафрейм, где сохраню данные о квартирах из центрального района\n",
        "\n",
        "spb_good_data_center = spb_good_data.query('central_region <= 8')"
      ],
      "execution_count": null,
      "outputs": []
    },
    {
      "cell_type": "code",
      "metadata": {
        "id": "mcrNzm6hlhyo",
        "outputId": "8f24d59b-f558-4f3a-a860-e2db75136b7d"
      },
      "source": [
        "spb_good_data_center['total_area'].describe()"
      ],
      "execution_count": null,
      "outputs": [
        {
          "output_type": "execute_result",
          "data": {
            "text/plain": [
              "count    2309.000000\n",
              "mean       63.680723\n",
              "std        23.179324\n",
              "min        12.000000\n",
              "25%        45.700000\n",
              "50%        60.700000\n",
              "75%        77.700000\n",
              "max       190.000000\n",
              "Name: total_area, dtype: float64"
            ]
          },
          "metadata": {
            "tags": []
          },
          "execution_count": 89
        }
      ]
    },
    {
      "cell_type": "code",
      "metadata": {
        "scrolled": false,
        "id": "zdktMzBtlhys",
        "outputId": "7e681720-667b-4a8f-e70f-dcdeee2c222c"
      },
      "source": [
        "spb_good_data.boxplot(column = 'total_area', figsize = (7,7))\n",
        "plt.ylabel('Количество квартир')\n",
        "plt.title('Диаграмма размаха общей площади квартир в центре')\n",
        "plt.show()"
      ],
      "execution_count": null,
      "outputs": [
        {
          "output_type": "display_data",
          "data": {
            "image/png": "[encoded data removed]",
            "text/plain": [
              "<Figure size 504x504 with 1 Axes>"
            ]
          },
          "metadata": {
            "tags": [],
            "needs_background": "light"
          }
        }
      ]
    },
    {
      "cell_type": "markdown",
      "metadata": {
        "id": "_fZXoQ9vlhy8"
      },
      "source": [
        "Медианное значение площади квартиры в центре Санкт-Петербурга составляет 60кв.м., что на 8кв.м. отличается от медианного значения по остальным данным."
      ]
    },
    {
      "cell_type": "code",
      "metadata": {
        "id": "0uBnaXrLlhy9",
        "outputId": "9c6380d1-4cc0-470a-bfa0-4ff947faa474"
      },
      "source": [
        "spb_good_data_center['last_price'].describe()"
      ],
      "execution_count": null,
      "outputs": [
        {
          "output_type": "execute_result",
          "data": {
            "text/plain": [
              "count    2.309000e+03\n",
              "mean     7.188472e+06\n",
              "std      2.266480e+06\n",
              "min      1.600000e+06\n",
              "25%      5.500000e+06\n",
              "50%      6.990000e+06\n",
              "75%      8.900000e+06\n",
              "max      1.199900e+07\n",
              "Name: last_price, dtype: float64"
            ]
          },
          "metadata": {
            "tags": []
          },
          "execution_count": 91
        }
      ]
    },
    {
      "cell_type": "code",
      "metadata": {
        "scrolled": false,
        "id": "Y_2ul84TlhzD",
        "outputId": "add5a685-3d37-4ffc-ec86-da8ba2242444"
      },
      "source": [
        "spb_good_data.boxplot(column = 'last_price', figsize = (7,7))\n",
        "plt.ylabel('Стоймость квартиры, млн.руб')\n",
        "plt.title('Диаграмма размаха стоймости квартир в центре')\n",
        "plt.show()"
      ],
      "execution_count": null,
      "outputs": [
        {
          "output_type": "display_data",
          "data": {
            "image/png": "[encoded data removed]",
            "text/plain": [
              "<Figure size 504x504 with 1 Axes>"
            ]
          },
          "metadata": {
            "tags": [],
            "needs_background": "light"
          }
        }
      ]
    },
    {
      "cell_type": "markdown",
      "metadata": {
        "id": "HcJ2eWE8lhzH"
      },
      "source": [
        "Медианное значение цены составляет 6,9 млн.руб., что так же очень сильно отличается от остальных данных. Там медианное значение цены стоставляло 4,6 млн.руб."
      ]
    },
    {
      "cell_type": "code",
      "metadata": {
        "id": "sOCKJxHPlhzI",
        "outputId": "91f585a6-e52b-4c0f-95c6-56512d591c45"
      },
      "source": [
        "spb_good_data_center['rooms'].describe()"
      ],
      "execution_count": null,
      "outputs": [
        {
          "output_type": "execute_result",
          "data": {
            "text/plain": [
              "count    2309.000000\n",
              "mean        2.226938\n",
              "std         0.998501\n",
              "min         0.000000\n",
              "25%         1.000000\n",
              "50%         2.000000\n",
              "75%         3.000000\n",
              "max         6.000000\n",
              "Name: rooms, dtype: float64"
            ]
          },
          "metadata": {
            "tags": []
          },
          "execution_count": 93
        }
      ]
    },
    {
      "cell_type": "code",
      "metadata": {
        "id": "b_Cf1WVqlhzO",
        "outputId": "fd49bac9-8817-4eb3-8cd1-c3fc8e25d2fb"
      },
      "source": [
        "spb_good_data_center.pivot_table(index='rooms', values='total_area', aggfunc='count').plot(y='total_area', kind='bar', figsize=(7, 5), title='Количество комнат в центре Санкт-Петербурга')\n",
        "plt.ylabel('Количество квартир')\n",
        "plt.xlabel('Количество комнат')\n",
        "plt.show()"
      ],
      "execution_count": null,
      "outputs": [
        {
          "output_type": "display_data",
          "data": {
            "image/png": "[encoded data removed]",
            "text/plain": [
              "<Figure size 504x360 with 1 Axes>"
            ]
          },
          "metadata": {
            "tags": [],
            "needs_background": "light"
          }
        }
      ]
    },
    {
      "cell_type": "markdown",
      "metadata": {
        "id": "wR-B5-zflhzS"
      },
      "source": [
        "Наиболее популнярными в центре Санкт-Петербурга являются 2 и 3 комнатные квартиры, в то время как в остальных городах 1 и 2 комнатне квартиры."
      ]
    },
    {
      "cell_type": "code",
      "metadata": {
        "id": "OkFn2G9slhzS",
        "outputId": "d3649fdf-f558-4a3c-83dc-7f0a9e0a6ff1"
      },
      "source": [
        "spb_good_data_center['ceiling_height'].describe()"
      ],
      "execution_count": null,
      "outputs": [
        {
          "output_type": "execute_result",
          "data": {
            "text/plain": [
              "count    2309.000000\n",
              "mean        2.752889\n",
              "std         0.176132\n",
              "min         2.400000\n",
              "25%         2.650000\n",
              "50%         2.650000\n",
              "75%         2.900000\n",
              "max         3.180000\n",
              "Name: ceiling_height, dtype: float64"
            ]
          },
          "metadata": {
            "tags": []
          },
          "execution_count": 95
        }
      ]
    },
    {
      "cell_type": "code",
      "metadata": {
        "scrolled": false,
        "id": "vBXPSCrIlhzW",
        "outputId": "3beb3895-ec9f-4128-d393-6a0a76a699e1"
      },
      "source": [
        "spb_good_data.boxplot(column = 'ceiling_height', figsize = (7,7))\n",
        "plt.ylabel('Высота потолков, м.')\n",
        "plt.title('Диаграмма размаха высоты потолков в центре')\n",
        "plt.show()"
      ],
      "execution_count": null,
      "outputs": [
        {
          "output_type": "display_data",
          "data": {
            "image/png": "[encoded data removed]",
            "text/plain": [
              "<Figure size 504x504 with 1 Axes>"
            ]
          },
          "metadata": {
            "tags": [],
            "needs_background": "light"
          }
        }
      ]
    },
    {
      "cell_type": "markdown",
      "metadata": {
        "id": "nH8bJGtylhzZ"
      },
      "source": [
        "Медианное значение высоты потолков в центре Питера составляет 2.6 м. по остальным данным этот показатель был примерно таким же. Здесь нет особых отличий."
      ]
    },
    {
      "cell_type": "code",
      "metadata": {
        "id": "C_NmnwcslhzZ",
        "outputId": "6753d9a4-b753-4dcd-ed3a-a5488b54bb37"
      },
      "source": [
        "corr_spb = spb_good_data[['last_price',\n",
        "           'total_area',\n",
        "           'rooms',\n",
        "           'ceiling_height']].corr()\n",
        "corr_spb.round(2)"
      ],
      "execution_count": null,
      "outputs": [
        {
          "output_type": "execute_result",
          "data": {
            "text/html": [
              "<div>\n",
              "<style scoped>\n",
              "    .dataframe tbody tr th:only-of-type {\n",
              "        vertical-align: middle;\n",
              "    }\n",
              "\n",
              "    .dataframe tbody tr th {\n",
              "        vertical-align: top;\n",
              "    }\n",
              "\n",
              "    .dataframe thead th {\n",
              "        text-align: right;\n",
              "    }\n",
              "</style>\n",
              "<table border=\"1\" class=\"dataframe\">\n",
              "  <thead>\n",
              "    <tr style=\"text-align: right;\">\n",
              "      <th></th>\n",
              "      <th>last_price</th>\n",
              "      <th>total_area</th>\n",
              "      <th>rooms</th>\n",
              "      <th>ceiling_height</th>\n",
              "    </tr>\n",
              "  </thead>\n",
              "  <tbody>\n",
              "    <tr>\n",
              "      <td>last_price</td>\n",
              "      <td>1.00</td>\n",
              "      <td>0.79</td>\n",
              "      <td>0.51</td>\n",
              "      <td>0.36</td>\n",
              "    </tr>\n",
              "    <tr>\n",
              "      <td>total_area</td>\n",
              "      <td>0.79</td>\n",
              "      <td>1.00</td>\n",
              "      <td>0.79</td>\n",
              "      <td>0.25</td>\n",
              "    </tr>\n",
              "    <tr>\n",
              "      <td>rooms</td>\n",
              "      <td>0.51</td>\n",
              "      <td>0.79</td>\n",
              "      <td>1.00</td>\n",
              "      <td>0.04</td>\n",
              "    </tr>\n",
              "    <tr>\n",
              "      <td>ceiling_height</td>\n",
              "      <td>0.36</td>\n",
              "      <td>0.25</td>\n",
              "      <td>0.04</td>\n",
              "      <td>1.00</td>\n",
              "    </tr>\n",
              "  </tbody>\n",
              "</table>\n",
              "</div>"
            ],
            "text/plain": [
              "                last_price  total_area  rooms  ceiling_height\n",
              "last_price            1.00        0.79   0.51            0.36\n",
              "total_area            0.79        1.00   0.79            0.25\n",
              "rooms                 0.51        0.79   1.00            0.04\n",
              "ceiling_height        0.36        0.25   0.04            1.00"
            ]
          },
          "metadata": {
            "tags": []
          },
          "execution_count": 97
        }
      ]
    },
    {
      "cell_type": "markdown",
      "metadata": {
        "id": "IP_kz1R2lhzg"
      },
      "source": [
        "В центре Санкт-Петербурга зависимость цены от таких показателей как общая площадь, высота потолков и количество комнат намного сильней."
      ]
    },
    {
      "cell_type": "markdown",
      "metadata": {
        "id": "j7-JFmNNlhzi"
      },
      "source": [
        "<a id='section6'></a>\n",
        "### Шаг 5. Общий вывод"
      ]
    },
    {
      "cell_type": "markdown",
      "metadata": {
        "id": "1D7Y_S6Klhzj"
      },
      "source": [
        "Проведя анализ объявлений о продаже квартир в Санкт-Петербурге и соседних населённых пунктов за несколько лет мне удалось выявить наиболее значимые параметры, которые влияют на формирование стоимости квартиры:\n",
        "\n",
        "* Количество комнат - чем больше комнат, тем выше стоимость жилья\n",
        "* Общая площадь квартиры - чем больше площадь, тем выше стоимость жилья\n",
        "* Этаж квартиры - на первом этаже самые дешевые квартиры, наиболее дорогие квартиры распагаются выше первого и ниже последнего этажа\n",
        "\n",
        "Так же удалось расчитать следующие показатели:\n",
        "\n",
        "* Средняя площадь квартиры равна **60 кв.м.**\n",
        "* Средняя цена квартиры равна **4,8 млн.руб.**\n",
        "* Наиболее популярны 1 и 2 комнатные квартиры\n",
        "* Средняя высота потолков составляет **2,5 м**\n",
        "* В среднем продажа квартиры занимет **3 месяца**\n",
        "* Продажи квартир занявшие меньше **45 дней** - слишком быстрые, а больше **232 дней** - слишком долгие\n",
        "* В центральную зону входят все квартиры, расположенные в окружности с радиусом **8 км.**\n",
        "* Самая высокая цена **105 тыс. руб.** за квадратный метр в Санкт-Петербурге, что не удивительно. Самая низкая цена из топ 10 населенных пунктов в Выборге, там цена за квадртаный метр в среднем составляет **58 тыс.руб.**\n",
        "* Средняя цена квартиры **не зависит от дня публикации\n",
        "* Самая высокая средняя цена у квартир опубликованнх в Апреле, а самая низкая в Июне (пока не могу сказать с чем это связано)\n",
        "* Самая **высокая** средняя цена за квартиру наблюдалась в **2014 году**, она достигала почти 5,8млн.руб., скорее всего это связано с падением национальной валюты в этом году, что привело к низкому спросу на недвижмость и повышению цен на нее, при этом самая **низкая** цена была в **2016**. "
      ]
    }
  ]
}